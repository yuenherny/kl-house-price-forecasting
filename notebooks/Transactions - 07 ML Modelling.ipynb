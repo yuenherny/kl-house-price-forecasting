{
 "cells": [
  {
   "cell_type": "markdown",
   "metadata": {},
   "source": [
    "# Transactions - Data Modelling"
   ]
  },
  {
   "cell_type": "code",
   "execution_count": 1,
   "metadata": {},
   "outputs": [],
   "source": [
    "import os\n",
    "\n",
    "import joblib\n",
    "import numpy as np\n",
    "import pandas as pd\n",
    "import skops.io as sio\n",
    "from tqdm import tqdm\n",
    "\n",
    "import helpers\n",
    "from helpers import (\n",
    "    CHARTS_DIR, ENCODER_MODEL_DIR, FORECAST_MODEL_DIR, TRANSFORMED_DATA_DIR, \n",
    ")"
   ]
  },
  {
   "cell_type": "markdown",
   "metadata": {},
   "source": [
    "## Load integrated data"
   ]
  },
  {
   "cell_type": "code",
   "execution_count": 2,
   "metadata": {},
   "outputs": [
    {
     "data": {
      "text/html": [
       "<div>\n",
       "<style scoped>\n",
       "    .dataframe tbody tr th:only-of-type {\n",
       "        vertical-align: middle;\n",
       "    }\n",
       "\n",
       "    .dataframe tbody tr th {\n",
       "        vertical-align: top;\n",
       "    }\n",
       "\n",
       "    .dataframe thead th {\n",
       "        text-align: right;\n",
       "    }\n",
       "</style>\n",
       "<table border=\"1\" class=\"dataframe\">\n",
       "  <thead>\n",
       "    <tr style=\"text-align: right;\">\n",
       "      <th></th>\n",
       "      <th>township</th>\n",
       "      <th>building_type</th>\n",
       "      <th>tenure</th>\n",
       "      <th>floors</th>\n",
       "      <th>rooms</th>\n",
       "      <th>land_area</th>\n",
       "      <th>built_up</th>\n",
       "      <th>price_psf</th>\n",
       "      <th>price</th>\n",
       "      <th>year</th>\n",
       "      <th>...</th>\n",
       "      <th>median_income</th>\n",
       "      <th>mean_income</th>\n",
       "      <th>n_households</th>\n",
       "      <th>wellbeing_index</th>\n",
       "      <th>money_supply_millions</th>\n",
       "      <th>unemployment_rate</th>\n",
       "      <th>population_thousands</th>\n",
       "      <th>n_crimes</th>\n",
       "      <th>date</th>\n",
       "      <th>interest_rate</th>\n",
       "    </tr>\n",
       "  </thead>\n",
       "  <tbody>\n",
       "    <tr>\n",
       "      <th>34996</th>\n",
       "      <td>SENTOSA COURT</td>\n",
       "      <td>APARTMENT</td>\n",
       "      <td>LEASEHOLD</td>\n",
       "      <td>1.0</td>\n",
       "      <td>3.000000</td>\n",
       "      <td>1015.0</td>\n",
       "      <td>1015.0</td>\n",
       "      <td>128.0</td>\n",
       "      <td>129888.0</td>\n",
       "      <td>2000.0</td>\n",
       "      <td>...</td>\n",
       "      <td>3006.666667</td>\n",
       "      <td>4379.74</td>\n",
       "      <td>299566.666667</td>\n",
       "      <td>100.0</td>\n",
       "      <td>458363.1</td>\n",
       "      <td>3.0</td>\n",
       "      <td>1416.0</td>\n",
       "      <td>8770.0</td>\n",
       "      <td>2000-01-01</td>\n",
       "      <td>5.5</td>\n",
       "    </tr>\n",
       "    <tr>\n",
       "      <th>34997</th>\n",
       "      <td>SENTOSA COURT</td>\n",
       "      <td>APARTMENT</td>\n",
       "      <td>LEASEHOLD</td>\n",
       "      <td>1.0</td>\n",
       "      <td>3.000000</td>\n",
       "      <td>1007.0</td>\n",
       "      <td>1007.0</td>\n",
       "      <td>122.0</td>\n",
       "      <td>122888.0</td>\n",
       "      <td>2000.0</td>\n",
       "      <td>...</td>\n",
       "      <td>3006.666667</td>\n",
       "      <td>4379.74</td>\n",
       "      <td>299566.666667</td>\n",
       "      <td>100.0</td>\n",
       "      <td>458363.1</td>\n",
       "      <td>3.0</td>\n",
       "      <td>1416.0</td>\n",
       "      <td>8770.0</td>\n",
       "      <td>2000-01-01</td>\n",
       "      <td>5.5</td>\n",
       "    </tr>\n",
       "    <tr>\n",
       "      <th>34998</th>\n",
       "      <td>SENTOSA COURT</td>\n",
       "      <td>APARTMENT</td>\n",
       "      <td>LEASEHOLD</td>\n",
       "      <td>1.0</td>\n",
       "      <td>3.000000</td>\n",
       "      <td>1015.0</td>\n",
       "      <td>1015.0</td>\n",
       "      <td>122.0</td>\n",
       "      <td>123888.0</td>\n",
       "      <td>2000.0</td>\n",
       "      <td>...</td>\n",
       "      <td>3006.666667</td>\n",
       "      <td>4379.74</td>\n",
       "      <td>299566.666667</td>\n",
       "      <td>100.0</td>\n",
       "      <td>458363.1</td>\n",
       "      <td>3.0</td>\n",
       "      <td>1416.0</td>\n",
       "      <td>8770.0</td>\n",
       "      <td>2000-01-02</td>\n",
       "      <td>5.5</td>\n",
       "    </tr>\n",
       "    <tr>\n",
       "      <th>34999</th>\n",
       "      <td>BANDAR BARU SRI PETALING</td>\n",
       "      <td>TERRACE HOUSE - INTERMEDIATE</td>\n",
       "      <td>LEASEHOLD</td>\n",
       "      <td>2.0</td>\n",
       "      <td>2.000000</td>\n",
       "      <td>753.0</td>\n",
       "      <td>672.0</td>\n",
       "      <td>120.0</td>\n",
       "      <td>90000.0</td>\n",
       "      <td>2000.0</td>\n",
       "      <td>...</td>\n",
       "      <td>3006.666667</td>\n",
       "      <td>4379.74</td>\n",
       "      <td>299566.666667</td>\n",
       "      <td>100.0</td>\n",
       "      <td>458363.1</td>\n",
       "      <td>3.0</td>\n",
       "      <td>1416.0</td>\n",
       "      <td>8770.0</td>\n",
       "      <td>2000-01-02</td>\n",
       "      <td>5.5</td>\n",
       "    </tr>\n",
       "    <tr>\n",
       "      <th>35000</th>\n",
       "      <td>BUKIT BANDARAYA</td>\n",
       "      <td>TERRACE HOUSE - INTERMEDIATE</td>\n",
       "      <td>FREEHOLD</td>\n",
       "      <td>1.0</td>\n",
       "      <td>3.078282</td>\n",
       "      <td>1875.0</td>\n",
       "      <td>1126.0</td>\n",
       "      <td>180.0</td>\n",
       "      <td>338000.0</td>\n",
       "      <td>2000.0</td>\n",
       "      <td>...</td>\n",
       "      <td>3006.666667</td>\n",
       "      <td>4379.74</td>\n",
       "      <td>299566.666667</td>\n",
       "      <td>100.0</td>\n",
       "      <td>458363.1</td>\n",
       "      <td>3.0</td>\n",
       "      <td>1416.0</td>\n",
       "      <td>8770.0</td>\n",
       "      <td>2000-01-02</td>\n",
       "      <td>5.5</td>\n",
       "    </tr>\n",
       "  </tbody>\n",
       "</table>\n",
       "<p>5 rows × 23 columns</p>\n",
       "</div>"
      ],
      "text/plain": [
       "                       township                 building_type     tenure  \\\n",
       "34996             SENTOSA COURT                     APARTMENT  LEASEHOLD   \n",
       "34997             SENTOSA COURT                     APARTMENT  LEASEHOLD   \n",
       "34998             SENTOSA COURT                     APARTMENT  LEASEHOLD   \n",
       "34999  BANDAR BARU SRI PETALING  TERRACE HOUSE - INTERMEDIATE  LEASEHOLD   \n",
       "35000           BUKIT BANDARAYA  TERRACE HOUSE - INTERMEDIATE   FREEHOLD   \n",
       "\n",
       "       floors     rooms  land_area  built_up  price_psf     price    year  \\\n",
       "34996     1.0  3.000000     1015.0    1015.0      128.0  129888.0  2000.0   \n",
       "34997     1.0  3.000000     1007.0    1007.0      122.0  122888.0  2000.0   \n",
       "34998     1.0  3.000000     1015.0    1015.0      122.0  123888.0  2000.0   \n",
       "34999     2.0  2.000000      753.0     672.0      120.0   90000.0  2000.0   \n",
       "35000     1.0  3.078282     1875.0    1126.0      180.0  338000.0  2000.0   \n",
       "\n",
       "       ...  median_income  mean_income   n_households  wellbeing_index  \\\n",
       "34996  ...    3006.666667      4379.74  299566.666667            100.0   \n",
       "34997  ...    3006.666667      4379.74  299566.666667            100.0   \n",
       "34998  ...    3006.666667      4379.74  299566.666667            100.0   \n",
       "34999  ...    3006.666667      4379.74  299566.666667            100.0   \n",
       "35000  ...    3006.666667      4379.74  299566.666667            100.0   \n",
       "\n",
       "       money_supply_millions  unemployment_rate  population_thousands  \\\n",
       "34996               458363.1                3.0                1416.0   \n",
       "34997               458363.1                3.0                1416.0   \n",
       "34998               458363.1                3.0                1416.0   \n",
       "34999               458363.1                3.0                1416.0   \n",
       "35000               458363.1                3.0                1416.0   \n",
       "\n",
       "       n_crimes       date  interest_rate  \n",
       "34996    8770.0 2000-01-01            5.5  \n",
       "34997    8770.0 2000-01-01            5.5  \n",
       "34998    8770.0 2000-01-02            5.5  \n",
       "34999    8770.0 2000-01-02            5.5  \n",
       "35000    8770.0 2000-01-02            5.5  \n",
       "\n",
       "[5 rows x 23 columns]"
      ]
     },
     "execution_count": 2,
     "metadata": {},
     "output_type": "execute_result"
    }
   ],
   "source": [
    "df_transactions = pd.read_parquet(TRANSFORMED_DATA_DIR / 'transactions_KL_ckpt7_integrated.parquet')\n",
    "df_transactions.head()"
   ]
  },
  {
   "cell_type": "code",
   "execution_count": 3,
   "metadata": {},
   "outputs": [
    {
     "data": {
      "text/plain": [
       "Index(['township', 'building_type', 'tenure', 'floors', 'rooms', 'land_area',\n",
       "       'built_up', 'price_psf', 'price', 'year', 'month', 'day', 'cpi',\n",
       "       'median_income', 'mean_income', 'n_households', 'wellbeing_index',\n",
       "       'money_supply_millions', 'unemployment_rate', 'population_thousands',\n",
       "       'n_crimes', 'date', 'interest_rate'],\n",
       "      dtype='object')"
      ]
     },
     "execution_count": 3,
     "metadata": {},
     "output_type": "execute_result"
    }
   ],
   "source": [
    "df_transactions.columns"
   ]
  },
  {
   "cell_type": "markdown",
   "metadata": {},
   "source": [
    "## Check for feature correlation and association\n",
    "\n",
    "Before we begin modelling, we need to check for feature correlation and association. However, we need to determine the scale of the features first:\n",
    "\n",
    "**Continuous data:**\n",
    "1. Interval:\n",
    "    - cpi\n",
    "2. Ratio:\n",
    "    - land_area\n",
    "    - built_up\n",
    "    - median_income\n",
    "    - mean_income\n",
    "    - wellbeing_index\n",
    "    - money_supply_millions\n",
    "    - unemployment_rate\n",
    "    - interest_rate\n",
    "    - price_psf\n",
    "\n",
    "**Discrete data:**\n",
    "1. Nominal:\n",
    "    - township\n",
    "    - building_type\n",
    "    - tenure\n",
    "2. Ordinal:\n",
    "    - year\n",
    "    - month\n",
    "    - day\n",
    "3. Ratio:\n",
    "    - n_households\n",
    "    - population_thousands\n",
    "    - n_crimes\n",
    "    - floors\n",
    "    - rooms\n",
    "\n",
    "Before selecting the appropriate correlation and association tests, we need to determine the normality of the continuous data. We will use the Shapiro-Wilk test for normality, which is provided by Scipy's `normaltest`."
   ]
  },
  {
   "cell_type": "code",
   "execution_count": 4,
   "metadata": {},
   "outputs": [],
   "source": [
    "from scipy.stats import kruskal, normaltest, pearsonr, spearmanr"
   ]
  },
  {
   "cell_type": "code",
   "execution_count": 5,
   "metadata": {},
   "outputs": [
    {
     "name": "stdout",
     "output_type": "stream",
     "text": [
      "Normality test for land_area: NormaltestResult(statistic=590870.0868928022, pvalue=0.0)\n",
      "Normality test for built_up: NormaltestResult(statistic=265651.55731307523, pvalue=0.0)\n",
      "Normality test for price_psf: NormaltestResult(statistic=175457.22731882718, pvalue=0.0)\n",
      "Normality test for median_income: NormaltestResult(statistic=21166671.14165013, pvalue=0.0)\n",
      "Normality test for mean_income: NormaltestResult(statistic=1423955.698392976, pvalue=0.0)\n",
      "Normality test for wellbeing_index: NormaltestResult(statistic=58074.19249076957, pvalue=0.0)\n",
      "Normality test for money_supply_millions: NormaltestResult(statistic=62418.155795693216, pvalue=0.0)\n",
      "Normality test for unemployment_rate: NormaltestResult(statistic=72219.24276097854, pvalue=0.0)\n",
      "Normality test for interest_rate: NormaltestResult(statistic=28612.33706469147, pvalue=0.0)\n"
     ]
    }
   ],
   "source": [
    "continuous_vars = [\n",
    "    'land_area',\n",
    "    'built_up',\n",
    "    'price_psf',\n",
    "    'median_income',\n",
    "    'mean_income',\n",
    "    'wellbeing_index',\n",
    "    'money_supply_millions',\n",
    "    'unemployment_rate',\n",
    "    'interest_rate'\n",
    "]\n",
    "\n",
    "for var in continuous_vars:\n",
    "    normal_result = normaltest(df_transactions[var], nan_policy='omit')\n",
    "    print(f\"Normality test for {var}: {normal_result}\")"
   ]
  },
  {
   "cell_type": "markdown",
   "metadata": {},
   "source": [
    "All of the continuous variables are not from normal distribution."
   ]
  },
  {
   "cell_type": "markdown",
   "metadata": {},
   "source": [
    "### Selecting the appropriate correlation and association tests\n",
    "\n",
    "Our target variable for modelling is `price_psf`. We will check for correlation and association between `price_psf` and the other features. Let's choose the appropriate correlation and association tests for the different types of data:\n",
    "\n",
    "**Continuous data vs price_psf:** \n",
    "1. Interval: Pearson's correlation coefficient\n",
    "2. Ratio: Pearson's correlation coefficient\n",
    "\n",
    "**Discrete data vs price_psf:**\n",
    "1. Nominal: Kruskal-Wallis H-test\n",
    "2. Ordinal: Spearman's rank correlation coefficient\n",
    "3. Ratio: Pearson's correlation coefficient"
   ]
  },
  {
   "cell_type": "markdown",
   "metadata": {},
   "source": [
    "### Continuous variables (interval and ratio) vs `price_psf`"
   ]
  },
  {
   "cell_type": "code",
   "execution_count": 6,
   "metadata": {},
   "outputs": [
    {
     "name": "stdout",
     "output_type": "stream",
     "text": [
      "Pearson correlation test for land_area: PearsonRResult(statistic=-0.0003414081028704389, pvalue=0.8698648254733987)\n",
      "Pearson correlation test for built_up: PearsonRResult(statistic=0.27575433819443673, pvalue=0.0)\n",
      "Pearson correlation test for price_psf: PearsonRResult(statistic=0.9999999999999937, pvalue=0.0)\n",
      "Pearson correlation test for median_income: PearsonRResult(statistic=0.46978636197555945, pvalue=0.0)\n",
      "Pearson correlation test for mean_income: PearsonRResult(statistic=0.47441434743219024, pvalue=0.0)\n",
      "Pearson correlation test for wellbeing_index: PearsonRResult(statistic=0.4682907609353156, pvalue=0.0)\n",
      "Pearson correlation test for money_supply_millions: PearsonRResult(statistic=0.4708744423231275, pvalue=0.0)\n",
      "Pearson correlation test for unemployment_rate: PearsonRResult(statistic=0.054053978128958124, pvalue=1.4904119594671785e-148)\n",
      "Pearson correlation test for interest_rate: PearsonRResult(statistic=-0.26080401092289723, pvalue=0.0)\n"
     ]
    }
   ],
   "source": [
    "target_var = 'price_psf'\n",
    "\n",
    "for var in continuous_vars:\n",
    "    pearson_result = pearsonr(df_transactions[var], df_transactions[target_var])\n",
    "    print(f\"Pearson correlation test for {var}: {pearson_result}\")"
   ]
  },
  {
   "cell_type": "markdown",
   "metadata": {},
   "source": [
    "For Pearson test (DV: continuous, IV: continuous), the null hypothesis H0 is that the two samples are uncorrelated.\n",
    "\n",
    "Having p-values < 0.05 means that `built_up`, `median_income`, `mean_income`, `wellbeing_index`, `money_supply_millions`, `unemployment_rate` and `interest_rate` are correlated with `price_psf`.\n",
    "\n",
    "Surprisingly, `land_area` is not correlated with `price_psf` as the p-value is > 0.05, thus we were unable to reject the null hypothesis. `land_area` is uncorrelated with `price_psf`. Let's check with plot."
   ]
  },
  {
   "cell_type": "code",
   "execution_count": 7,
   "metadata": {},
   "outputs": [
    {
     "data": {
      "text/plain": [
       "<Axes: title={'center': 'Land Area vs Price per Square Feet'}, xlabel='land_area', ylabel='price_psf'>"
      ]
     },
     "execution_count": 7,
     "metadata": {},
     "output_type": "execute_result"
    },
    {
     "data": {
      "image/png": "[encoded data removed]",
      "text/plain": [
       "<Figure size 640x480 with 1 Axes>"
      ]
     },
     "metadata": {},
     "output_type": "display_data"
    }
   ],
   "source": [
    "df_transactions[['price_psf', 'land_area']].plot(\n",
    "    kind='scatter',\n",
    "    x='land_area',\n",
    "    y='price_psf',\n",
    "    title='Land Area vs Price per Square Feet'\n",
    ")"
   ]
  },
  {
   "cell_type": "markdown",
   "metadata": {},
   "source": [
    "Based on the plot above, we can see that there is no correlation between `land_area` and `price_psf`."
   ]
  },
  {
   "cell_type": "markdown",
   "metadata": {},
   "source": [
    "### Discrete variables (nominal) vs `price_psf`"
   ]
  },
  {
   "cell_type": "code",
   "execution_count": 8,
   "metadata": {},
   "outputs": [
    {
     "name": "stdout",
     "output_type": "stream",
     "text": [
      "Kruskal-Wallis result for township and price_psf: KruskalResult(statistic=143840.41840357677, pvalue=0.0)\n",
      "Kruskal-Wallis result for building_type and price_psf: KruskalResult(statistic=71844.01611948658, pvalue=0.0)\n",
      "Kruskal-Wallis result for tenure and price_psf: KruskalResult(statistic=17776.816993317563, pvalue=0.0)\n"
     ]
    }
   ],
   "source": [
    "nominal_vars = ['township', 'building_type', 'tenure']\n",
    "\n",
    "for var in nominal_vars:\n",
    "    kruskal_result = kruskal(*df_transactions[[var, target_var]].groupby(var, observed=True)[target_var].apply(list), nan_policy='omit')\n",
    "    print(f\"Kruskal-Wallis result for {var} and {target_var}: {kruskal_result}\")"
   ]
  },
  {
   "cell_type": "markdown",
   "metadata": {},
   "source": [
    "For Kruskal-Wallis test (DV: continuous, IV: nominal), the null hypothesis H0 is that the population median of all of the groups are equal (thus no association as different groups has the similar population median), while the alternative hypothesis H1 is that the population median of all of the groups are not equal (thus has association as different groups will have different population median).\n",
    "\n",
    "Since the computed p-values < 0.05 therefore we reject the null hypothesis H0 and conclude that there is association between the nominal variables `township`, `building_type` and `tenure` against `price_psf`."
   ]
  },
  {
   "cell_type": "markdown",
   "metadata": {},
   "source": [
    "### Discrete variables (ordinal) vs `price_psf`"
   ]
  },
  {
   "cell_type": "code",
   "execution_count": 9,
   "metadata": {},
   "outputs": [
    {
     "name": "stdout",
     "output_type": "stream",
     "text": [
      "Spearman result for year and price_psf: SignificanceResult(statistic=0.5955678854090415, pvalue=0.0)\n",
      "Spearman result for month and price_psf: SignificanceResult(statistic=0.05417040095458992, pvalue=3.471348050926613e-149)\n",
      "Spearman result for day and price_psf: SignificanceResult(statistic=0.006744450409726356, pvalue=0.0012101790242186501)\n"
     ]
    }
   ],
   "source": [
    "ordinal_vars = ['year', 'month', 'day']\n",
    "\n",
    "for var in ordinal_vars:\n",
    "    spearman_result = spearmanr(df_transactions[var], df_transactions[target_var], nan_policy='omit')\n",
    "    print(f\"Spearman result for {var} and {target_var}: {spearman_result}\")"
   ]
  },
  {
   "cell_type": "markdown",
   "metadata": {},
   "source": [
    "For Spearman rank test (DV: continuous, IV: ordinal), the null hypothesis H0 is that there is no correlation between variables, while the alternative hypothesis H1 is that there is a correlation between variables.\n",
    "\n",
    "Since the computed p-values are close to 0.0 (less than 0.05) therefore we reject the null hypothesis H0 and conclude that there is a correlation between variables. Thus, `year`, `month` and `day` has an impact on the `price_psf`."
   ]
  },
  {
   "cell_type": "markdown",
   "metadata": {},
   "source": [
    "### Discrete variables (ratio) vs `price_psf`"
   ]
  },
  {
   "cell_type": "code",
   "execution_count": 10,
   "metadata": {},
   "outputs": [
    {
     "name": "stdout",
     "output_type": "stream",
     "text": [
      "Pearson correlation test for n_households: PearsonRResult(statistic=0.4585270925268039, pvalue=0.0)\n",
      "Pearson correlation test for population_thousands: PearsonRResult(statistic=0.44512550413939594, pvalue=0.0)\n",
      "Pearson correlation test for n_crimes: PearsonRResult(statistic=-0.46551192428577126, pvalue=0.0)\n",
      "Pearson correlation test for floors: PearsonRResult(statistic=0.0797170397562012, pvalue=3.51e-321)\n",
      "Pearson correlation test for rooms: PearsonRResult(statistic=0.05268622045361267, pvalue=3.202016933693272e-141)\n"
     ]
    }
   ],
   "source": [
    "ratio_vars = ['n_households', 'population_thousands', 'n_crimes', 'floors', 'rooms']\n",
    "\n",
    "for var in ratio_vars:\n",
    "    pearson_result = pearsonr(df_transactions[var], df_transactions[target_var])\n",
    "    print(f\"Pearson correlation test for {var}: {pearson_result}\")"
   ]
  },
  {
   "cell_type": "markdown",
   "metadata": {},
   "source": [
    "However, the Spearman rank test (DV: continuous, IV: ratio) shows otherwise. Similarly, the null hypothesis H0 is that there is no correlation between variables, while the alternative hypothesis H1 is that there is a correlation between variables.\n",
    "\n",
    "Since the computed p-values are close to 0.0 (less than 0.05) therefore we reject the null hypothesis H0 and conclude that there is a correlation between the ratio variables `n_households`, `population_thousands`, `n_crimes`, `floors`, `rooms` on `price_psf`."
   ]
  },
  {
   "cell_type": "markdown",
   "metadata": {},
   "source": [
    "## Encoding for ML-based modelling\n",
    "\n",
    "Based on the correlation and association tests, the `land_area` have to be dropped as it is uncorrelated with `price_psf`.\n",
    "\n",
    "But let's encode the features with one hot encoder first before dropping `land_area`."
   ]
  },
  {
   "cell_type": "code",
   "execution_count": 11,
   "metadata": {},
   "outputs": [
    {
     "name": "stdout",
     "output_type": "stream",
     "text": [
      "<class 'pandas.core.frame.DataFrame'>\n",
      "Index: 230274 entries, 34996 to 265269\n",
      "Data columns (total 12 columns):\n",
      " #   Column         Non-Null Count   Dtype   \n",
      "---  ------         --------------   -----   \n",
      " 0   township       230274 non-null  category\n",
      " 1   building_type  230274 non-null  category\n",
      " 2   tenure         230274 non-null  category\n",
      " 3   floors         230274 non-null  float64 \n",
      " 4   rooms          230274 non-null  float64 \n",
      " 5   land_area      230274 non-null  float64 \n",
      " 6   built_up       230274 non-null  float64 \n",
      " 7   price_psf      230274 non-null  float64 \n",
      " 8   price          230274 non-null  float64 \n",
      " 9   year           230274 non-null  float64 \n",
      " 10  month          230274 non-null  float64 \n",
      " 11  day            230274 non-null  float64 \n",
      "dtypes: category(3), float64(9)\n",
      "memory usage: 18.5 MB\n"
     ]
    }
   ],
   "source": [
    "df_transactions[df_transactions.columns[:12]].info()"
   ]
  },
  {
   "cell_type": "code",
   "execution_count": 12,
   "metadata": {},
   "outputs": [
    {
     "name": "stderr",
     "output_type": "stream",
     "text": [
      "d:\\Repos\\GitHub\\time-series-house-price-forecasting\\venv\\Lib\\site-packages\\category_encoders\\utils.py:50: FutureWarning: is_categorical_dtype is deprecated and will be removed in a future version. Use isinstance(dtype, CategoricalDtype) instead\n",
      "  return pd.api.types.is_categorical_dtype(dtype)\n",
      "d:\\Repos\\GitHub\\time-series-house-price-forecasting\\venv\\Lib\\site-packages\\category_encoders\\utils.py:50: FutureWarning: is_categorical_dtype is deprecated and will be removed in a future version. Use isinstance(dtype, CategoricalDtype) instead\n",
      "  return pd.api.types.is_categorical_dtype(dtype)\n",
      "d:\\Repos\\GitHub\\time-series-house-price-forecasting\\venv\\Lib\\site-packages\\category_encoders\\utils.py:50: FutureWarning: is_categorical_dtype is deprecated and will be removed in a future version. Use isinstance(dtype, CategoricalDtype) instead\n",
      "  return pd.api.types.is_categorical_dtype(dtype)\n"
     ]
    },
    {
     "name": "stdout",
     "output_type": "stream",
     "text": [
      "<class 'pandas.core.frame.DataFrame'>\n",
      "Index: 230274 entries, 34996 to 265269\n",
      "Columns: 1905 entries, township_BANDAR BARU SRI PETALING to day\n",
      "dtypes: float64(9), int64(1896)\n",
      "memory usage: 3.3 GB\n"
     ]
    }
   ],
   "source": [
    "encoder_path = ENCODER_MODEL_DIR / 'one_hot_encoder_township_building_type_tenure.joblib'\n",
    "\n",
    "if os.path.exists(encoder_path):\n",
    "    ohe = joblib.load(encoder_path)\n",
    "else:\n",
    "    raise Exception(f'Encoder not found at {encoder_path}')\n",
    "\n",
    "df_encoded = ohe.transform(df_transactions[df_transactions.columns[:12]])\n",
    "df_encoded.info()"
   ]
  },
  {
   "cell_type": "code",
   "execution_count": 13,
   "metadata": {},
   "outputs": [
    {
     "name": "stdout",
     "output_type": "stream",
     "text": [
      "<class 'pandas.core.frame.DataFrame'>\n",
      "Index: 230274 entries, 34996 to 265269\n",
      "Columns: 1916 entries, cpi to day\n",
      "dtypes: datetime64[ns](1), float64(19), int64(1896)\n",
      "memory usage: 3.3 GB\n"
     ]
    }
   ],
   "source": [
    "df_transactions = pd.concat([df_transactions[df_transactions.columns[12:]], df_encoded], axis=1)\n",
    "df_transactions.info()"
   ]
  },
  {
   "cell_type": "code",
   "execution_count": 14,
   "metadata": {},
   "outputs": [],
   "source": [
    "df_transactions.to_parquet(TRANSFORMED_DATA_DIR / 'transactions_KL_ckpt8_integrated_encoded.parquet')"
   ]
  },
  {
   "cell_type": "code",
   "execution_count": 15,
   "metadata": {},
   "outputs": [
    {
     "name": "stdout",
     "output_type": "stream",
     "text": [
      "<class 'pandas.core.frame.DataFrame'>\n",
      "Index: 230274 entries, 34996 to 265269\n",
      "Columns: 1915 entries, cpi to day\n",
      "dtypes: datetime64[ns](1), float64(18), int64(1896)\n",
      "memory usage: 3.3 GB\n"
     ]
    }
   ],
   "source": [
    "df_transactions = df_transactions.drop(columns=['land_area'])\n",
    "df_transactions.info()"
   ]
  },
  {
   "cell_type": "code",
   "execution_count": 16,
   "metadata": {},
   "outputs": [],
   "source": [
    "df_transactions.to_parquet(TRANSFORMED_DATA_DIR / 'transactions_KL_ckpt9_integrated_encoded_dropped.parquet')"
   ]
  },
  {
   "cell_type": "markdown",
   "metadata": {},
   "source": [
    "## Data splitting"
   ]
  },
  {
   "cell_type": "code",
   "execution_count": 17,
   "metadata": {},
   "outputs": [
    {
     "data": {
      "text/html": [
       "<div>\n",
       "<style scoped>\n",
       "    .dataframe tbody tr th:only-of-type {\n",
       "        vertical-align: middle;\n",
       "    }\n",
       "\n",
       "    .dataframe tbody tr th {\n",
       "        vertical-align: top;\n",
       "    }\n",
       "\n",
       "    .dataframe thead th {\n",
       "        text-align: right;\n",
       "    }\n",
       "</style>\n",
       "<table border=\"1\" class=\"dataframe\">\n",
       "  <thead>\n",
       "    <tr style=\"text-align: right;\">\n",
       "      <th></th>\n",
       "      <th>cpi</th>\n",
       "      <th>median_income</th>\n",
       "      <th>mean_income</th>\n",
       "      <th>n_households</th>\n",
       "      <th>wellbeing_index</th>\n",
       "      <th>money_supply_millions</th>\n",
       "      <th>unemployment_rate</th>\n",
       "      <th>population_thousands</th>\n",
       "      <th>n_crimes</th>\n",
       "      <th>interest_rate</th>\n",
       "      <th>...</th>\n",
       "      <th>tenure_LEASEHOLD</th>\n",
       "      <th>tenure_FREEHOLD</th>\n",
       "      <th>floors</th>\n",
       "      <th>rooms</th>\n",
       "      <th>built_up</th>\n",
       "      <th>price_psf</th>\n",
       "      <th>price</th>\n",
       "      <th>year</th>\n",
       "      <th>month</th>\n",
       "      <th>day</th>\n",
       "    </tr>\n",
       "  </thead>\n",
       "  <tbody>\n",
       "    <tr>\n",
       "      <th>34996</th>\n",
       "      <td>80.519272</td>\n",
       "      <td>3006.666667</td>\n",
       "      <td>4379.74</td>\n",
       "      <td>299566.666667</td>\n",
       "      <td>100.0</td>\n",
       "      <td>458363.1</td>\n",
       "      <td>3.0</td>\n",
       "      <td>1416.0</td>\n",
       "      <td>8770.0</td>\n",
       "      <td>5.5</td>\n",
       "      <td>...</td>\n",
       "      <td>1</td>\n",
       "      <td>0</td>\n",
       "      <td>1.0</td>\n",
       "      <td>3.000000</td>\n",
       "      <td>1015.0</td>\n",
       "      <td>128.0</td>\n",
       "      <td>129888.0</td>\n",
       "      <td>2000.0</td>\n",
       "      <td>1.0</td>\n",
       "      <td>1.0</td>\n",
       "    </tr>\n",
       "    <tr>\n",
       "      <th>34997</th>\n",
       "      <td>80.519272</td>\n",
       "      <td>3006.666667</td>\n",
       "      <td>4379.74</td>\n",
       "      <td>299566.666667</td>\n",
       "      <td>100.0</td>\n",
       "      <td>458363.1</td>\n",
       "      <td>3.0</td>\n",
       "      <td>1416.0</td>\n",
       "      <td>8770.0</td>\n",
       "      <td>5.5</td>\n",
       "      <td>...</td>\n",
       "      <td>1</td>\n",
       "      <td>0</td>\n",
       "      <td>1.0</td>\n",
       "      <td>3.000000</td>\n",
       "      <td>1007.0</td>\n",
       "      <td>122.0</td>\n",
       "      <td>122888.0</td>\n",
       "      <td>2000.0</td>\n",
       "      <td>1.0</td>\n",
       "      <td>1.0</td>\n",
       "    </tr>\n",
       "    <tr>\n",
       "      <th>34998</th>\n",
       "      <td>80.519272</td>\n",
       "      <td>3006.666667</td>\n",
       "      <td>4379.74</td>\n",
       "      <td>299566.666667</td>\n",
       "      <td>100.0</td>\n",
       "      <td>458363.1</td>\n",
       "      <td>3.0</td>\n",
       "      <td>1416.0</td>\n",
       "      <td>8770.0</td>\n",
       "      <td>5.5</td>\n",
       "      <td>...</td>\n",
       "      <td>1</td>\n",
       "      <td>0</td>\n",
       "      <td>1.0</td>\n",
       "      <td>3.000000</td>\n",
       "      <td>1015.0</td>\n",
       "      <td>122.0</td>\n",
       "      <td>123888.0</td>\n",
       "      <td>2000.0</td>\n",
       "      <td>1.0</td>\n",
       "      <td>2.0</td>\n",
       "    </tr>\n",
       "    <tr>\n",
       "      <th>34999</th>\n",
       "      <td>80.519272</td>\n",
       "      <td>3006.666667</td>\n",
       "      <td>4379.74</td>\n",
       "      <td>299566.666667</td>\n",
       "      <td>100.0</td>\n",
       "      <td>458363.1</td>\n",
       "      <td>3.0</td>\n",
       "      <td>1416.0</td>\n",
       "      <td>8770.0</td>\n",
       "      <td>5.5</td>\n",
       "      <td>...</td>\n",
       "      <td>1</td>\n",
       "      <td>0</td>\n",
       "      <td>2.0</td>\n",
       "      <td>2.000000</td>\n",
       "      <td>672.0</td>\n",
       "      <td>120.0</td>\n",
       "      <td>90000.0</td>\n",
       "      <td>2000.0</td>\n",
       "      <td>1.0</td>\n",
       "      <td>2.0</td>\n",
       "    </tr>\n",
       "    <tr>\n",
       "      <th>35000</th>\n",
       "      <td>80.519272</td>\n",
       "      <td>3006.666667</td>\n",
       "      <td>4379.74</td>\n",
       "      <td>299566.666667</td>\n",
       "      <td>100.0</td>\n",
       "      <td>458363.1</td>\n",
       "      <td>3.0</td>\n",
       "      <td>1416.0</td>\n",
       "      <td>8770.0</td>\n",
       "      <td>5.5</td>\n",
       "      <td>...</td>\n",
       "      <td>0</td>\n",
       "      <td>1</td>\n",
       "      <td>1.0</td>\n",
       "      <td>3.078282</td>\n",
       "      <td>1126.0</td>\n",
       "      <td>180.0</td>\n",
       "      <td>338000.0</td>\n",
       "      <td>2000.0</td>\n",
       "      <td>1.0</td>\n",
       "      <td>2.0</td>\n",
       "    </tr>\n",
       "  </tbody>\n",
       "</table>\n",
       "<p>5 rows × 1914 columns</p>\n",
       "</div>"
      ],
      "text/plain": [
       "             cpi  median_income  mean_income   n_households  wellbeing_index  \\\n",
       "34996  80.519272    3006.666667      4379.74  299566.666667            100.0   \n",
       "34997  80.519272    3006.666667      4379.74  299566.666667            100.0   \n",
       "34998  80.519272    3006.666667      4379.74  299566.666667            100.0   \n",
       "34999  80.519272    3006.666667      4379.74  299566.666667            100.0   \n",
       "35000  80.519272    3006.666667      4379.74  299566.666667            100.0   \n",
       "\n",
       "       money_supply_millions  unemployment_rate  population_thousands  \\\n",
       "34996               458363.1                3.0                1416.0   \n",
       "34997               458363.1                3.0                1416.0   \n",
       "34998               458363.1                3.0                1416.0   \n",
       "34999               458363.1                3.0                1416.0   \n",
       "35000               458363.1                3.0                1416.0   \n",
       "\n",
       "       n_crimes  interest_rate  ...  tenure_LEASEHOLD  tenure_FREEHOLD  \\\n",
       "34996    8770.0            5.5  ...                 1                0   \n",
       "34997    8770.0            5.5  ...                 1                0   \n",
       "34998    8770.0            5.5  ...                 1                0   \n",
       "34999    8770.0            5.5  ...                 1                0   \n",
       "35000    8770.0            5.5  ...                 0                1   \n",
       "\n",
       "       floors     rooms  built_up  price_psf     price    year  month  day  \n",
       "34996     1.0  3.000000    1015.0      128.0  129888.0  2000.0    1.0  1.0  \n",
       "34997     1.0  3.000000    1007.0      122.0  122888.0  2000.0    1.0  1.0  \n",
       "34998     1.0  3.000000    1015.0      122.0  123888.0  2000.0    1.0  2.0  \n",
       "34999     2.0  2.000000     672.0      120.0   90000.0  2000.0    1.0  2.0  \n",
       "35000     1.0  3.078282    1126.0      180.0  338000.0  2000.0    1.0  2.0  \n",
       "\n",
       "[5 rows x 1914 columns]"
      ]
     },
     "execution_count": 17,
     "metadata": {},
     "output_type": "execute_result"
    }
   ],
   "source": [
    "df_transactions = df_transactions.sort_values(by=['date'])\n",
    "df_transactions = df_transactions.drop(columns=['date'])\n",
    "df_transactions.head()"
   ]
  },
  {
   "cell_type": "code",
   "execution_count": 18,
   "metadata": {},
   "outputs": [
    {
     "data": {
      "text/plain": [
       "year\n",
       "2000.0     6470\n",
       "2001.0     6494\n",
       "2002.0     7547\n",
       "2003.0     8379\n",
       "2004.0    10449\n",
       "2005.0     9382\n",
       "2006.0     8990\n",
       "2007.0    11603\n",
       "2008.0    11943\n",
       "2009.0    13817\n",
       "2010.0    13409\n",
       "2011.0    14156\n",
       "2012.0    12561\n",
       "2013.0    14271\n",
       "2014.0    12335\n",
       "2015.0     9877\n",
       "2016.0     8573\n",
       "2017.0     9371\n",
       "2018.0     8758\n",
       "2019.0     7388\n",
       "2020.0     6775\n",
       "Name: count, dtype: int64"
      ]
     },
     "execution_count": 18,
     "metadata": {},
     "output_type": "execute_result"
    }
   ],
   "source": [
    "df_train = df_transactions.query('year <= 2020')\n",
    "df_train['year'].value_counts().sort_index()\n"
   ]
  },
  {
   "cell_type": "code",
   "execution_count": 19,
   "metadata": {},
   "outputs": [
    {
     "data": {
      "text/plain": [
       "year\n",
       "2021.0    7492\n",
       "2022.0    8136\n",
       "2023.0    2098\n",
       "Name: count, dtype: int64"
      ]
     },
     "execution_count": 19,
     "metadata": {},
     "output_type": "execute_result"
    }
   ],
   "source": [
    "df_test = df_transactions.query('year >= 2021')\n",
    "df_test['year'].value_counts().sort_index()"
   ]
  },
  {
   "cell_type": "markdown",
   "metadata": {},
   "source": [
    "## Modelling with machine learning methods\n",
    "\n",
    "From surveyed literature, the popular machine learning approaches for real estate price forecasting are:\n",
    "1. random forest regression (Ayyasamy et al., 2022)\n",
    "2. support vector regression (Ayyasamy et al., 2022; D.-Y. Li et al., 2009; Y. Li et al., 2020; Plakandaras et al., 2015)\n",
    "3. neural networks (Abidoye et al., 2019; Kang et al., 2020; Liu & Wu, 2020; Sa’at et al., 2021; Samadani & Costa, 2021; Xu & Zhang, 2021)\n",
    "\n",
    "And will be evaluated with the following metrics:\n",
    "1. MAE\n",
    "2. MSE\n",
    "3. RMSE\n",
    "4. MAPE\n",
    "5. R-squared"
   ]
  },
  {
   "cell_type": "code",
   "execution_count": 20,
   "metadata": {},
   "outputs": [
    {
     "name": "stdout",
     "output_type": "stream",
     "text": [
      "(170038, 1913) (42510, 1913) (170038,) (42510,)\n"
     ]
    }
   ],
   "source": [
    "from sklearn.model_selection import train_test_split\n",
    "\n",
    "X_train, X_val, y_train, y_val = train_test_split(df_train.drop(columns=['price_psf']), df_train['price_psf'], test_size=0.2, random_state=1234)\n",
    "print(X_train.shape, X_val.shape, y_train.shape, y_val.shape)"
   ]
  },
  {
   "cell_type": "code",
   "execution_count": 21,
   "metadata": {},
   "outputs": [],
   "source": [
    "from sklearn.preprocessing import StandardScaler\n",
    "\n",
    "scaler = StandardScaler()\n",
    "X_train_scaled = scaler.fit_transform(X_train)\n",
    "X_val_scaled = scaler.transform(X_val)"
   ]
  },
  {
   "cell_type": "code",
   "execution_count": 22,
   "metadata": {},
   "outputs": [
    {
     "name": "stdout",
     "output_type": "stream",
     "text": [
      "MSE: 5946.228151289906\n",
      "RMSE: 77.11178996294863\n",
      "MAE: 14.025996391885384\n",
      "MAPE: 0.05660011343694225\n",
      "R2: 0.9120157166719051\n"
     ]
    }
   ],
   "source": [
    "from sklearn.ensemble import RandomForestRegressor\n",
    "\n",
    "if os.path.exists(FORECAST_MODEL_DIR / 'rf_forecasting.skops'):\n",
    "    rf = sio.load(FORECAST_MODEL_DIR / 'rf_forecasting.skops', trusted=True)\n",
    "else:\n",
    "    rf = RandomForestRegressor(\n",
    "        random_state=1234, \n",
    "        n_jobs=4\n",
    "    )\n",
    "    rf.fit(X_train_scaled, y_train)\n",
    "    sio.dump(rf, FORECAST_MODEL_DIR / 'rf_forecasting.skops')\n",
    "\n",
    "from sklearn.metrics import mean_squared_error, mean_absolute_error, mean_absolute_percentage_error, r2_score\n",
    "y_pred = rf.predict(X_val_scaled)\n",
    "print(f\"MSE: {mean_squared_error(y_val, y_pred)}\")\n",
    "print(f\"RMSE: {mean_squared_error(y_val, y_pred, squared=False)}\")\n",
    "print(f\"MAE: {mean_absolute_error(y_val, y_pred)}\")\n",
    "print(f\"MAPE: {mean_absolute_percentage_error(y_val, y_pred)}\")\n",
    "print(f\"R2: {r2_score(y_val, y_pred)}\")"
   ]
  },
  {
   "cell_type": "markdown",
   "metadata": {},
   "source": [
    "Random forest regressor took 4m27s to train and predict."
   ]
  },
  {
   "cell_type": "code",
   "execution_count": 23,
   "metadata": {},
   "outputs": [],
   "source": [
    "# from sklearn.svm import SVR\n",
    "\n",
    "# svr = SVR()\n",
    "# svr.fit(X_train_scaled, y_train)\n",
    "\n",
    "# y_pred = svr.predict(X_val_scaled)\n",
    "# print(f\"MSE: {mean_squared_error(y_val, y_pred)}\")\n",
    "# print(f\"RMSE: {mean_squared_error(y_val, y_pred, squared=False)}\")\n",
    "# print(f\"MAE: {mean_absolute_error(y_val, y_pred)}\")\n",
    "# print(f\"MAPE: {mean_absolute_percentage_error(y_val, y_pred)}\")\n",
    "# print(f\"R2: {r2_score(y_val, y_pred)}\")"
   ]
  },
  {
   "cell_type": "markdown",
   "metadata": {},
   "source": [
    "SVR did not converge after 535m of training and predicting. Thus, we will not use SVR."
   ]
  },
  {
   "cell_type": "code",
   "execution_count": 24,
   "metadata": {},
   "outputs": [
    {
     "name": "stdout",
     "output_type": "stream",
     "text": [
      "MSE: 11133.918837422616\n",
      "RMSE: 105.51738642244042\n",
      "MAE: 50.81419871121321\n",
      "MAPE: 0.197119957752613\n",
      "R2: 0.8352552501149322\n"
     ]
    }
   ],
   "source": [
    "from sklearn.neural_network import MLPRegressor\n",
    "\n",
    "if os.path.exists(FORECAST_MODEL_DIR / 'mlp_100_forecasting.skops'):\n",
    "    mlp = sio.load(FORECAST_MODEL_DIR / 'mlp_100_forecasting.skops', trusted=True)\n",
    "else:\n",
    "    mlp = MLPRegressor(\n",
    "        random_state=1234,\n",
    "        max_iter=1000, \n",
    "        early_stopping=True, \n",
    "        n_iter_no_change=5, \n",
    "        activation='relu', \n",
    "        solver='adam',\n",
    "        learning_rate='adaptive',\n",
    "        learning_rate_init=0.1,\n",
    "    )\n",
    "    mlp.fit(X_train_scaled, y_train)\n",
    "    sio.dump(mlp, FORECAST_MODEL_DIR / 'mlp_100_forecasting.skops')\n",
    "\n",
    "y_pred = mlp.predict(X_val_scaled)\n",
    "print(f\"MSE: {mean_squared_error(y_val, y_pred)}\")\n",
    "print(f\"RMSE: {mean_squared_error(y_val, y_pred, squared=False)}\")\n",
    "print(f\"MAE: {mean_absolute_error(y_val, y_pred)}\")\n",
    "print(f\"MAPE: {mean_absolute_percentage_error(y_val, y_pred)}\")\n",
    "print(f\"R2: {r2_score(y_val, y_pred)}\")"
   ]
  },
  {
   "cell_type": "markdown",
   "metadata": {},
   "source": [
    "The simple neural network took 11m59s to train and predict.\n",
    "\n",
    "Results for neural network with 100 neurons in 1 hidden layer on 1000 iterations:\n",
    "- MSE: 11133.918837422616\n",
    "- RMSE: 105.51738642244042\n",
    "- MAE: 50.81419871121321\n",
    "- MAPE: 0.197119957752613\n",
    "- R2: 0.8352552501149322"
   ]
  },
  {
   "cell_type": "code",
   "execution_count": 25,
   "metadata": {},
   "outputs": [
    {
     "name": "stdout",
     "output_type": "stream",
     "text": [
      "MSE: 12266.645132212596\n",
      "RMSE: 110.75488762222909\n",
      "MAE: 56.1971342057493\n",
      "MAPE: 0.2216625111752123\n",
      "R2: 0.8184946905268571\n"
     ]
    }
   ],
   "source": [
    "if os.path.exists(FORECAST_MODEL_DIR / 'mlp_100_100_forecasting.skops'):\n",
    "    mlp = sio.load(FORECAST_MODEL_DIR / 'mlp_100_100_forecasting.skops', trusted=True)\n",
    "else:\n",
    "    mlp = MLPRegressor(\n",
    "        random_state=1234,\n",
    "        max_iter=1000, \n",
    "        early_stopping=True, \n",
    "        n_iter_no_change=10, \n",
    "        activation='relu', \n",
    "        solver='adam',\n",
    "        learning_rate='adaptive',\n",
    "        learning_rate_init=0.1,\n",
    "        hidden_layer_sizes=(100, 100),\n",
    "    )\n",
    "    mlp.fit(X_train_scaled, y_train)\n",
    "    sio.dump(mlp, FORECAST_MODEL_DIR / 'mlp_100_100_forecasting.skops')\n",
    "\n",
    "y_pred = mlp.predict(X_val_scaled)\n",
    "print(f\"MSE: {mean_squared_error(y_val, y_pred)}\")\n",
    "print(f\"RMSE: {mean_squared_error(y_val, y_pred, squared=False)}\")\n",
    "print(f\"MAE: {mean_absolute_error(y_val, y_pred)}\")\n",
    "print(f\"MAPE: {mean_absolute_percentage_error(y_val, y_pred)}\")\n",
    "print(f\"R2: {r2_score(y_val, y_pred)}\")"
   ]
  },
  {
   "cell_type": "markdown",
   "metadata": {},
   "source": [
    "The simple neural network took 2m23s to train and predict.\n",
    "\n",
    "Results for neural network with 100 neurons in 2 hidden layer on 1000 iterations:\n",
    "- MSE: 12266.645132212596\n",
    "- RMSE: 110.75488762222909\n",
    "- MAE: 56.1971342057493\n",
    "- MAPE: 0.2216625111752123\n",
    "- R2: 0.8184946905268571"
   ]
  },
  {
   "cell_type": "code",
   "execution_count": 27,
   "metadata": {},
   "outputs": [
    {
     "name": "stdout",
     "output_type": "stream",
     "text": [
      "MSE: 22422.190545363923\n",
      "RMSE: 149.74041052890138\n",
      "MAE: 88.03913657434383\n",
      "MAPE: 0.42454012755777537\n",
      "R2: 0.6682265941390302\n"
     ]
    }
   ],
   "source": [
    "if os.path.exists(FORECAST_MODEL_DIR / 'mlp_100_100_100_forecasting.skops'):\n",
    "    mlp = sio.load(FORECAST_MODEL_DIR / 'mlp_100_100_100_forecasting.skops', trusted=True)\n",
    "else:\n",
    "    mlp = MLPRegressor(\n",
    "        random_state=1234,\n",
    "        max_iter=1000, \n",
    "        early_stopping=True, \n",
    "        n_iter_no_change=100, \n",
    "        activation='relu', \n",
    "        solver='adam',\n",
    "        learning_rate='adaptive',\n",
    "        learning_rate_init=0.1,\n",
    "        hidden_layer_sizes=(100, 100, 100),\n",
    "    )\n",
    "    mlp.fit(X_train_scaled, y_train)\n",
    "    sio.dump(mlp, FORECAST_MODEL_DIR / 'mlp_100_100_100_forecasting.skops')\n",
    "\n",
    "y_pred = mlp.predict(X_val_scaled)\n",
    "print(f\"MSE: {mean_squared_error(y_val, y_pred)}\")\n",
    "print(f\"RMSE: {mean_squared_error(y_val, y_pred, squared=False)}\")\n",
    "print(f\"MAE: {mean_absolute_error(y_val, y_pred)}\")\n",
    "print(f\"MAPE: {mean_absolute_percentage_error(y_val, y_pred)}\")\n",
    "print(f\"R2: {r2_score(y_val, y_pred)}\")"
   ]
  },
  {
   "cell_type": "markdown",
   "metadata": {},
   "source": [
    "This neural network with 3 layers and 100 neurons each took 26m34s to train and predict.\n",
    "\n",
    "Results for neural network with 100 neurons in 3 hidden layer on 1000 iterations:\n",
    "- MSE: 22422.190545363923\n",
    "- RMSE: 149.74041052890138\n",
    "- MAE: 88.03913657434383\n",
    "- MAPE: 0.42454012755777537\n",
    "- R2: 0.6682265941390302"
   ]
  },
  {
   "cell_type": "code",
   "execution_count": 78,
   "metadata": {},
   "outputs": [
    {
     "name": "stdout",
     "output_type": "stream",
     "text": [
      "Fitting 5 folds for each of 12 candidates, totalling 60 fits\n"
     ]
    }
   ],
   "source": [
    "from sklearn.model_selection import GridSearchCV\n",
    "\n",
    "param_grid = {\n",
    "    'hidden_layer_sizes': [(100,), (100, 100)],\n",
    "    'learning_rate_init': [0.1, 0.01, 0.001],\n",
    "    'max_iter': [500, 1000],\n",
    "    'early_stopping': [True],\n",
    "    'n_iter_no_change': [50],\n",
    "}\n",
    "\n",
    "scoring = {\n",
    "    'mse': 'neg_mean_squared_error',\n",
    "    'rmse': 'neg_root_mean_squared_error',\n",
    "    'mae': 'neg_mean_absolute_error',\n",
    "    'mape': 'neg_mean_absolute_percentage_error',\n",
    "    'r2': 'r2',\n",
    "}\n",
    "\n",
    "mlp = MLPRegressor(random_state=1234, activation='relu', solver='adam', learning_rate='adaptive')\n",
    "grid_search = GridSearchCV(mlp, param_grid, scoring=scoring, refit='mse', n_jobs=4, cv=5, verbose=3)\n",
    "grid_search.fit(X_train_scaled, y_train)"
   ]
  },
  {
   "cell_type": "code",
   "execution_count": null,
   "metadata": {},
   "outputs": [],
   "source": []
  },
  {
   "cell_type": "code",
   "execution_count": null,
   "metadata": {},
   "outputs": [],
   "source": []
  },
  {
   "cell_type": "code",
   "execution_count": null,
   "metadata": {},
   "outputs": [],
   "source": []
  },
  {
   "cell_type": "code",
   "execution_count": null,
   "metadata": {},
   "outputs": [],
   "source": []
  }
 ],
 "metadata": {
  "kernelspec": {
   "display_name": "venv",
   "language": "python",
   "name": "python3"
  },
  "language_info": {
   "codemirror_mode": {
    "name": "ipython",
    "version": 3
   },
   "file_extension": ".py",
   "mimetype": "text/x-python",
   "name": "python",
   "nbconvert_exporter": "python",
   "pygments_lexer": "ipython3",
   "version": "3.11.5"
  }
 },
 "nbformat": 4,
 "nbformat_minor": 2
}
