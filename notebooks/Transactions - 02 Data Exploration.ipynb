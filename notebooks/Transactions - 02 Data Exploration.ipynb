{
 "cells": [
  {
   "cell_type": "markdown",
   "metadata": {},
   "source": [
    "# Data Exploration: Transactions"
   ]
  },
  {
   "cell_type": "code",
   "execution_count": 1,
   "metadata": {},
   "outputs": [],
   "source": [
    "import pandas as pd\n",
    "from helpers import RAW_DATA_DIR"
   ]
  },
  {
   "cell_type": "markdown",
   "metadata": {},
   "source": [
    "## Exploration"
   ]
  },
  {
   "cell_type": "code",
   "execution_count": 2,
   "metadata": {},
   "outputs": [
    {
     "data": {
      "text/html": [
       "<div>\n",
       "<style scoped>\n",
       "    .dataframe tbody tr th:only-of-type {\n",
       "        vertical-align: middle;\n",
       "    }\n",
       "\n",
       "    .dataframe tbody tr th {\n",
       "        vertical-align: top;\n",
       "    }\n",
       "\n",
       "    .dataframe thead th {\n",
       "        text-align: right;\n",
       "    }\n",
       "</style>\n",
       "<table border=\"1\" class=\"dataframe\">\n",
       "  <thead>\n",
       "    <tr style=\"text-align: right;\">\n",
       "      <th></th>\n",
       "      <th>project_name</th>\n",
       "      <th>spa_date</th>\n",
       "      <th>address</th>\n",
       "      <th>building_type</th>\n",
       "      <th>tenure</th>\n",
       "      <th>floors</th>\n",
       "      <th>rooms</th>\n",
       "      <th>land_area</th>\n",
       "      <th>built_up</th>\n",
       "      <th>price_psf</th>\n",
       "      <th>price</th>\n",
       "    </tr>\n",
       "  </thead>\n",
       "  <tbody>\n",
       "    <tr>\n",
       "      <th>0</th>\n",
       "      <td>BANDAR BARU SRI PETALING</td>\n",
       "      <td>09/06/2023</td>\n",
       "      <td>✕✕✕, JALAN PIKRAMA</td>\n",
       "      <td>TERRACE HOUSE - INTERMEDIATE</td>\n",
       "      <td>LEASEHOLD</td>\n",
       "      <td>1</td>\n",
       "      <td>nan</td>\n",
       "      <td>2,196 ft²</td>\n",
       "      <td>nan</td>\n",
       "      <td>342</td>\n",
       "      <td>750,000</td>\n",
       "    </tr>\n",
       "    <tr>\n",
       "      <th>1</th>\n",
       "      <td>BANDAR BARU SRI PETALING</td>\n",
       "      <td>01/06/2023</td>\n",
       "      <td>✕✕. ✕✕, JALAN PERLAK 3</td>\n",
       "      <td>TERRACE HOUSE - INTERMEDIATE</td>\n",
       "      <td>LEASEHOLD</td>\n",
       "      <td>2</td>\n",
       "      <td>nan</td>\n",
       "      <td>753 ft²</td>\n",
       "      <td>nan</td>\n",
       "      <td>398</td>\n",
       "      <td>300,000</td>\n",
       "    </tr>\n",
       "    <tr>\n",
       "      <th>2</th>\n",
       "      <td>BANDAR BARU SRI PETALING</td>\n",
       "      <td>29/05/2023</td>\n",
       "      <td>✕✕ ✕, JALAN 12/149L</td>\n",
       "      <td>TERRACE HOUSE - INTERMEDIATE</td>\n",
       "      <td>LEASEHOLD</td>\n",
       "      <td>2½</td>\n",
       "      <td>nan</td>\n",
       "      <td>3,197 ft²</td>\n",
       "      <td>nan</td>\n",
       "      <td>188</td>\n",
       "      <td>600,000</td>\n",
       "    </tr>\n",
       "    <tr>\n",
       "      <th>3</th>\n",
       "      <td>BANDAR BARU SRI PETALING</td>\n",
       "      <td>25/05/2023</td>\n",
       "      <td>✕✕. ✕✕✕, JALAN PASAI</td>\n",
       "      <td>TERRACE HOUSE - INTERMEDIATE</td>\n",
       "      <td>LEASEHOLD</td>\n",
       "      <td>2</td>\n",
       "      <td>nan</td>\n",
       "      <td>753 ft²</td>\n",
       "      <td>nan</td>\n",
       "      <td>531</td>\n",
       "      <td>400,000</td>\n",
       "    </tr>\n",
       "    <tr>\n",
       "      <th>4</th>\n",
       "      <td>BANDAR BARU SRI PETALING</td>\n",
       "      <td>22/05/2023</td>\n",
       "      <td>✕✕, JALAN SRI PETALING 5</td>\n",
       "      <td>SEMI-D</td>\n",
       "      <td>LEASEHOLD</td>\n",
       "      <td>2½</td>\n",
       "      <td>nan</td>\n",
       "      <td>4,801 ft²</td>\n",
       "      <td>nan</td>\n",
       "      <td>250</td>\n",
       "      <td>1,200,000</td>\n",
       "    </tr>\n",
       "    <tr>\n",
       "      <th>...</th>\n",
       "      <td>...</td>\n",
       "      <td>...</td>\n",
       "      <td>...</td>\n",
       "      <td>...</td>\n",
       "      <td>...</td>\n",
       "      <td>...</td>\n",
       "      <td>...</td>\n",
       "      <td>...</td>\n",
       "      <td>...</td>\n",
       "      <td>...</td>\n",
       "      <td>...</td>\n",
       "    </tr>\n",
       "    <tr>\n",
       "      <th>294562</th>\n",
       "      <td>HERITAGE STATION HOTEL</td>\n",
       "      <td>13/11/1990</td>\n",
       "      <td>✕✕✕-✕✕✕, BB WANGSA MAJU</td>\n",
       "      <td>FLAT</td>\n",
       "      <td>LEASEHOLD</td>\n",
       "      <td>1</td>\n",
       "      <td>2</td>\n",
       "      <td>493 ft²</td>\n",
       "      <td>493 ft²</td>\n",
       "      <td>71</td>\n",
       "      <td>35,000</td>\n",
       "    </tr>\n",
       "    <tr>\n",
       "      <th>294563</th>\n",
       "      <td>IDAMAN PUTERI</td>\n",
       "      <td>10/01/2005</td>\n",
       "      <td>✕✕-✕, JALAN GOMBAK</td>\n",
       "      <td>CONDOMINIUM</td>\n",
       "      <td>FREEHOLD</td>\n",
       "      <td>1</td>\n",
       "      <td>3</td>\n",
       "      <td>1454 ft²</td>\n",
       "      <td>1454 ft²</td>\n",
       "      <td>150</td>\n",
       "      <td>218,025</td>\n",
       "    </tr>\n",
       "    <tr>\n",
       "      <th>294564</th>\n",
       "      <td>KELAB LE CHATEAU II</td>\n",
       "      <td>25/02/2008</td>\n",
       "      <td>✕-✕✕-✕, JALAN KIARA 3</td>\n",
       "      <td>CONDOMINIUM</td>\n",
       "      <td>FREEHOLD</td>\n",
       "      <td>1</td>\n",
       "      <td>3</td>\n",
       "      <td>593 ft²</td>\n",
       "      <td>593 ft²</td>\n",
       "      <td>194</td>\n",
       "      <td>115,000</td>\n",
       "    </tr>\n",
       "    <tr>\n",
       "      <th>294565</th>\n",
       "      <td>MUTIARA SENTUL CONDOMINIUM</td>\n",
       "      <td>10/08/2009</td>\n",
       "      <td>✕-✕-✕, OFF JALAN SENTUL</td>\n",
       "      <td>APARTMENT</td>\n",
       "      <td>LEASEHOLD</td>\n",
       "      <td>1</td>\n",
       "      <td>2</td>\n",
       "      <td>1193 ft²</td>\n",
       "      <td>1193 ft²</td>\n",
       "      <td>197</td>\n",
       "      <td>235,000</td>\n",
       "    </tr>\n",
       "    <tr>\n",
       "      <th>294566</th>\n",
       "      <td>TAI CHEONG MANSION</td>\n",
       "      <td>18/08/1995</td>\n",
       "      <td>✕✕-✕✕-✕✕-✕, SENTUL</td>\n",
       "      <td>FLAT</td>\n",
       "      <td>LEASEHOLD</td>\n",
       "      <td>1</td>\n",
       "      <td>3</td>\n",
       "      <td>1927 ft²</td>\n",
       "      <td>1927 ft²</td>\n",
       "      <td>269</td>\n",
       "      <td>518,296</td>\n",
       "    </tr>\n",
       "  </tbody>\n",
       "</table>\n",
       "<p>294567 rows × 11 columns</p>\n",
       "</div>"
      ],
      "text/plain": [
       "                      project_name    spa_date                   address  \\\n",
       "0         BANDAR BARU SRI PETALING  09/06/2023        ✕✕✕, JALAN PIKRAMA   \n",
       "1         BANDAR BARU SRI PETALING  01/06/2023    ✕✕. ✕✕, JALAN PERLAK 3   \n",
       "2         BANDAR BARU SRI PETALING  29/05/2023       ✕✕ ✕, JALAN 12/149L   \n",
       "3         BANDAR BARU SRI PETALING  25/05/2023      ✕✕. ✕✕✕, JALAN PASAI   \n",
       "4         BANDAR BARU SRI PETALING  22/05/2023  ✕✕, JALAN SRI PETALING 5   \n",
       "...                            ...         ...                       ...   \n",
       "294562      HERITAGE STATION HOTEL  13/11/1990   ✕✕✕-✕✕✕, BB WANGSA MAJU   \n",
       "294563               IDAMAN PUTERI  10/01/2005        ✕✕-✕, JALAN GOMBAK   \n",
       "294564         KELAB LE CHATEAU II  25/02/2008     ✕-✕✕-✕, JALAN KIARA 3   \n",
       "294565  MUTIARA SENTUL CONDOMINIUM  10/08/2009   ✕-✕-✕, OFF JALAN SENTUL   \n",
       "294566          TAI CHEONG MANSION  18/08/1995        ✕✕-✕✕-✕✕-✕, SENTUL   \n",
       "\n",
       "                       building_type     tenure floors rooms  land_area  \\\n",
       "0       TERRACE HOUSE - INTERMEDIATE  LEASEHOLD      1   nan  2,196 ft²   \n",
       "1       TERRACE HOUSE - INTERMEDIATE  LEASEHOLD      2   nan    753 ft²   \n",
       "2       TERRACE HOUSE - INTERMEDIATE  LEASEHOLD     2½   nan  3,197 ft²   \n",
       "3       TERRACE HOUSE - INTERMEDIATE  LEASEHOLD      2   nan    753 ft²   \n",
       "4                             SEMI-D  LEASEHOLD     2½   nan  4,801 ft²   \n",
       "...                              ...        ...    ...   ...        ...   \n",
       "294562                          FLAT  LEASEHOLD      1     2    493 ft²   \n",
       "294563                   CONDOMINIUM   FREEHOLD      1     3   1454 ft²   \n",
       "294564                   CONDOMINIUM   FREEHOLD      1     3    593 ft²   \n",
       "294565                     APARTMENT  LEASEHOLD      1     2   1193 ft²   \n",
       "294566                          FLAT  LEASEHOLD      1     3   1927 ft²   \n",
       "\n",
       "        built_up price_psf      price  \n",
       "0            nan       342    750,000  \n",
       "1            nan       398    300,000  \n",
       "2            nan       188    600,000  \n",
       "3            nan       531    400,000  \n",
       "4            nan       250  1,200,000  \n",
       "...          ...       ...        ...  \n",
       "294562   493 ft²        71     35,000  \n",
       "294563  1454 ft²       150    218,025  \n",
       "294564   593 ft²       194    115,000  \n",
       "294565  1193 ft²       197    235,000  \n",
       "294566  1927 ft²       269    518,296  \n",
       "\n",
       "[294567 rows x 11 columns]"
      ]
     },
     "execution_count": 2,
     "metadata": {},
     "output_type": "execute_result"
    }
   ],
   "source": [
    "df_transactions = pd.read_parquet(RAW_DATA_DIR / 'transactions_KL.parquet')\n",
    "df_transactions"
   ]
  },
  {
   "cell_type": "code",
   "execution_count": 3,
   "metadata": {},
   "outputs": [
    {
     "name": "stdout",
     "output_type": "stream",
     "text": [
      "<class 'pandas.core.frame.DataFrame'>\n",
      "RangeIndex: 294567 entries, 0 to 294566\n",
      "Data columns (total 11 columns):\n",
      " #   Column         Non-Null Count   Dtype \n",
      "---  ------         --------------   ----- \n",
      " 0   project_name   294567 non-null  object\n",
      " 1   spa_date       294567 non-null  object\n",
      " 2   address        294546 non-null  object\n",
      " 3   building_type  294567 non-null  object\n",
      " 4   tenure         294567 non-null  object\n",
      " 5   floors         294567 non-null  object\n",
      " 6   rooms          294567 non-null  object\n",
      " 7   land_area      294567 non-null  object\n",
      " 8   built_up       294567 non-null  object\n",
      " 9   price_psf      294567 non-null  object\n",
      " 10  price          294567 non-null  object\n",
      "dtypes: object(11)\n",
      "memory usage: 24.7+ MB\n"
     ]
    }
   ],
   "source": [
    "df_transactions.info()"
   ]
  },
  {
   "cell_type": "markdown",
   "metadata": {},
   "source": [
    "At a glance:\n",
    "1. `project_name` column contains strings. No missing values.\n",
    "2. `spa_date` is detected as strings instead of date, need to change to date type. No missing values. \n",
    "3. `address` column contain strings. There are missing values.\n",
    "4. `building_type` column contains strings. No missing values.\n",
    "5. `tenure` column contains strings. No missing values.\n",
    "6. `floors` is detected as strings instead of float, need to change to float type. No missing values.\n",
    "7. `rooms` is automatically detected as float. There are 'nan' but not detected as missing values.\n",
    "8. `land_area` is detected as strings instead of float, need to change to float type. No missing values.\n",
    "9. `built_up` is detected as strings instead of float, need to change to float type. There are missing values.\n",
    "10. `price` is detected as strings instead of float, need to change to float type. No missing values."
   ]
  },
  {
   "cell_type": "code",
   "execution_count": 4,
   "metadata": {},
   "outputs": [
    {
     "data": {
      "text/plain": [
       "0        2023-06-09\n",
       "1        2023-06-01\n",
       "2        2023-05-29\n",
       "3        2023-05-25\n",
       "4        2023-05-22\n",
       "            ...    \n",
       "294562   1990-11-13\n",
       "294563   2005-01-10\n",
       "294564   2008-02-25\n",
       "294565   2009-08-10\n",
       "294566   1995-08-18\n",
       "Name: spa_date, Length: 294567, dtype: datetime64[ns]"
      ]
     },
     "execution_count": 4,
     "metadata": {},
     "output_type": "execute_result"
    }
   ],
   "source": [
    "df_transactions['spa_date'] = pd.to_datetime(df_transactions['spa_date'], format='%d/%m/%Y')\n",
    "df_transactions['spa_date']"
   ]
  },
  {
   "cell_type": "code",
   "execution_count": 5,
   "metadata": {},
   "outputs": [
    {
     "data": {
      "text/plain": [
       "56134    1909-05-11\n",
       "128655   1933-10-25\n",
       "262130   1955-07-25\n",
       "64404    1959-07-27\n",
       "266269   1960-11-14\n",
       "            ...    \n",
       "224137   2023-06-09\n",
       "266662   2023-06-13\n",
       "87238    2023-06-13\n",
       "214691   2023-06-14\n",
       "125442   2023-06-19\n",
       "Name: spa_date, Length: 294567, dtype: datetime64[ns]"
      ]
     },
     "execution_count": 5,
     "metadata": {},
     "output_type": "execute_result"
    }
   ],
   "source": [
    "df_transactions['spa_date'].sort_values()"
   ]
  },
  {
   "cell_type": "markdown",
   "metadata": {},
   "source": [
    "The data type of the `spa_date` column has been changed to datetime type."
   ]
  },
  {
   "cell_type": "code",
   "execution_count": 6,
   "metadata": {},
   "outputs": [
    {
     "name": "stdout",
     "output_type": "stream",
     "text": [
      "% missing values: 0.0071291081485706145\n"
     ]
    },
    {
     "data": {
      "text/html": [
       "<div>\n",
       "<style scoped>\n",
       "    .dataframe tbody tr th:only-of-type {\n",
       "        vertical-align: middle;\n",
       "    }\n",
       "\n",
       "    .dataframe tbody tr th {\n",
       "        vertical-align: top;\n",
       "    }\n",
       "\n",
       "    .dataframe thead th {\n",
       "        text-align: right;\n",
       "    }\n",
       "</style>\n",
       "<table border=\"1\" class=\"dataframe\">\n",
       "  <thead>\n",
       "    <tr style=\"text-align: right;\">\n",
       "      <th></th>\n",
       "      <th>project_name</th>\n",
       "      <th>spa_date</th>\n",
       "      <th>address</th>\n",
       "      <th>building_type</th>\n",
       "      <th>tenure</th>\n",
       "      <th>floors</th>\n",
       "      <th>rooms</th>\n",
       "      <th>land_area</th>\n",
       "      <th>built_up</th>\n",
       "      <th>price_psf</th>\n",
       "      <th>price</th>\n",
       "    </tr>\n",
       "  </thead>\n",
       "  <tbody>\n",
       "    <tr>\n",
       "      <th>18211</th>\n",
       "      <td>ALAM DAMAI</td>\n",
       "      <td>1999-02-15</td>\n",
       "      <td>None</td>\n",
       "      <td>TERRACE HOUSE - INTERMEDIATE</td>\n",
       "      <td>LEASEHOLD</td>\n",
       "      <td>2</td>\n",
       "      <td>3.0</td>\n",
       "      <td>1,647 ft²</td>\n",
       "      <td>1,087 ft²</td>\n",
       "      <td>107</td>\n",
       "      <td>175,750</td>\n",
       "    </tr>\n",
       "    <tr>\n",
       "      <th>27824</th>\n",
       "      <td>TAMAN SRI HARTAMAS</td>\n",
       "      <td>1996-01-10</td>\n",
       "      <td>None</td>\n",
       "      <td>TERRACE HOUSE - INTERMEDIATE</td>\n",
       "      <td>FREEHOLD</td>\n",
       "      <td>2</td>\n",
       "      <td>3.0</td>\n",
       "      <td>1,650 ft²</td>\n",
       "      <td>1,671 ft²</td>\n",
       "      <td>262</td>\n",
       "      <td>432,000</td>\n",
       "    </tr>\n",
       "    <tr>\n",
       "      <th>70435</th>\n",
       "      <td>KAMPUNG BATU MUDA</td>\n",
       "      <td>2000-06-06</td>\n",
       "      <td>None</td>\n",
       "      <td>BUNGALOW</td>\n",
       "      <td>LEASEHOLD</td>\n",
       "      <td>1</td>\n",
       "      <td>3.0</td>\n",
       "      <td>4,004 ft²</td>\n",
       "      <td>834 ft²</td>\n",
       "      <td>30</td>\n",
       "      <td>120,000</td>\n",
       "    </tr>\n",
       "    <tr>\n",
       "      <th>71295</th>\n",
       "      <td>LUCKY GARDEN (JALAN PUCHONG)</td>\n",
       "      <td>1997-04-21</td>\n",
       "      <td>None</td>\n",
       "      <td>TERRACE HOUSE - INTERMEDIATE</td>\n",
       "      <td>FREEHOLD</td>\n",
       "      <td>1</td>\n",
       "      <td>3.0</td>\n",
       "      <td>1,754 ft²</td>\n",
       "      <td>869 ft²</td>\n",
       "      <td>114</td>\n",
       "      <td>200,000</td>\n",
       "    </tr>\n",
       "    <tr>\n",
       "      <th>71296</th>\n",
       "      <td>LUCKY GARDEN (JALAN PUCHONG)</td>\n",
       "      <td>1997-04-21</td>\n",
       "      <td>None</td>\n",
       "      <td>TERRACE HOUSE - INTERMEDIATE</td>\n",
       "      <td>FREEHOLD</td>\n",
       "      <td>1</td>\n",
       "      <td>3.0</td>\n",
       "      <td>1,775 ft²</td>\n",
       "      <td>869 ft²</td>\n",
       "      <td>113</td>\n",
       "      <td>200,000</td>\n",
       "    </tr>\n",
       "    <tr>\n",
       "      <th>74962</th>\n",
       "      <td>SRI BINTANG HEIGHTS</td>\n",
       "      <td>1998-04-29</td>\n",
       "      <td>None</td>\n",
       "      <td>TERRACE HOUSE - INTERMEDIATE</td>\n",
       "      <td>FREEHOLD</td>\n",
       "      <td>2</td>\n",
       "      <td>3.0</td>\n",
       "      <td>1,787 ft²</td>\n",
       "      <td>1,323 ft²</td>\n",
       "      <td>123</td>\n",
       "      <td>220,000</td>\n",
       "    </tr>\n",
       "    <tr>\n",
       "      <th>75638</th>\n",
       "      <td>LAMAN RESIDENCE</td>\n",
       "      <td>2008-09-15</td>\n",
       "      <td>None</td>\n",
       "      <td>SEMI-D</td>\n",
       "      <td>LEASEHOLD</td>\n",
       "      <td>2</td>\n",
       "      <td>4.0</td>\n",
       "      <td>3,057 ft²</td>\n",
       "      <td>2,485 ft²</td>\n",
       "      <td>212</td>\n",
       "      <td>648,000</td>\n",
       "    </tr>\n",
       "    <tr>\n",
       "      <th>102998</th>\n",
       "      <td>HAPPY GARDEN FLAT</td>\n",
       "      <td>1999-09-07</td>\n",
       "      <td>None</td>\n",
       "      <td>FLAT</td>\n",
       "      <td>FREEHOLD</td>\n",
       "      <td>1</td>\n",
       "      <td>3.0</td>\n",
       "      <td>708 ft²</td>\n",
       "      <td>708 ft²</td>\n",
       "      <td>132</td>\n",
       "      <td>93,500</td>\n",
       "    </tr>\n",
       "    <tr>\n",
       "      <th>112720</th>\n",
       "      <td>TAMAN BUKIT CHERAS</td>\n",
       "      <td>1998-03-20</td>\n",
       "      <td>None</td>\n",
       "      <td>FLAT</td>\n",
       "      <td>FREEHOLD</td>\n",
       "      <td>1</td>\n",
       "      <td>nan</td>\n",
       "      <td>734 ft²</td>\n",
       "      <td>734 ft²</td>\n",
       "      <td>109</td>\n",
       "      <td>80,000</td>\n",
       "    </tr>\n",
       "    <tr>\n",
       "      <th>147816</th>\n",
       "      <td>SALAK SOUTH GARDEN</td>\n",
       "      <td>2002-10-29</td>\n",
       "      <td>None</td>\n",
       "      <td>FLAT</td>\n",
       "      <td>FREEHOLD</td>\n",
       "      <td>1</td>\n",
       "      <td>2</td>\n",
       "      <td>625 ft²</td>\n",
       "      <td>625 ft²</td>\n",
       "      <td>56</td>\n",
       "      <td>35,000</td>\n",
       "    </tr>\n",
       "    <tr>\n",
       "      <th>147843</th>\n",
       "      <td>SALAK SOUTH GARDEN</td>\n",
       "      <td>1999-10-13</td>\n",
       "      <td>None</td>\n",
       "      <td>FLAT</td>\n",
       "      <td>FREEHOLD</td>\n",
       "      <td>1</td>\n",
       "      <td>2</td>\n",
       "      <td>607 ft²</td>\n",
       "      <td>607 ft²</td>\n",
       "      <td>92</td>\n",
       "      <td>55,800</td>\n",
       "    </tr>\n",
       "    <tr>\n",
       "      <th>147845</th>\n",
       "      <td>SALAK SOUTH GARDEN</td>\n",
       "      <td>1999-09-13</td>\n",
       "      <td>None</td>\n",
       "      <td>FLAT</td>\n",
       "      <td>FREEHOLD</td>\n",
       "      <td>1</td>\n",
       "      <td>2</td>\n",
       "      <td>610 ft²</td>\n",
       "      <td>610 ft²</td>\n",
       "      <td>109</td>\n",
       "      <td>66,500</td>\n",
       "    </tr>\n",
       "    <tr>\n",
       "      <th>147850</th>\n",
       "      <td>SALAK SOUTH GARDEN</td>\n",
       "      <td>1999-07-19</td>\n",
       "      <td>None</td>\n",
       "      <td>FLAT</td>\n",
       "      <td>FREEHOLD</td>\n",
       "      <td>1</td>\n",
       "      <td>2</td>\n",
       "      <td>611 ft²</td>\n",
       "      <td>611 ft²</td>\n",
       "      <td>95</td>\n",
       "      <td>58,000</td>\n",
       "    </tr>\n",
       "    <tr>\n",
       "      <th>155027</th>\n",
       "      <td>TAMAN DESA CHERAS</td>\n",
       "      <td>1994-06-07</td>\n",
       "      <td>None</td>\n",
       "      <td>FLAT</td>\n",
       "      <td>FREEHOLD</td>\n",
       "      <td>1</td>\n",
       "      <td>2</td>\n",
       "      <td>625 ft²</td>\n",
       "      <td>625 ft²</td>\n",
       "      <td>48</td>\n",
       "      <td>30,000</td>\n",
       "    </tr>\n",
       "    <tr>\n",
       "      <th>165318</th>\n",
       "      <td>BAIDURI BLOCK G</td>\n",
       "      <td>2001-01-08</td>\n",
       "      <td>None</td>\n",
       "      <td>APARTMENT</td>\n",
       "      <td>LEASEHOLD</td>\n",
       "      <td>1</td>\n",
       "      <td>3</td>\n",
       "      <td>945 ft²</td>\n",
       "      <td>945 ft²</td>\n",
       "      <td>146</td>\n",
       "      <td>138,000</td>\n",
       "    </tr>\n",
       "    <tr>\n",
       "      <th>165380</th>\n",
       "      <td>BAIDURI BLOCK G</td>\n",
       "      <td>1997-09-16</td>\n",
       "      <td>None</td>\n",
       "      <td>APARTMENT</td>\n",
       "      <td>LEASEHOLD</td>\n",
       "      <td>1</td>\n",
       "      <td>3</td>\n",
       "      <td>878 ft²</td>\n",
       "      <td>878 ft²</td>\n",
       "      <td>148</td>\n",
       "      <td>130,000</td>\n",
       "    </tr>\n",
       "    <tr>\n",
       "      <th>186764</th>\n",
       "      <td>10 MONT KIARA @ MK10</td>\n",
       "      <td>2010-05-26</td>\n",
       "      <td>None</td>\n",
       "      <td>CONDOMINIUM</td>\n",
       "      <td>FREEHOLD</td>\n",
       "      <td>1</td>\n",
       "      <td>5</td>\n",
       "      <td>4091 ft²</td>\n",
       "      <td>4091 ft²</td>\n",
       "      <td>660</td>\n",
       "      <td>2,700,000</td>\n",
       "    </tr>\n",
       "    <tr>\n",
       "      <th>203050</th>\n",
       "      <td>MONT KIARA MERIDIN</td>\n",
       "      <td>2010-07-28</td>\n",
       "      <td>None</td>\n",
       "      <td>CONDOMINIUM</td>\n",
       "      <td>FREEHOLD</td>\n",
       "      <td>1</td>\n",
       "      <td>3</td>\n",
       "      <td>2512 ft²</td>\n",
       "      <td>2512 ft²</td>\n",
       "      <td>430</td>\n",
       "      <td>1,080,000</td>\n",
       "    </tr>\n",
       "    <tr>\n",
       "      <th>206358</th>\n",
       "      <td>KIARA 1888</td>\n",
       "      <td>2010-05-13</td>\n",
       "      <td>None</td>\n",
       "      <td>CONDOMINIUM</td>\n",
       "      <td>FREEHOLD</td>\n",
       "      <td>1</td>\n",
       "      <td>3</td>\n",
       "      <td>1238 ft²</td>\n",
       "      <td>1238 ft²</td>\n",
       "      <td>564</td>\n",
       "      <td>698,000</td>\n",
       "    </tr>\n",
       "    <tr>\n",
       "      <th>218018</th>\n",
       "      <td>SUTRAMAS</td>\n",
       "      <td>2010-03-31</td>\n",
       "      <td>None</td>\n",
       "      <td>CONDOMINIUM</td>\n",
       "      <td>FREEHOLD</td>\n",
       "      <td>1</td>\n",
       "      <td>4</td>\n",
       "      <td>1377 ft²</td>\n",
       "      <td>1377 ft²</td>\n",
       "      <td>305</td>\n",
       "      <td>420,000</td>\n",
       "    </tr>\n",
       "    <tr>\n",
       "      <th>224717</th>\n",
       "      <td>BAYVIEW COURT</td>\n",
       "      <td>1998-05-26</td>\n",
       "      <td>None</td>\n",
       "      <td>APARTMENT</td>\n",
       "      <td>LEASEHOLD</td>\n",
       "      <td>1</td>\n",
       "      <td>3</td>\n",
       "      <td>750 ft²</td>\n",
       "      <td>750 ft²</td>\n",
       "      <td>80</td>\n",
       "      <td>60,000</td>\n",
       "    </tr>\n",
       "  </tbody>\n",
       "</table>\n",
       "</div>"
      ],
      "text/plain": [
       "                        project_name   spa_date address  \\\n",
       "18211                     ALAM DAMAI 1999-02-15    None   \n",
       "27824             TAMAN SRI HARTAMAS 1996-01-10    None   \n",
       "70435              KAMPUNG BATU MUDA 2000-06-06    None   \n",
       "71295   LUCKY GARDEN (JALAN PUCHONG) 1997-04-21    None   \n",
       "71296   LUCKY GARDEN (JALAN PUCHONG) 1997-04-21    None   \n",
       "74962            SRI BINTANG HEIGHTS 1998-04-29    None   \n",
       "75638                LAMAN RESIDENCE 2008-09-15    None   \n",
       "102998             HAPPY GARDEN FLAT 1999-09-07    None   \n",
       "112720            TAMAN BUKIT CHERAS 1998-03-20    None   \n",
       "147816            SALAK SOUTH GARDEN 2002-10-29    None   \n",
       "147843            SALAK SOUTH GARDEN 1999-10-13    None   \n",
       "147845            SALAK SOUTH GARDEN 1999-09-13    None   \n",
       "147850            SALAK SOUTH GARDEN 1999-07-19    None   \n",
       "155027             TAMAN DESA CHERAS 1994-06-07    None   \n",
       "165318               BAIDURI BLOCK G 2001-01-08    None   \n",
       "165380               BAIDURI BLOCK G 1997-09-16    None   \n",
       "186764          10 MONT KIARA @ MK10 2010-05-26    None   \n",
       "203050            MONT KIARA MERIDIN 2010-07-28    None   \n",
       "206358                    KIARA 1888 2010-05-13    None   \n",
       "218018                      SUTRAMAS 2010-03-31    None   \n",
       "224717                 BAYVIEW COURT 1998-05-26    None   \n",
       "\n",
       "                       building_type     tenure floors rooms  land_area  \\\n",
       "18211   TERRACE HOUSE - INTERMEDIATE  LEASEHOLD      2   3.0  1,647 ft²   \n",
       "27824   TERRACE HOUSE - INTERMEDIATE   FREEHOLD      2   3.0  1,650 ft²   \n",
       "70435                       BUNGALOW  LEASEHOLD      1   3.0  4,004 ft²   \n",
       "71295   TERRACE HOUSE - INTERMEDIATE   FREEHOLD      1   3.0  1,754 ft²   \n",
       "71296   TERRACE HOUSE - INTERMEDIATE   FREEHOLD      1   3.0  1,775 ft²   \n",
       "74962   TERRACE HOUSE - INTERMEDIATE   FREEHOLD      2   3.0  1,787 ft²   \n",
       "75638                         SEMI-D  LEASEHOLD      2   4.0  3,057 ft²   \n",
       "102998                          FLAT   FREEHOLD      1   3.0    708 ft²   \n",
       "112720                          FLAT   FREEHOLD      1   nan    734 ft²   \n",
       "147816                          FLAT   FREEHOLD      1     2    625 ft²   \n",
       "147843                          FLAT   FREEHOLD      1     2    607 ft²   \n",
       "147845                          FLAT   FREEHOLD      1     2    610 ft²   \n",
       "147850                          FLAT   FREEHOLD      1     2    611 ft²   \n",
       "155027                          FLAT   FREEHOLD      1     2    625 ft²   \n",
       "165318                     APARTMENT  LEASEHOLD      1     3    945 ft²   \n",
       "165380                     APARTMENT  LEASEHOLD      1     3    878 ft²   \n",
       "186764                   CONDOMINIUM   FREEHOLD      1     5   4091 ft²   \n",
       "203050                   CONDOMINIUM   FREEHOLD      1     3   2512 ft²   \n",
       "206358                   CONDOMINIUM   FREEHOLD      1     3   1238 ft²   \n",
       "218018                   CONDOMINIUM   FREEHOLD      1     4   1377 ft²   \n",
       "224717                     APARTMENT  LEASEHOLD      1     3    750 ft²   \n",
       "\n",
       "         built_up price_psf      price  \n",
       "18211   1,087 ft²       107    175,750  \n",
       "27824   1,671 ft²       262    432,000  \n",
       "70435     834 ft²        30    120,000  \n",
       "71295     869 ft²       114    200,000  \n",
       "71296     869 ft²       113    200,000  \n",
       "74962   1,323 ft²       123    220,000  \n",
       "75638   2,485 ft²       212    648,000  \n",
       "102998    708 ft²       132     93,500  \n",
       "112720    734 ft²       109     80,000  \n",
       "147816    625 ft²        56     35,000  \n",
       "147843    607 ft²        92     55,800  \n",
       "147845    610 ft²       109     66,500  \n",
       "147850    611 ft²        95     58,000  \n",
       "155027    625 ft²        48     30,000  \n",
       "165318    945 ft²       146    138,000  \n",
       "165380    878 ft²       148    130,000  \n",
       "186764   4091 ft²       660  2,700,000  \n",
       "203050   2512 ft²       430  1,080,000  \n",
       "206358   1238 ft²       564    698,000  \n",
       "218018   1377 ft²       305    420,000  \n",
       "224717    750 ft²        80     60,000  "
      ]
     },
     "execution_count": 6,
     "metadata": {},
     "output_type": "execute_result"
    }
   ],
   "source": [
    "print(f\"% missing values: {df_transactions['address'].isnull().sum() / len(df_transactions) * 100}\")\n",
    "df_transactions[df_transactions['address'].isnull()]"
   ]
  },
  {
   "cell_type": "markdown",
   "metadata": {},
   "source": [
    "We can drop the `address` column based on the following reasons:\n",
    "1. No detailed locational scope is considered in this study\n",
    "2. Only high-level geographical scope is considered"
   ]
  },
  {
   "cell_type": "code",
   "execution_count": 7,
   "metadata": {},
   "outputs": [
    {
     "data": {
      "text/plain": [
       "building_type\n",
       "CONDOMINIUM                      99778\n",
       "TERRACE HOUSE - INTERMEDIATE     47865\n",
       "APARTMENT                        45264\n",
       "FLAT                             44960\n",
       "SERVICE RESIDENCE                27787\n",
       "BUNGALOW                          7871\n",
       "SEMI-D                            5824\n",
       "TOWN HOUSE                        4983\n",
       "TERRACE HOUSE - CORNER LOT        3946\n",
       "TERRACE HOUSE - END LOT           2966\n",
       "CLUSTER HOUSE - INTERMEDIATE      2588\n",
       "CLUSTER HOUSE                      506\n",
       "CLUSTER HOUSE - CORNER LOT         128\n",
       "CLUSTER HOUSE - END LOT             99\n",
       "CONDOMINIUM - CLUB                   1\n",
       "CONDOMINIUM - RESIDENTIAL USE        1\n",
       "Name: count, dtype: int64"
      ]
     },
     "execution_count": 7,
     "metadata": {},
     "output_type": "execute_result"
    }
   ],
   "source": [
    "df_transactions['building_type'].value_counts()"
   ]
  },
  {
   "cell_type": "markdown",
   "metadata": {},
   "source": [
    "Findings:\n",
    "1. Majority of the transactions are condominium, followed by intermediate terrace house and apartment\n",
    "2. Cluster house has an unknown category which does not fall into intermediate, corner lot or end lot.\n",
    "3. Condominium has a weird category called \"residential use\", but only has one transaction"
   ]
  },
  {
   "cell_type": "code",
   "execution_count": 8,
   "metadata": {},
   "outputs": [
    {
     "name": "stdout",
     "output_type": "stream",
     "text": [
      "% Freehold: 61.22987300003055\n"
     ]
    },
    {
     "data": {
      "text/plain": [
       "tenure\n",
       "FREEHOLD     180363\n",
       "LEASEHOLD    114204\n",
       "Name: count, dtype: int64"
      ]
     },
     "execution_count": 8,
     "metadata": {},
     "output_type": "execute_result"
    }
   ],
   "source": [
    "print(f\"% Freehold: {df_transactions['tenure'].value_counts()['FREEHOLD'] / len(df_transactions) * 100}\")\n",
    "df_transactions['tenure'].value_counts()"
   ]
  },
  {
   "cell_type": "markdown",
   "metadata": {},
   "source": [
    "Findings:\n",
    "1. Majority of the transactions are freehold (61.23%)"
   ]
  },
  {
   "cell_type": "code",
   "execution_count": 9,
   "metadata": {},
   "outputs": [
    {
     "data": {
      "text/plain": [
       "floors\n",
       "1     232497\n",
       "2      44132\n",
       "3      11788\n",
       "2½      3059\n",
       "0       1175\n",
       "4        967\n",
       "3½       264\n",
       "1½       256\n",
       "6        154\n",
       "5        150\n",
       "8         41\n",
       "4½        18\n",
       "9         17\n",
       "20        15\n",
       "10        11\n",
       "7          7\n",
       "11         4\n",
       "13         2\n",
       "15         2\n",
       "99         2\n",
       "24         2\n",
       "46         1\n",
       "12         1\n",
       "35         1\n",
       "21         1\n",
       "Name: count, dtype: int64"
      ]
     },
     "execution_count": 9,
     "metadata": {},
     "output_type": "execute_result"
    }
   ],
   "source": [
    "df_transactions['floors'].value_counts()"
   ]
  },
  {
   "cell_type": "code",
   "execution_count": 10,
   "metadata": {},
   "outputs": [
    {
     "name": "stdout",
     "output_type": "stream",
     "text": [
      "0\n",
      "0\n"
     ]
    }
   ],
   "source": [
    "print(df_transactions['floors'].isnull().sum())\n",
    "print((df_transactions['floors'] == 'nan').sum())"
   ]
  },
  {
   "cell_type": "markdown",
   "metadata": {},
   "source": [
    "Findings:\n",
    "1. Half a floor are represented by 1/2 instead of .5\n",
    "2. There are weird values like:\n",
    "    - 0 floor\n",
    "    - 99 floors\n",
    "3. Majority of floors are 2 floors\n",
    "4. No missing values"
   ]
  },
  {
   "cell_type": "code",
   "execution_count": 11,
   "metadata": {},
   "outputs": [
    {
     "data": {
      "text/plain": [
       "rooms\n",
       "3       104800\n",
       "3.0      56962\n",
       "2        30944\n",
       "nan      30670\n",
       "4.0      20333\n",
       "         ...  \n",
       "31           1\n",
       "17.0         1\n",
       "24.0         1\n",
       "18.0         1\n",
       "148          1\n",
       "Name: count, Length: 70, dtype: int64"
      ]
     },
     "execution_count": 11,
     "metadata": {},
     "output_type": "execute_result"
    }
   ],
   "source": [
    "df_transactions['rooms'].value_counts()"
   ]
  },
  {
   "cell_type": "code",
   "execution_count": 12,
   "metadata": {},
   "outputs": [
    {
     "data": {
      "text/plain": [
       "10.411892710317177"
      ]
     },
     "execution_count": 12,
     "metadata": {},
     "output_type": "execute_result"
    }
   ],
   "source": [
    "(df_transactions['rooms'] == 'nan').sum() / len(df_transactions) * 100"
   ]
  },
  {
   "cell_type": "markdown",
   "metadata": {},
   "source": [
    "Findings:\n",
    "1. Weird number of rooms:\n",
    "    - 0 room\n",
    "    - 46 rooms\n",
    "2. Majority of the transactions are 3 rooms\n",
    "3. 10.45% of the transactions have NaN"
   ]
  },
  {
   "cell_type": "code",
   "execution_count": 13,
   "metadata": {},
   "outputs": [
    {
     "data": {
      "text/plain": [
       "land_area\n",
       "1,647 ft²     3652\n",
       "883 ft²       3218\n",
       "1,539 ft²     2388\n",
       "592 ft²       2146\n",
       "1,540 ft²     1882\n",
       "              ... \n",
       "10,807 ft²       1\n",
       "2,202 ft²        1\n",
       "25,306 ft²       1\n",
       "4,690 ft²        1\n",
       "5593 ft²         1\n",
       "Name: count, Length: 9147, dtype: int64"
      ]
     },
     "execution_count": 13,
     "metadata": {},
     "output_type": "execute_result"
    }
   ],
   "source": [
    "df_transactions['land_area'].value_counts()"
   ]
  },
  {
   "cell_type": "code",
   "execution_count": 14,
   "metadata": {},
   "outputs": [
    {
     "data": {
      "text/plain": [
       "0.0"
      ]
     },
     "execution_count": 14,
     "metadata": {},
     "output_type": "execute_result"
    }
   ],
   "source": [
    "df_transactions['land_area'].isnull().sum() / len(df_transactions) * 100"
   ]
  },
  {
   "cell_type": "markdown",
   "metadata": {},
   "source": [
    "Findings:\n",
    "1. There are \"ft2\" and \",\" in land_area. Need to remove.\n",
    "2. No missing values"
   ]
  },
  {
   "cell_type": "code",
   "execution_count": 15,
   "metadata": {},
   "outputs": [
    {
     "data": {
      "text/plain": [
       "built_up\n",
       "nan          5613\n",
       "861 ft²      1849\n",
       "1000 ft²     1670\n",
       "549 ft²      1452\n",
       "556 ft²      1445\n",
       "             ... \n",
       "1,031 ft²       1\n",
       "113 ft²         1\n",
       "5,414 ft²       1\n",
       "5197 ft²        1\n",
       "5593 ft²        1\n",
       "Name: count, Length: 7610, dtype: int64"
      ]
     },
     "execution_count": 15,
     "metadata": {},
     "output_type": "execute_result"
    }
   ],
   "source": [
    "df_transactions['built_up'].value_counts()"
   ]
  },
  {
   "cell_type": "code",
   "execution_count": 16,
   "metadata": {},
   "outputs": [
    {
     "data": {
      "text/plain": [
       "1.9055087637108028"
      ]
     },
     "execution_count": 16,
     "metadata": {},
     "output_type": "execute_result"
    }
   ],
   "source": [
    "(df_transactions['built_up'] == 'nan').sum() / len(df_transactions) * 100"
   ]
  },
  {
   "cell_type": "markdown",
   "metadata": {},
   "source": [
    "Findings:\n",
    "1. 1.91% of the data is missing. Need further investigation\n",
    "2. There are \"ft2\" and \",\" in the data. Need to remove them"
   ]
  },
  {
   "cell_type": "code",
   "execution_count": 17,
   "metadata": {},
   "outputs": [
    {
     "data": {
      "text/plain": [
       "price_psf\n",
       "152      1246\n",
       "155      1241\n",
       "71       1123\n",
       "139      1104\n",
       "143      1092\n",
       "         ... \n",
       "1,645       1\n",
       "1,980       1\n",
       "3,099       1\n",
       "1,578       1\n",
       "2,326       1\n",
       "Name: count, Length: 2144, dtype: int64"
      ]
     },
     "execution_count": 17,
     "metadata": {},
     "output_type": "execute_result"
    }
   ],
   "source": [
    "df_transactions['price_psf'].value_counts()"
   ]
  },
  {
   "cell_type": "code",
   "execution_count": 18,
   "metadata": {},
   "outputs": [
    {
     "data": {
      "text/plain": [
       "0.0"
      ]
     },
     "execution_count": 18,
     "metadata": {},
     "output_type": "execute_result"
    }
   ],
   "source": [
    "df_transactions['price_psf'].isna().sum() / len(df_transactions) * 100"
   ]
  },
  {
   "cell_type": "markdown",
   "metadata": {},
   "source": [
    "Findings:\n",
    "1. No missing values\n",
    "2. Have \",\" in the numbers. Need to remove them"
   ]
  },
  {
   "cell_type": "code",
   "execution_count": 19,
   "metadata": {},
   "outputs": [
    {
     "data": {
      "text/plain": [
       "price\n",
       "200,000    3603\n",
       "150,000    3587\n",
       "300,000    3511\n",
       "250,000    3382\n",
       "500,000    3181\n",
       "           ... \n",
       "101,800       1\n",
       "123,620       1\n",
       "73,360        1\n",
       "554,338       1\n",
       "518,296       1\n",
       "Name: count, Length: 18778, dtype: int64"
      ]
     },
     "execution_count": 19,
     "metadata": {},
     "output_type": "execute_result"
    }
   ],
   "source": [
    "df_transactions['price'].value_counts()"
   ]
  },
  {
   "cell_type": "code",
   "execution_count": 20,
   "metadata": {},
   "outputs": [
    {
     "data": {
      "text/plain": [
       "0.0"
      ]
     },
     "execution_count": 20,
     "metadata": {},
     "output_type": "execute_result"
    }
   ],
   "source": [
    "df_transactions['price'].isna().sum() / len(df_transactions) * 100"
   ]
  },
  {
   "cell_type": "markdown",
   "metadata": {},
   "source": [
    "Findings:\n",
    "1. No missing data.\n",
    "2. Have \",\" in the data. Need to remove."
   ]
  },
  {
   "cell_type": "markdown",
   "metadata": {},
   "source": [
    "### Concluding Remarks\n",
    "1. How does each dataset look like? Is it in row format or it has merged cells?\n",
    "    - It is in row format, with no merged cells.\n",
    "2. What is the start and end of each dataset?\n",
    "    - From 1909 to 2023\n",
    "3. Is the dataset from the area of interest, Kuala Lumpur?\n",
    "    - Yes\n",
    "4. How is the data quality?\n",
    "    - There are missing values in some columns (`built_up` and `rooms`). Need to decide to remove rows or impute.\n",
    "    - Values in some columns (`land_area` and `built_up`) has unit of measurement like \"ft2\". Need to remove.\n",
    "    - Values in `floors` column uses fraction instead of decimal. Need to change.\n",
    "    - Values in numerical columns (`land_area`, `built_up`, `price_psf` and `price`) has comma. Need to remove.\n",
    "    - Some values in some columns (`floors` and `rooms`) does not make sense. Need further investigation.\n",
    "    - Only landed properties are in the dataset. Need another round of scraping for high rise real estate."
   ]
  },
  {
   "cell_type": "code",
   "execution_count": 21,
   "metadata": {},
   "outputs": [],
   "source": [
    "df_transactions.to_parquet(RAW_DATA_DIR / 'transactions_KL_ckpt1.parquet', index=False)"
   ]
  }
 ],
 "metadata": {
  "kernelspec": {
   "display_name": "venv",
   "language": "python",
   "name": "python3"
  },
  "language_info": {
   "codemirror_mode": {
    "name": "ipython",
    "version": 3
   },
   "file_extension": ".py",
   "mimetype": "text/x-python",
   "name": "python",
   "nbconvert_exporter": "python",
   "pygments_lexer": "ipython3",
   "version": "3.11.5"
  },
  "orig_nbformat": 4
 },
 "nbformat": 4,
 "nbformat_minor": 2
}
