{
 "cells": [
  {
   "cell_type": "markdown",
   "metadata": {},
   "source": [
    "# Data Exploration and Cleaning: Transactions"
   ]
  },
  {
   "cell_type": "code",
   "execution_count": 47,
   "metadata": {},
   "outputs": [],
   "source": [
    "import numpy as np\n",
    "import pandas as pd\n",
    "from helpers import DATA_DIR, RAW_DATA_DIR\n",
    "\n",
    "import plotly.express as px"
   ]
  },
  {
   "cell_type": "markdown",
   "metadata": {},
   "source": [
    "## Exploration"
   ]
  },
  {
   "cell_type": "code",
   "execution_count": 2,
   "metadata": {},
   "outputs": [
    {
     "data": {
      "text/html": [
       "<div>\n",
       "<style scoped>\n",
       "    .dataframe tbody tr th:only-of-type {\n",
       "        vertical-align: middle;\n",
       "    }\n",
       "\n",
       "    .dataframe tbody tr th {\n",
       "        vertical-align: top;\n",
       "    }\n",
       "\n",
       "    .dataframe thead th {\n",
       "        text-align: right;\n",
       "    }\n",
       "</style>\n",
       "<table border=\"1\" class=\"dataframe\">\n",
       "  <thead>\n",
       "    <tr style=\"text-align: right;\">\n",
       "      <th></th>\n",
       "      <th>project_name</th>\n",
       "      <th>spa_date</th>\n",
       "      <th>address</th>\n",
       "      <th>building_type</th>\n",
       "      <th>tenure</th>\n",
       "      <th>floors</th>\n",
       "      <th>rooms</th>\n",
       "      <th>land_area</th>\n",
       "      <th>built_up</th>\n",
       "      <th>price_psf</th>\n",
       "      <th>price</th>\n",
       "    </tr>\n",
       "  </thead>\n",
       "  <tbody>\n",
       "    <tr>\n",
       "      <th>0</th>\n",
       "      <td>BANDAR BARU SRI PETALING</td>\n",
       "      <td>09/06/2023</td>\n",
       "      <td>✕✕✕, JALAN PIKRAMA</td>\n",
       "      <td>TERRACE HOUSE - INTERMEDIATE</td>\n",
       "      <td>LEASEHOLD</td>\n",
       "      <td>1</td>\n",
       "      <td>nan</td>\n",
       "      <td>2,196 ft²</td>\n",
       "      <td>nan</td>\n",
       "      <td>342</td>\n",
       "      <td>750,000</td>\n",
       "    </tr>\n",
       "    <tr>\n",
       "      <th>1</th>\n",
       "      <td>BANDAR BARU SRI PETALING</td>\n",
       "      <td>01/06/2023</td>\n",
       "      <td>✕✕. ✕✕, JALAN PERLAK 3</td>\n",
       "      <td>TERRACE HOUSE - INTERMEDIATE</td>\n",
       "      <td>LEASEHOLD</td>\n",
       "      <td>2</td>\n",
       "      <td>nan</td>\n",
       "      <td>753 ft²</td>\n",
       "      <td>nan</td>\n",
       "      <td>398</td>\n",
       "      <td>300,000</td>\n",
       "    </tr>\n",
       "    <tr>\n",
       "      <th>2</th>\n",
       "      <td>BANDAR BARU SRI PETALING</td>\n",
       "      <td>29/05/2023</td>\n",
       "      <td>✕✕ ✕, JALAN 12/149L</td>\n",
       "      <td>TERRACE HOUSE - INTERMEDIATE</td>\n",
       "      <td>LEASEHOLD</td>\n",
       "      <td>2½</td>\n",
       "      <td>nan</td>\n",
       "      <td>3,197 ft²</td>\n",
       "      <td>nan</td>\n",
       "      <td>188</td>\n",
       "      <td>600,000</td>\n",
       "    </tr>\n",
       "    <tr>\n",
       "      <th>3</th>\n",
       "      <td>BANDAR BARU SRI PETALING</td>\n",
       "      <td>25/05/2023</td>\n",
       "      <td>✕✕. ✕✕✕, JALAN PASAI</td>\n",
       "      <td>TERRACE HOUSE - INTERMEDIATE</td>\n",
       "      <td>LEASEHOLD</td>\n",
       "      <td>2</td>\n",
       "      <td>nan</td>\n",
       "      <td>753 ft²</td>\n",
       "      <td>nan</td>\n",
       "      <td>531</td>\n",
       "      <td>400,000</td>\n",
       "    </tr>\n",
       "    <tr>\n",
       "      <th>4</th>\n",
       "      <td>BANDAR BARU SRI PETALING</td>\n",
       "      <td>22/05/2023</td>\n",
       "      <td>✕✕, JALAN SRI PETALING 5</td>\n",
       "      <td>SEMI-D</td>\n",
       "      <td>LEASEHOLD</td>\n",
       "      <td>2½</td>\n",
       "      <td>nan</td>\n",
       "      <td>4,801 ft²</td>\n",
       "      <td>nan</td>\n",
       "      <td>250</td>\n",
       "      <td>1,200,000</td>\n",
       "    </tr>\n",
       "    <tr>\n",
       "      <th>...</th>\n",
       "      <td>...</td>\n",
       "      <td>...</td>\n",
       "      <td>...</td>\n",
       "      <td>...</td>\n",
       "      <td>...</td>\n",
       "      <td>...</td>\n",
       "      <td>...</td>\n",
       "      <td>...</td>\n",
       "      <td>...</td>\n",
       "      <td>...</td>\n",
       "      <td>...</td>\n",
       "    </tr>\n",
       "    <tr>\n",
       "      <th>294562</th>\n",
       "      <td>HERITAGE STATION HOTEL</td>\n",
       "      <td>13/11/1990</td>\n",
       "      <td>✕✕✕-✕✕✕, BB WANGSA MAJU</td>\n",
       "      <td>FLAT</td>\n",
       "      <td>LEASEHOLD</td>\n",
       "      <td>1</td>\n",
       "      <td>2</td>\n",
       "      <td>493 ft²</td>\n",
       "      <td>493 ft²</td>\n",
       "      <td>71</td>\n",
       "      <td>35,000</td>\n",
       "    </tr>\n",
       "    <tr>\n",
       "      <th>294563</th>\n",
       "      <td>IDAMAN PUTERI</td>\n",
       "      <td>10/01/2005</td>\n",
       "      <td>✕✕-✕, JALAN GOMBAK</td>\n",
       "      <td>CONDOMINIUM</td>\n",
       "      <td>FREEHOLD</td>\n",
       "      <td>1</td>\n",
       "      <td>3</td>\n",
       "      <td>1454 ft²</td>\n",
       "      <td>1454 ft²</td>\n",
       "      <td>150</td>\n",
       "      <td>218,025</td>\n",
       "    </tr>\n",
       "    <tr>\n",
       "      <th>294564</th>\n",
       "      <td>KELAB LE CHATEAU II</td>\n",
       "      <td>25/02/2008</td>\n",
       "      <td>✕-✕✕-✕, JALAN KIARA 3</td>\n",
       "      <td>CONDOMINIUM</td>\n",
       "      <td>FREEHOLD</td>\n",
       "      <td>1</td>\n",
       "      <td>3</td>\n",
       "      <td>593 ft²</td>\n",
       "      <td>593 ft²</td>\n",
       "      <td>194</td>\n",
       "      <td>115,000</td>\n",
       "    </tr>\n",
       "    <tr>\n",
       "      <th>294565</th>\n",
       "      <td>MUTIARA SENTUL CONDOMINIUM</td>\n",
       "      <td>10/08/2009</td>\n",
       "      <td>✕-✕-✕, OFF JALAN SENTUL</td>\n",
       "      <td>APARTMENT</td>\n",
       "      <td>LEASEHOLD</td>\n",
       "      <td>1</td>\n",
       "      <td>2</td>\n",
       "      <td>1193 ft²</td>\n",
       "      <td>1193 ft²</td>\n",
       "      <td>197</td>\n",
       "      <td>235,000</td>\n",
       "    </tr>\n",
       "    <tr>\n",
       "      <th>294566</th>\n",
       "      <td>TAI CHEONG MANSION</td>\n",
       "      <td>18/08/1995</td>\n",
       "      <td>✕✕-✕✕-✕✕-✕, SENTUL</td>\n",
       "      <td>FLAT</td>\n",
       "      <td>LEASEHOLD</td>\n",
       "      <td>1</td>\n",
       "      <td>3</td>\n",
       "      <td>1927 ft²</td>\n",
       "      <td>1927 ft²</td>\n",
       "      <td>269</td>\n",
       "      <td>518,296</td>\n",
       "    </tr>\n",
       "  </tbody>\n",
       "</table>\n",
       "<p>294567 rows × 11 columns</p>\n",
       "</div>"
      ],
      "text/plain": [
       "                      project_name    spa_date                   address  \\\n",
       "0         BANDAR BARU SRI PETALING  09/06/2023        ✕✕✕, JALAN PIKRAMA   \n",
       "1         BANDAR BARU SRI PETALING  01/06/2023    ✕✕. ✕✕, JALAN PERLAK 3   \n",
       "2         BANDAR BARU SRI PETALING  29/05/2023       ✕✕ ✕, JALAN 12/149L   \n",
       "3         BANDAR BARU SRI PETALING  25/05/2023      ✕✕. ✕✕✕, JALAN PASAI   \n",
       "4         BANDAR BARU SRI PETALING  22/05/2023  ✕✕, JALAN SRI PETALING 5   \n",
       "...                            ...         ...                       ...   \n",
       "294562      HERITAGE STATION HOTEL  13/11/1990   ✕✕✕-✕✕✕, BB WANGSA MAJU   \n",
       "294563               IDAMAN PUTERI  10/01/2005        ✕✕-✕, JALAN GOMBAK   \n",
       "294564         KELAB LE CHATEAU II  25/02/2008     ✕-✕✕-✕, JALAN KIARA 3   \n",
       "294565  MUTIARA SENTUL CONDOMINIUM  10/08/2009   ✕-✕-✕, OFF JALAN SENTUL   \n",
       "294566          TAI CHEONG MANSION  18/08/1995        ✕✕-✕✕-✕✕-✕, SENTUL   \n",
       "\n",
       "                       building_type     tenure floors rooms  land_area  \\\n",
       "0       TERRACE HOUSE - INTERMEDIATE  LEASEHOLD      1   nan  2,196 ft²   \n",
       "1       TERRACE HOUSE - INTERMEDIATE  LEASEHOLD      2   nan    753 ft²   \n",
       "2       TERRACE HOUSE - INTERMEDIATE  LEASEHOLD     2½   nan  3,197 ft²   \n",
       "3       TERRACE HOUSE - INTERMEDIATE  LEASEHOLD      2   nan    753 ft²   \n",
       "4                             SEMI-D  LEASEHOLD     2½   nan  4,801 ft²   \n",
       "...                              ...        ...    ...   ...        ...   \n",
       "294562                          FLAT  LEASEHOLD      1     2    493 ft²   \n",
       "294563                   CONDOMINIUM   FREEHOLD      1     3   1454 ft²   \n",
       "294564                   CONDOMINIUM   FREEHOLD      1     3    593 ft²   \n",
       "294565                     APARTMENT  LEASEHOLD      1     2   1193 ft²   \n",
       "294566                          FLAT  LEASEHOLD      1     3   1927 ft²   \n",
       "\n",
       "        built_up price_psf      price  \n",
       "0            nan       342    750,000  \n",
       "1            nan       398    300,000  \n",
       "2            nan       188    600,000  \n",
       "3            nan       531    400,000  \n",
       "4            nan       250  1,200,000  \n",
       "...          ...       ...        ...  \n",
       "294562   493 ft²        71     35,000  \n",
       "294563  1454 ft²       150    218,025  \n",
       "294564   593 ft²       194    115,000  \n",
       "294565  1193 ft²       197    235,000  \n",
       "294566  1927 ft²       269    518,296  \n",
       "\n",
       "[294567 rows x 11 columns]"
      ]
     },
     "execution_count": 2,
     "metadata": {},
     "output_type": "execute_result"
    }
   ],
   "source": [
    "df_transactions = pd.read_parquet(RAW_DATA_DIR / 'transactions_KL.parquet')\n",
    "df_transactions"
   ]
  },
  {
   "cell_type": "code",
   "execution_count": 3,
   "metadata": {},
   "outputs": [
    {
     "name": "stdout",
     "output_type": "stream",
     "text": [
      "<class 'pandas.core.frame.DataFrame'>\n",
      "RangeIndex: 294567 entries, 0 to 294566\n",
      "Data columns (total 11 columns):\n",
      " #   Column         Non-Null Count   Dtype \n",
      "---  ------         --------------   ----- \n",
      " 0   project_name   294567 non-null  object\n",
      " 1   spa_date       294567 non-null  object\n",
      " 2   address        294546 non-null  object\n",
      " 3   building_type  294567 non-null  object\n",
      " 4   tenure         294567 non-null  object\n",
      " 5   floors         294567 non-null  object\n",
      " 6   rooms          294567 non-null  object\n",
      " 7   land_area      294567 non-null  object\n",
      " 8   built_up       294567 non-null  object\n",
      " 9   price_psf      294567 non-null  object\n",
      " 10  price          294567 non-null  object\n",
      "dtypes: object(11)\n",
      "memory usage: 24.7+ MB\n"
     ]
    }
   ],
   "source": [
    "df_transactions.info()"
   ]
  },
  {
   "cell_type": "markdown",
   "metadata": {},
   "source": [
    "At a glance:\n",
    "1. `project_name` column contains strings. No missing values.\n",
    "2. `spa_date` is detected as strings instead of date, need to change to date type. No missing values. \n",
    "3. `address` column contain strings. There are missing values.\n",
    "4. `building_type` column contains strings. No missing values.\n",
    "5. `tenure` column contains strings. No missing values.\n",
    "6. `floors` is detected as strings instead of float, need to change to float type. No missing values.\n",
    "7. `rooms` is automatically detected as float. There are 'nan' but not detected as missing values.\n",
    "8. `land_area` is detected as strings instead of float, need to change to float type. No missing values.\n",
    "9. `built_up` is detected as strings instead of float, need to change to float type. There are missing values.\n",
    "10. `price` is detected as strings instead of float, need to change to float type. No missing values."
   ]
  },
  {
   "cell_type": "code",
   "execution_count": 4,
   "metadata": {},
   "outputs": [
    {
     "data": {
      "text/plain": [
       "0        2023-06-09\n",
       "1        2023-06-01\n",
       "2        2023-05-29\n",
       "3        2023-05-25\n",
       "4        2023-05-22\n",
       "            ...    \n",
       "294562   1990-11-13\n",
       "294563   2005-01-10\n",
       "294564   2008-02-25\n",
       "294565   2009-08-10\n",
       "294566   1995-08-18\n",
       "Name: spa_date, Length: 294567, dtype: datetime64[ns]"
      ]
     },
     "execution_count": 4,
     "metadata": {},
     "output_type": "execute_result"
    }
   ],
   "source": [
    "df_transactions['spa_date'] = pd.to_datetime(df_transactions['spa_date'], format='%d/%m/%Y')\n",
    "df_transactions['spa_date']"
   ]
  },
  {
   "cell_type": "code",
   "execution_count": 5,
   "metadata": {},
   "outputs": [
    {
     "data": {
      "text/plain": [
       "56134    1909-05-11\n",
       "128655   1933-10-25\n",
       "262130   1955-07-25\n",
       "64404    1959-07-27\n",
       "266269   1960-11-14\n",
       "            ...    \n",
       "224137   2023-06-09\n",
       "266662   2023-06-13\n",
       "87238    2023-06-13\n",
       "214691   2023-06-14\n",
       "125442   2023-06-19\n",
       "Name: spa_date, Length: 294567, dtype: datetime64[ns]"
      ]
     },
     "execution_count": 5,
     "metadata": {},
     "output_type": "execute_result"
    }
   ],
   "source": [
    "df_transactions['spa_date'].sort_values()"
   ]
  },
  {
   "cell_type": "markdown",
   "metadata": {},
   "source": [
    "The data type of the `spa_date` column has been changed to datetime type."
   ]
  },
  {
   "cell_type": "code",
   "execution_count": 6,
   "metadata": {},
   "outputs": [
    {
     "name": "stdout",
     "output_type": "stream",
     "text": [
      "% missing values: 0.0071291081485706145\n"
     ]
    },
    {
     "data": {
      "text/html": [
       "<div>\n",
       "<style scoped>\n",
       "    .dataframe tbody tr th:only-of-type {\n",
       "        vertical-align: middle;\n",
       "    }\n",
       "\n",
       "    .dataframe tbody tr th {\n",
       "        vertical-align: top;\n",
       "    }\n",
       "\n",
       "    .dataframe thead th {\n",
       "        text-align: right;\n",
       "    }\n",
       "</style>\n",
       "<table border=\"1\" class=\"dataframe\">\n",
       "  <thead>\n",
       "    <tr style=\"text-align: right;\">\n",
       "      <th></th>\n",
       "      <th>project_name</th>\n",
       "      <th>spa_date</th>\n",
       "      <th>address</th>\n",
       "      <th>building_type</th>\n",
       "      <th>tenure</th>\n",
       "      <th>floors</th>\n",
       "      <th>rooms</th>\n",
       "      <th>land_area</th>\n",
       "      <th>built_up</th>\n",
       "      <th>price_psf</th>\n",
       "      <th>price</th>\n",
       "    </tr>\n",
       "  </thead>\n",
       "  <tbody>\n",
       "    <tr>\n",
       "      <th>18211</th>\n",
       "      <td>ALAM DAMAI</td>\n",
       "      <td>1999-02-15</td>\n",
       "      <td>None</td>\n",
       "      <td>TERRACE HOUSE - INTERMEDIATE</td>\n",
       "      <td>LEASEHOLD</td>\n",
       "      <td>2</td>\n",
       "      <td>3.0</td>\n",
       "      <td>1,647 ft²</td>\n",
       "      <td>1,087 ft²</td>\n",
       "      <td>107</td>\n",
       "      <td>175,750</td>\n",
       "    </tr>\n",
       "    <tr>\n",
       "      <th>27824</th>\n",
       "      <td>TAMAN SRI HARTAMAS</td>\n",
       "      <td>1996-01-10</td>\n",
       "      <td>None</td>\n",
       "      <td>TERRACE HOUSE - INTERMEDIATE</td>\n",
       "      <td>FREEHOLD</td>\n",
       "      <td>2</td>\n",
       "      <td>3.0</td>\n",
       "      <td>1,650 ft²</td>\n",
       "      <td>1,671 ft²</td>\n",
       "      <td>262</td>\n",
       "      <td>432,000</td>\n",
       "    </tr>\n",
       "    <tr>\n",
       "      <th>70435</th>\n",
       "      <td>KAMPUNG BATU MUDA</td>\n",
       "      <td>2000-06-06</td>\n",
       "      <td>None</td>\n",
       "      <td>BUNGALOW</td>\n",
       "      <td>LEASEHOLD</td>\n",
       "      <td>1</td>\n",
       "      <td>3.0</td>\n",
       "      <td>4,004 ft²</td>\n",
       "      <td>834 ft²</td>\n",
       "      <td>30</td>\n",
       "      <td>120,000</td>\n",
       "    </tr>\n",
       "    <tr>\n",
       "      <th>71295</th>\n",
       "      <td>LUCKY GARDEN (JALAN PUCHONG)</td>\n",
       "      <td>1997-04-21</td>\n",
       "      <td>None</td>\n",
       "      <td>TERRACE HOUSE - INTERMEDIATE</td>\n",
       "      <td>FREEHOLD</td>\n",
       "      <td>1</td>\n",
       "      <td>3.0</td>\n",
       "      <td>1,754 ft²</td>\n",
       "      <td>869 ft²</td>\n",
       "      <td>114</td>\n",
       "      <td>200,000</td>\n",
       "    </tr>\n",
       "    <tr>\n",
       "      <th>71296</th>\n",
       "      <td>LUCKY GARDEN (JALAN PUCHONG)</td>\n",
       "      <td>1997-04-21</td>\n",
       "      <td>None</td>\n",
       "      <td>TERRACE HOUSE - INTERMEDIATE</td>\n",
       "      <td>FREEHOLD</td>\n",
       "      <td>1</td>\n",
       "      <td>3.0</td>\n",
       "      <td>1,775 ft²</td>\n",
       "      <td>869 ft²</td>\n",
       "      <td>113</td>\n",
       "      <td>200,000</td>\n",
       "    </tr>\n",
       "    <tr>\n",
       "      <th>74962</th>\n",
       "      <td>SRI BINTANG HEIGHTS</td>\n",
       "      <td>1998-04-29</td>\n",
       "      <td>None</td>\n",
       "      <td>TERRACE HOUSE - INTERMEDIATE</td>\n",
       "      <td>FREEHOLD</td>\n",
       "      <td>2</td>\n",
       "      <td>3.0</td>\n",
       "      <td>1,787 ft²</td>\n",
       "      <td>1,323 ft²</td>\n",
       "      <td>123</td>\n",
       "      <td>220,000</td>\n",
       "    </tr>\n",
       "    <tr>\n",
       "      <th>75638</th>\n",
       "      <td>LAMAN RESIDENCE</td>\n",
       "      <td>2008-09-15</td>\n",
       "      <td>None</td>\n",
       "      <td>SEMI-D</td>\n",
       "      <td>LEASEHOLD</td>\n",
       "      <td>2</td>\n",
       "      <td>4.0</td>\n",
       "      <td>3,057 ft²</td>\n",
       "      <td>2,485 ft²</td>\n",
       "      <td>212</td>\n",
       "      <td>648,000</td>\n",
       "    </tr>\n",
       "    <tr>\n",
       "      <th>102998</th>\n",
       "      <td>HAPPY GARDEN FLAT</td>\n",
       "      <td>1999-09-07</td>\n",
       "      <td>None</td>\n",
       "      <td>FLAT</td>\n",
       "      <td>FREEHOLD</td>\n",
       "      <td>1</td>\n",
       "      <td>3.0</td>\n",
       "      <td>708 ft²</td>\n",
       "      <td>708 ft²</td>\n",
       "      <td>132</td>\n",
       "      <td>93,500</td>\n",
       "    </tr>\n",
       "    <tr>\n",
       "      <th>112720</th>\n",
       "      <td>TAMAN BUKIT CHERAS</td>\n",
       "      <td>1998-03-20</td>\n",
       "      <td>None</td>\n",
       "      <td>FLAT</td>\n",
       "      <td>FREEHOLD</td>\n",
       "      <td>1</td>\n",
       "      <td>nan</td>\n",
       "      <td>734 ft²</td>\n",
       "      <td>734 ft²</td>\n",
       "      <td>109</td>\n",
       "      <td>80,000</td>\n",
       "    </tr>\n",
       "    <tr>\n",
       "      <th>147816</th>\n",
       "      <td>SALAK SOUTH GARDEN</td>\n",
       "      <td>2002-10-29</td>\n",
       "      <td>None</td>\n",
       "      <td>FLAT</td>\n",
       "      <td>FREEHOLD</td>\n",
       "      <td>1</td>\n",
       "      <td>2</td>\n",
       "      <td>625 ft²</td>\n",
       "      <td>625 ft²</td>\n",
       "      <td>56</td>\n",
       "      <td>35,000</td>\n",
       "    </tr>\n",
       "    <tr>\n",
       "      <th>147843</th>\n",
       "      <td>SALAK SOUTH GARDEN</td>\n",
       "      <td>1999-10-13</td>\n",
       "      <td>None</td>\n",
       "      <td>FLAT</td>\n",
       "      <td>FREEHOLD</td>\n",
       "      <td>1</td>\n",
       "      <td>2</td>\n",
       "      <td>607 ft²</td>\n",
       "      <td>607 ft²</td>\n",
       "      <td>92</td>\n",
       "      <td>55,800</td>\n",
       "    </tr>\n",
       "    <tr>\n",
       "      <th>147845</th>\n",
       "      <td>SALAK SOUTH GARDEN</td>\n",
       "      <td>1999-09-13</td>\n",
       "      <td>None</td>\n",
       "      <td>FLAT</td>\n",
       "      <td>FREEHOLD</td>\n",
       "      <td>1</td>\n",
       "      <td>2</td>\n",
       "      <td>610 ft²</td>\n",
       "      <td>610 ft²</td>\n",
       "      <td>109</td>\n",
       "      <td>66,500</td>\n",
       "    </tr>\n",
       "    <tr>\n",
       "      <th>147850</th>\n",
       "      <td>SALAK SOUTH GARDEN</td>\n",
       "      <td>1999-07-19</td>\n",
       "      <td>None</td>\n",
       "      <td>FLAT</td>\n",
       "      <td>FREEHOLD</td>\n",
       "      <td>1</td>\n",
       "      <td>2</td>\n",
       "      <td>611 ft²</td>\n",
       "      <td>611 ft²</td>\n",
       "      <td>95</td>\n",
       "      <td>58,000</td>\n",
       "    </tr>\n",
       "    <tr>\n",
       "      <th>155027</th>\n",
       "      <td>TAMAN DESA CHERAS</td>\n",
       "      <td>1994-06-07</td>\n",
       "      <td>None</td>\n",
       "      <td>FLAT</td>\n",
       "      <td>FREEHOLD</td>\n",
       "      <td>1</td>\n",
       "      <td>2</td>\n",
       "      <td>625 ft²</td>\n",
       "      <td>625 ft²</td>\n",
       "      <td>48</td>\n",
       "      <td>30,000</td>\n",
       "    </tr>\n",
       "    <tr>\n",
       "      <th>165318</th>\n",
       "      <td>BAIDURI BLOCK G</td>\n",
       "      <td>2001-01-08</td>\n",
       "      <td>None</td>\n",
       "      <td>APARTMENT</td>\n",
       "      <td>LEASEHOLD</td>\n",
       "      <td>1</td>\n",
       "      <td>3</td>\n",
       "      <td>945 ft²</td>\n",
       "      <td>945 ft²</td>\n",
       "      <td>146</td>\n",
       "      <td>138,000</td>\n",
       "    </tr>\n",
       "    <tr>\n",
       "      <th>165380</th>\n",
       "      <td>BAIDURI BLOCK G</td>\n",
       "      <td>1997-09-16</td>\n",
       "      <td>None</td>\n",
       "      <td>APARTMENT</td>\n",
       "      <td>LEASEHOLD</td>\n",
       "      <td>1</td>\n",
       "      <td>3</td>\n",
       "      <td>878 ft²</td>\n",
       "      <td>878 ft²</td>\n",
       "      <td>148</td>\n",
       "      <td>130,000</td>\n",
       "    </tr>\n",
       "    <tr>\n",
       "      <th>186764</th>\n",
       "      <td>10 MONT KIARA @ MK10</td>\n",
       "      <td>2010-05-26</td>\n",
       "      <td>None</td>\n",
       "      <td>CONDOMINIUM</td>\n",
       "      <td>FREEHOLD</td>\n",
       "      <td>1</td>\n",
       "      <td>5</td>\n",
       "      <td>4091 ft²</td>\n",
       "      <td>4091 ft²</td>\n",
       "      <td>660</td>\n",
       "      <td>2,700,000</td>\n",
       "    </tr>\n",
       "    <tr>\n",
       "      <th>203050</th>\n",
       "      <td>MONT KIARA MERIDIN</td>\n",
       "      <td>2010-07-28</td>\n",
       "      <td>None</td>\n",
       "      <td>CONDOMINIUM</td>\n",
       "      <td>FREEHOLD</td>\n",
       "      <td>1</td>\n",
       "      <td>3</td>\n",
       "      <td>2512 ft²</td>\n",
       "      <td>2512 ft²</td>\n",
       "      <td>430</td>\n",
       "      <td>1,080,000</td>\n",
       "    </tr>\n",
       "    <tr>\n",
       "      <th>206358</th>\n",
       "      <td>KIARA 1888</td>\n",
       "      <td>2010-05-13</td>\n",
       "      <td>None</td>\n",
       "      <td>CONDOMINIUM</td>\n",
       "      <td>FREEHOLD</td>\n",
       "      <td>1</td>\n",
       "      <td>3</td>\n",
       "      <td>1238 ft²</td>\n",
       "      <td>1238 ft²</td>\n",
       "      <td>564</td>\n",
       "      <td>698,000</td>\n",
       "    </tr>\n",
       "    <tr>\n",
       "      <th>218018</th>\n",
       "      <td>SUTRAMAS</td>\n",
       "      <td>2010-03-31</td>\n",
       "      <td>None</td>\n",
       "      <td>CONDOMINIUM</td>\n",
       "      <td>FREEHOLD</td>\n",
       "      <td>1</td>\n",
       "      <td>4</td>\n",
       "      <td>1377 ft²</td>\n",
       "      <td>1377 ft²</td>\n",
       "      <td>305</td>\n",
       "      <td>420,000</td>\n",
       "    </tr>\n",
       "    <tr>\n",
       "      <th>224717</th>\n",
       "      <td>BAYVIEW COURT</td>\n",
       "      <td>1998-05-26</td>\n",
       "      <td>None</td>\n",
       "      <td>APARTMENT</td>\n",
       "      <td>LEASEHOLD</td>\n",
       "      <td>1</td>\n",
       "      <td>3</td>\n",
       "      <td>750 ft²</td>\n",
       "      <td>750 ft²</td>\n",
       "      <td>80</td>\n",
       "      <td>60,000</td>\n",
       "    </tr>\n",
       "  </tbody>\n",
       "</table>\n",
       "</div>"
      ],
      "text/plain": [
       "                        project_name   spa_date address  \\\n",
       "18211                     ALAM DAMAI 1999-02-15    None   \n",
       "27824             TAMAN SRI HARTAMAS 1996-01-10    None   \n",
       "70435              KAMPUNG BATU MUDA 2000-06-06    None   \n",
       "71295   LUCKY GARDEN (JALAN PUCHONG) 1997-04-21    None   \n",
       "71296   LUCKY GARDEN (JALAN PUCHONG) 1997-04-21    None   \n",
       "74962            SRI BINTANG HEIGHTS 1998-04-29    None   \n",
       "75638                LAMAN RESIDENCE 2008-09-15    None   \n",
       "102998             HAPPY GARDEN FLAT 1999-09-07    None   \n",
       "112720            TAMAN BUKIT CHERAS 1998-03-20    None   \n",
       "147816            SALAK SOUTH GARDEN 2002-10-29    None   \n",
       "147843            SALAK SOUTH GARDEN 1999-10-13    None   \n",
       "147845            SALAK SOUTH GARDEN 1999-09-13    None   \n",
       "147850            SALAK SOUTH GARDEN 1999-07-19    None   \n",
       "155027             TAMAN DESA CHERAS 1994-06-07    None   \n",
       "165318               BAIDURI BLOCK G 2001-01-08    None   \n",
       "165380               BAIDURI BLOCK G 1997-09-16    None   \n",
       "186764          10 MONT KIARA @ MK10 2010-05-26    None   \n",
       "203050            MONT KIARA MERIDIN 2010-07-28    None   \n",
       "206358                    KIARA 1888 2010-05-13    None   \n",
       "218018                      SUTRAMAS 2010-03-31    None   \n",
       "224717                 BAYVIEW COURT 1998-05-26    None   \n",
       "\n",
       "                       building_type     tenure floors rooms  land_area  \\\n",
       "18211   TERRACE HOUSE - INTERMEDIATE  LEASEHOLD      2   3.0  1,647 ft²   \n",
       "27824   TERRACE HOUSE - INTERMEDIATE   FREEHOLD      2   3.0  1,650 ft²   \n",
       "70435                       BUNGALOW  LEASEHOLD      1   3.0  4,004 ft²   \n",
       "71295   TERRACE HOUSE - INTERMEDIATE   FREEHOLD      1   3.0  1,754 ft²   \n",
       "71296   TERRACE HOUSE - INTERMEDIATE   FREEHOLD      1   3.0  1,775 ft²   \n",
       "74962   TERRACE HOUSE - INTERMEDIATE   FREEHOLD      2   3.0  1,787 ft²   \n",
       "75638                         SEMI-D  LEASEHOLD      2   4.0  3,057 ft²   \n",
       "102998                          FLAT   FREEHOLD      1   3.0    708 ft²   \n",
       "112720                          FLAT   FREEHOLD      1   nan    734 ft²   \n",
       "147816                          FLAT   FREEHOLD      1     2    625 ft²   \n",
       "147843                          FLAT   FREEHOLD      1     2    607 ft²   \n",
       "147845                          FLAT   FREEHOLD      1     2    610 ft²   \n",
       "147850                          FLAT   FREEHOLD      1     2    611 ft²   \n",
       "155027                          FLAT   FREEHOLD      1     2    625 ft²   \n",
       "165318                     APARTMENT  LEASEHOLD      1     3    945 ft²   \n",
       "165380                     APARTMENT  LEASEHOLD      1     3    878 ft²   \n",
       "186764                   CONDOMINIUM   FREEHOLD      1     5   4091 ft²   \n",
       "203050                   CONDOMINIUM   FREEHOLD      1     3   2512 ft²   \n",
       "206358                   CONDOMINIUM   FREEHOLD      1     3   1238 ft²   \n",
       "218018                   CONDOMINIUM   FREEHOLD      1     4   1377 ft²   \n",
       "224717                     APARTMENT  LEASEHOLD      1     3    750 ft²   \n",
       "\n",
       "         built_up price_psf      price  \n",
       "18211   1,087 ft²       107    175,750  \n",
       "27824   1,671 ft²       262    432,000  \n",
       "70435     834 ft²        30    120,000  \n",
       "71295     869 ft²       114    200,000  \n",
       "71296     869 ft²       113    200,000  \n",
       "74962   1,323 ft²       123    220,000  \n",
       "75638   2,485 ft²       212    648,000  \n",
       "102998    708 ft²       132     93,500  \n",
       "112720    734 ft²       109     80,000  \n",
       "147816    625 ft²        56     35,000  \n",
       "147843    607 ft²        92     55,800  \n",
       "147845    610 ft²       109     66,500  \n",
       "147850    611 ft²        95     58,000  \n",
       "155027    625 ft²        48     30,000  \n",
       "165318    945 ft²       146    138,000  \n",
       "165380    878 ft²       148    130,000  \n",
       "186764   4091 ft²       660  2,700,000  \n",
       "203050   2512 ft²       430  1,080,000  \n",
       "206358   1238 ft²       564    698,000  \n",
       "218018   1377 ft²       305    420,000  \n",
       "224717    750 ft²        80     60,000  "
      ]
     },
     "execution_count": 6,
     "metadata": {},
     "output_type": "execute_result"
    }
   ],
   "source": [
    "print(f\"% missing values: {df_transactions['address'].isnull().sum() / len(df_transactions) * 100}\")\n",
    "df_transactions[df_transactions['address'].isnull()]"
   ]
  },
  {
   "cell_type": "markdown",
   "metadata": {},
   "source": [
    "We can drop the `address` column based on the following reasons:\n",
    "1. No detailed locational scope is considered in this study\n",
    "2. Only high-level geographical scope is considered"
   ]
  },
  {
   "cell_type": "code",
   "execution_count": 7,
   "metadata": {},
   "outputs": [
    {
     "data": {
      "text/plain": [
       "building_type\n",
       "CONDOMINIUM                      99778\n",
       "TERRACE HOUSE - INTERMEDIATE     47865\n",
       "APARTMENT                        45264\n",
       "FLAT                             44960\n",
       "SERVICE RESIDENCE                27787\n",
       "BUNGALOW                          7871\n",
       "SEMI-D                            5824\n",
       "TOWN HOUSE                        4983\n",
       "TERRACE HOUSE - CORNER LOT        3946\n",
       "TERRACE HOUSE - END LOT           2966\n",
       "CLUSTER HOUSE - INTERMEDIATE      2588\n",
       "CLUSTER HOUSE                      506\n",
       "CLUSTER HOUSE - CORNER LOT         128\n",
       "CLUSTER HOUSE - END LOT             99\n",
       "CONDOMINIUM - CLUB                   1\n",
       "CONDOMINIUM - RESIDENTIAL USE        1\n",
       "Name: count, dtype: int64"
      ]
     },
     "execution_count": 7,
     "metadata": {},
     "output_type": "execute_result"
    }
   ],
   "source": [
    "df_transactions['building_type'].value_counts()"
   ]
  },
  {
   "cell_type": "markdown",
   "metadata": {},
   "source": [
    "Findings:\n",
    "1. Majority of the transactions are condominium, followed by intermediate terrace house and apartment\n",
    "2. Cluster house has an unknown category which does not fall into intermediate, corner lot or end lot.\n",
    "3. Condominium has a weird category called \"residential use\", but only has one transaction"
   ]
  },
  {
   "cell_type": "code",
   "execution_count": 8,
   "metadata": {},
   "outputs": [
    {
     "name": "stdout",
     "output_type": "stream",
     "text": [
      "% Freehold: 61.22987300003055\n"
     ]
    },
    {
     "data": {
      "text/plain": [
       "tenure\n",
       "FREEHOLD     180363\n",
       "LEASEHOLD    114204\n",
       "Name: count, dtype: int64"
      ]
     },
     "execution_count": 8,
     "metadata": {},
     "output_type": "execute_result"
    }
   ],
   "source": [
    "print(f\"% Freehold: {df_transactions['tenure'].value_counts()['FREEHOLD'] / len(df_transactions) * 100}\")\n",
    "df_transactions['tenure'].value_counts()"
   ]
  },
  {
   "cell_type": "markdown",
   "metadata": {},
   "source": [
    "Findings:\n",
    "1. Majority of the transactions are freehold (61.23%)"
   ]
  },
  {
   "cell_type": "code",
   "execution_count": 9,
   "metadata": {},
   "outputs": [
    {
     "data": {
      "text/plain": [
       "floors\n",
       "1     232497\n",
       "2      44132\n",
       "3      11788\n",
       "2½      3059\n",
       "0       1175\n",
       "4        967\n",
       "3½       264\n",
       "1½       256\n",
       "6        154\n",
       "5        150\n",
       "8         41\n",
       "4½        18\n",
       "9         17\n",
       "20        15\n",
       "10        11\n",
       "7          7\n",
       "11         4\n",
       "13         2\n",
       "15         2\n",
       "99         2\n",
       "24         2\n",
       "46         1\n",
       "12         1\n",
       "35         1\n",
       "21         1\n",
       "Name: count, dtype: int64"
      ]
     },
     "execution_count": 9,
     "metadata": {},
     "output_type": "execute_result"
    }
   ],
   "source": [
    "df_transactions['floors'].value_counts()"
   ]
  },
  {
   "cell_type": "code",
   "execution_count": 13,
   "metadata": {},
   "outputs": [
    {
     "name": "stdout",
     "output_type": "stream",
     "text": [
      "0\n",
      "0\n"
     ]
    }
   ],
   "source": [
    "print(df_transactions['floors'].isnull().sum())\n",
    "print((df_transactions['floors'] == 'nan').sum())"
   ]
  },
  {
   "cell_type": "markdown",
   "metadata": {},
   "source": [
    "Findings:\n",
    "1. Half a floor are represented by 1/2 instead of .5\n",
    "2. There are weird values like:\n",
    "    - 0 floor\n",
    "    - 99 floors\n",
    "3. Majority of floors are 2 floors\n",
    "4. No missing values"
   ]
  },
  {
   "cell_type": "code",
   "execution_count": 14,
   "metadata": {},
   "outputs": [
    {
     "data": {
      "text/plain": [
       "rooms\n",
       "3       104800\n",
       "3.0      56962\n",
       "2        30944\n",
       "nan      30670\n",
       "4.0      20333\n",
       "         ...  \n",
       "31           1\n",
       "17.0         1\n",
       "24.0         1\n",
       "18.0         1\n",
       "148          1\n",
       "Name: count, Length: 70, dtype: int64"
      ]
     },
     "execution_count": 14,
     "metadata": {},
     "output_type": "execute_result"
    }
   ],
   "source": [
    "df_transactions['rooms'].value_counts()"
   ]
  },
  {
   "cell_type": "code",
   "execution_count": 15,
   "metadata": {},
   "outputs": [
    {
     "data": {
      "text/plain": [
       "10.411892710317177"
      ]
     },
     "execution_count": 15,
     "metadata": {},
     "output_type": "execute_result"
    }
   ],
   "source": [
    "(df_transactions['rooms'] == 'nan').sum() / len(df_transactions) * 100"
   ]
  },
  {
   "cell_type": "markdown",
   "metadata": {},
   "source": [
    "Findings:\n",
    "1. Weird number of rooms:\n",
    "    - 0 room\n",
    "    - 46 rooms\n",
    "2. Majority of the transactions are 3 rooms\n",
    "3. 10.45% of the transactions have NaN"
   ]
  },
  {
   "cell_type": "code",
   "execution_count": 16,
   "metadata": {},
   "outputs": [
    {
     "data": {
      "text/plain": [
       "land_area\n",
       "1,647 ft²     3652\n",
       "883 ft²       3218\n",
       "1,539 ft²     2388\n",
       "592 ft²       2146\n",
       "1,540 ft²     1882\n",
       "              ... \n",
       "10,807 ft²       1\n",
       "2,202 ft²        1\n",
       "25,306 ft²       1\n",
       "4,690 ft²        1\n",
       "5593 ft²         1\n",
       "Name: count, Length: 9147, dtype: int64"
      ]
     },
     "execution_count": 16,
     "metadata": {},
     "output_type": "execute_result"
    }
   ],
   "source": [
    "df_transactions['land_area'].value_counts()"
   ]
  },
  {
   "cell_type": "code",
   "execution_count": 17,
   "metadata": {},
   "outputs": [
    {
     "data": {
      "text/plain": [
       "0.0"
      ]
     },
     "execution_count": 17,
     "metadata": {},
     "output_type": "execute_result"
    }
   ],
   "source": [
    "df_transactions['land_area'].isnull().sum() / len(df_transactions) * 100"
   ]
  },
  {
   "cell_type": "markdown",
   "metadata": {},
   "source": [
    "Findings:\n",
    "1. There are \"ft2\" and \",\" in land_area. Need to remove.\n",
    "2. No missing values"
   ]
  },
  {
   "cell_type": "code",
   "execution_count": 19,
   "metadata": {},
   "outputs": [
    {
     "data": {
      "text/plain": [
       "built_up\n",
       "nan          5613\n",
       "861 ft²      1849\n",
       "1000 ft²     1670\n",
       "549 ft²      1452\n",
       "556 ft²      1445\n",
       "             ... \n",
       "1,031 ft²       1\n",
       "113 ft²         1\n",
       "5,414 ft²       1\n",
       "5197 ft²        1\n",
       "5593 ft²        1\n",
       "Name: count, Length: 7610, dtype: int64"
      ]
     },
     "execution_count": 19,
     "metadata": {},
     "output_type": "execute_result"
    }
   ],
   "source": [
    "df_transactions['built_up'].value_counts()"
   ]
  },
  {
   "cell_type": "code",
   "execution_count": 20,
   "metadata": {},
   "outputs": [
    {
     "data": {
      "text/plain": [
       "1.9055087637108028"
      ]
     },
     "execution_count": 20,
     "metadata": {},
     "output_type": "execute_result"
    }
   ],
   "source": [
    "(df_transactions['built_up'] == 'nan').sum() / len(df_transactions) * 100"
   ]
  },
  {
   "cell_type": "markdown",
   "metadata": {},
   "source": [
    "Findings:\n",
    "1. 1.91% of the data is missing. Need further investigation\n",
    "2. There are \"ft2\" and \",\" in the data. Need to remove them"
   ]
  },
  {
   "cell_type": "code",
   "execution_count": 21,
   "metadata": {},
   "outputs": [
    {
     "data": {
      "text/plain": [
       "price_psf\n",
       "152      1246\n",
       "155      1241\n",
       "71       1123\n",
       "139      1104\n",
       "143      1092\n",
       "         ... \n",
       "1,645       1\n",
       "1,980       1\n",
       "3,099       1\n",
       "1,578       1\n",
       "2,326       1\n",
       "Name: count, Length: 2144, dtype: int64"
      ]
     },
     "execution_count": 21,
     "metadata": {},
     "output_type": "execute_result"
    }
   ],
   "source": [
    "df_transactions['price_psf'].value_counts()"
   ]
  },
  {
   "cell_type": "code",
   "execution_count": 22,
   "metadata": {},
   "outputs": [
    {
     "data": {
      "text/plain": [
       "0.0"
      ]
     },
     "execution_count": 22,
     "metadata": {},
     "output_type": "execute_result"
    }
   ],
   "source": [
    "df_transactions['price_psf'].isna().sum() / len(df_transactions) * 100"
   ]
  },
  {
   "cell_type": "markdown",
   "metadata": {},
   "source": [
    "Findings:\n",
    "1. No missing values\n",
    "2. Have \",\" in the numbers. Need to remove them"
   ]
  },
  {
   "cell_type": "code",
   "execution_count": 23,
   "metadata": {},
   "outputs": [
    {
     "data": {
      "text/plain": [
       "price\n",
       "200,000    3603\n",
       "150,000    3587\n",
       "300,000    3511\n",
       "250,000    3382\n",
       "500,000    3181\n",
       "           ... \n",
       "101,800       1\n",
       "123,620       1\n",
       "73,360        1\n",
       "554,338       1\n",
       "518,296       1\n",
       "Name: count, Length: 18778, dtype: int64"
      ]
     },
     "execution_count": 23,
     "metadata": {},
     "output_type": "execute_result"
    }
   ],
   "source": [
    "df_transactions['price'].value_counts()"
   ]
  },
  {
   "cell_type": "code",
   "execution_count": 24,
   "metadata": {},
   "outputs": [
    {
     "data": {
      "text/plain": [
       "0.0"
      ]
     },
     "execution_count": 24,
     "metadata": {},
     "output_type": "execute_result"
    }
   ],
   "source": [
    "df_transactions['price'].isna().sum() / len(df_transactions) * 100"
   ]
  },
  {
   "cell_type": "markdown",
   "metadata": {},
   "source": [
    "Findings:\n",
    "1. No missing data.\n",
    "2. Have \",\" in the data. Need to remove."
   ]
  },
  {
   "cell_type": "markdown",
   "metadata": {},
   "source": [
    "### Concluding Remarks\n",
    "1. How does each dataset look like? Is it in row format or it has merged cells?\n",
    "    - It is in row format, with no merged cells.\n",
    "2. What is the start and end of each dataset?\n",
    "    - From 1909 to 2023\n",
    "3. Is the dataset from the area of interest, Kuala Lumpur?\n",
    "    - Yes\n",
    "4. How is the data quality?\n",
    "    - There are missing values in some columns (`built_up` and `rooms`). Need to decide to remove rows or impute.\n",
    "    - Values in some columns (`land_area` and `built_up`) has unit of measurement like \"ft2\". Need to remove.\n",
    "    - Values in `floors` column uses fraction instead of decimal. Need to change.\n",
    "    - Values in numerical columns (`land_area`, `built_up`, `price_psf` and `price`) has comma. Need to remove.\n",
    "    - Some values in some columns (`floors` and `rooms`) does not make sense. Need further investigation.\n",
    "    - Only landed properties are in the dataset. Need another round of scraping for high rise real estate."
   ]
  },
  {
   "cell_type": "markdown",
   "metadata": {},
   "source": [
    "## Preparation\n",
    "\n",
    "Selection:\n",
    "1. Drop `address` column\n",
    "\n",
    "Cleaning:\n",
    "1. Change fraction in `floors` column, i.e. 1/2 to .5\n",
    "2. Remove comma in `price_psf`\n",
    "3. Remove comma in `price`\n",
    "4. Remove comma and ft2 in `land_area` and `built_up`\n",
    "5. Investigate missing values in `built_up` and remove/impute\n",
    "6. For `rooms` column:\n",
    "    - Investigate missing values in `rooms` and remove/impute\n",
    "    - Investigate weird `rooms` values (0 and 46) and remove/impute\n",
    "7. Investigate weird `floors` values (0 and 99) and remove/impute"
   ]
  },
  {
   "cell_type": "markdown",
   "metadata": {},
   "source": [
    "### Remove address column"
   ]
  },
  {
   "cell_type": "code",
   "execution_count": 25,
   "metadata": {},
   "outputs": [
    {
     "data": {
      "text/html": [
       "<div>\n",
       "<style scoped>\n",
       "    .dataframe tbody tr th:only-of-type {\n",
       "        vertical-align: middle;\n",
       "    }\n",
       "\n",
       "    .dataframe tbody tr th {\n",
       "        vertical-align: top;\n",
       "    }\n",
       "\n",
       "    .dataframe thead th {\n",
       "        text-align: right;\n",
       "    }\n",
       "</style>\n",
       "<table border=\"1\" class=\"dataframe\">\n",
       "  <thead>\n",
       "    <tr style=\"text-align: right;\">\n",
       "      <th></th>\n",
       "      <th>project_name</th>\n",
       "      <th>spa_date</th>\n",
       "      <th>building_type</th>\n",
       "      <th>tenure</th>\n",
       "      <th>floors</th>\n",
       "      <th>rooms</th>\n",
       "      <th>land_area</th>\n",
       "      <th>built_up</th>\n",
       "      <th>price_psf</th>\n",
       "      <th>price</th>\n",
       "    </tr>\n",
       "  </thead>\n",
       "  <tbody>\n",
       "    <tr>\n",
       "      <th>0</th>\n",
       "      <td>BANDAR BARU SRI PETALING</td>\n",
       "      <td>2023-06-09</td>\n",
       "      <td>TERRACE HOUSE - INTERMEDIATE</td>\n",
       "      <td>LEASEHOLD</td>\n",
       "      <td>1</td>\n",
       "      <td>nan</td>\n",
       "      <td>2,196 ft²</td>\n",
       "      <td>nan</td>\n",
       "      <td>342</td>\n",
       "      <td>750,000</td>\n",
       "    </tr>\n",
       "    <tr>\n",
       "      <th>1</th>\n",
       "      <td>BANDAR BARU SRI PETALING</td>\n",
       "      <td>2023-06-01</td>\n",
       "      <td>TERRACE HOUSE - INTERMEDIATE</td>\n",
       "      <td>LEASEHOLD</td>\n",
       "      <td>2</td>\n",
       "      <td>nan</td>\n",
       "      <td>753 ft²</td>\n",
       "      <td>nan</td>\n",
       "      <td>398</td>\n",
       "      <td>300,000</td>\n",
       "    </tr>\n",
       "    <tr>\n",
       "      <th>2</th>\n",
       "      <td>BANDAR BARU SRI PETALING</td>\n",
       "      <td>2023-05-29</td>\n",
       "      <td>TERRACE HOUSE - INTERMEDIATE</td>\n",
       "      <td>LEASEHOLD</td>\n",
       "      <td>2½</td>\n",
       "      <td>nan</td>\n",
       "      <td>3,197 ft²</td>\n",
       "      <td>nan</td>\n",
       "      <td>188</td>\n",
       "      <td>600,000</td>\n",
       "    </tr>\n",
       "    <tr>\n",
       "      <th>3</th>\n",
       "      <td>BANDAR BARU SRI PETALING</td>\n",
       "      <td>2023-05-25</td>\n",
       "      <td>TERRACE HOUSE - INTERMEDIATE</td>\n",
       "      <td>LEASEHOLD</td>\n",
       "      <td>2</td>\n",
       "      <td>nan</td>\n",
       "      <td>753 ft²</td>\n",
       "      <td>nan</td>\n",
       "      <td>531</td>\n",
       "      <td>400,000</td>\n",
       "    </tr>\n",
       "    <tr>\n",
       "      <th>4</th>\n",
       "      <td>BANDAR BARU SRI PETALING</td>\n",
       "      <td>2023-05-22</td>\n",
       "      <td>SEMI-D</td>\n",
       "      <td>LEASEHOLD</td>\n",
       "      <td>2½</td>\n",
       "      <td>nan</td>\n",
       "      <td>4,801 ft²</td>\n",
       "      <td>nan</td>\n",
       "      <td>250</td>\n",
       "      <td>1,200,000</td>\n",
       "    </tr>\n",
       "    <tr>\n",
       "      <th>...</th>\n",
       "      <td>...</td>\n",
       "      <td>...</td>\n",
       "      <td>...</td>\n",
       "      <td>...</td>\n",
       "      <td>...</td>\n",
       "      <td>...</td>\n",
       "      <td>...</td>\n",
       "      <td>...</td>\n",
       "      <td>...</td>\n",
       "      <td>...</td>\n",
       "    </tr>\n",
       "    <tr>\n",
       "      <th>294562</th>\n",
       "      <td>HERITAGE STATION HOTEL</td>\n",
       "      <td>1990-11-13</td>\n",
       "      <td>FLAT</td>\n",
       "      <td>LEASEHOLD</td>\n",
       "      <td>1</td>\n",
       "      <td>2</td>\n",
       "      <td>493 ft²</td>\n",
       "      <td>493 ft²</td>\n",
       "      <td>71</td>\n",
       "      <td>35,000</td>\n",
       "    </tr>\n",
       "    <tr>\n",
       "      <th>294563</th>\n",
       "      <td>IDAMAN PUTERI</td>\n",
       "      <td>2005-01-10</td>\n",
       "      <td>CONDOMINIUM</td>\n",
       "      <td>FREEHOLD</td>\n",
       "      <td>1</td>\n",
       "      <td>3</td>\n",
       "      <td>1454 ft²</td>\n",
       "      <td>1454 ft²</td>\n",
       "      <td>150</td>\n",
       "      <td>218,025</td>\n",
       "    </tr>\n",
       "    <tr>\n",
       "      <th>294564</th>\n",
       "      <td>KELAB LE CHATEAU II</td>\n",
       "      <td>2008-02-25</td>\n",
       "      <td>CONDOMINIUM</td>\n",
       "      <td>FREEHOLD</td>\n",
       "      <td>1</td>\n",
       "      <td>3</td>\n",
       "      <td>593 ft²</td>\n",
       "      <td>593 ft²</td>\n",
       "      <td>194</td>\n",
       "      <td>115,000</td>\n",
       "    </tr>\n",
       "    <tr>\n",
       "      <th>294565</th>\n",
       "      <td>MUTIARA SENTUL CONDOMINIUM</td>\n",
       "      <td>2009-08-10</td>\n",
       "      <td>APARTMENT</td>\n",
       "      <td>LEASEHOLD</td>\n",
       "      <td>1</td>\n",
       "      <td>2</td>\n",
       "      <td>1193 ft²</td>\n",
       "      <td>1193 ft²</td>\n",
       "      <td>197</td>\n",
       "      <td>235,000</td>\n",
       "    </tr>\n",
       "    <tr>\n",
       "      <th>294566</th>\n",
       "      <td>TAI CHEONG MANSION</td>\n",
       "      <td>1995-08-18</td>\n",
       "      <td>FLAT</td>\n",
       "      <td>LEASEHOLD</td>\n",
       "      <td>1</td>\n",
       "      <td>3</td>\n",
       "      <td>1927 ft²</td>\n",
       "      <td>1927 ft²</td>\n",
       "      <td>269</td>\n",
       "      <td>518,296</td>\n",
       "    </tr>\n",
       "  </tbody>\n",
       "</table>\n",
       "<p>294567 rows × 10 columns</p>\n",
       "</div>"
      ],
      "text/plain": [
       "                      project_name   spa_date                 building_type  \\\n",
       "0         BANDAR BARU SRI PETALING 2023-06-09  TERRACE HOUSE - INTERMEDIATE   \n",
       "1         BANDAR BARU SRI PETALING 2023-06-01  TERRACE HOUSE - INTERMEDIATE   \n",
       "2         BANDAR BARU SRI PETALING 2023-05-29  TERRACE HOUSE - INTERMEDIATE   \n",
       "3         BANDAR BARU SRI PETALING 2023-05-25  TERRACE HOUSE - INTERMEDIATE   \n",
       "4         BANDAR BARU SRI PETALING 2023-05-22                        SEMI-D   \n",
       "...                            ...        ...                           ...   \n",
       "294562      HERITAGE STATION HOTEL 1990-11-13                          FLAT   \n",
       "294563               IDAMAN PUTERI 2005-01-10                   CONDOMINIUM   \n",
       "294564         KELAB LE CHATEAU II 2008-02-25                   CONDOMINIUM   \n",
       "294565  MUTIARA SENTUL CONDOMINIUM 2009-08-10                     APARTMENT   \n",
       "294566          TAI CHEONG MANSION 1995-08-18                          FLAT   \n",
       "\n",
       "           tenure floors rooms  land_area  built_up price_psf      price  \n",
       "0       LEASEHOLD      1   nan  2,196 ft²       nan       342    750,000  \n",
       "1       LEASEHOLD      2   nan    753 ft²       nan       398    300,000  \n",
       "2       LEASEHOLD     2½   nan  3,197 ft²       nan       188    600,000  \n",
       "3       LEASEHOLD      2   nan    753 ft²       nan       531    400,000  \n",
       "4       LEASEHOLD     2½   nan  4,801 ft²       nan       250  1,200,000  \n",
       "...           ...    ...   ...        ...       ...       ...        ...  \n",
       "294562  LEASEHOLD      1     2    493 ft²   493 ft²        71     35,000  \n",
       "294563   FREEHOLD      1     3   1454 ft²  1454 ft²       150    218,025  \n",
       "294564   FREEHOLD      1     3    593 ft²   593 ft²       194    115,000  \n",
       "294565  LEASEHOLD      1     2   1193 ft²  1193 ft²       197    235,000  \n",
       "294566  LEASEHOLD      1     3   1927 ft²  1927 ft²       269    518,296  \n",
       "\n",
       "[294567 rows x 10 columns]"
      ]
     },
     "execution_count": 25,
     "metadata": {},
     "output_type": "execute_result"
    }
   ],
   "source": [
    "# Removing address column\n",
    "df_transactions = df_transactions.drop(columns=['address'])\n",
    "df_transactions"
   ]
  },
  {
   "cell_type": "markdown",
   "metadata": {},
   "source": [
    "### Change fraction to decimal"
   ]
  },
  {
   "cell_type": "code",
   "execution_count": 26,
   "metadata": {},
   "outputs": [
    {
     "data": {
      "text/html": [
       "<div>\n",
       "<style scoped>\n",
       "    .dataframe tbody tr th:only-of-type {\n",
       "        vertical-align: middle;\n",
       "    }\n",
       "\n",
       "    .dataframe tbody tr th {\n",
       "        vertical-align: top;\n",
       "    }\n",
       "\n",
       "    .dataframe thead th {\n",
       "        text-align: right;\n",
       "    }\n",
       "</style>\n",
       "<table border=\"1\" class=\"dataframe\">\n",
       "  <thead>\n",
       "    <tr style=\"text-align: right;\">\n",
       "      <th></th>\n",
       "      <th>project_name</th>\n",
       "      <th>spa_date</th>\n",
       "      <th>building_type</th>\n",
       "      <th>tenure</th>\n",
       "      <th>floors</th>\n",
       "      <th>rooms</th>\n",
       "      <th>land_area</th>\n",
       "      <th>built_up</th>\n",
       "      <th>price_psf</th>\n",
       "      <th>price</th>\n",
       "    </tr>\n",
       "  </thead>\n",
       "  <tbody>\n",
       "    <tr>\n",
       "      <th>0</th>\n",
       "      <td>BANDAR BARU SRI PETALING</td>\n",
       "      <td>2023-06-09</td>\n",
       "      <td>TERRACE HOUSE - INTERMEDIATE</td>\n",
       "      <td>LEASEHOLD</td>\n",
       "      <td>1</td>\n",
       "      <td>nan</td>\n",
       "      <td>2,196 ft²</td>\n",
       "      <td>nan</td>\n",
       "      <td>342</td>\n",
       "      <td>750,000</td>\n",
       "    </tr>\n",
       "    <tr>\n",
       "      <th>1</th>\n",
       "      <td>BANDAR BARU SRI PETALING</td>\n",
       "      <td>2023-06-01</td>\n",
       "      <td>TERRACE HOUSE - INTERMEDIATE</td>\n",
       "      <td>LEASEHOLD</td>\n",
       "      <td>2</td>\n",
       "      <td>nan</td>\n",
       "      <td>753 ft²</td>\n",
       "      <td>nan</td>\n",
       "      <td>398</td>\n",
       "      <td>300,000</td>\n",
       "    </tr>\n",
       "    <tr>\n",
       "      <th>2</th>\n",
       "      <td>BANDAR BARU SRI PETALING</td>\n",
       "      <td>2023-05-29</td>\n",
       "      <td>TERRACE HOUSE - INTERMEDIATE</td>\n",
       "      <td>LEASEHOLD</td>\n",
       "      <td>2.5</td>\n",
       "      <td>nan</td>\n",
       "      <td>3,197 ft²</td>\n",
       "      <td>nan</td>\n",
       "      <td>188</td>\n",
       "      <td>600,000</td>\n",
       "    </tr>\n",
       "    <tr>\n",
       "      <th>3</th>\n",
       "      <td>BANDAR BARU SRI PETALING</td>\n",
       "      <td>2023-05-25</td>\n",
       "      <td>TERRACE HOUSE - INTERMEDIATE</td>\n",
       "      <td>LEASEHOLD</td>\n",
       "      <td>2</td>\n",
       "      <td>nan</td>\n",
       "      <td>753 ft²</td>\n",
       "      <td>nan</td>\n",
       "      <td>531</td>\n",
       "      <td>400,000</td>\n",
       "    </tr>\n",
       "    <tr>\n",
       "      <th>4</th>\n",
       "      <td>BANDAR BARU SRI PETALING</td>\n",
       "      <td>2023-05-22</td>\n",
       "      <td>SEMI-D</td>\n",
       "      <td>LEASEHOLD</td>\n",
       "      <td>2.5</td>\n",
       "      <td>nan</td>\n",
       "      <td>4,801 ft²</td>\n",
       "      <td>nan</td>\n",
       "      <td>250</td>\n",
       "      <td>1,200,000</td>\n",
       "    </tr>\n",
       "    <tr>\n",
       "      <th>...</th>\n",
       "      <td>...</td>\n",
       "      <td>...</td>\n",
       "      <td>...</td>\n",
       "      <td>...</td>\n",
       "      <td>...</td>\n",
       "      <td>...</td>\n",
       "      <td>...</td>\n",
       "      <td>...</td>\n",
       "      <td>...</td>\n",
       "      <td>...</td>\n",
       "    </tr>\n",
       "    <tr>\n",
       "      <th>294562</th>\n",
       "      <td>HERITAGE STATION HOTEL</td>\n",
       "      <td>1990-11-13</td>\n",
       "      <td>FLAT</td>\n",
       "      <td>LEASEHOLD</td>\n",
       "      <td>1</td>\n",
       "      <td>2</td>\n",
       "      <td>493 ft²</td>\n",
       "      <td>493 ft²</td>\n",
       "      <td>71</td>\n",
       "      <td>35,000</td>\n",
       "    </tr>\n",
       "    <tr>\n",
       "      <th>294563</th>\n",
       "      <td>IDAMAN PUTERI</td>\n",
       "      <td>2005-01-10</td>\n",
       "      <td>CONDOMINIUM</td>\n",
       "      <td>FREEHOLD</td>\n",
       "      <td>1</td>\n",
       "      <td>3</td>\n",
       "      <td>1454 ft²</td>\n",
       "      <td>1454 ft²</td>\n",
       "      <td>150</td>\n",
       "      <td>218,025</td>\n",
       "    </tr>\n",
       "    <tr>\n",
       "      <th>294564</th>\n",
       "      <td>KELAB LE CHATEAU II</td>\n",
       "      <td>2008-02-25</td>\n",
       "      <td>CONDOMINIUM</td>\n",
       "      <td>FREEHOLD</td>\n",
       "      <td>1</td>\n",
       "      <td>3</td>\n",
       "      <td>593 ft²</td>\n",
       "      <td>593 ft²</td>\n",
       "      <td>194</td>\n",
       "      <td>115,000</td>\n",
       "    </tr>\n",
       "    <tr>\n",
       "      <th>294565</th>\n",
       "      <td>MUTIARA SENTUL CONDOMINIUM</td>\n",
       "      <td>2009-08-10</td>\n",
       "      <td>APARTMENT</td>\n",
       "      <td>LEASEHOLD</td>\n",
       "      <td>1</td>\n",
       "      <td>2</td>\n",
       "      <td>1193 ft²</td>\n",
       "      <td>1193 ft²</td>\n",
       "      <td>197</td>\n",
       "      <td>235,000</td>\n",
       "    </tr>\n",
       "    <tr>\n",
       "      <th>294566</th>\n",
       "      <td>TAI CHEONG MANSION</td>\n",
       "      <td>1995-08-18</td>\n",
       "      <td>FLAT</td>\n",
       "      <td>LEASEHOLD</td>\n",
       "      <td>1</td>\n",
       "      <td>3</td>\n",
       "      <td>1927 ft²</td>\n",
       "      <td>1927 ft²</td>\n",
       "      <td>269</td>\n",
       "      <td>518,296</td>\n",
       "    </tr>\n",
       "  </tbody>\n",
       "</table>\n",
       "<p>294567 rows × 10 columns</p>\n",
       "</div>"
      ],
      "text/plain": [
       "                      project_name   spa_date                 building_type  \\\n",
       "0         BANDAR BARU SRI PETALING 2023-06-09  TERRACE HOUSE - INTERMEDIATE   \n",
       "1         BANDAR BARU SRI PETALING 2023-06-01  TERRACE HOUSE - INTERMEDIATE   \n",
       "2         BANDAR BARU SRI PETALING 2023-05-29  TERRACE HOUSE - INTERMEDIATE   \n",
       "3         BANDAR BARU SRI PETALING 2023-05-25  TERRACE HOUSE - INTERMEDIATE   \n",
       "4         BANDAR BARU SRI PETALING 2023-05-22                        SEMI-D   \n",
       "...                            ...        ...                           ...   \n",
       "294562      HERITAGE STATION HOTEL 1990-11-13                          FLAT   \n",
       "294563               IDAMAN PUTERI 2005-01-10                   CONDOMINIUM   \n",
       "294564         KELAB LE CHATEAU II 2008-02-25                   CONDOMINIUM   \n",
       "294565  MUTIARA SENTUL CONDOMINIUM 2009-08-10                     APARTMENT   \n",
       "294566          TAI CHEONG MANSION 1995-08-18                          FLAT   \n",
       "\n",
       "           tenure floors rooms  land_area  built_up price_psf      price  \n",
       "0       LEASEHOLD      1   nan  2,196 ft²       nan       342    750,000  \n",
       "1       LEASEHOLD      2   nan    753 ft²       nan       398    300,000  \n",
       "2       LEASEHOLD    2.5   nan  3,197 ft²       nan       188    600,000  \n",
       "3       LEASEHOLD      2   nan    753 ft²       nan       531    400,000  \n",
       "4       LEASEHOLD    2.5   nan  4,801 ft²       nan       250  1,200,000  \n",
       "...           ...    ...   ...        ...       ...       ...        ...  \n",
       "294562  LEASEHOLD      1     2    493 ft²   493 ft²        71     35,000  \n",
       "294563   FREEHOLD      1     3   1454 ft²  1454 ft²       150    218,025  \n",
       "294564   FREEHOLD      1     3    593 ft²   593 ft²       194    115,000  \n",
       "294565  LEASEHOLD      1     2   1193 ft²  1193 ft²       197    235,000  \n",
       "294566  LEASEHOLD      1     3   1927 ft²  1927 ft²       269    518,296  \n",
       "\n",
       "[294567 rows x 10 columns]"
      ]
     },
     "execution_count": 26,
     "metadata": {},
     "output_type": "execute_result"
    }
   ],
   "source": [
    "# Change fraction to decimal\n",
    "from helpers import convert_mixed_fraction_to_decimal\n",
    "\n",
    "df_transactions['floors'] = df_transactions['floors'].apply(lambda x: convert_mixed_fraction_to_decimal(x))\n",
    "df_transactions"
   ]
  },
  {
   "cell_type": "markdown",
   "metadata": {},
   "source": [
    "### Remove commas"
   ]
  },
  {
   "cell_type": "code",
   "execution_count": 32,
   "metadata": {},
   "outputs": [
    {
     "data": {
      "text/html": [
       "<div>\n",
       "<style scoped>\n",
       "    .dataframe tbody tr th:only-of-type {\n",
       "        vertical-align: middle;\n",
       "    }\n",
       "\n",
       "    .dataframe tbody tr th {\n",
       "        vertical-align: top;\n",
       "    }\n",
       "\n",
       "    .dataframe thead th {\n",
       "        text-align: right;\n",
       "    }\n",
       "</style>\n",
       "<table border=\"1\" class=\"dataframe\">\n",
       "  <thead>\n",
       "    <tr style=\"text-align: right;\">\n",
       "      <th></th>\n",
       "      <th>project_name</th>\n",
       "      <th>spa_date</th>\n",
       "      <th>building_type</th>\n",
       "      <th>tenure</th>\n",
       "      <th>floors</th>\n",
       "      <th>rooms</th>\n",
       "      <th>land_area</th>\n",
       "      <th>built_up</th>\n",
       "      <th>price_psf</th>\n",
       "      <th>price</th>\n",
       "    </tr>\n",
       "  </thead>\n",
       "  <tbody>\n",
       "    <tr>\n",
       "      <th>0</th>\n",
       "      <td>BANDAR BARU SRI PETALING</td>\n",
       "      <td>2023-06-09</td>\n",
       "      <td>TERRACE HOUSE - INTERMEDIATE</td>\n",
       "      <td>LEASEHOLD</td>\n",
       "      <td>1</td>\n",
       "      <td>NaN</td>\n",
       "      <td>2196</td>\n",
       "      <td>NaN</td>\n",
       "      <td>342</td>\n",
       "      <td>750000</td>\n",
       "    </tr>\n",
       "    <tr>\n",
       "      <th>1</th>\n",
       "      <td>BANDAR BARU SRI PETALING</td>\n",
       "      <td>2023-06-01</td>\n",
       "      <td>TERRACE HOUSE - INTERMEDIATE</td>\n",
       "      <td>LEASEHOLD</td>\n",
       "      <td>2</td>\n",
       "      <td>NaN</td>\n",
       "      <td>753</td>\n",
       "      <td>NaN</td>\n",
       "      <td>398</td>\n",
       "      <td>300000</td>\n",
       "    </tr>\n",
       "    <tr>\n",
       "      <th>2</th>\n",
       "      <td>BANDAR BARU SRI PETALING</td>\n",
       "      <td>2023-05-29</td>\n",
       "      <td>TERRACE HOUSE - INTERMEDIATE</td>\n",
       "      <td>LEASEHOLD</td>\n",
       "      <td>2.5</td>\n",
       "      <td>NaN</td>\n",
       "      <td>3197</td>\n",
       "      <td>NaN</td>\n",
       "      <td>188</td>\n",
       "      <td>600000</td>\n",
       "    </tr>\n",
       "    <tr>\n",
       "      <th>3</th>\n",
       "      <td>BANDAR BARU SRI PETALING</td>\n",
       "      <td>2023-05-25</td>\n",
       "      <td>TERRACE HOUSE - INTERMEDIATE</td>\n",
       "      <td>LEASEHOLD</td>\n",
       "      <td>2</td>\n",
       "      <td>NaN</td>\n",
       "      <td>753</td>\n",
       "      <td>NaN</td>\n",
       "      <td>531</td>\n",
       "      <td>400000</td>\n",
       "    </tr>\n",
       "    <tr>\n",
       "      <th>4</th>\n",
       "      <td>BANDAR BARU SRI PETALING</td>\n",
       "      <td>2023-05-22</td>\n",
       "      <td>SEMI-D</td>\n",
       "      <td>LEASEHOLD</td>\n",
       "      <td>2.5</td>\n",
       "      <td>NaN</td>\n",
       "      <td>4801</td>\n",
       "      <td>NaN</td>\n",
       "      <td>250</td>\n",
       "      <td>1200000</td>\n",
       "    </tr>\n",
       "    <tr>\n",
       "      <th>...</th>\n",
       "      <td>...</td>\n",
       "      <td>...</td>\n",
       "      <td>...</td>\n",
       "      <td>...</td>\n",
       "      <td>...</td>\n",
       "      <td>...</td>\n",
       "      <td>...</td>\n",
       "      <td>...</td>\n",
       "      <td>...</td>\n",
       "      <td>...</td>\n",
       "    </tr>\n",
       "    <tr>\n",
       "      <th>294562</th>\n",
       "      <td>HERITAGE STATION HOTEL</td>\n",
       "      <td>1990-11-13</td>\n",
       "      <td>FLAT</td>\n",
       "      <td>LEASEHOLD</td>\n",
       "      <td>1</td>\n",
       "      <td>2</td>\n",
       "      <td>493</td>\n",
       "      <td>493</td>\n",
       "      <td>71</td>\n",
       "      <td>35000</td>\n",
       "    </tr>\n",
       "    <tr>\n",
       "      <th>294563</th>\n",
       "      <td>IDAMAN PUTERI</td>\n",
       "      <td>2005-01-10</td>\n",
       "      <td>CONDOMINIUM</td>\n",
       "      <td>FREEHOLD</td>\n",
       "      <td>1</td>\n",
       "      <td>3</td>\n",
       "      <td>1454</td>\n",
       "      <td>1454</td>\n",
       "      <td>150</td>\n",
       "      <td>218025</td>\n",
       "    </tr>\n",
       "    <tr>\n",
       "      <th>294564</th>\n",
       "      <td>KELAB LE CHATEAU II</td>\n",
       "      <td>2008-02-25</td>\n",
       "      <td>CONDOMINIUM</td>\n",
       "      <td>FREEHOLD</td>\n",
       "      <td>1</td>\n",
       "      <td>3</td>\n",
       "      <td>593</td>\n",
       "      <td>593</td>\n",
       "      <td>194</td>\n",
       "      <td>115000</td>\n",
       "    </tr>\n",
       "    <tr>\n",
       "      <th>294565</th>\n",
       "      <td>MUTIARA SENTUL CONDOMINIUM</td>\n",
       "      <td>2009-08-10</td>\n",
       "      <td>APARTMENT</td>\n",
       "      <td>LEASEHOLD</td>\n",
       "      <td>1</td>\n",
       "      <td>2</td>\n",
       "      <td>1193</td>\n",
       "      <td>1193</td>\n",
       "      <td>197</td>\n",
       "      <td>235000</td>\n",
       "    </tr>\n",
       "    <tr>\n",
       "      <th>294566</th>\n",
       "      <td>TAI CHEONG MANSION</td>\n",
       "      <td>1995-08-18</td>\n",
       "      <td>FLAT</td>\n",
       "      <td>LEASEHOLD</td>\n",
       "      <td>1</td>\n",
       "      <td>3</td>\n",
       "      <td>1927</td>\n",
       "      <td>1927</td>\n",
       "      <td>269</td>\n",
       "      <td>518296</td>\n",
       "    </tr>\n",
       "  </tbody>\n",
       "</table>\n",
       "<p>294567 rows × 10 columns</p>\n",
       "</div>"
      ],
      "text/plain": [
       "                      project_name   spa_date                 building_type  \\\n",
       "0         BANDAR BARU SRI PETALING 2023-06-09  TERRACE HOUSE - INTERMEDIATE   \n",
       "1         BANDAR BARU SRI PETALING 2023-06-01  TERRACE HOUSE - INTERMEDIATE   \n",
       "2         BANDAR BARU SRI PETALING 2023-05-29  TERRACE HOUSE - INTERMEDIATE   \n",
       "3         BANDAR BARU SRI PETALING 2023-05-25  TERRACE HOUSE - INTERMEDIATE   \n",
       "4         BANDAR BARU SRI PETALING 2023-05-22                        SEMI-D   \n",
       "...                            ...        ...                           ...   \n",
       "294562      HERITAGE STATION HOTEL 1990-11-13                          FLAT   \n",
       "294563               IDAMAN PUTERI 2005-01-10                   CONDOMINIUM   \n",
       "294564         KELAB LE CHATEAU II 2008-02-25                   CONDOMINIUM   \n",
       "294565  MUTIARA SENTUL CONDOMINIUM 2009-08-10                     APARTMENT   \n",
       "294566          TAI CHEONG MANSION 1995-08-18                          FLAT   \n",
       "\n",
       "           tenure floors rooms land_area built_up price_psf    price  \n",
       "0       LEASEHOLD      1   NaN      2196      NaN       342   750000  \n",
       "1       LEASEHOLD      2   NaN       753      NaN       398   300000  \n",
       "2       LEASEHOLD    2.5   NaN      3197      NaN       188   600000  \n",
       "3       LEASEHOLD      2   NaN       753      NaN       531   400000  \n",
       "4       LEASEHOLD    2.5   NaN      4801      NaN       250  1200000  \n",
       "...           ...    ...   ...       ...      ...       ...      ...  \n",
       "294562  LEASEHOLD      1     2       493      493        71    35000  \n",
       "294563   FREEHOLD      1     3      1454     1454       150   218025  \n",
       "294564   FREEHOLD      1     3       593      593       194   115000  \n",
       "294565  LEASEHOLD      1     2      1193     1193       197   235000  \n",
       "294566  LEASEHOLD      1     3      1927     1927       269   518296  \n",
       "\n",
       "[294567 rows x 10 columns]"
      ]
     },
     "execution_count": 32,
     "metadata": {},
     "output_type": "execute_result"
    }
   ],
   "source": [
    "# Change nan to NaN to ease processing\n",
    "df_transactions = df_transactions.replace('nan', np.nan)\n",
    "df_transactions"
   ]
  },
  {
   "cell_type": "code",
   "execution_count": 39,
   "metadata": {},
   "outputs": [
    {
     "data": {
      "text/html": [
       "<div>\n",
       "<style scoped>\n",
       "    .dataframe tbody tr th:only-of-type {\n",
       "        vertical-align: middle;\n",
       "    }\n",
       "\n",
       "    .dataframe tbody tr th {\n",
       "        vertical-align: top;\n",
       "    }\n",
       "\n",
       "    .dataframe thead th {\n",
       "        text-align: right;\n",
       "    }\n",
       "</style>\n",
       "<table border=\"1\" class=\"dataframe\">\n",
       "  <thead>\n",
       "    <tr style=\"text-align: right;\">\n",
       "      <th></th>\n",
       "      <th>project_name</th>\n",
       "      <th>spa_date</th>\n",
       "      <th>building_type</th>\n",
       "      <th>tenure</th>\n",
       "      <th>floors</th>\n",
       "      <th>rooms</th>\n",
       "      <th>land_area</th>\n",
       "      <th>built_up</th>\n",
       "      <th>price_psf</th>\n",
       "      <th>price</th>\n",
       "    </tr>\n",
       "  </thead>\n",
       "  <tbody>\n",
       "    <tr>\n",
       "      <th>0</th>\n",
       "      <td>BANDAR BARU SRI PETALING</td>\n",
       "      <td>2023-06-09</td>\n",
       "      <td>TERRACE HOUSE - INTERMEDIATE</td>\n",
       "      <td>LEASEHOLD</td>\n",
       "      <td>1</td>\n",
       "      <td>NaN</td>\n",
       "      <td>2196</td>\n",
       "      <td>NaN</td>\n",
       "      <td>342</td>\n",
       "      <td>750000</td>\n",
       "    </tr>\n",
       "    <tr>\n",
       "      <th>1</th>\n",
       "      <td>BANDAR BARU SRI PETALING</td>\n",
       "      <td>2023-06-01</td>\n",
       "      <td>TERRACE HOUSE - INTERMEDIATE</td>\n",
       "      <td>LEASEHOLD</td>\n",
       "      <td>2</td>\n",
       "      <td>NaN</td>\n",
       "      <td>753</td>\n",
       "      <td>NaN</td>\n",
       "      <td>398</td>\n",
       "      <td>300000</td>\n",
       "    </tr>\n",
       "    <tr>\n",
       "      <th>2</th>\n",
       "      <td>BANDAR BARU SRI PETALING</td>\n",
       "      <td>2023-05-29</td>\n",
       "      <td>TERRACE HOUSE - INTERMEDIATE</td>\n",
       "      <td>LEASEHOLD</td>\n",
       "      <td>2.5</td>\n",
       "      <td>NaN</td>\n",
       "      <td>3197</td>\n",
       "      <td>NaN</td>\n",
       "      <td>188</td>\n",
       "      <td>600000</td>\n",
       "    </tr>\n",
       "    <tr>\n",
       "      <th>3</th>\n",
       "      <td>BANDAR BARU SRI PETALING</td>\n",
       "      <td>2023-05-25</td>\n",
       "      <td>TERRACE HOUSE - INTERMEDIATE</td>\n",
       "      <td>LEASEHOLD</td>\n",
       "      <td>2</td>\n",
       "      <td>NaN</td>\n",
       "      <td>753</td>\n",
       "      <td>NaN</td>\n",
       "      <td>531</td>\n",
       "      <td>400000</td>\n",
       "    </tr>\n",
       "    <tr>\n",
       "      <th>4</th>\n",
       "      <td>BANDAR BARU SRI PETALING</td>\n",
       "      <td>2023-05-22</td>\n",
       "      <td>SEMI-D</td>\n",
       "      <td>LEASEHOLD</td>\n",
       "      <td>2.5</td>\n",
       "      <td>NaN</td>\n",
       "      <td>4801</td>\n",
       "      <td>NaN</td>\n",
       "      <td>250</td>\n",
       "      <td>1200000</td>\n",
       "    </tr>\n",
       "    <tr>\n",
       "      <th>...</th>\n",
       "      <td>...</td>\n",
       "      <td>...</td>\n",
       "      <td>...</td>\n",
       "      <td>...</td>\n",
       "      <td>...</td>\n",
       "      <td>...</td>\n",
       "      <td>...</td>\n",
       "      <td>...</td>\n",
       "      <td>...</td>\n",
       "      <td>...</td>\n",
       "    </tr>\n",
       "    <tr>\n",
       "      <th>294562</th>\n",
       "      <td>HERITAGE STATION HOTEL</td>\n",
       "      <td>1990-11-13</td>\n",
       "      <td>FLAT</td>\n",
       "      <td>LEASEHOLD</td>\n",
       "      <td>1</td>\n",
       "      <td>2</td>\n",
       "      <td>493</td>\n",
       "      <td>493</td>\n",
       "      <td>71</td>\n",
       "      <td>35000</td>\n",
       "    </tr>\n",
       "    <tr>\n",
       "      <th>294563</th>\n",
       "      <td>IDAMAN PUTERI</td>\n",
       "      <td>2005-01-10</td>\n",
       "      <td>CONDOMINIUM</td>\n",
       "      <td>FREEHOLD</td>\n",
       "      <td>1</td>\n",
       "      <td>3</td>\n",
       "      <td>1454</td>\n",
       "      <td>1454</td>\n",
       "      <td>150</td>\n",
       "      <td>218025</td>\n",
       "    </tr>\n",
       "    <tr>\n",
       "      <th>294564</th>\n",
       "      <td>KELAB LE CHATEAU II</td>\n",
       "      <td>2008-02-25</td>\n",
       "      <td>CONDOMINIUM</td>\n",
       "      <td>FREEHOLD</td>\n",
       "      <td>1</td>\n",
       "      <td>3</td>\n",
       "      <td>593</td>\n",
       "      <td>593</td>\n",
       "      <td>194</td>\n",
       "      <td>115000</td>\n",
       "    </tr>\n",
       "    <tr>\n",
       "      <th>294565</th>\n",
       "      <td>MUTIARA SENTUL CONDOMINIUM</td>\n",
       "      <td>2009-08-10</td>\n",
       "      <td>APARTMENT</td>\n",
       "      <td>LEASEHOLD</td>\n",
       "      <td>1</td>\n",
       "      <td>2</td>\n",
       "      <td>1193</td>\n",
       "      <td>1193</td>\n",
       "      <td>197</td>\n",
       "      <td>235000</td>\n",
       "    </tr>\n",
       "    <tr>\n",
       "      <th>294566</th>\n",
       "      <td>TAI CHEONG MANSION</td>\n",
       "      <td>1995-08-18</td>\n",
       "      <td>FLAT</td>\n",
       "      <td>LEASEHOLD</td>\n",
       "      <td>1</td>\n",
       "      <td>3</td>\n",
       "      <td>1927</td>\n",
       "      <td>1927</td>\n",
       "      <td>269</td>\n",
       "      <td>518296</td>\n",
       "    </tr>\n",
       "  </tbody>\n",
       "</table>\n",
       "<p>294567 rows × 10 columns</p>\n",
       "</div>"
      ],
      "text/plain": [
       "                      project_name   spa_date                 building_type  \\\n",
       "0         BANDAR BARU SRI PETALING 2023-06-09  TERRACE HOUSE - INTERMEDIATE   \n",
       "1         BANDAR BARU SRI PETALING 2023-06-01  TERRACE HOUSE - INTERMEDIATE   \n",
       "2         BANDAR BARU SRI PETALING 2023-05-29  TERRACE HOUSE - INTERMEDIATE   \n",
       "3         BANDAR BARU SRI PETALING 2023-05-25  TERRACE HOUSE - INTERMEDIATE   \n",
       "4         BANDAR BARU SRI PETALING 2023-05-22                        SEMI-D   \n",
       "...                            ...        ...                           ...   \n",
       "294562      HERITAGE STATION HOTEL 1990-11-13                          FLAT   \n",
       "294563               IDAMAN PUTERI 2005-01-10                   CONDOMINIUM   \n",
       "294564         KELAB LE CHATEAU II 2008-02-25                   CONDOMINIUM   \n",
       "294565  MUTIARA SENTUL CONDOMINIUM 2009-08-10                     APARTMENT   \n",
       "294566          TAI CHEONG MANSION 1995-08-18                          FLAT   \n",
       "\n",
       "           tenure floors rooms land_area built_up price_psf    price  \n",
       "0       LEASEHOLD      1   NaN      2196      NaN       342   750000  \n",
       "1       LEASEHOLD      2   NaN       753      NaN       398   300000  \n",
       "2       LEASEHOLD    2.5   NaN      3197      NaN       188   600000  \n",
       "3       LEASEHOLD      2   NaN       753      NaN       531   400000  \n",
       "4       LEASEHOLD    2.5   NaN      4801      NaN       250  1200000  \n",
       "...           ...    ...   ...       ...      ...       ...      ...  \n",
       "294562  LEASEHOLD      1     2       493      493        71    35000  \n",
       "294563   FREEHOLD      1     3      1454     1454       150   218025  \n",
       "294564   FREEHOLD      1     3       593      593       194   115000  \n",
       "294565  LEASEHOLD      1     2      1193     1193       197   235000  \n",
       "294566  LEASEHOLD      1     3      1927     1927       269   518296  \n",
       "\n",
       "[294567 rows x 10 columns]"
      ]
     },
     "execution_count": 39,
     "metadata": {},
     "output_type": "execute_result"
    }
   ],
   "source": [
    "# Remove commas from numeric columns\n",
    "columns_with_comma = ['price_psf', 'price', 'land_area', 'built_up']\n",
    "\n",
    "for column in columns_with_comma:\n",
    "    df_transactions[column] = df_transactions[column].apply(\n",
    "        lambda x: x if pd.isna(x) else x.replace(',', '')\n",
    "    )\n",
    "\n",
    "df_transactions"
   ]
  },
  {
   "cell_type": "markdown",
   "metadata": {},
   "source": [
    "### Remove units"
   ]
  },
  {
   "cell_type": "code",
   "execution_count": 40,
   "metadata": {},
   "outputs": [
    {
     "data": {
      "text/html": [
       "<div>\n",
       "<style scoped>\n",
       "    .dataframe tbody tr th:only-of-type {\n",
       "        vertical-align: middle;\n",
       "    }\n",
       "\n",
       "    .dataframe tbody tr th {\n",
       "        vertical-align: top;\n",
       "    }\n",
       "\n",
       "    .dataframe thead th {\n",
       "        text-align: right;\n",
       "    }\n",
       "</style>\n",
       "<table border=\"1\" class=\"dataframe\">\n",
       "  <thead>\n",
       "    <tr style=\"text-align: right;\">\n",
       "      <th></th>\n",
       "      <th>project_name</th>\n",
       "      <th>spa_date</th>\n",
       "      <th>building_type</th>\n",
       "      <th>tenure</th>\n",
       "      <th>floors</th>\n",
       "      <th>rooms</th>\n",
       "      <th>land_area</th>\n",
       "      <th>built_up</th>\n",
       "      <th>price_psf</th>\n",
       "      <th>price</th>\n",
       "    </tr>\n",
       "  </thead>\n",
       "  <tbody>\n",
       "    <tr>\n",
       "      <th>0</th>\n",
       "      <td>BANDAR BARU SRI PETALING</td>\n",
       "      <td>2023-06-09</td>\n",
       "      <td>TERRACE HOUSE - INTERMEDIATE</td>\n",
       "      <td>LEASEHOLD</td>\n",
       "      <td>1</td>\n",
       "      <td>NaN</td>\n",
       "      <td>2196</td>\n",
       "      <td>NaN</td>\n",
       "      <td>342</td>\n",
       "      <td>750000</td>\n",
       "    </tr>\n",
       "    <tr>\n",
       "      <th>1</th>\n",
       "      <td>BANDAR BARU SRI PETALING</td>\n",
       "      <td>2023-06-01</td>\n",
       "      <td>TERRACE HOUSE - INTERMEDIATE</td>\n",
       "      <td>LEASEHOLD</td>\n",
       "      <td>2</td>\n",
       "      <td>NaN</td>\n",
       "      <td>753</td>\n",
       "      <td>NaN</td>\n",
       "      <td>398</td>\n",
       "      <td>300000</td>\n",
       "    </tr>\n",
       "    <tr>\n",
       "      <th>2</th>\n",
       "      <td>BANDAR BARU SRI PETALING</td>\n",
       "      <td>2023-05-29</td>\n",
       "      <td>TERRACE HOUSE - INTERMEDIATE</td>\n",
       "      <td>LEASEHOLD</td>\n",
       "      <td>2.5</td>\n",
       "      <td>NaN</td>\n",
       "      <td>3197</td>\n",
       "      <td>NaN</td>\n",
       "      <td>188</td>\n",
       "      <td>600000</td>\n",
       "    </tr>\n",
       "    <tr>\n",
       "      <th>3</th>\n",
       "      <td>BANDAR BARU SRI PETALING</td>\n",
       "      <td>2023-05-25</td>\n",
       "      <td>TERRACE HOUSE - INTERMEDIATE</td>\n",
       "      <td>LEASEHOLD</td>\n",
       "      <td>2</td>\n",
       "      <td>NaN</td>\n",
       "      <td>753</td>\n",
       "      <td>NaN</td>\n",
       "      <td>531</td>\n",
       "      <td>400000</td>\n",
       "    </tr>\n",
       "    <tr>\n",
       "      <th>4</th>\n",
       "      <td>BANDAR BARU SRI PETALING</td>\n",
       "      <td>2023-05-22</td>\n",
       "      <td>SEMI-D</td>\n",
       "      <td>LEASEHOLD</td>\n",
       "      <td>2.5</td>\n",
       "      <td>NaN</td>\n",
       "      <td>4801</td>\n",
       "      <td>NaN</td>\n",
       "      <td>250</td>\n",
       "      <td>1200000</td>\n",
       "    </tr>\n",
       "    <tr>\n",
       "      <th>...</th>\n",
       "      <td>...</td>\n",
       "      <td>...</td>\n",
       "      <td>...</td>\n",
       "      <td>...</td>\n",
       "      <td>...</td>\n",
       "      <td>...</td>\n",
       "      <td>...</td>\n",
       "      <td>...</td>\n",
       "      <td>...</td>\n",
       "      <td>...</td>\n",
       "    </tr>\n",
       "    <tr>\n",
       "      <th>294562</th>\n",
       "      <td>HERITAGE STATION HOTEL</td>\n",
       "      <td>1990-11-13</td>\n",
       "      <td>FLAT</td>\n",
       "      <td>LEASEHOLD</td>\n",
       "      <td>1</td>\n",
       "      <td>2</td>\n",
       "      <td>493</td>\n",
       "      <td>493</td>\n",
       "      <td>71</td>\n",
       "      <td>35000</td>\n",
       "    </tr>\n",
       "    <tr>\n",
       "      <th>294563</th>\n",
       "      <td>IDAMAN PUTERI</td>\n",
       "      <td>2005-01-10</td>\n",
       "      <td>CONDOMINIUM</td>\n",
       "      <td>FREEHOLD</td>\n",
       "      <td>1</td>\n",
       "      <td>3</td>\n",
       "      <td>1454</td>\n",
       "      <td>1454</td>\n",
       "      <td>150</td>\n",
       "      <td>218025</td>\n",
       "    </tr>\n",
       "    <tr>\n",
       "      <th>294564</th>\n",
       "      <td>KELAB LE CHATEAU II</td>\n",
       "      <td>2008-02-25</td>\n",
       "      <td>CONDOMINIUM</td>\n",
       "      <td>FREEHOLD</td>\n",
       "      <td>1</td>\n",
       "      <td>3</td>\n",
       "      <td>593</td>\n",
       "      <td>593</td>\n",
       "      <td>194</td>\n",
       "      <td>115000</td>\n",
       "    </tr>\n",
       "    <tr>\n",
       "      <th>294565</th>\n",
       "      <td>MUTIARA SENTUL CONDOMINIUM</td>\n",
       "      <td>2009-08-10</td>\n",
       "      <td>APARTMENT</td>\n",
       "      <td>LEASEHOLD</td>\n",
       "      <td>1</td>\n",
       "      <td>2</td>\n",
       "      <td>1193</td>\n",
       "      <td>1193</td>\n",
       "      <td>197</td>\n",
       "      <td>235000</td>\n",
       "    </tr>\n",
       "    <tr>\n",
       "      <th>294566</th>\n",
       "      <td>TAI CHEONG MANSION</td>\n",
       "      <td>1995-08-18</td>\n",
       "      <td>FLAT</td>\n",
       "      <td>LEASEHOLD</td>\n",
       "      <td>1</td>\n",
       "      <td>3</td>\n",
       "      <td>1927</td>\n",
       "      <td>1927</td>\n",
       "      <td>269</td>\n",
       "      <td>518296</td>\n",
       "    </tr>\n",
       "  </tbody>\n",
       "</table>\n",
       "<p>294567 rows × 10 columns</p>\n",
       "</div>"
      ],
      "text/plain": [
       "                      project_name   spa_date                 building_type  \\\n",
       "0         BANDAR BARU SRI PETALING 2023-06-09  TERRACE HOUSE - INTERMEDIATE   \n",
       "1         BANDAR BARU SRI PETALING 2023-06-01  TERRACE HOUSE - INTERMEDIATE   \n",
       "2         BANDAR BARU SRI PETALING 2023-05-29  TERRACE HOUSE - INTERMEDIATE   \n",
       "3         BANDAR BARU SRI PETALING 2023-05-25  TERRACE HOUSE - INTERMEDIATE   \n",
       "4         BANDAR BARU SRI PETALING 2023-05-22                        SEMI-D   \n",
       "...                            ...        ...                           ...   \n",
       "294562      HERITAGE STATION HOTEL 1990-11-13                          FLAT   \n",
       "294563               IDAMAN PUTERI 2005-01-10                   CONDOMINIUM   \n",
       "294564         KELAB LE CHATEAU II 2008-02-25                   CONDOMINIUM   \n",
       "294565  MUTIARA SENTUL CONDOMINIUM 2009-08-10                     APARTMENT   \n",
       "294566          TAI CHEONG MANSION 1995-08-18                          FLAT   \n",
       "\n",
       "           tenure floors rooms land_area built_up price_psf    price  \n",
       "0       LEASEHOLD      1   NaN      2196      NaN       342   750000  \n",
       "1       LEASEHOLD      2   NaN       753      NaN       398   300000  \n",
       "2       LEASEHOLD    2.5   NaN      3197      NaN       188   600000  \n",
       "3       LEASEHOLD      2   NaN       753      NaN       531   400000  \n",
       "4       LEASEHOLD    2.5   NaN      4801      NaN       250  1200000  \n",
       "...           ...    ...   ...       ...      ...       ...      ...  \n",
       "294562  LEASEHOLD      1     2       493      493        71    35000  \n",
       "294563   FREEHOLD      1     3      1454     1454       150   218025  \n",
       "294564   FREEHOLD      1     3       593      593       194   115000  \n",
       "294565  LEASEHOLD      1     2      1193     1193       197   235000  \n",
       "294566  LEASEHOLD      1     3      1927     1927       269   518296  \n",
       "\n",
       "[294567 rows x 10 columns]"
      ]
     },
     "execution_count": 40,
     "metadata": {},
     "output_type": "execute_result"
    }
   ],
   "source": [
    "# Remove units from numeric columns\n",
    "columns_with_ft2 = ['land_area', 'built_up']\n",
    "\n",
    "for column in columns_with_ft2:\n",
    "    df_transactions[column] = df_transactions[column].apply(\n",
    "        lambda x: x if pd.isna(x) else x.replace(' ft²', '')\n",
    "    )\n",
    "\n",
    "df_transactions"
   ]
  },
  {
   "cell_type": "markdown",
   "metadata": {},
   "source": [
    "### Investigate missing values"
   ]
  },
  {
   "cell_type": "code",
   "execution_count": 41,
   "metadata": {},
   "outputs": [
    {
     "name": "stdout",
     "output_type": "stream",
     "text": [
      "Number of rows with missing values: 5613 \n",
      "Percentage of missing values: 1.9055087637108028\n"
     ]
    }
   ],
   "source": [
    "print(\n",
    "    f\"Number of rows with missing values: {df_transactions['built_up'].isna().sum()}\",\n",
    "    f\"\\nPercentage of missing values: {df_transactions['built_up'].isna().sum() / len(df_transactions) * 100}\",\n",
    ")"
   ]
  },
  {
   "cell_type": "code",
   "execution_count": 42,
   "metadata": {},
   "outputs": [
    {
     "data": {
      "text/html": [
       "<div>\n",
       "<style scoped>\n",
       "    .dataframe tbody tr th:only-of-type {\n",
       "        vertical-align: middle;\n",
       "    }\n",
       "\n",
       "    .dataframe tbody tr th {\n",
       "        vertical-align: top;\n",
       "    }\n",
       "\n",
       "    .dataframe thead th {\n",
       "        text-align: right;\n",
       "    }\n",
       "</style>\n",
       "<table border=\"1\" class=\"dataframe\">\n",
       "  <thead>\n",
       "    <tr style=\"text-align: right;\">\n",
       "      <th></th>\n",
       "      <th>project_name</th>\n",
       "      <th>spa_date</th>\n",
       "      <th>building_type</th>\n",
       "      <th>tenure</th>\n",
       "      <th>floors</th>\n",
       "      <th>rooms</th>\n",
       "      <th>land_area</th>\n",
       "      <th>built_up</th>\n",
       "      <th>price_psf</th>\n",
       "      <th>price</th>\n",
       "    </tr>\n",
       "  </thead>\n",
       "  <tbody>\n",
       "    <tr>\n",
       "      <th>0</th>\n",
       "      <td>BANDAR BARU SRI PETALING</td>\n",
       "      <td>2023-06-09</td>\n",
       "      <td>TERRACE HOUSE - INTERMEDIATE</td>\n",
       "      <td>LEASEHOLD</td>\n",
       "      <td>1</td>\n",
       "      <td>NaN</td>\n",
       "      <td>2196</td>\n",
       "      <td>NaN</td>\n",
       "      <td>342</td>\n",
       "      <td>750000</td>\n",
       "    </tr>\n",
       "    <tr>\n",
       "      <th>1</th>\n",
       "      <td>BANDAR BARU SRI PETALING</td>\n",
       "      <td>2023-06-01</td>\n",
       "      <td>TERRACE HOUSE - INTERMEDIATE</td>\n",
       "      <td>LEASEHOLD</td>\n",
       "      <td>2</td>\n",
       "      <td>NaN</td>\n",
       "      <td>753</td>\n",
       "      <td>NaN</td>\n",
       "      <td>398</td>\n",
       "      <td>300000</td>\n",
       "    </tr>\n",
       "    <tr>\n",
       "      <th>2</th>\n",
       "      <td>BANDAR BARU SRI PETALING</td>\n",
       "      <td>2023-05-29</td>\n",
       "      <td>TERRACE HOUSE - INTERMEDIATE</td>\n",
       "      <td>LEASEHOLD</td>\n",
       "      <td>2.5</td>\n",
       "      <td>NaN</td>\n",
       "      <td>3197</td>\n",
       "      <td>NaN</td>\n",
       "      <td>188</td>\n",
       "      <td>600000</td>\n",
       "    </tr>\n",
       "    <tr>\n",
       "      <th>3</th>\n",
       "      <td>BANDAR BARU SRI PETALING</td>\n",
       "      <td>2023-05-25</td>\n",
       "      <td>TERRACE HOUSE - INTERMEDIATE</td>\n",
       "      <td>LEASEHOLD</td>\n",
       "      <td>2</td>\n",
       "      <td>NaN</td>\n",
       "      <td>753</td>\n",
       "      <td>NaN</td>\n",
       "      <td>531</td>\n",
       "      <td>400000</td>\n",
       "    </tr>\n",
       "    <tr>\n",
       "      <th>4</th>\n",
       "      <td>BANDAR BARU SRI PETALING</td>\n",
       "      <td>2023-05-22</td>\n",
       "      <td>SEMI-D</td>\n",
       "      <td>LEASEHOLD</td>\n",
       "      <td>2.5</td>\n",
       "      <td>NaN</td>\n",
       "      <td>4801</td>\n",
       "      <td>NaN</td>\n",
       "      <td>250</td>\n",
       "      <td>1200000</td>\n",
       "    </tr>\n",
       "    <tr>\n",
       "      <th>...</th>\n",
       "      <td>...</td>\n",
       "      <td>...</td>\n",
       "      <td>...</td>\n",
       "      <td>...</td>\n",
       "      <td>...</td>\n",
       "      <td>...</td>\n",
       "      <td>...</td>\n",
       "      <td>...</td>\n",
       "      <td>...</td>\n",
       "      <td>...</td>\n",
       "    </tr>\n",
       "    <tr>\n",
       "      <th>76747</th>\n",
       "      <td>TAMAN NAM FONG</td>\n",
       "      <td>2023-03-06</td>\n",
       "      <td>TERRACE HOUSE - INTERMEDIATE</td>\n",
       "      <td>LEASEHOLD</td>\n",
       "      <td>2</td>\n",
       "      <td>NaN</td>\n",
       "      <td>1540</td>\n",
       "      <td>NaN</td>\n",
       "      <td>325</td>\n",
       "      <td>500000</td>\n",
       "    </tr>\n",
       "    <tr>\n",
       "      <th>76748</th>\n",
       "      <td>TAMAN NAM FONG</td>\n",
       "      <td>2021-03-03</td>\n",
       "      <td>TERRACE HOUSE - INTERMEDIATE</td>\n",
       "      <td>LEASEHOLD</td>\n",
       "      <td>2</td>\n",
       "      <td>NaN</td>\n",
       "      <td>1032</td>\n",
       "      <td>NaN</td>\n",
       "      <td>618</td>\n",
       "      <td>638000</td>\n",
       "    </tr>\n",
       "    <tr>\n",
       "      <th>76749</th>\n",
       "      <td>TAMAN NAM FONG</td>\n",
       "      <td>2020-12-02</td>\n",
       "      <td>TERRACE HOUSE - INTERMEDIATE</td>\n",
       "      <td>LEASEHOLD</td>\n",
       "      <td>2</td>\n",
       "      <td>NaN</td>\n",
       "      <td>1540</td>\n",
       "      <td>NaN</td>\n",
       "      <td>409</td>\n",
       "      <td>630000</td>\n",
       "    </tr>\n",
       "    <tr>\n",
       "      <th>76761</th>\n",
       "      <td>LAMAN BAYU</td>\n",
       "      <td>2023-04-26</td>\n",
       "      <td>BUNGALOW</td>\n",
       "      <td>FREEHOLD</td>\n",
       "      <td>3</td>\n",
       "      <td>NaN</td>\n",
       "      <td>4553</td>\n",
       "      <td>NaN</td>\n",
       "      <td>703</td>\n",
       "      <td>3200000</td>\n",
       "    </tr>\n",
       "    <tr>\n",
       "      <th>76762</th>\n",
       "      <td>LAMAN BAYU</td>\n",
       "      <td>2020-06-25</td>\n",
       "      <td>BUNGALOW</td>\n",
       "      <td>FREEHOLD</td>\n",
       "      <td>3.5</td>\n",
       "      <td>NaN</td>\n",
       "      <td>4692</td>\n",
       "      <td>NaN</td>\n",
       "      <td>789</td>\n",
       "      <td>3700000</td>\n",
       "    </tr>\n",
       "  </tbody>\n",
       "</table>\n",
       "<p>5613 rows × 10 columns</p>\n",
       "</div>"
      ],
      "text/plain": [
       "                   project_name   spa_date                 building_type  \\\n",
       "0      BANDAR BARU SRI PETALING 2023-06-09  TERRACE HOUSE - INTERMEDIATE   \n",
       "1      BANDAR BARU SRI PETALING 2023-06-01  TERRACE HOUSE - INTERMEDIATE   \n",
       "2      BANDAR BARU SRI PETALING 2023-05-29  TERRACE HOUSE - INTERMEDIATE   \n",
       "3      BANDAR BARU SRI PETALING 2023-05-25  TERRACE HOUSE - INTERMEDIATE   \n",
       "4      BANDAR BARU SRI PETALING 2023-05-22                        SEMI-D   \n",
       "...                         ...        ...                           ...   \n",
       "76747            TAMAN NAM FONG 2023-03-06  TERRACE HOUSE - INTERMEDIATE   \n",
       "76748            TAMAN NAM FONG 2021-03-03  TERRACE HOUSE - INTERMEDIATE   \n",
       "76749            TAMAN NAM FONG 2020-12-02  TERRACE HOUSE - INTERMEDIATE   \n",
       "76761                LAMAN BAYU 2023-04-26                      BUNGALOW   \n",
       "76762                LAMAN BAYU 2020-06-25                      BUNGALOW   \n",
       "\n",
       "          tenure floors rooms land_area built_up price_psf    price  \n",
       "0      LEASEHOLD      1   NaN      2196      NaN       342   750000  \n",
       "1      LEASEHOLD      2   NaN       753      NaN       398   300000  \n",
       "2      LEASEHOLD    2.5   NaN      3197      NaN       188   600000  \n",
       "3      LEASEHOLD      2   NaN       753      NaN       531   400000  \n",
       "4      LEASEHOLD    2.5   NaN      4801      NaN       250  1200000  \n",
       "...          ...    ...   ...       ...      ...       ...      ...  \n",
       "76747  LEASEHOLD      2   NaN      1540      NaN       325   500000  \n",
       "76748  LEASEHOLD      2   NaN      1032      NaN       618   638000  \n",
       "76749  LEASEHOLD      2   NaN      1540      NaN       409   630000  \n",
       "76761   FREEHOLD      3   NaN      4553      NaN       703  3200000  \n",
       "76762   FREEHOLD    3.5   NaN      4692      NaN       789  3700000  \n",
       "\n",
       "[5613 rows x 10 columns]"
      ]
     },
     "execution_count": 42,
     "metadata": {},
     "output_type": "execute_result"
    }
   ],
   "source": [
    "df_transactions[df_transactions['built_up'].isna()]"
   ]
  },
  {
   "cell_type": "markdown",
   "metadata": {},
   "source": [
    "It seems that for transactions with missing `built_up` has missing values for `rooms` too."
   ]
  },
  {
   "cell_type": "code",
   "execution_count": 46,
   "metadata": {},
   "outputs": [
    {
     "data": {
      "text/plain": [
       "5612"
      ]
     },
     "execution_count": 46,
     "metadata": {},
     "output_type": "execute_result"
    }
   ],
   "source": [
    "df_transactions[df_transactions['built_up'].isna()]['rooms'].isna().sum()"
   ]
  },
  {
   "cell_type": "markdown",
   "metadata": {},
   "source": [
    "Out of 5613 with missing `built_up`, 5612 has missing `rooms`."
   ]
  },
  {
   "cell_type": "code",
   "execution_count": 51,
   "metadata": {},
   "outputs": [
    {
     "data": {
      "text/plain": [
       "spa_date\n",
       "2000-05-10    1\n",
       "2009-09-03    1\n",
       "2011-09-30    1\n",
       "2012-05-18    1\n",
       "2015-05-07    1\n",
       "             ..\n",
       "2023-05-31    4\n",
       "2023-06-01    1\n",
       "2023-06-06    1\n",
       "2023-06-08    1\n",
       "2023-06-09    2\n",
       "Name: count, Length: 906, dtype: int64"
      ]
     },
     "execution_count": 51,
     "metadata": {},
     "output_type": "execute_result"
    }
   ],
   "source": [
    "df_transactions[df_transactions['built_up'].isna()]['spa_date'].value_counts().sort_index()"
   ]
  },
  {
   "cell_type": "code",
   "execution_count": 54,
   "metadata": {},
   "outputs": [
    {
     "name": "stderr",
     "output_type": "stream",
     "text": [
      "d:\\Repos\\GitHub\\time-series-house-price-forecasting\\venv\\Lib\\site-packages\\_plotly_utils\\basevalidators.py:105: FutureWarning:\n",
      "\n",
      "The behavior of DatetimeProperties.to_pydatetime is deprecated, in a future version this will return a Series containing python datetime objects instead of an ndarray. To retain the old behavior, call `np.array` on the result\n",
      "\n"
     ]
    },
    {
     "data": {
      "application/vnd.plotly.v1+json": {
       "config": {
        "plotlyServerURL": "https://plot.ly"
       },
       "data": [
        {
         "alignmentgroup": "True",
         "hovertemplate": "variable=count<br>spa_date=%{x}<br>value=%{y}<extra></extra>",
         "legendgroup": "count",
         "marker": {
          "color": "#636efa",
          "pattern": {
           "shape": ""
          }
         },
         "name": "count",
         "offsetgroup": "count",
         "orientation": "v",
         "showlegend": true,
         "textposition": "auto",
         "type": "bar",
         "x": [
          "2021-12-31T00:00:00",
          "2022-06-13T00:00:00",
          "2022-08-15T00:00:00",
          "2021-12-08T00:00:00",
          "2021-12-28T00:00:00",
          "2022-05-30T00:00:00",
          "2021-12-30T00:00:00",
          "2022-04-25T00:00:00",
          "2022-06-27T00:00:00",
          "2021-08-03T00:00:00",
          "2021-04-12T00:00:00",
          "2022-08-10T00:00:00",
          "2021-12-21T00:00:00",
          "2022-07-12T00:00:00",
          "2022-07-26T00:00:00",
          "2021-11-22T00:00:00",
          "2021-07-01T00:00:00",
          "2022-04-20T00:00:00",
          "2021-12-01T00:00:00",
          "2021-10-01T00:00:00",
          "2021-05-25T00:00:00",
          "2021-05-20T00:00:00",
          "2022-08-08T00:00:00",
          "2021-08-11T00:00:00",
          "2021-05-24T00:00:00",
          "2022-08-19T00:00:00",
          "2021-12-16T00:00:00",
          "2020-10-21T00:00:00",
          "2020-08-27T00:00:00",
          "2021-05-31T00:00:00",
          "2022-09-19T00:00:00",
          "2021-05-17T00:00:00",
          "2023-01-19T00:00:00",
          "2020-10-12T00:00:00",
          "2021-07-21T00:00:00",
          "2021-12-14T00:00:00",
          "2021-11-18T00:00:00",
          "2020-11-10T00:00:00",
          "2022-06-28T00:00:00",
          "2022-04-18T00:00:00",
          "2022-08-29T00:00:00",
          "2021-11-08T00:00:00",
          "2021-07-12T00:00:00",
          "2021-11-29T00:00:00",
          "2022-06-15T00:00:00",
          "2022-05-13T00:00:00",
          "2022-09-20T00:00:00",
          "2021-10-18T00:00:00",
          "2020-11-18T00:00:00",
          "2022-07-14T00:00:00",
          "2021-10-29T00:00:00",
          "2022-08-12T00:00:00",
          "2020-08-17T00:00:00",
          "2021-08-02T00:00:00",
          "2022-05-31T00:00:00",
          "2022-07-06T00:00:00",
          "2021-05-03T00:00:00",
          "2022-04-04T00:00:00",
          "2021-10-20T00:00:00",
          "2021-08-09T00:00:00",
          "2020-08-10T00:00:00",
          "2021-11-30T00:00:00",
          "2021-12-13T00:00:00",
          "2022-07-20T00:00:00",
          "2022-09-05T00:00:00",
          "2021-08-17T00:00:00",
          "2022-04-21T00:00:00",
          "2020-08-18T00:00:00",
          "2021-07-26T00:00:00",
          "2021-07-23T00:00:00",
          "2020-09-08T00:00:00",
          "2022-06-10T00:00:00",
          "2021-04-08T00:00:00",
          "2020-12-02T00:00:00",
          "2020-12-23T00:00:00",
          "2021-05-05T00:00:00",
          "2021-12-17T00:00:00",
          "2022-09-08T00:00:00",
          "2020-10-14T00:00:00",
          "2021-09-10T00:00:00",
          "2022-07-01T00:00:00",
          "2021-08-06T00:00:00",
          "2022-11-01T00:00:00",
          "2021-03-19T00:00:00",
          "2022-07-18T00:00:00",
          "2021-12-23T00:00:00",
          "2022-09-12T00:00:00",
          "2021-11-19T00:00:00",
          "2020-12-15T00:00:00",
          "2022-08-22T00:00:00",
          "2022-08-17T00:00:00",
          "2022-01-17T00:00:00",
          "2021-01-08T00:00:00",
          "2022-09-26T00:00:00",
          "2021-08-23T00:00:00",
          "2021-07-19T00:00:00",
          "2021-08-26T00:00:00",
          "2021-07-15T00:00:00",
          "2021-04-20T00:00:00",
          "2021-08-16T00:00:00",
          "2021-09-03T00:00:00",
          "2021-10-11T00:00:00",
          "2021-10-26T00:00:00",
          "2020-11-11T00:00:00",
          "2020-10-26T00:00:00",
          "2021-12-22T00:00:00",
          "2022-05-23T00:00:00",
          "2021-05-10T00:00:00",
          "2020-09-29T00:00:00",
          "2022-05-17T00:00:00",
          "2022-11-07T00:00:00",
          "2022-11-22T00:00:00",
          "2021-12-20T00:00:00",
          "2022-10-12T00:00:00",
          "2022-04-13T00:00:00",
          "2022-07-04T00:00:00",
          "2022-10-03T00:00:00",
          "2023-02-14T00:00:00",
          "2022-09-13T00:00:00",
          "2022-12-21T00:00:00",
          "2022-03-09T00:00:00",
          "2022-09-07T00:00:00",
          "2021-04-22T00:00:00",
          "2022-07-07T00:00:00",
          "2020-11-02T00:00:00",
          "2022-06-07T00:00:00",
          "2022-05-26T00:00:00",
          "2020-08-03T00:00:00",
          "2022-02-22T00:00:00",
          "2021-03-15T00:00:00",
          "2023-03-20T00:00:00",
          "2023-03-22T00:00:00",
          "2021-03-16T00:00:00",
          "2021-07-27T00:00:00",
          "2022-03-08T00:00:00",
          "2020-09-15T00:00:00",
          "2020-09-14T00:00:00",
          "2021-04-19T00:00:00",
          "2022-04-22T00:00:00",
          "2020-12-21T00:00:00",
          "2023-01-09T00:00:00",
          "2020-09-28T00:00:00",
          "2022-07-08T00:00:00",
          "2022-04-05T00:00:00",
          "2020-10-22T00:00:00",
          "2020-10-30T00:00:00",
          "2020-10-01T00:00:00",
          "2021-01-07T00:00:00",
          "2020-08-19T00:00:00",
          "2020-11-16T00:00:00",
          "2020-11-30T00:00:00",
          "2020-12-03T00:00:00",
          "2022-11-14T00:00:00",
          "2022-11-03T00:00:00",
          "2021-11-15T00:00:00",
          "2022-02-25T00:00:00",
          "2022-12-20T00:00:00",
          "2022-12-29T00:00:00",
          "2022-07-13T00:00:00",
          "2022-08-09T00:00:00",
          "2022-03-10T00:00:00",
          "2021-04-21T00:00:00",
          "2020-10-07T00:00:00",
          "2022-09-27T00:00:00",
          "2022-07-25T00:00:00",
          "2022-11-02T00:00:00",
          "2021-07-14T00:00:00",
          "2022-12-22T00:00:00",
          "2021-03-11T00:00:00",
          "2022-12-27T00:00:00",
          "2022-12-02T00:00:00",
          "2021-03-24T00:00:00",
          "2022-09-29T00:00:00",
          "2021-10-05T00:00:00",
          "2022-08-02T00:00:00",
          "2022-05-09T00:00:00",
          "2023-05-02T00:00:00",
          "2022-03-28T00:00:00",
          "2022-06-20T00:00:00",
          "2022-12-15T00:00:00",
          "2021-12-29T00:00:00",
          "2021-05-04T00:00:00",
          "2021-08-18T00:00:00",
          "2022-06-29T00:00:00",
          "2021-12-27T00:00:00",
          "2022-05-05T00:00:00",
          "2022-02-08T00:00:00",
          "2020-12-01T00:00:00",
          "2021-12-15T00:00:00",
          "2022-03-11T00:00:00",
          "2022-05-12T00:00:00",
          "2022-04-11T00:00:00",
          "2022-02-15T00:00:00",
          "2022-09-15T00:00:00",
          "2020-09-04T00:00:00",
          "2022-10-13T00:00:00",
          "2020-08-28T00:00:00",
          "2020-11-06T00:00:00",
          "2020-08-24T00:00:00",
          "2020-10-28T00:00:00",
          "2021-10-25T00:00:00",
          "2021-11-17T00:00:00",
          "2022-06-30T00:00:00",
          "2021-12-06T00:00:00",
          "2022-07-19T00:00:00",
          "2022-07-05T00:00:00",
          "2021-04-09T00:00:00",
          "2021-03-23T00:00:00",
          "2022-03-07T00:00:00",
          "2021-02-08T00:00:00",
          "2022-09-21T00:00:00",
          "2022-12-01T00:00:00",
          "2021-04-05T00:00:00",
          "2022-12-28T00:00:00",
          "2020-09-01T00:00:00",
          "2022-08-24T00:00:00",
          "2021-11-01T00:00:00",
          "2021-12-07T00:00:00",
          "2021-12-10T00:00:00",
          "2020-10-13T00:00:00",
          "2022-02-18T00:00:00",
          "2022-03-23T00:00:00",
          "2022-04-06T00:00:00",
          "2021-03-30T00:00:00",
          "2022-04-12T00:00:00",
          "2022-07-15T00:00:00",
          "2022-05-18T00:00:00",
          "2022-06-09T00:00:00",
          "2022-12-08T00:00:00",
          "2020-10-09T00:00:00",
          "2022-10-20T00:00:00",
          "2020-09-11T00:00:00",
          "2023-01-20T00:00:00",
          "2020-11-09T00:00:00",
          "2023-03-07T00:00:00",
          "2023-03-13T00:00:00",
          "2023-03-27T00:00:00",
          "2021-11-25T00:00:00",
          "2023-04-17T00:00:00",
          "2023-02-21T00:00:00",
          "2021-09-21T00:00:00",
          "2022-02-21T00:00:00",
          "2022-02-28T00:00:00",
          "2021-05-06T00:00:00",
          "2021-07-28T00:00:00",
          "2020-12-22T00:00:00",
          "2020-08-13T00:00:00",
          "2020-09-21T00:00:00",
          "2020-09-22T00:00:00",
          "2020-11-05T00:00:00",
          "2023-01-18T00:00:00",
          "2020-11-19T00:00:00",
          "2020-12-04T00:00:00",
          "2020-11-17T00:00:00",
          "2020-12-14T00:00:00",
          "2021-11-24T00:00:00",
          "2021-07-30T00:00:00",
          "2021-09-17T00:00:00",
          "2021-11-26T00:00:00",
          "2021-04-07T00:00:00",
          "2022-05-27T00:00:00",
          "2022-04-15T00:00:00",
          "2021-04-30T00:00:00",
          "2020-10-15T00:00:00",
          "2021-07-05T00:00:00",
          "2022-08-23T00:00:00",
          "2021-10-22T00:00:00",
          "2021-04-27T00:00:00",
          "2022-10-04T00:00:00",
          "2020-12-08T00:00:00",
          "2022-03-22T00:00:00",
          "2020-09-25T00:00:00",
          "2021-10-06T00:00:00",
          "2022-11-21T00:00:00",
          "2021-09-15T00:00:00",
          "2020-12-16T00:00:00",
          "2023-04-19T00:00:00",
          "2022-12-19T00:00:00",
          "2021-08-05T00:00:00",
          "2022-11-11T00:00:00",
          "2022-03-15T00:00:00",
          "2022-11-25T00:00:00",
          "2022-01-26T00:00:00",
          "2020-10-16T00:00:00",
          "2020-07-20T00:00:00",
          "2020-12-30T00:00:00",
          "2021-03-31T00:00:00",
          "2021-04-28T00:00:00",
          "2021-12-09T00:00:00",
          "2021-04-16T00:00:00",
          "2022-05-10T00:00:00",
          "2020-12-07T00:00:00",
          "2022-03-18T00:00:00",
          "2021-04-26T00:00:00",
          "2020-09-30T00:00:00",
          "2022-10-18T00:00:00",
          "2021-07-29T00:00:00",
          "2022-06-02T00:00:00",
          "2022-11-16T00:00:00",
          "2021-09-06T00:00:00",
          "2023-02-16T00:00:00",
          "2022-11-15T00:00:00",
          "2022-10-28T00:00:00",
          "2020-10-06T00:00:00",
          "2022-10-17T00:00:00",
          "2020-09-23T00:00:00",
          "2020-09-17T00:00:00",
          "2020-07-28T00:00:00",
          "2022-06-22T00:00:00",
          "2022-04-01T00:00:00",
          "2022-02-07T00:00:00",
          "2022-09-22T00:00:00",
          "2023-03-14T00:00:00",
          "2022-08-11T00:00:00",
          "2022-06-23T00:00:00",
          "2020-06-23T00:00:00",
          "2022-06-08T00:00:00",
          "2023-03-30T00:00:00",
          "2021-08-12T00:00:00",
          "2023-02-28T00:00:00",
          "2021-10-15T00:00:00",
          "2021-10-13T00:00:00",
          "2021-09-20T00:00:00",
          "2023-05-09T00:00:00",
          "2022-04-14T00:00:00",
          "2022-03-14T00:00:00",
          "2022-01-20T00:00:00",
          "2021-02-02T00:00:00",
          "2022-01-25T00:00:00",
          "2022-04-27T00:00:00",
          "2023-03-10T00:00:00",
          "2023-03-02T00:00:00",
          "2022-04-28T00:00:00",
          "2020-09-07T00:00:00",
          "2021-07-02T00:00:00",
          "2022-04-08T00:00:00",
          "2020-08-04T00:00:00",
          "2022-06-21T00:00:00",
          "2022-02-09T00:00:00",
          "2021-09-01T00:00:00",
          "2021-10-28T00:00:00",
          "2022-04-26T00:00:00",
          "2022-07-29T00:00:00",
          "2022-03-30T00:00:00",
          "2022-03-24T00:00:00",
          "2021-09-09T00:00:00",
          "2020-11-24T00:00:00",
          "2022-12-14T00:00:00",
          "2022-08-05T00:00:00",
          "2021-11-16T00:00:00",
          "2020-07-23T00:00:00",
          "2023-05-15T00:00:00",
          "2023-04-28T00:00:00",
          "2023-04-18T00:00:00",
          "2023-04-05T00:00:00",
          "2021-09-23T00:00:00",
          "2022-08-16T00:00:00",
          "2020-11-20T00:00:00",
          "2023-02-08T00:00:00",
          "2023-01-10T00:00:00",
          "2022-09-01T00:00:00",
          "2023-04-07T00:00:00",
          "2023-03-17T00:00:00",
          "2023-04-06T00:00:00",
          "2022-11-04T00:00:00",
          "2020-07-30T00:00:00",
          "2020-12-28T00:00:00",
          "2020-08-21T00:00:00",
          "2020-08-25T00:00:00",
          "2022-09-28T00:00:00",
          "2020-09-02T00:00:00",
          "2023-01-04T00:00:00",
          "2022-02-23T00:00:00",
          "2021-07-22T00:00:00",
          "2022-08-03T00:00:00",
          "2022-10-26T00:00:00",
          "2020-08-26T00:00:00",
          "2021-05-21T00:00:00",
          "2023-03-24T00:00:00",
          "2023-05-08T00:00:00",
          "2021-07-08T00:00:00",
          "2020-07-27T00:00:00",
          "2023-01-30T00:00:00",
          "2020-09-18T00:00:00",
          "2022-05-25T00:00:00",
          "2022-12-07T00:00:00",
          "2020-10-02T00:00:00",
          "2022-12-30T00:00:00",
          "2022-07-28T00:00:00",
          "2022-06-17T00:00:00",
          "2022-05-20T00:00:00",
          "2020-12-29T00:00:00",
          "2022-08-18T00:00:00",
          "2020-11-23T00:00:00",
          "2020-12-10T00:00:00",
          "2022-03-17T00:00:00",
          "2021-03-18T00:00:00",
          "2022-01-28T00:00:00",
          "2022-03-01T00:00:00",
          "2021-11-10T00:00:00",
          "2021-08-30T00:00:00",
          "2023-04-13T00:00:00",
          "2020-07-24T00:00:00",
          "2021-03-22T00:00:00",
          "2021-05-27T00:00:00",
          "2020-12-09T00:00:00",
          "2020-08-11T00:00:00",
          "2022-01-04T00:00:00",
          "2021-02-03T00:00:00",
          "2021-03-26T00:00:00",
          "2020-12-31T00:00:00",
          "2021-10-21T00:00:00",
          "2022-01-14T00:00:00",
          "2022-02-16T00:00:00",
          "2022-09-06T00:00:00",
          "2021-09-29T00:00:00",
          "2021-04-15T00:00:00",
          "2022-06-14T00:00:00",
          "2021-03-12T00:00:00",
          "2023-01-13T00:00:00",
          "2021-01-12T00:00:00",
          "2021-07-07T00:00:00",
          "2020-11-26T00:00:00",
          "2022-02-17T00:00:00",
          "2021-07-09T00:00:00",
          "2022-10-07T00:00:00",
          "2022-03-03T00:00:00",
          "2021-06-28T00:00:00",
          "2022-11-08T00:00:00",
          "2020-08-14T00:00:00",
          "2020-07-15T00:00:00",
          "2021-02-18T00:00:00",
          "2021-05-11T00:00:00",
          "2020-12-24T00:00:00",
          "2020-07-13T00:00:00",
          "2022-06-03T00:00:00",
          "2023-01-16T00:00:00",
          "2021-11-11T00:00:00",
          "2020-11-04T00:00:00",
          "2021-08-27T00:00:00",
          "2021-03-04T00:00:00",
          "2021-03-17T00:00:00",
          "2022-10-31T00:00:00",
          "2021-05-07T00:00:00",
          "2023-03-08T00:00:00",
          "2020-06-22T00:00:00",
          "2021-10-07T00:00:00",
          "2021-04-01T00:00:00",
          "2021-03-05T00:00:00",
          "2023-05-05T00:00:00",
          "2021-09-07T00:00:00",
          "2021-03-02T00:00:00",
          "2022-07-22T00:00:00",
          "2021-06-30T00:00:00",
          "2021-07-13T00:00:00",
          "2022-04-07T00:00:00",
          "2021-10-08T00:00:00",
          "2021-09-14T00:00:00",
          "2021-02-09T00:00:00",
          "2021-09-27T00:00:00",
          "2021-11-02T00:00:00",
          "2021-08-19T00:00:00",
          "2021-05-18T00:00:00",
          "2022-01-19T00:00:00",
          "2021-02-19T00:00:00",
          "2021-01-05T00:00:00",
          "2020-10-27T00:00:00",
          "2023-03-29T00:00:00",
          "2020-10-20T00:00:00",
          "2020-10-05T00:00:00",
          "2020-08-05T00:00:00",
          "2020-11-03T00:00:00",
          "2021-09-28T00:00:00",
          "2023-04-04T00:00:00",
          "2021-02-22T00:00:00",
          "2021-03-03T00:00:00",
          "2023-02-27T00:00:00",
          "2023-02-22T00:00:00",
          "2021-05-12T00:00:00",
          "2022-09-30T00:00:00",
          "2022-01-12T00:00:00",
          "2022-07-21T00:00:00",
          "2022-01-27T00:00:00",
          "2022-05-11T00:00:00",
          "2022-03-16T00:00:00",
          "2022-09-23T00:00:00",
          "2023-04-12T00:00:00",
          "2023-04-11T00:00:00",
          "2023-04-10T00:00:00",
          "2022-08-04T00:00:00",
          "2023-03-01T00:00:00",
          "2023-02-20T00:00:00",
          "2023-03-15T00:00:00",
          "2023-03-28T00:00:00",
          "2022-12-12T00:00:00",
          "2020-08-07T00:00:00",
          "2020-10-19T00:00:00",
          "2020-09-24T00:00:00",
          "2022-09-14T00:00:00",
          "2023-02-03T00:00:00",
          "2021-12-24T00:00:00",
          "2023-03-31T00:00:00",
          "2022-08-26T00:00:00",
          "2022-11-10T00:00:00",
          "2021-04-06T00:00:00",
          "2022-05-24T00:00:00",
          "2022-01-07T00:00:00",
          "2022-09-09T00:00:00",
          "2022-02-10T00:00:00",
          "2022-10-25T00:00:00",
          "2022-10-11T00:00:00",
          "2020-06-18T00:00:00",
          "2022-10-06T00:00:00",
          "2023-04-26T00:00:00",
          "2022-03-02T00:00:00",
          "2021-03-01T00:00:00",
          "2020-07-07T00:00:00",
          "2023-02-15T00:00:00",
          "2021-01-11T00:00:00",
          "2021-08-24T00:00:00",
          "2022-08-01T00:00:00",
          "2021-08-04T00:00:00",
          "2021-10-14T00:00:00",
          "2022-11-09T00:00:00",
          "2021-03-29T00:00:00",
          "2021-02-10T00:00:00",
          "2022-11-29T00:00:00",
          "2021-01-26T00:00:00",
          "2021-08-20T00:00:00",
          "2022-12-16T00:00:00",
          "2022-03-31T00:00:00",
          "2021-05-28T00:00:00",
          "2022-04-29T00:00:00",
          "2022-03-25T00:00:00",
          "2023-01-11T00:00:00",
          "2023-02-10T00:00:00",
          "2023-02-24T00:00:00",
          "2021-08-13T00:00:00",
          "2022-07-27T00:00:00",
          "2023-03-23T00:00:00",
          "2022-12-13T00:00:00",
          "2022-10-27T00:00:00",
          "2020-05-08T00:00:00",
          "2021-01-18T00:00:00",
          "2022-05-19T00:00:00",
          "2021-01-29T00:00:00",
          "2020-11-27T00:00:00",
          "2021-04-02T00:00:00",
          "2021-07-06T00:00:00",
          "2021-05-19T00:00:00",
          "2020-10-23T00:00:00",
          "2021-11-03T00:00:00",
          "2021-02-16T00:00:00",
          "2022-08-25T00:00:00",
          "2020-09-03T00:00:00",
          "2020-11-13T00:00:00",
          "2021-01-21T00:00:00",
          "2021-04-23T00:00:00",
          "2022-10-05T00:00:00",
          "2022-08-30T00:00:00",
          "2021-12-02T00:00:00",
          "2023-05-10T00:00:00",
          "2021-07-16T00:00:00",
          "2020-09-10T00:00:00",
          "2021-09-02T00:00:00",
          "2023-03-21T00:00:00",
          "2021-10-27T00:00:00",
          "2023-04-03T00:00:00",
          "2022-02-14T00:00:00",
          "2021-02-04T00:00:00",
          "2023-03-06T00:00:00",
          "2022-12-06T00:00:00",
          "2021-06-03T00:00:00",
          "2021-06-18T00:00:00",
          "2021-02-05T00:00:00",
          "2021-12-03T00:00:00",
          "2020-06-26T00:00:00",
          "2022-11-23T00:00:00",
          "2022-11-30T00:00:00",
          "2023-01-27T00:00:00",
          "2020-10-08T00:00:00",
          "2020-07-06T00:00:00",
          "2021-01-20T00:00:00",
          "2022-03-04T00:00:00",
          "2021-02-11T00:00:00",
          "2021-03-09T00:00:00",
          "2020-11-25T00:00:00",
          "2020-07-10T00:00:00",
          "2022-12-09T00:00:00",
          "2022-10-21T00:00:00",
          "2021-09-30T00:00:00",
          "2022-02-11T00:00:00",
          "2021-02-25T00:00:00",
          "2023-03-03T00:00:00",
          "2020-12-11T00:00:00",
          "2020-06-29T00:00:00",
          "2023-02-17T00:00:00",
          "2020-07-22T00:00:00",
          "2021-03-08T00:00:00",
          "2022-09-02T00:00:00",
          "2022-12-05T00:00:00",
          "2023-05-31T00:00:00",
          "2022-01-03T00:00:00",
          "2023-01-17T00:00:00",
          "2021-06-01T00:00:00",
          "2021-11-23T00:00:00",
          "2020-05-18T00:00:00",
          "2021-01-06T00:00:00",
          "2023-01-31T00:00:00",
          "2020-07-16T00:00:00",
          "2023-03-16T00:00:00",
          "2020-08-06T00:00:00",
          "2022-06-16T00:00:00",
          "2020-11-12T00:00:00",
          "2023-01-03T00:00:00",
          "2022-01-10T00:00:00",
          "2022-12-23T00:00:00",
          "2022-10-19T00:00:00",
          "2020-12-18T00:00:00",
          "2020-05-29T00:00:00",
          "2023-01-26T00:00:00",
          "2021-11-09T00:00:00",
          "2021-06-29T00:00:00",
          "2021-04-14T00:00:00",
          "2023-05-17T00:00:00",
          "2021-03-27T00:00:00",
          "2023-04-14T00:00:00",
          "2020-02-27T00:00:00",
          "2021-03-10T00:00:00",
          "2021-09-22T00:00:00",
          "2023-04-27T00:00:00",
          "2021-02-01T00:00:00",
          "2023-04-25T00:00:00",
          "2023-05-03T00:00:00",
          "2020-07-01T00:00:00",
          "2020-12-17T00:00:00",
          "2023-01-12T00:00:00",
          "2021-11-05T00:00:00",
          "2023-04-20T00:00:00",
          "2023-01-05T00:00:00",
          "2023-02-02T00:00:00",
          "2020-06-30T00:00:00",
          "2021-01-22T00:00:00",
          "2023-05-16T00:00:00",
          "2021-04-13T00:00:00",
          "2023-05-22T00:00:00",
          "2022-06-01T00:00:00",
          "2021-11-12T00:00:00",
          "2021-01-14T00:00:00",
          "2022-02-24T00:00:00",
          "2020-07-29T00:00:00",
          "2021-06-25T00:00:00",
          "2021-01-25T00:00:00",
          "2020-06-09T00:00:00",
          "2022-01-06T00:00:00",
          "2021-03-25T00:00:00",
          "2020-03-03T00:00:00",
          "2021-06-21T00:00:00",
          "2021-01-27T00:00:00",
          "2021-10-04T00:00:00",
          "2022-05-06T00:00:00",
          "2023-05-29T00:00:00",
          "2021-10-12T00:00:00",
          "2020-06-25T00:00:00",
          "2020-06-05T00:00:00",
          "2020-06-17T00:00:00",
          "2020-08-12T00:00:00",
          "2023-03-09T00:00:00",
          "2021-04-17T00:00:00",
          "2022-01-24T00:00:00",
          "2020-06-01T00:00:00",
          "2021-02-15T00:00:00",
          "2023-02-01T00:00:00",
          "2021-09-08T00:00:00",
          "2021-01-04T00:00:00",
          "2020-01-14T00:00:00",
          "2020-03-06T00:00:00",
          "2021-09-13T00:00:00",
          "2022-05-22T00:00:00",
          "2020-05-27T00:00:00",
          "2022-02-04T00:00:00",
          "2023-02-07T00:00:00",
          "2022-08-27T00:00:00",
          "2023-05-30T00:00:00",
          "2020-05-15T00:00:00",
          "2021-09-24T00:00:00",
          "2018-12-17T00:00:00",
          "2022-11-05T00:00:00",
          "2020-09-16T00:00:00",
          "2021-06-10T00:00:00",
          "2019-10-23T00:00:00",
          "2019-09-11T00:00:00",
          "2020-06-24T00:00:00",
          "2023-02-06T00:00:00",
          "2020-03-12T00:00:00",
          "2022-11-18T00:00:00",
          "2020-07-09T00:00:00",
          "2019-10-17T00:00:00",
          "2020-08-31T00:00:00",
          "2021-08-25T00:00:00",
          "2023-06-09T00:00:00",
          "2023-05-26T00:00:00",
          "2020-02-24T00:00:00",
          "2022-01-05T00:00:00",
          "2020-07-02T00:00:00",
          "2021-12-11T00:00:00",
          "2022-02-03T00:00:00",
          "2023-02-23T00:00:00",
          "2022-11-17T00:00:00",
          "2023-05-12T00:00:00",
          "2023-05-19T00:00:00",
          "2021-06-17T00:00:00",
          "2023-02-13T00:00:00",
          "2021-08-08T00:00:00",
          "2022-11-24T00:00:00",
          "2022-02-26T00:00:00",
          "2020-06-12T00:00:00",
          "2021-02-26T00:00:00",
          "2022-03-29T00:00:00",
          "2020-07-08T00:00:00",
          "2020-05-14T00:00:00",
          "2020-05-12T00:00:00",
          "2020-05-22T00:00:00",
          "2020-07-21T00:00:00",
          "2023-01-06T00:00:00",
          "2022-10-14T00:00:00",
          "2023-05-25T00:00:00",
          "2020-09-09T00:00:00",
          "2023-01-25T00:00:00",
          "2021-06-07T00:00:00",
          "2023-05-18T00:00:00",
          "2021-02-24T00:00:00",
          "2023-05-11T00:00:00",
          "2020-01-08T00:00:00",
          "2021-06-04T00:00:00",
          "2020-06-19T00:00:00",
          "2018-12-10T00:00:00",
          "2019-12-30T00:00:00",
          "2023-02-09T00:00:00",
          "2020-03-11T00:00:00",
          "2020-02-13T00:00:00",
          "2022-01-31T00:00:00",
          "2020-06-20T00:00:00",
          "2021-06-11T00:00:00",
          "2020-02-04T00:00:00",
          "2020-11-14T00:00:00",
          "2019-11-22T00:00:00",
          "2020-07-26T00:00:00",
          "2023-04-01T00:00:00",
          "2020-07-17T00:00:00",
          "2020-06-14T00:00:00",
          "2020-05-13T00:00:00",
          "2020-01-22T00:00:00",
          "2020-03-16T00:00:00",
          "2019-09-23T00:00:00",
          "2021-08-10T00:00:00",
          "2020-03-05T00:00:00",
          "2023-06-06T00:00:00",
          "2019-10-22T00:00:00",
          "2022-12-31T00:00:00",
          "2022-05-07T00:00:00",
          "2022-06-26T00:00:00",
          "2022-09-24T00:00:00",
          "2018-10-18T00:00:00",
          "2019-11-05T00:00:00",
          "2020-01-13T00:00:00",
          "2019-07-09T00:00:00",
          "2023-03-18T00:00:00",
          "2019-09-04T00:00:00",
          "2020-09-12T00:00:00",
          "2021-05-30T00:00:00",
          "2018-12-26T00:00:00",
          "2020-02-12T00:00:00",
          "2020-01-18T00:00:00",
          "2012-05-18T00:00:00",
          "2023-01-28T00:00:00",
          "2019-03-12T00:00:00",
          "2021-12-12T00:00:00",
          "2021-05-01T00:00:00",
          "2020-07-14T00:00:00",
          "2020-05-20T00:00:00",
          "2017-02-08T00:00:00",
          "2022-07-17T00:00:00",
          "2020-02-11T00:00:00",
          "2021-09-11T00:00:00",
          "2020-05-28T00:00:00",
          "2020-11-15T00:00:00",
          "2022-04-09T00:00:00",
          "2019-11-04T00:00:00",
          "2019-07-29T00:00:00",
          "2022-09-25T00:00:00",
          "2011-09-30T00:00:00",
          "2022-05-16T00:00:00",
          "2019-12-05T00:00:00",
          "2020-08-01T00:00:00",
          "2020-06-03T00:00:00",
          "2023-04-24T00:00:00",
          "2021-11-20T00:00:00",
          "2021-01-15T00:00:00",
          "2020-02-18T00:00:00",
          "2021-12-25T00:00:00",
          "2019-11-01T00:00:00",
          "2018-09-04T00:00:00",
          "2020-12-05T00:00:00",
          "2021-06-23T00:00:00",
          "2019-07-15T00:00:00",
          "2022-07-09T00:00:00",
          "2019-11-15T00:00:00",
          "2022-11-13T00:00:00",
          "2020-06-27T00:00:00",
          "2022-11-12T00:00:00",
          "2021-01-13T00:00:00",
          "2021-12-18T00:00:00",
          "2019-09-30T00:00:00",
          "2020-06-16T00:00:00",
          "2022-11-28T00:00:00",
          "2020-08-15T00:00:00",
          "2020-06-06T00:00:00",
          "2022-03-19T00:00:00",
          "2020-02-25T00:00:00",
          "2023-05-24T00:00:00",
          "2022-01-13T00:00:00",
          "2020-10-17T00:00:00",
          "2018-07-31T00:00:00",
          "2022-01-21T00:00:00",
          "2018-08-20T00:00:00",
          "2019-03-25T00:00:00",
          "2020-08-02T00:00:00",
          "2019-05-21T00:00:00",
          "2019-10-30T00:00:00",
          "2020-07-12T00:00:00",
          "2020-05-06T00:00:00",
          "2021-11-07T00:00:00",
          "2022-03-21T00:00:00",
          "2023-04-09T00:00:00",
          "2021-02-23T00:00:00",
          "2021-06-27T00:00:00",
          "2020-07-03T00:00:00",
          "2021-01-01T00:00:00",
          "2020-01-10T00:00:00",
          "2022-01-18T00:00:00",
          "2021-12-26T00:00:00",
          "2019-10-11T00:00:00",
          "2020-12-25T00:00:00",
          "2022-06-06T00:00:00",
          "2019-09-24T00:00:00",
          "2020-03-04T00:00:00",
          "2023-04-21T00:00:00",
          "2021-06-16T00:00:00",
          "2021-07-31T00:00:00",
          "2020-01-31T00:00:00",
          "2018-10-30T00:00:00",
          "2021-05-29T00:00:00",
          "2019-10-29T00:00:00",
          "2019-12-16T00:00:00",
          "2020-03-02T00:00:00",
          "2000-05-10T00:00:00",
          "2020-02-19T00:00:00",
          "2020-02-20T00:00:00",
          "2021-06-15T00:00:00",
          "2020-03-01T00:00:00",
          "2015-05-07T00:00:00",
          "2023-06-08T00:00:00",
          "2020-09-27T00:00:00",
          "2018-10-01T00:00:00",
          "2023-04-02T00:00:00",
          "2020-12-12T00:00:00",
          "2020-02-07T00:00:00",
          "2019-12-12T00:00:00",
          "2021-04-18T00:00:00",
          "2021-06-08T00:00:00",
          "2020-05-19T00:00:00",
          "2019-06-14T00:00:00",
          "2021-06-14T00:00:00",
          "2020-06-11T00:00:00",
          "2021-02-17T00:00:00",
          "2021-07-18T00:00:00",
          "2023-05-23T00:00:00",
          "2022-08-13T00:00:00",
          "2017-12-15T00:00:00",
          "2020-05-21T00:00:00",
          "2021-12-05T00:00:00",
          "2022-01-11T00:00:00",
          "2020-12-06T00:00:00",
          "2020-06-02T00:00:00",
          "2020-06-10T00:00:00",
          "2019-12-18T00:00:00",
          "2018-12-28T00:00:00",
          "2022-06-24T00:00:00",
          "2020-02-21T00:00:00",
          "2022-10-16T00:00:00",
          "2020-03-13T00:00:00",
          "2019-10-02T00:00:00",
          "2023-06-01T00:00:00",
          "2020-01-07T00:00:00",
          "2019-04-03T00:00:00",
          "2019-11-19T00:00:00",
          "2022-06-04T00:00:00",
          "2021-01-02T00:00:00",
          "2009-09-03T00:00:00",
          "2020-03-17T00:00:00",
          "2019-08-16T00:00:00",
          "2020-03-09T00:00:00",
          "2020-01-29T00:00:00",
          "2020-01-15T00:00:00",
          "2020-01-16T00:00:00"
         ],
         "xaxis": "x",
         "y": [
          33,
          20,
          19,
          18,
          18,
          18,
          17,
          16,
          16,
          16,
          16,
          15,
          15,
          15,
          15,
          15,
          15,
          15,
          15,
          15,
          15,
          15,
          15,
          15,
          15,
          14,
          14,
          14,
          14,
          14,
          14,
          14,
          14,
          14,
          14,
          14,
          14,
          14,
          14,
          14,
          13,
          13,
          13,
          13,
          13,
          13,
          13,
          13,
          13,
          13,
          13,
          13,
          13,
          13,
          13,
          13,
          13,
          13,
          13,
          13,
          13,
          13,
          13,
          13,
          13,
          13,
          13,
          12,
          12,
          12,
          12,
          12,
          12,
          12,
          12,
          12,
          12,
          12,
          12,
          12,
          12,
          12,
          12,
          12,
          12,
          12,
          12,
          12,
          12,
          12,
          12,
          12,
          12,
          11,
          11,
          11,
          11,
          11,
          11,
          11,
          11,
          11,
          11,
          11,
          11,
          11,
          11,
          11,
          11,
          11,
          11,
          11,
          11,
          11,
          11,
          11,
          11,
          11,
          11,
          11,
          11,
          11,
          11,
          11,
          11,
          11,
          11,
          11,
          11,
          11,
          11,
          11,
          11,
          11,
          11,
          11,
          10,
          10,
          10,
          10,
          10,
          10,
          10,
          10,
          10,
          10,
          10,
          10,
          10,
          10,
          10,
          10,
          10,
          10,
          10,
          10,
          10,
          10,
          10,
          10,
          10,
          10,
          10,
          10,
          10,
          10,
          10,
          10,
          10,
          10,
          10,
          10,
          10,
          10,
          10,
          10,
          10,
          10,
          10,
          10,
          10,
          10,
          10,
          10,
          10,
          10,
          10,
          10,
          10,
          10,
          10,
          10,
          10,
          10,
          9,
          9,
          9,
          9,
          9,
          9,
          9,
          9,
          9,
          9,
          9,
          9,
          9,
          9,
          9,
          9,
          9,
          9,
          9,
          9,
          9,
          9,
          9,
          9,
          9,
          9,
          9,
          9,
          9,
          9,
          9,
          9,
          9,
          9,
          9,
          9,
          9,
          9,
          9,
          9,
          9,
          9,
          9,
          9,
          9,
          9,
          9,
          9,
          9,
          9,
          9,
          9,
          9,
          9,
          9,
          9,
          9,
          9,
          9,
          9,
          9,
          9,
          9,
          9,
          9,
          8,
          8,
          8,
          8,
          8,
          8,
          8,
          8,
          8,
          8,
          8,
          8,
          8,
          8,
          8,
          8,
          8,
          8,
          8,
          8,
          8,
          8,
          8,
          8,
          8,
          8,
          8,
          8,
          8,
          8,
          8,
          8,
          8,
          8,
          8,
          8,
          8,
          8,
          8,
          8,
          8,
          8,
          8,
          8,
          8,
          8,
          8,
          8,
          8,
          8,
          8,
          8,
          8,
          8,
          8,
          8,
          8,
          8,
          8,
          8,
          8,
          8,
          8,
          8,
          8,
          8,
          8,
          8,
          8,
          8,
          8,
          8,
          8,
          8,
          8,
          8,
          7,
          7,
          7,
          7,
          7,
          7,
          7,
          7,
          7,
          7,
          7,
          7,
          7,
          7,
          7,
          7,
          7,
          7,
          7,
          7,
          7,
          7,
          7,
          7,
          7,
          7,
          7,
          7,
          7,
          7,
          7,
          7,
          7,
          7,
          7,
          7,
          7,
          7,
          7,
          7,
          7,
          7,
          7,
          7,
          7,
          7,
          7,
          7,
          7,
          7,
          7,
          7,
          7,
          7,
          7,
          7,
          7,
          7,
          7,
          7,
          7,
          7,
          7,
          7,
          7,
          7,
          7,
          7,
          7,
          7,
          7,
          7,
          7,
          7,
          7,
          7,
          7,
          7,
          7,
          7,
          7,
          7,
          7,
          7,
          6,
          6,
          6,
          6,
          6,
          6,
          6,
          6,
          6,
          6,
          6,
          6,
          6,
          6,
          6,
          6,
          6,
          6,
          6,
          6,
          6,
          6,
          6,
          6,
          6,
          6,
          6,
          6,
          6,
          6,
          6,
          6,
          6,
          6,
          6,
          6,
          6,
          6,
          6,
          6,
          6,
          6,
          6,
          6,
          6,
          6,
          6,
          6,
          6,
          6,
          6,
          6,
          6,
          6,
          6,
          6,
          6,
          6,
          6,
          6,
          6,
          6,
          6,
          6,
          6,
          6,
          6,
          6,
          6,
          6,
          6,
          6,
          6,
          6,
          6,
          6,
          6,
          6,
          6,
          5,
          5,
          5,
          5,
          5,
          5,
          5,
          5,
          5,
          5,
          5,
          5,
          5,
          5,
          5,
          5,
          5,
          5,
          5,
          5,
          5,
          5,
          5,
          5,
          5,
          5,
          5,
          5,
          5,
          5,
          5,
          5,
          5,
          5,
          5,
          5,
          5,
          5,
          5,
          5,
          5,
          5,
          5,
          5,
          5,
          5,
          5,
          5,
          5,
          5,
          5,
          5,
          5,
          5,
          5,
          5,
          5,
          5,
          5,
          5,
          5,
          5,
          5,
          5,
          5,
          5,
          5,
          4,
          4,
          4,
          4,
          4,
          4,
          4,
          4,
          4,
          4,
          4,
          4,
          4,
          4,
          4,
          4,
          4,
          4,
          4,
          4,
          4,
          4,
          4,
          4,
          4,
          4,
          4,
          4,
          4,
          4,
          4,
          4,
          4,
          4,
          4,
          4,
          4,
          4,
          4,
          4,
          4,
          4,
          4,
          4,
          4,
          4,
          4,
          4,
          4,
          4,
          4,
          4,
          4,
          4,
          4,
          4,
          4,
          4,
          3,
          3,
          3,
          3,
          3,
          3,
          3,
          3,
          3,
          3,
          3,
          3,
          3,
          3,
          3,
          3,
          3,
          3,
          3,
          3,
          3,
          3,
          3,
          3,
          3,
          3,
          3,
          3,
          3,
          3,
          3,
          3,
          3,
          3,
          3,
          3,
          3,
          3,
          3,
          3,
          3,
          3,
          3,
          3,
          3,
          3,
          3,
          3,
          3,
          3,
          3,
          3,
          2,
          2,
          2,
          2,
          2,
          2,
          2,
          2,
          2,
          2,
          2,
          2,
          2,
          2,
          2,
          2,
          2,
          2,
          2,
          2,
          2,
          2,
          2,
          2,
          2,
          2,
          2,
          2,
          2,
          2,
          2,
          2,
          2,
          2,
          2,
          2,
          2,
          2,
          2,
          2,
          2,
          2,
          2,
          2,
          2,
          2,
          2,
          2,
          2,
          2,
          2,
          2,
          2,
          2,
          2,
          2,
          2,
          2,
          2,
          2,
          2,
          1,
          1,
          1,
          1,
          1,
          1,
          1,
          1,
          1,
          1,
          1,
          1,
          1,
          1,
          1,
          1,
          1,
          1,
          1,
          1,
          1,
          1,
          1,
          1,
          1,
          1,
          1,
          1,
          1,
          1,
          1,
          1,
          1,
          1,
          1,
          1,
          1,
          1,
          1,
          1,
          1,
          1,
          1,
          1,
          1,
          1,
          1,
          1,
          1,
          1,
          1,
          1,
          1,
          1,
          1,
          1,
          1,
          1,
          1,
          1,
          1,
          1,
          1,
          1,
          1,
          1,
          1,
          1,
          1,
          1,
          1,
          1,
          1,
          1,
          1,
          1,
          1,
          1,
          1,
          1,
          1,
          1,
          1,
          1,
          1,
          1,
          1,
          1,
          1,
          1,
          1,
          1,
          1,
          1,
          1,
          1,
          1,
          1,
          1,
          1,
          1,
          1,
          1,
          1,
          1,
          1,
          1,
          1,
          1,
          1,
          1,
          1,
          1,
          1,
          1,
          1,
          1,
          1,
          1,
          1,
          1,
          1,
          1,
          1,
          1,
          1,
          1,
          1,
          1,
          1,
          1,
          1,
          1,
          1,
          1,
          1,
          1,
          1,
          1,
          1,
          1,
          1,
          1,
          1,
          1,
          1,
          1,
          1,
          1,
          1,
          1,
          1,
          1,
          1,
          1,
          1,
          1,
          1,
          1,
          1,
          1,
          1,
          1,
          1,
          1,
          1,
          1,
          1,
          1,
          1
         ],
         "yaxis": "y"
        }
       ],
       "layout": {
        "barmode": "relative",
        "legend": {
         "title": {
          "text": "variable"
         },
         "tracegroupgap": 0
        },
        "margin": {
         "t": 60
        },
        "template": {
         "data": {
          "bar": [
           {
            "error_x": {
             "color": "#2a3f5f"
            },
            "error_y": {
             "color": "#2a3f5f"
            },
            "marker": {
             "line": {
              "color": "#E5ECF6",
              "width": 0.5
             },
             "pattern": {
              "fillmode": "overlay",
              "size": 10,
              "solidity": 0.2
             }
            },
            "type": "bar"
           }
          ],
          "barpolar": [
           {
            "marker": {
             "line": {
              "color": "#E5ECF6",
              "width": 0.5
             },
             "pattern": {
              "fillmode": "overlay",
              "size": 10,
              "solidity": 0.2
             }
            },
            "type": "barpolar"
           }
          ],
          "carpet": [
           {
            "aaxis": {
             "endlinecolor": "#2a3f5f",
             "gridcolor": "white",
             "linecolor": "white",
             "minorgridcolor": "white",
             "startlinecolor": "#2a3f5f"
            },
            "baxis": {
             "endlinecolor": "#2a3f5f",
             "gridcolor": "white",
             "linecolor": "white",
             "minorgridcolor": "white",
             "startlinecolor": "#2a3f5f"
            },
            "type": "carpet"
           }
          ],
          "choropleth": [
           {
            "colorbar": {
             "outlinewidth": 0,
             "ticks": ""
            },
            "type": "choropleth"
           }
          ],
          "contour": [
           {
            "colorbar": {
             "outlinewidth": 0,
             "ticks": ""
            },
            "colorscale": [
             [
              0,
              "#0d0887"
             ],
             [
              0.1111111111111111,
              "#46039f"
             ],
             [
              0.2222222222222222,
              "#7201a8"
             ],
             [
              0.3333333333333333,
              "#9c179e"
             ],
             [
              0.4444444444444444,
              "#bd3786"
             ],
             [
              0.5555555555555556,
              "#d8576b"
             ],
             [
              0.6666666666666666,
              "#ed7953"
             ],
             [
              0.7777777777777778,
              "#fb9f3a"
             ],
             [
              0.8888888888888888,
              "#fdca26"
             ],
             [
              1,
              "#f0f921"
             ]
            ],
            "type": "contour"
           }
          ],
          "contourcarpet": [
           {
            "colorbar": {
             "outlinewidth": 0,
             "ticks": ""
            },
            "type": "contourcarpet"
           }
          ],
          "heatmap": [
           {
            "colorbar": {
             "outlinewidth": 0,
             "ticks": ""
            },
            "colorscale": [
             [
              0,
              "#0d0887"
             ],
             [
              0.1111111111111111,
              "#46039f"
             ],
             [
              0.2222222222222222,
              "#7201a8"
             ],
             [
              0.3333333333333333,
              "#9c179e"
             ],
             [
              0.4444444444444444,
              "#bd3786"
             ],
             [
              0.5555555555555556,
              "#d8576b"
             ],
             [
              0.6666666666666666,
              "#ed7953"
             ],
             [
              0.7777777777777778,
              "#fb9f3a"
             ],
             [
              0.8888888888888888,
              "#fdca26"
             ],
             [
              1,
              "#f0f921"
             ]
            ],
            "type": "heatmap"
           }
          ],
          "heatmapgl": [
           {
            "colorbar": {
             "outlinewidth": 0,
             "ticks": ""
            },
            "colorscale": [
             [
              0,
              "#0d0887"
             ],
             [
              0.1111111111111111,
              "#46039f"
             ],
             [
              0.2222222222222222,
              "#7201a8"
             ],
             [
              0.3333333333333333,
              "#9c179e"
             ],
             [
              0.4444444444444444,
              "#bd3786"
             ],
             [
              0.5555555555555556,
              "#d8576b"
             ],
             [
              0.6666666666666666,
              "#ed7953"
             ],
             [
              0.7777777777777778,
              "#fb9f3a"
             ],
             [
              0.8888888888888888,
              "#fdca26"
             ],
             [
              1,
              "#f0f921"
             ]
            ],
            "type": "heatmapgl"
           }
          ],
          "histogram": [
           {
            "marker": {
             "pattern": {
              "fillmode": "overlay",
              "size": 10,
              "solidity": 0.2
             }
            },
            "type": "histogram"
           }
          ],
          "histogram2d": [
           {
            "colorbar": {
             "outlinewidth": 0,
             "ticks": ""
            },
            "colorscale": [
             [
              0,
              "#0d0887"
             ],
             [
              0.1111111111111111,
              "#46039f"
             ],
             [
              0.2222222222222222,
              "#7201a8"
             ],
             [
              0.3333333333333333,
              "#9c179e"
             ],
             [
              0.4444444444444444,
              "#bd3786"
             ],
             [
              0.5555555555555556,
              "#d8576b"
             ],
             [
              0.6666666666666666,
              "#ed7953"
             ],
             [
              0.7777777777777778,
              "#fb9f3a"
             ],
             [
              0.8888888888888888,
              "#fdca26"
             ],
             [
              1,
              "#f0f921"
             ]
            ],
            "type": "histogram2d"
           }
          ],
          "histogram2dcontour": [
           {
            "colorbar": {
             "outlinewidth": 0,
             "ticks": ""
            },
            "colorscale": [
             [
              0,
              "#0d0887"
             ],
             [
              0.1111111111111111,
              "#46039f"
             ],
             [
              0.2222222222222222,
              "#7201a8"
             ],
             [
              0.3333333333333333,
              "#9c179e"
             ],
             [
              0.4444444444444444,
              "#bd3786"
             ],
             [
              0.5555555555555556,
              "#d8576b"
             ],
             [
              0.6666666666666666,
              "#ed7953"
             ],
             [
              0.7777777777777778,
              "#fb9f3a"
             ],
             [
              0.8888888888888888,
              "#fdca26"
             ],
             [
              1,
              "#f0f921"
             ]
            ],
            "type": "histogram2dcontour"
           }
          ],
          "mesh3d": [
           {
            "colorbar": {
             "outlinewidth": 0,
             "ticks": ""
            },
            "type": "mesh3d"
           }
          ],
          "parcoords": [
           {
            "line": {
             "colorbar": {
              "outlinewidth": 0,
              "ticks": ""
             }
            },
            "type": "parcoords"
           }
          ],
          "pie": [
           {
            "automargin": true,
            "type": "pie"
           }
          ],
          "scatter": [
           {
            "fillpattern": {
             "fillmode": "overlay",
             "size": 10,
             "solidity": 0.2
            },
            "type": "scatter"
           }
          ],
          "scatter3d": [
           {
            "line": {
             "colorbar": {
              "outlinewidth": 0,
              "ticks": ""
             }
            },
            "marker": {
             "colorbar": {
              "outlinewidth": 0,
              "ticks": ""
             }
            },
            "type": "scatter3d"
           }
          ],
          "scattercarpet": [
           {
            "marker": {
             "colorbar": {
              "outlinewidth": 0,
              "ticks": ""
             }
            },
            "type": "scattercarpet"
           }
          ],
          "scattergeo": [
           {
            "marker": {
             "colorbar": {
              "outlinewidth": 0,
              "ticks": ""
             }
            },
            "type": "scattergeo"
           }
          ],
          "scattergl": [
           {
            "marker": {
             "colorbar": {
              "outlinewidth": 0,
              "ticks": ""
             }
            },
            "type": "scattergl"
           }
          ],
          "scattermapbox": [
           {
            "marker": {
             "colorbar": {
              "outlinewidth": 0,
              "ticks": ""
             }
            },
            "type": "scattermapbox"
           }
          ],
          "scatterpolar": [
           {
            "marker": {
             "colorbar": {
              "outlinewidth": 0,
              "ticks": ""
             }
            },
            "type": "scatterpolar"
           }
          ],
          "scatterpolargl": [
           {
            "marker": {
             "colorbar": {
              "outlinewidth": 0,
              "ticks": ""
             }
            },
            "type": "scatterpolargl"
           }
          ],
          "scatterternary": [
           {
            "marker": {
             "colorbar": {
              "outlinewidth": 0,
              "ticks": ""
             }
            },
            "type": "scatterternary"
           }
          ],
          "surface": [
           {
            "colorbar": {
             "outlinewidth": 0,
             "ticks": ""
            },
            "colorscale": [
             [
              0,
              "#0d0887"
             ],
             [
              0.1111111111111111,
              "#46039f"
             ],
             [
              0.2222222222222222,
              "#7201a8"
             ],
             [
              0.3333333333333333,
              "#9c179e"
             ],
             [
              0.4444444444444444,
              "#bd3786"
             ],
             [
              0.5555555555555556,
              "#d8576b"
             ],
             [
              0.6666666666666666,
              "#ed7953"
             ],
             [
              0.7777777777777778,
              "#fb9f3a"
             ],
             [
              0.8888888888888888,
              "#fdca26"
             ],
             [
              1,
              "#f0f921"
             ]
            ],
            "type": "surface"
           }
          ],
          "table": [
           {
            "cells": {
             "fill": {
              "color": "#EBF0F8"
             },
             "line": {
              "color": "white"
             }
            },
            "header": {
             "fill": {
              "color": "#C8D4E3"
             },
             "line": {
              "color": "white"
             }
            },
            "type": "table"
           }
          ]
         },
         "layout": {
          "annotationdefaults": {
           "arrowcolor": "#2a3f5f",
           "arrowhead": 0,
           "arrowwidth": 1
          },
          "autotypenumbers": "strict",
          "coloraxis": {
           "colorbar": {
            "outlinewidth": 0,
            "ticks": ""
           }
          },
          "colorscale": {
           "diverging": [
            [
             0,
             "#8e0152"
            ],
            [
             0.1,
             "#c51b7d"
            ],
            [
             0.2,
             "#de77ae"
            ],
            [
             0.3,
             "#f1b6da"
            ],
            [
             0.4,
             "#fde0ef"
            ],
            [
             0.5,
             "#f7f7f7"
            ],
            [
             0.6,
             "#e6f5d0"
            ],
            [
             0.7,
             "#b8e186"
            ],
            [
             0.8,
             "#7fbc41"
            ],
            [
             0.9,
             "#4d9221"
            ],
            [
             1,
             "#276419"
            ]
           ],
           "sequential": [
            [
             0,
             "#0d0887"
            ],
            [
             0.1111111111111111,
             "#46039f"
            ],
            [
             0.2222222222222222,
             "#7201a8"
            ],
            [
             0.3333333333333333,
             "#9c179e"
            ],
            [
             0.4444444444444444,
             "#bd3786"
            ],
            [
             0.5555555555555556,
             "#d8576b"
            ],
            [
             0.6666666666666666,
             "#ed7953"
            ],
            [
             0.7777777777777778,
             "#fb9f3a"
            ],
            [
             0.8888888888888888,
             "#fdca26"
            ],
            [
             1,
             "#f0f921"
            ]
           ],
           "sequentialminus": [
            [
             0,
             "#0d0887"
            ],
            [
             0.1111111111111111,
             "#46039f"
            ],
            [
             0.2222222222222222,
             "#7201a8"
            ],
            [
             0.3333333333333333,
             "#9c179e"
            ],
            [
             0.4444444444444444,
             "#bd3786"
            ],
            [
             0.5555555555555556,
             "#d8576b"
            ],
            [
             0.6666666666666666,
             "#ed7953"
            ],
            [
             0.7777777777777778,
             "#fb9f3a"
            ],
            [
             0.8888888888888888,
             "#fdca26"
            ],
            [
             1,
             "#f0f921"
            ]
           ]
          },
          "colorway": [
           "#636efa",
           "#EF553B",
           "#00cc96",
           "#ab63fa",
           "#FFA15A",
           "#19d3f3",
           "#FF6692",
           "#B6E880",
           "#FF97FF",
           "#FECB52"
          ],
          "font": {
           "color": "#2a3f5f"
          },
          "geo": {
           "bgcolor": "white",
           "lakecolor": "white",
           "landcolor": "#E5ECF6",
           "showlakes": true,
           "showland": true,
           "subunitcolor": "white"
          },
          "hoverlabel": {
           "align": "left"
          },
          "hovermode": "closest",
          "mapbox": {
           "style": "light"
          },
          "paper_bgcolor": "white",
          "plot_bgcolor": "#E5ECF6",
          "polar": {
           "angularaxis": {
            "gridcolor": "white",
            "linecolor": "white",
            "ticks": ""
           },
           "bgcolor": "#E5ECF6",
           "radialaxis": {
            "gridcolor": "white",
            "linecolor": "white",
            "ticks": ""
           }
          },
          "scene": {
           "xaxis": {
            "backgroundcolor": "#E5ECF6",
            "gridcolor": "white",
            "gridwidth": 2,
            "linecolor": "white",
            "showbackground": true,
            "ticks": "",
            "zerolinecolor": "white"
           },
           "yaxis": {
            "backgroundcolor": "#E5ECF6",
            "gridcolor": "white",
            "gridwidth": 2,
            "linecolor": "white",
            "showbackground": true,
            "ticks": "",
            "zerolinecolor": "white"
           },
           "zaxis": {
            "backgroundcolor": "#E5ECF6",
            "gridcolor": "white",
            "gridwidth": 2,
            "linecolor": "white",
            "showbackground": true,
            "ticks": "",
            "zerolinecolor": "white"
           }
          },
          "shapedefaults": {
           "line": {
            "color": "#2a3f5f"
           }
          },
          "ternary": {
           "aaxis": {
            "gridcolor": "white",
            "linecolor": "white",
            "ticks": ""
           },
           "baxis": {
            "gridcolor": "white",
            "linecolor": "white",
            "ticks": ""
           },
           "bgcolor": "#E5ECF6",
           "caxis": {
            "gridcolor": "white",
            "linecolor": "white",
            "ticks": ""
           }
          },
          "title": {
           "x": 0.05
          },
          "xaxis": {
           "automargin": true,
           "gridcolor": "white",
           "linecolor": "white",
           "ticks": "",
           "title": {
            "standoff": 15
           },
           "zerolinecolor": "white",
           "zerolinewidth": 2
          },
          "yaxis": {
           "automargin": true,
           "gridcolor": "white",
           "linecolor": "white",
           "ticks": "",
           "title": {
            "standoff": 15
           },
           "zerolinecolor": "white",
           "zerolinewidth": 2
          }
         }
        },
        "xaxis": {
         "anchor": "y",
         "domain": [
          0,
          1
         ],
         "title": {
          "text": "spa_date"
         }
        },
        "yaxis": {
         "anchor": "x",
         "domain": [
          0,
          1
         ],
         "title": {
          "text": "value"
         }
        }
       }
      }
     },
     "metadata": {},
     "output_type": "display_data"
    }
   ],
   "source": [
    "px.bar(df_transactions[df_transactions['built_up'].isna()]['spa_date'].value_counts())"
   ]
  },
  {
   "cell_type": "markdown",
   "metadata": {},
   "source": [
    "Missing `built_up` values mostly happened from year 2000 onwards."
   ]
  },
  {
   "cell_type": "code",
   "execution_count": 53,
   "metadata": {},
   "outputs": [
    {
     "data": {
      "application/vnd.plotly.v1+json": {
       "config": {
        "plotlyServerURL": "https://plot.ly"
       },
       "data": [
        {
         "alignmentgroup": "True",
         "hovertemplate": "variable=count<br>project_name=%{x}<br>value=%{y}<extra></extra>",
         "legendgroup": "count",
         "marker": {
          "color": "#636efa",
          "pattern": {
           "shape": ""
          }
         },
         "name": "count",
         "offsetgroup": "count",
         "orientation": "v",
         "showlegend": true,
         "textposition": "auto",
         "type": "bar",
         "x": [
          "BANDAR BARU SRI PETALING",
          "TAMAN TUN DR ISMAIL",
          "DAMANSARA HEIGHTS (BUKIT DAMANSARA)",
          "KEPONG BARU",
          "TAMAN BUKIT MALURI",
          "HAPPY GARDEN",
          "OVERSEAS UNION GARDEN",
          "LAKE FIELD - MEADOWS & GLADES",
          "TAMAN SRI SINAR",
          "TAMAN MIDAH",
          "BANDAR TUN RAZAK",
          "BANDAR MANJALARA",
          "TAMAN SRI RAMPAI",
          "ALAM DAMAI",
          "WANGSA MELAWATI",
          "SETAPAK JAYA",
          "TAMAN DESA",
          "TAMAN SRI HARTAMAS",
          "BANGSAR BARU",
          "DESA SETAPAK",
          "TAYNTON VIEW",
          "KB JINJANG UTARA",
          "TAMAN MALURI",
          "TAMAN SRI CENDEKIA (TAMAN CONNAUGHT)",
          "TAMAN SETAPAK (SETAPAK GARDEN)",
          "LUCKY GARDEN (JALAN BANGSAR)",
          "KEPONG GARDEN",
          "BUKIT BANDARAYA",
          "TAMAN SRI SEGAMBUT",
          "SUNWAY SPK DAMANSARA",
          "TAMAN BUNGA RAYA",
          "BUKIT ANGGERIK",
          "TAMAN KOPERASI POLIS FASA 2",
          "TAMAN SETIAWANGSA",
          "SALAK SOUTH GARDEN",
          "LAMAN RIMBUNAN",
          "TAMAN BRINGIN",
          "TAMAN DATUK SENU",
          "TAMAN SRI ENDAH",
          "BANGSAR PARK",
          "TAMAN CHERAS (YULEK HEIGHTS)",
          "TAMAN SEPUTEH",
          "TAMAN MASTIARA",
          "LAMAN RESIDENCE",
          "ZENIA",
          "TAMAN KOPERASI POLIS FASA 1",
          "SUNWAY MONTANA",
          "CASAMAN",
          "TAMAN IMPIAN INDAH (PARAGON HEIGHT)",
          "TAMAN YARL",
          "TAMAN TAN YEW LAI",
          "BANDAR BARU WANGSA MAJU",
          "BUKIT JALIL",
          "TAMAN INTAN BAIDURI",
          "BUKIT OUG TOWNHOUSE",
          "TAMAN MUTIARA",
          "TAMAN KOK LIAN",
          "THE MANSIONS",
          "KAMPUNG CHERAS BARU",
          "DESA AMAN",
          "TAMAN SRI KEPONG BARU",
          "KIARA VIEW",
          "SUNWAY SPK 3 HARMONI",
          "TAMAN SETAPAK INDAH",
          "DESA SRI HARTAMAS",
          "VILLA MAS TOWNHOUSE",
          "KB SALAK SELATAN",
          "DUTA NUSANTARA",
          "TAMAN SRI BINTANG",
          "LAKE FIELD - GROVE",
          "BANDAR TASIK SELATAN",
          "KAMPUNG DATOK KERAMAT",
          "TAMAN FADASON",
          "KAWASAN JALAN AMPANG/AMPANG HILIR",
          "LEVENUE",
          "THE BREEZEWAY",
          "KIARA HILLS",
          "TAMAN TASIK INDAH",
          "TAMAN ORKID DESA",
          "AMELIA GARDEN HOMES",
          "BUKIT JALIL GOLF & COUNTRY RESORT",
          "SOUTHLAKE",
          "MUTIARA BUKIT JALIL",
          "TAMAN SEJAHTERA",
          "ALAM SUTERA",
          "TAMAN BUKIT CHERAS",
          "TAMAN IBU KOTA",
          "NADIA PARKHOMES",
          "DESA SEPUTEH",
          "DUTA TROPIKA",
          "BUKIT INDAH",
          "TAMAN BUKIT MANDA'RINA",
          "TAMAN MELEWAR",
          "TAMAN RAINBOW",
          "KB AIR PANAS",
          "TAMAN BUKIT SEGAR",
          "TAMAN WAHYU",
          "VILLA MANJA",
          "KENNY HILL",
          "ADORA",
          "SEGAMBUT GARDEN",
          "KH VILLA HARTAMAS 9",
          "TAMAN PRIMA PELANGI",
          "TAMAN MEGAH KEPONG",
          "DANAU KOTA",
          "TAMAN SEGAR",
          "OFF JALAN KELANG LAMA",
          "TAMAN BUKIT INTAN",
          "TAMAN KOK DOH",
          "KIARA GREEN",
          "MEDAN IDAMAN",
          "TAMAN SRI BAHTERA",
          "TAMAN KAYA",
          "KEPONG ENTREPRENEURS PARK",
          "SOMMERSET CLOSE SURIA PERMAISURI",
          "SERENE KIARA",
          "TAMAN ROWTHER",
          "UNITED GARDEN (TAMAN LEE YAN LIAN)",
          "TAMAN PERTAMA",
          "VILLA LAMAN TASEK",
          "TAMAN KEPONG INDAH",
          "IDAMANSARA",
          "TAMAN SPPK SEGAMBUT",
          "SHANGHAI GARDEN",
          "TAMAN SENTUL JAYA",
          "TAMAN P RAMLEE",
          "DESA ANDAMAN",
          "AMPANG 971",
          "TAMAN MULIA",
          "PANTAI HILL",
          "TAMAN MELATI",
          "TAMAN TENAGA",
          "DESA DAMAI",
          "SRI BUKIT PERSEKUTUAN",
          "BAYU SEGAR",
          "ADIVA",
          "MILLION GARDEN",
          "PETALING GARDEN",
          "DESA HILL VILLAS (VILA PUNCAK DESA)",
          "TAMAN BUKIT DESA",
          "KB JINJANG SELATAN",
          "TIJANI BUKIT TUNKU",
          "TAMAN DUTA",
          "KAMPUNG PANDAN",
          "TAMAN LENSEN",
          "TAMAN DESA BAKTI",
          "TAMAN SUPREME",
          "NANYANG ESTATE",
          "TAMAN SRI DELIMA (PKNS HOUSING SCHEME)",
          "TAMAN GEMILANG",
          "TAMAN NAGA EMAS",
          "TAMAN CHERAS UTAMA",
          "SERI BERINGIN",
          "DESA MELAWATI",
          "TAMAN SA",
          "SAFA",
          "JALAN BANGSAR",
          "SKYLINE GARDEN",
          "TAMAN WILAYAH SELAYANG",
          "THE ARA",
          "DESA BAKTI",
          "FAIRVIEW GARDEN",
          "TAMAN SIERRA SEPUTEH",
          "VERONA TOWN VILLAS",
          "VILLA MONT KIARA",
          "BAMBOO GARDEN",
          "BANGSAR RIA TOWNHOUSE",
          "IPOH ROAD GARDEN",
          "HOTSPRING GARDEN",
          "COUNTRY HEIGHTS DAMANSARA",
          "TAMAN BUKIT HIJAU",
          "TAMAN SRI SENTOSA",
          "TAMAN BULLION MEWAH",
          "KAMPUNG MALAYSIA RAYA / TAMBAHAN",
          "TAMAN KUCHAI JAYA",
          "TAMAN SEGAMBUT INDAH",
          "MUTIARA SEPUTEH",
          "TAMAN DELIMA",
          "TAMAN PELANGI JAYA",
          "TAMAN BATU PERMAI",
          "TAMAN CUEPACS",
          "TAMAN SEGAMBUT DAMAI",
          "TAMAN RAKYAT",
          "ROBSON HEIGHTS",
          "JALAN MAKTAB AREA",
          "TAMAN GOLDEN",
          "LAMAN BAYU @ BUKIT JALIL",
          "TAMAN GENTING",
          "KAWASAN KASIPILLAY",
          "TAMAN PELANGI",
          "DAMANSARA ENDAH",
          "JALIL SUTERA",
          "ANJUNG TIARA",
          "JALAN CHERAS",
          "BUKIT SEGAMBUT",
          "TAMAN PERSIARAN DESA",
          "TAMAN DESA SEGAMBUT",
          "IMPIANA SENTUL BAHAGIA",
          "BUKIT WANGSA MAS",
          "DESA VILLAS",
          "JALAN SENTUL PASAR",
          "ARMADA VILLA",
          "TAMAN DESA GOMBAK",
          "MONT KIARA THE RESIDENCE",
          "BUKIT MEWAH (TAMAN SERI BAHTERA)",
          "TITIWANGSA",
          "TAMAN KOBENA",
          "SRI MEWAH TOWNHOUSE",
          "DANAU DESA",
          "TAMAN DESA CHERAS",
          "HAPPY GARDEN TOWNHOUSE",
          "TAMAN LEMBAH KERAMAT",
          "TAMAN BATU",
          "PERINDU TOWNHOUSE",
          "CASTLEFIELD GARDEN",
          "TAMAN SINAR SURIA",
          "TAMAN ANGKASA (JALAN PUCHONG)",
          "BUKIT SEPUTEH",
          "TAMAN LIAN HOE",
          "TAMAN CANTIK",
          "PANTAI DALAM KAMPUNG KERINCHI",
          "SENTUL GARDEN",
          "AMAN KIARA",
          "HARTAMAS HEIGHT",
          "VISTA HARMONI",
          "SALAK SOUTH LOW COST HOUSING",
          "JALAN SENTUL",
          "KAWASAN JALAN AMPANG/OFF JALAN AMPANG/U-THANT",
          "TAMAN PAGAR RUYUNG",
          "FEDERAL HILL",
          "TAMAN SRI PANDIAN",
          "GASING INDAH",
          "TAMAN CITY",
          "LUCKY GARDEN (JALAN PUCHONG)",
          "LINGKUNGAN U-THANT",
          "TAMAN NAM FONG",
          "SRI BINTANG HEIGHTS",
          "KAMPUNG BATU MUDA",
          "TAMAN TASIK INDAH MEWAH",
          "KUCHAI GARDEN",
          "TAMAN DAHLIA",
          "KAWASAN JALAN PAHANG (OFF TITIWANGSA)",
          "DATO KERAMAT HUJUNG",
          "TAMAN SEGAMBUT MUDA",
          "DESA ALPHA TOWNHOUSE",
          "MASERA BUKIT SEGAR",
          "BERINGIN RESIDENCE",
          "FLORA IMPIAN",
          "TAMAN DAMAI JAYA SELAYANG",
          "BATU VIEW GARDEN",
          "TAMAN INDAH",
          "JELUTONG VILLA",
          "SAVANNA",
          "SIEWDOR GARDEN",
          "TAMAN BAHAGIA (LUCKY HEIGHTS)",
          "KINRARA MAS",
          "THE RIDGEWOOD",
          "TAMAN IMPIAN VILLA",
          "SEMANTAN VILLAS",
          "CONTINENTAL PARK",
          "TAMAN BATU MUDA",
          "KENSINGTON PARKHOMES",
          "BB WANGSA MAJU TOWNHOUSE",
          "TAMAN BUKIT AMAN",
          "TAMAN SERI BUKIT SEGAMBUT",
          "TAMAN BUKIT TIARA",
          "DESA MELAWATI TOWNHOUSE",
          "BUKIT KIARA RESIDENCES",
          "TAMAN BUKIT SRI CHERAS",
          "TAMAN KARAK UTAMA",
          "WANGSA METROVIEW",
          "AMARIN KIARA",
          "CHANGKAT KIARA",
          "SRI PENAGA",
          "TAMAN JINJANG BARU",
          "TAMAN SEGAMBUT AMAN",
          "AVANT COURT",
          "TAMAN BUKIT RIA",
          "CHERAS UTAMA",
          "LAKSAMANA TOWNHOUSE/APARTMENT",
          "TAMAN EMAS",
          "IMPIAN BUKIT TUNKU",
          "VILLA MAAROF",
          "THE TREEZ JALIL RESIDENCE",
          "SEPUTEH POINT",
          "VILLA ASEANA",
          "RESIDENSI GEMBIRA 33",
          "TAMAN BUKIT SERI BINTANG",
          "PRIMA MIDAH HEIGHTS",
          "TAMAN LAWA",
          "LAMAN BAYU",
          "SENTUL JAYA",
          "TAMAN SETAPAK PERMAI",
          "TAMAN CHANGKAT DESA",
          "TAMAN BILIUN (TAMAN SUFFIAH ROSE)",
          "TAMAN PUCHONG INDAH",
          "MESRA TERRACE",
          "TAMAN MELATI MASTIKA",
          "TAMAN SRI MELATI",
          "DESIRAN BAYU",
          "PKNS ULU KELANG",
          "TAMAN KHET LOONG",
          "JALAN IPOH",
          "RAJA MOHAR SCHEME",
          "TAMAN DESA PADU",
          "TAMAN BUKIT INDAH",
          "TAMAN CHERAS JAYA",
          "TAMAN EASTERN",
          "TAMAN WANGSA JAYA",
          "KAMPUNG MELAYU FRI",
          "TAMAN TERATAI MEWAH",
          "SETAPAK INDAH JAYA",
          "TAMAN SUET CHOW",
          "KAMPUNG SERI BATU",
          "VILLA SAUJANIS",
          "SRI AYU TOWNHOUSE",
          "TAMAN SEGAMBUT MAJU",
          "WANGSA MAJU SEKSYEN 6",
          "THE SERAI",
          "KAMPUNG PASIR SEGAMBUT",
          "JALAN UNION SENTUL",
          "JALAN KELANG LAMA",
          "SUNGAI PENCHALA",
          "BATU HOUSING",
          "DESA PARK CITY",
          "OFF JALAN GOMBAK",
          "BUKIT INTAN PETALING",
          "TAMAN MULIA INDAH",
          "TAMAN RAJAWALI",
          "TAMAN SEGAMBUT PERMAI",
          "DAMAISARI",
          "BUKIT LEDANG",
          "LAGENDA MAS VILLA",
          "TAMAN SURIA PUCHONG",
          "TAMAN BERJAYA",
          "ANJUNG DAMAI"
         ],
         "xaxis": "x",
         "y": [
          261,
          209,
          165,
          140,
          136,
          131,
          116,
          111,
          104,
          88,
          87,
          79,
          76,
          74,
          69,
          68,
          67,
          65,
          65,
          64,
          59,
          56,
          52,
          51,
          51,
          50,
          49,
          49,
          48,
          47,
          45,
          45,
          45,
          43,
          43,
          42,
          39,
          39,
          37,
          36,
          35,
          34,
          32,
          32,
          28,
          28,
          28,
          27,
          26,
          26,
          26,
          26,
          26,
          25,
          25,
          23,
          23,
          23,
          23,
          23,
          23,
          22,
          22,
          21,
          21,
          20,
          20,
          20,
          20,
          20,
          19,
          19,
          19,
          19,
          19,
          19,
          19,
          18,
          18,
          18,
          18,
          18,
          18,
          17,
          17,
          17,
          17,
          16,
          16,
          16,
          16,
          16,
          15,
          15,
          15,
          15,
          15,
          15,
          15,
          14,
          14,
          14,
          14,
          14,
          14,
          14,
          13,
          13,
          13,
          13,
          13,
          13,
          13,
          13,
          12,
          12,
          12,
          12,
          12,
          12,
          11,
          11,
          11,
          11,
          11,
          11,
          11,
          11,
          10,
          10,
          10,
          10,
          10,
          10,
          10,
          10,
          10,
          10,
          10,
          10,
          9,
          9,
          9,
          9,
          9,
          9,
          9,
          9,
          9,
          8,
          8,
          8,
          8,
          8,
          8,
          8,
          8,
          8,
          8,
          8,
          7,
          7,
          7,
          7,
          7,
          7,
          7,
          7,
          7,
          7,
          7,
          7,
          6,
          6,
          6,
          6,
          6,
          6,
          6,
          6,
          6,
          6,
          6,
          6,
          6,
          6,
          6,
          6,
          6,
          5,
          5,
          5,
          5,
          5,
          5,
          5,
          5,
          5,
          5,
          5,
          5,
          5,
          5,
          5,
          5,
          5,
          5,
          5,
          5,
          5,
          5,
          5,
          5,
          5,
          4,
          4,
          4,
          4,
          4,
          4,
          4,
          4,
          4,
          4,
          4,
          4,
          4,
          4,
          4,
          4,
          4,
          4,
          4,
          4,
          4,
          4,
          4,
          4,
          4,
          4,
          4,
          4,
          4,
          4,
          3,
          3,
          3,
          3,
          3,
          3,
          3,
          3,
          3,
          3,
          3,
          3,
          3,
          3,
          3,
          3,
          3,
          3,
          3,
          3,
          3,
          3,
          3,
          3,
          3,
          3,
          3,
          3,
          3,
          2,
          2,
          2,
          2,
          2,
          2,
          2,
          2,
          2,
          2,
          2,
          2,
          2,
          2,
          2,
          2,
          2,
          2,
          2,
          2,
          2,
          2,
          2,
          2,
          2,
          2,
          2,
          2,
          2,
          2,
          2,
          2,
          2,
          2,
          2,
          2,
          2,
          2,
          1,
          1,
          1,
          1,
          1,
          1,
          1,
          1,
          1,
          1,
          1,
          1,
          1,
          1,
          1,
          1,
          1,
          1,
          1,
          1,
          1,
          1,
          1,
          1,
          1
         ],
         "yaxis": "y"
        }
       ],
       "layout": {
        "barmode": "relative",
        "legend": {
         "title": {
          "text": "variable"
         },
         "tracegroupgap": 0
        },
        "margin": {
         "t": 60
        },
        "template": {
         "data": {
          "bar": [
           {
            "error_x": {
             "color": "#2a3f5f"
            },
            "error_y": {
             "color": "#2a3f5f"
            },
            "marker": {
             "line": {
              "color": "#E5ECF6",
              "width": 0.5
             },
             "pattern": {
              "fillmode": "overlay",
              "size": 10,
              "solidity": 0.2
             }
            },
            "type": "bar"
           }
          ],
          "barpolar": [
           {
            "marker": {
             "line": {
              "color": "#E5ECF6",
              "width": 0.5
             },
             "pattern": {
              "fillmode": "overlay",
              "size": 10,
              "solidity": 0.2
             }
            },
            "type": "barpolar"
           }
          ],
          "carpet": [
           {
            "aaxis": {
             "endlinecolor": "#2a3f5f",
             "gridcolor": "white",
             "linecolor": "white",
             "minorgridcolor": "white",
             "startlinecolor": "#2a3f5f"
            },
            "baxis": {
             "endlinecolor": "#2a3f5f",
             "gridcolor": "white",
             "linecolor": "white",
             "minorgridcolor": "white",
             "startlinecolor": "#2a3f5f"
            },
            "type": "carpet"
           }
          ],
          "choropleth": [
           {
            "colorbar": {
             "outlinewidth": 0,
             "ticks": ""
            },
            "type": "choropleth"
           }
          ],
          "contour": [
           {
            "colorbar": {
             "outlinewidth": 0,
             "ticks": ""
            },
            "colorscale": [
             [
              0,
              "#0d0887"
             ],
             [
              0.1111111111111111,
              "#46039f"
             ],
             [
              0.2222222222222222,
              "#7201a8"
             ],
             [
              0.3333333333333333,
              "#9c179e"
             ],
             [
              0.4444444444444444,
              "#bd3786"
             ],
             [
              0.5555555555555556,
              "#d8576b"
             ],
             [
              0.6666666666666666,
              "#ed7953"
             ],
             [
              0.7777777777777778,
              "#fb9f3a"
             ],
             [
              0.8888888888888888,
              "#fdca26"
             ],
             [
              1,
              "#f0f921"
             ]
            ],
            "type": "contour"
           }
          ],
          "contourcarpet": [
           {
            "colorbar": {
             "outlinewidth": 0,
             "ticks": ""
            },
            "type": "contourcarpet"
           }
          ],
          "heatmap": [
           {
            "colorbar": {
             "outlinewidth": 0,
             "ticks": ""
            },
            "colorscale": [
             [
              0,
              "#0d0887"
             ],
             [
              0.1111111111111111,
              "#46039f"
             ],
             [
              0.2222222222222222,
              "#7201a8"
             ],
             [
              0.3333333333333333,
              "#9c179e"
             ],
             [
              0.4444444444444444,
              "#bd3786"
             ],
             [
              0.5555555555555556,
              "#d8576b"
             ],
             [
              0.6666666666666666,
              "#ed7953"
             ],
             [
              0.7777777777777778,
              "#fb9f3a"
             ],
             [
              0.8888888888888888,
              "#fdca26"
             ],
             [
              1,
              "#f0f921"
             ]
            ],
            "type": "heatmap"
           }
          ],
          "heatmapgl": [
           {
            "colorbar": {
             "outlinewidth": 0,
             "ticks": ""
            },
            "colorscale": [
             [
              0,
              "#0d0887"
             ],
             [
              0.1111111111111111,
              "#46039f"
             ],
             [
              0.2222222222222222,
              "#7201a8"
             ],
             [
              0.3333333333333333,
              "#9c179e"
             ],
             [
              0.4444444444444444,
              "#bd3786"
             ],
             [
              0.5555555555555556,
              "#d8576b"
             ],
             [
              0.6666666666666666,
              "#ed7953"
             ],
             [
              0.7777777777777778,
              "#fb9f3a"
             ],
             [
              0.8888888888888888,
              "#fdca26"
             ],
             [
              1,
              "#f0f921"
             ]
            ],
            "type": "heatmapgl"
           }
          ],
          "histogram": [
           {
            "marker": {
             "pattern": {
              "fillmode": "overlay",
              "size": 10,
              "solidity": 0.2
             }
            },
            "type": "histogram"
           }
          ],
          "histogram2d": [
           {
            "colorbar": {
             "outlinewidth": 0,
             "ticks": ""
            },
            "colorscale": [
             [
              0,
              "#0d0887"
             ],
             [
              0.1111111111111111,
              "#46039f"
             ],
             [
              0.2222222222222222,
              "#7201a8"
             ],
             [
              0.3333333333333333,
              "#9c179e"
             ],
             [
              0.4444444444444444,
              "#bd3786"
             ],
             [
              0.5555555555555556,
              "#d8576b"
             ],
             [
              0.6666666666666666,
              "#ed7953"
             ],
             [
              0.7777777777777778,
              "#fb9f3a"
             ],
             [
              0.8888888888888888,
              "#fdca26"
             ],
             [
              1,
              "#f0f921"
             ]
            ],
            "type": "histogram2d"
           }
          ],
          "histogram2dcontour": [
           {
            "colorbar": {
             "outlinewidth": 0,
             "ticks": ""
            },
            "colorscale": [
             [
              0,
              "#0d0887"
             ],
             [
              0.1111111111111111,
              "#46039f"
             ],
             [
              0.2222222222222222,
              "#7201a8"
             ],
             [
              0.3333333333333333,
              "#9c179e"
             ],
             [
              0.4444444444444444,
              "#bd3786"
             ],
             [
              0.5555555555555556,
              "#d8576b"
             ],
             [
              0.6666666666666666,
              "#ed7953"
             ],
             [
              0.7777777777777778,
              "#fb9f3a"
             ],
             [
              0.8888888888888888,
              "#fdca26"
             ],
             [
              1,
              "#f0f921"
             ]
            ],
            "type": "histogram2dcontour"
           }
          ],
          "mesh3d": [
           {
            "colorbar": {
             "outlinewidth": 0,
             "ticks": ""
            },
            "type": "mesh3d"
           }
          ],
          "parcoords": [
           {
            "line": {
             "colorbar": {
              "outlinewidth": 0,
              "ticks": ""
             }
            },
            "type": "parcoords"
           }
          ],
          "pie": [
           {
            "automargin": true,
            "type": "pie"
           }
          ],
          "scatter": [
           {
            "fillpattern": {
             "fillmode": "overlay",
             "size": 10,
             "solidity": 0.2
            },
            "type": "scatter"
           }
          ],
          "scatter3d": [
           {
            "line": {
             "colorbar": {
              "outlinewidth": 0,
              "ticks": ""
             }
            },
            "marker": {
             "colorbar": {
              "outlinewidth": 0,
              "ticks": ""
             }
            },
            "type": "scatter3d"
           }
          ],
          "scattercarpet": [
           {
            "marker": {
             "colorbar": {
              "outlinewidth": 0,
              "ticks": ""
             }
            },
            "type": "scattercarpet"
           }
          ],
          "scattergeo": [
           {
            "marker": {
             "colorbar": {
              "outlinewidth": 0,
              "ticks": ""
             }
            },
            "type": "scattergeo"
           }
          ],
          "scattergl": [
           {
            "marker": {
             "colorbar": {
              "outlinewidth": 0,
              "ticks": ""
             }
            },
            "type": "scattergl"
           }
          ],
          "scattermapbox": [
           {
            "marker": {
             "colorbar": {
              "outlinewidth": 0,
              "ticks": ""
             }
            },
            "type": "scattermapbox"
           }
          ],
          "scatterpolar": [
           {
            "marker": {
             "colorbar": {
              "outlinewidth": 0,
              "ticks": ""
             }
            },
            "type": "scatterpolar"
           }
          ],
          "scatterpolargl": [
           {
            "marker": {
             "colorbar": {
              "outlinewidth": 0,
              "ticks": ""
             }
            },
            "type": "scatterpolargl"
           }
          ],
          "scatterternary": [
           {
            "marker": {
             "colorbar": {
              "outlinewidth": 0,
              "ticks": ""
             }
            },
            "type": "scatterternary"
           }
          ],
          "surface": [
           {
            "colorbar": {
             "outlinewidth": 0,
             "ticks": ""
            },
            "colorscale": [
             [
              0,
              "#0d0887"
             ],
             [
              0.1111111111111111,
              "#46039f"
             ],
             [
              0.2222222222222222,
              "#7201a8"
             ],
             [
              0.3333333333333333,
              "#9c179e"
             ],
             [
              0.4444444444444444,
              "#bd3786"
             ],
             [
              0.5555555555555556,
              "#d8576b"
             ],
             [
              0.6666666666666666,
              "#ed7953"
             ],
             [
              0.7777777777777778,
              "#fb9f3a"
             ],
             [
              0.8888888888888888,
              "#fdca26"
             ],
             [
              1,
              "#f0f921"
             ]
            ],
            "type": "surface"
           }
          ],
          "table": [
           {
            "cells": {
             "fill": {
              "color": "#EBF0F8"
             },
             "line": {
              "color": "white"
             }
            },
            "header": {
             "fill": {
              "color": "#C8D4E3"
             },
             "line": {
              "color": "white"
             }
            },
            "type": "table"
           }
          ]
         },
         "layout": {
          "annotationdefaults": {
           "arrowcolor": "#2a3f5f",
           "arrowhead": 0,
           "arrowwidth": 1
          },
          "autotypenumbers": "strict",
          "coloraxis": {
           "colorbar": {
            "outlinewidth": 0,
            "ticks": ""
           }
          },
          "colorscale": {
           "diverging": [
            [
             0,
             "#8e0152"
            ],
            [
             0.1,
             "#c51b7d"
            ],
            [
             0.2,
             "#de77ae"
            ],
            [
             0.3,
             "#f1b6da"
            ],
            [
             0.4,
             "#fde0ef"
            ],
            [
             0.5,
             "#f7f7f7"
            ],
            [
             0.6,
             "#e6f5d0"
            ],
            [
             0.7,
             "#b8e186"
            ],
            [
             0.8,
             "#7fbc41"
            ],
            [
             0.9,
             "#4d9221"
            ],
            [
             1,
             "#276419"
            ]
           ],
           "sequential": [
            [
             0,
             "#0d0887"
            ],
            [
             0.1111111111111111,
             "#46039f"
            ],
            [
             0.2222222222222222,
             "#7201a8"
            ],
            [
             0.3333333333333333,
             "#9c179e"
            ],
            [
             0.4444444444444444,
             "#bd3786"
            ],
            [
             0.5555555555555556,
             "#d8576b"
            ],
            [
             0.6666666666666666,
             "#ed7953"
            ],
            [
             0.7777777777777778,
             "#fb9f3a"
            ],
            [
             0.8888888888888888,
             "#fdca26"
            ],
            [
             1,
             "#f0f921"
            ]
           ],
           "sequentialminus": [
            [
             0,
             "#0d0887"
            ],
            [
             0.1111111111111111,
             "#46039f"
            ],
            [
             0.2222222222222222,
             "#7201a8"
            ],
            [
             0.3333333333333333,
             "#9c179e"
            ],
            [
             0.4444444444444444,
             "#bd3786"
            ],
            [
             0.5555555555555556,
             "#d8576b"
            ],
            [
             0.6666666666666666,
             "#ed7953"
            ],
            [
             0.7777777777777778,
             "#fb9f3a"
            ],
            [
             0.8888888888888888,
             "#fdca26"
            ],
            [
             1,
             "#f0f921"
            ]
           ]
          },
          "colorway": [
           "#636efa",
           "#EF553B",
           "#00cc96",
           "#ab63fa",
           "#FFA15A",
           "#19d3f3",
           "#FF6692",
           "#B6E880",
           "#FF97FF",
           "#FECB52"
          ],
          "font": {
           "color": "#2a3f5f"
          },
          "geo": {
           "bgcolor": "white",
           "lakecolor": "white",
           "landcolor": "#E5ECF6",
           "showlakes": true,
           "showland": true,
           "subunitcolor": "white"
          },
          "hoverlabel": {
           "align": "left"
          },
          "hovermode": "closest",
          "mapbox": {
           "style": "light"
          },
          "paper_bgcolor": "white",
          "plot_bgcolor": "#E5ECF6",
          "polar": {
           "angularaxis": {
            "gridcolor": "white",
            "linecolor": "white",
            "ticks": ""
           },
           "bgcolor": "#E5ECF6",
           "radialaxis": {
            "gridcolor": "white",
            "linecolor": "white",
            "ticks": ""
           }
          },
          "scene": {
           "xaxis": {
            "backgroundcolor": "#E5ECF6",
            "gridcolor": "white",
            "gridwidth": 2,
            "linecolor": "white",
            "showbackground": true,
            "ticks": "",
            "zerolinecolor": "white"
           },
           "yaxis": {
            "backgroundcolor": "#E5ECF6",
            "gridcolor": "white",
            "gridwidth": 2,
            "linecolor": "white",
            "showbackground": true,
            "ticks": "",
            "zerolinecolor": "white"
           },
           "zaxis": {
            "backgroundcolor": "#E5ECF6",
            "gridcolor": "white",
            "gridwidth": 2,
            "linecolor": "white",
            "showbackground": true,
            "ticks": "",
            "zerolinecolor": "white"
           }
          },
          "shapedefaults": {
           "line": {
            "color": "#2a3f5f"
           }
          },
          "ternary": {
           "aaxis": {
            "gridcolor": "white",
            "linecolor": "white",
            "ticks": ""
           },
           "baxis": {
            "gridcolor": "white",
            "linecolor": "white",
            "ticks": ""
           },
           "bgcolor": "#E5ECF6",
           "caxis": {
            "gridcolor": "white",
            "linecolor": "white",
            "ticks": ""
           }
          },
          "title": {
           "x": 0.05
          },
          "xaxis": {
           "automargin": true,
           "gridcolor": "white",
           "linecolor": "white",
           "ticks": "",
           "title": {
            "standoff": 15
           },
           "zerolinecolor": "white",
           "zerolinewidth": 2
          },
          "yaxis": {
           "automargin": true,
           "gridcolor": "white",
           "linecolor": "white",
           "ticks": "",
           "title": {
            "standoff": 15
           },
           "zerolinecolor": "white",
           "zerolinewidth": 2
          }
         }
        },
        "xaxis": {
         "anchor": "y",
         "domain": [
          0,
          1
         ],
         "title": {
          "text": "project_name"
         }
        },
        "yaxis": {
         "anchor": "x",
         "domain": [
          0,
          1
         ],
         "title": {
          "text": "value"
         }
        }
       }
      }
     },
     "metadata": {},
     "output_type": "display_data"
    }
   ],
   "source": [
    "px.bar(df_transactions[df_transactions['built_up'].isna()]['project_name'].value_counts())"
   ]
  },
  {
   "cell_type": "markdown",
   "metadata": {},
   "source": [
    "Missing values scatter around a number of projects, not just specific to one. Hence missing values could be due to human error."
   ]
  },
  {
   "cell_type": "code",
   "execution_count": 56,
   "metadata": {},
   "outputs": [
    {
     "data": {
      "text/plain": [
       "building_type\n",
       "TERRACE HOUSE - INTERMEDIATE    3318\n",
       "BUNGALOW                         667\n",
       "SEMI-D                           489\n",
       "TERRACE HOUSE - CORNER LOT       360\n",
       "TERRACE HOUSE - END LOT          302\n",
       "TOWN HOUSE                       290\n",
       "CLUSTER HOUSE - INTERMEDIATE     151\n",
       "CLUSTER HOUSE                     23\n",
       "CLUSTER HOUSE - END LOT           13\n",
       "Name: count, dtype: int64"
      ]
     },
     "execution_count": 56,
     "metadata": {},
     "output_type": "execute_result"
    }
   ],
   "source": [
    "df_transactions[df_transactions['built_up'].isna()]['building_type'].value_counts()"
   ]
  },
  {
   "cell_type": "markdown",
   "metadata": {},
   "source": [
    "The missing values are all from landed properties. Terrace house has the most missing values followed by bungalow and semi-D."
   ]
  },
  {
   "cell_type": "code",
   "execution_count": 64,
   "metadata": {},
   "outputs": [
    {
     "data": {
      "application/vnd.plotly.v1+json": {
       "config": {
        "plotlyServerURL": "https://plot.ly"
       },
       "data": [
        {
         "alignmentgroup": "True",
         "hovertemplate": "variable=count<br>land_area=%{x}<br>value=%{y}<extra></extra>",
         "legendgroup": "count",
         "marker": {
          "color": "#636efa",
          "pattern": {
           "shape": ""
          }
         },
         "name": "count",
         "offsetgroup": "count",
         "orientation": "v",
         "showlegend": true,
         "textposition": "auto",
         "type": "bar",
         "x": [
          "1647",
          "883",
          "1539",
          "592",
          "1765",
          "1873",
          "1755",
          "1604",
          "1432",
          "1399",
          "1496",
          "753",
          "1540",
          "1658",
          "1798",
          "1475",
          "1430",
          "1076",
          "1870",
          "1650",
          "2400",
          "1916",
          "2196",
          "1500",
          "1001",
          "1195",
          "1600",
          "1602",
          "700",
          "1760",
          "1550",
          "549",
          "624",
          "1421",
          "1442",
          "958",
          "3197",
          "1722",
          "3595",
          "3057",
          "1593",
          "1668",
          "4036",
          "990",
          "1690",
          "635",
          "2336",
          "603",
          "1927",
          "4004",
          "1679",
          "1410",
          "1830",
          "2885",
          "1302",
          "1808",
          "1851",
          "797",
          "2034",
          "2723",
          "1561",
          "1841",
          "1636",
          "2379",
          "1905",
          "1440",
          "1400",
          "1800",
          "2239",
          "2605",
          "1921",
          "1470",
          "2088",
          "1292",
          "2045",
          "1324",
          "861",
          "1884",
          "1130",
          "1313",
          "2465",
          "1283",
          "2551",
          "1184",
          "4058",
          "1711",
          "1948",
          "3035",
          "1012",
          "2185",
          "926",
          "2164",
          "1163",
          "2002",
          "1894",
          "3401",
          "1560",
          "1109",
          "1625",
          "1981",
          "689",
          "2250",
          "1499",
          "3251",
          "517",
          "2077",
          "840",
          "1378",
          "3046",
          "1044",
          "1335",
          "2842",
          "1345",
          "1787",
          "4521",
          "1098",
          "1572",
          "1528",
          "2562",
          "3821",
          "904",
          "1938",
          "1259",
          "1485",
          "2691",
          "3606",
          "2120",
          "2142",
          "1776",
          "2282",
          "2680",
          "3735",
          "2820",
          "1389",
          "3358",
          "3531",
          "2702",
          "2831",
          "2852",
          "6006",
          "1518",
          "2777",
          "872",
          "2153",
          "2594",
          "969",
          "1238",
          "3154",
          "4500",
          "3122",
          "2734",
          "1615",
          "560",
          "4080",
          "452",
          "2799",
          "721",
          "2648",
          "2519",
          "1733",
          "1173",
          "2756",
          "5371",
          "2099",
          "1367",
          "2476",
          "2271",
          "1701",
          "1356",
          "2411",
          "2013",
          "2583",
          "1991",
          "1507",
          "1582",
          "3068",
          "3455",
          "2788",
          "3261",
          "2260",
          "3283",
          "3600",
          "1862",
          "1023",
          "2293",
          "4241",
          "1206",
          "4930",
          "4489",
          "2200",
          "2540",
          "1152",
          "5274",
          "3660",
          "2573",
          "1281",
          "1819",
          "1744",
          "2024",
          "2939",
          "4144",
          "786",
          "1066",
          "2131",
          "3843",
          "4381",
          "3175",
          "6458",
          "1270",
          "1087",
          "1300",
          "4295",
          "2616",
          "3498",
          "3272",
          "4306",
          "3369",
          "2314",
          "3929",
          "1959",
          "4252",
          "3810",
          "4284",
          "3520",
          "3864",
          "5662",
          "1464",
          "2906",
          "3089",
          "4532",
          "756",
          "1266",
          "4661",
          "4359",
          "3294",
          "980",
          "588",
          "3003",
          "2720",
          "1875",
          "2863",
          "1486",
          "3380",
          "1970",
          "3570",
          "2486",
          "4133",
          "3886",
          "2713",
          "3617",
          "3348",
          "3360",
          "818",
          "4499",
          "5403",
          "3229",
          "4047",
          "3326",
          "5005",
          "4000",
          "4833",
          "3800",
          "3563",
          "3649",
          "936",
          "5081",
          "3434",
          "7007",
          "3940",
          "5952",
          "5584",
          "4941",
          "2443",
          "2949",
          "6265",
          "2357",
          "3574",
          "3412",
          "2454",
          "4402",
          "4682",
          "7847",
          "3423",
          "8548",
          "3132",
          "947",
          "9881",
          "4553",
          "1429",
          "2207",
          "4650",
          "4768",
          "893",
          "2110",
          "710",
          "3100",
          "2745",
          "5360",
          "2016",
          "743",
          "1260",
          "3488",
          "3218",
          "903",
          "10796",
          "4790",
          "7416",
          "7083",
          "4575",
          "3078",
          "2048",
          "1501",
          "2895",
          "3972",
          "3993",
          "2325",
          "5285",
          "807",
          "7718",
          "1141",
          "3014",
          "6846",
          "7955",
          "2433",
          "5229",
          "3627",
          "2347",
          "5253",
          "5673",
          "4392",
          "5802",
          "3757",
          "8471",
          "2637",
          "2928",
          "2762",
          "6663",
          "4263",
          "3552",
          "5834",
          "6286",
          "17845",
          "3305",
          "5145",
          "5264",
          "4542",
          "3950",
          "7739",
          "4112",
          "2497",
          "3692",
          "4026",
          "4510",
          "4424",
          "1 acre",
          "8245",
          "3541",
          "6189",
          "6060",
          "3165",
          "3714",
          "5188",
          "3208",
          "4951",
          "5350",
          "5230",
          "3000",
          "9440",
          "3528",
          "1569",
          "4984",
          "15449",
          "4822",
          "12099",
          "2971",
          "1684",
          "6641",
          "2659",
          "4435",
          "1651",
          "2508",
          "4230",
          "1648",
          "2766",
          "1248",
          "7319",
          "3897",
          "2626",
          "5683",
          "3466",
          "732",
          "5070",
          "5694",
          "6781",
          "7341",
          "7922",
          "6300",
          "1100",
          "3088",
          "3097",
          "1737",
          "1249",
          "4704",
          "4101",
          "5134",
          "5242",
          "3315",
          "3638",
          "3240",
          "3337",
          "3832",
          "3670",
          "5791",
          "7481",
          "1320",
          "7685",
          "5317",
          "7502",
          "6200",
          "6415",
          "518",
          "1863",
          "5382",
          "678",
          "7987",
          "5888",
          "2982",
          "3789",
          "6383",
          "2995",
          "3778",
          "4456",
          "5995",
          "3444",
          "3961",
          "3005",
          "1188",
          "4607",
          "5328",
          "9903",
          "8116",
          "7126",
          "7449",
          "7093",
          "1920",
          "2530",
          "2056",
          "2917",
          "3143",
          "3433",
          "5296",
          "3186",
          "2390",
          "3681",
          "6000",
          "3584",
          "5716",
          "7653",
          "2067",
          "5985",
          "6168",
          "8396",
          "5522",
          "5210",
          "9483",
          "5177",
          "11106",
          "5726",
          "5297",
          "3111",
          "7190",
          "8326",
          "7298",
          "15403",
          "1360",
          "8988",
          "7363",
          "6071",
          "7782",
          "6609",
          "6523",
          "6749",
          "1000",
          "527",
          "7868",
          "5963",
          "1601",
          "3038",
          "6598",
          "5199",
          "3746",
          "2217",
          "4736",
          "915",
          "6943",
          "1080",
          "2404",
          "657",
          "5651",
          "4596",
          "4155",
          "6028",
          "764",
          "5393",
          "1119",
          "2550",
          "18862",
          "4672",
          "2151",
          "1032",
          "5437",
          "1880",
          "7858",
          "7214",
          "10861",
          "18240",
          "3724",
          "2943",
          "7610",
          "5794",
          "5500",
          "7287",
          "5017",
          "2682",
          "13121",
          "13444",
          "6351",
          "6803",
          "7337",
          "7911",
          "8008",
          "6549",
          "10624",
          "17124",
          "5428",
          "3324",
          "3334",
          "2618",
          "3569",
          "3467",
          "5611",
          "1406",
          "6534",
          "10808",
          "2407",
          "3158",
          "2456",
          "4835",
          "5414",
          "6221",
          "1398",
          "2933",
          "3529",
          "1531",
          "3471",
          "2881",
          "4564",
          "5758",
          "5854",
          "8934",
          "4421",
          "3909",
          "10344",
          "11560",
          "12992",
          "10893",
          "8536",
          "9849",
          "6949",
          "11504",
          "8234",
          "9665",
          "9537",
          "8880",
          "2146",
          "28667",
          "13066",
          "19601",
          "9693",
          "9272",
          "28141",
          "8590",
          "2848",
          "17459",
          "2001",
          "24774",
          "27006",
          "25019",
          "11815",
          "34139",
          "2330",
          "20663",
          "27933",
          "19646",
          "28286",
          "9649",
          "27442",
          "22281",
          "3728",
          "12120",
          "6814",
          "10366",
          "13046",
          "28313",
          "2621",
          "8622",
          "13027",
          "9497",
          "8751",
          "2366",
          "4530",
          "5767",
          "6361",
          "15963",
          "6739",
          "2447",
          "41707",
          "8869",
          "12335",
          "17125",
          "8202",
          "35295",
          "10658",
          "9063",
          "8428",
          "7158",
          "8213",
          "1725",
          "6561",
          "6035",
          "9343",
          "4608",
          "3762",
          "3880",
          "3707",
          "8643",
          "2228",
          "2726",
          "1489",
          "14149",
          "3951",
          "3607",
          "3402",
          "13220",
          "6003",
          "7663",
          "3486",
          "6738",
          "9052",
          "3850",
          "2204",
          "5061",
          "1207",
          "1562",
          "4096",
          "3041",
          "3722",
          "8773",
          "9623",
          "6469",
          "3422",
          "5472",
          "4898",
          "3562",
          "3594",
          "26925",
          "4725",
          "5102",
          "26877",
          "21582",
          "33540",
          "3.2 acre",
          "22556",
          "36073",
          "7998",
          "6566",
          "7385",
          "8127",
          "1946",
          "8568",
          "5597",
          "12152",
          "8320",
          "3918",
          "18687",
          "8191",
          "5877",
          "5813",
          "12142",
          "11281",
          "15672",
          "1599",
          "32952",
          "1205",
          "4641",
          "13830",
          "1224",
          "5048",
          "17319",
          "19041",
          "9354",
          "7944",
          "9655",
          "1336",
          "6847",
          "2864",
          "3509",
          "5942",
          "7578",
          "7459",
          "8999",
          "6921",
          "9866",
          "8547",
          "7690",
          "5676",
          "4219",
          "2333",
          "7750",
          "1657",
          "7105",
          "2328",
          "7092",
          "4015",
          "1216",
          "2740",
          "1271",
          "9692",
          "10280",
          "6493",
          "6103",
          "3336",
          "1479",
          "2303",
          "5576",
          "3354",
          "829",
          "5124",
          "6520",
          "5436",
          "7759",
          "3875",
          "7087",
          "2464",
          "4467",
          "9564",
          "2377",
          "1853",
          "1749",
          "3317",
          "4349",
          "2472",
          "876",
          "2118",
          "3257",
          "1437",
          "1268",
          "6448",
          "2977",
          "8579",
          "9935",
          "2684",
          "2830",
          "1762",
          "1686",
          "1649",
          "3631",
          "3934",
          "2695",
          "2309",
          "4756",
          "5635",
          "5085",
          "2698",
          "5513",
          "9526",
          "6017",
          "3836",
          "1461",
          "1592",
          "5001",
          "2252",
          "3500",
          "9677",
          "10206",
          "6931",
          "5748",
          "8062",
          "3802",
          "2310",
          "1885",
          "2015",
          "7545",
          "6910",
          "10000",
          "5705",
          "7761",
          "6867",
          "3166",
          "3366",
          "1844",
          "3391",
          "8288",
          "6241",
          "5060",
          "15791",
          "6243",
          "9924",
          "14736",
          "7593",
          "9386",
          "5567",
          "9978",
          "6146",
          "4195",
          "7406",
          "6505",
          "5022",
          "10183",
          "10398",
          "10468",
          "9462",
          "24427",
          "1716",
          "520",
          "9029",
          "4325",
          "3942",
          "2147",
          "3150",
          "2297",
          "1713",
          "4177",
          "4249",
          "3015",
          "3335",
          "3227",
          "2100",
          "4805",
          "3892",
          "3571",
          "2065",
          "3114",
          "2878",
          "3215",
          "2987",
          "3365",
          "2722",
          "4261",
          "6684",
          "5016",
          "1055",
          "8719",
          "16641",
          "10200",
          "6481",
          "5840",
          "5400",
          "8423",
          "602",
          "4338",
          "2507",
          "880",
          "2254",
          "3752",
          "3901",
          "8503",
          "5856",
          "4343",
          "2323",
          "6432",
          "12294",
          "4071",
          "3648",
          "2813",
          "16006",
          "3025",
          "6526",
          "4811",
          "5845",
          "7815",
          "6900",
          "7967",
          "5766",
          "8094",
          "11937",
          "6682",
          "6209",
          "2296",
          "6638",
          "5231",
          "4815",
          "4801",
          "4750",
          "1872",
          "8407",
          "856",
          "8708",
          "4844",
          "3477",
          "2565",
          "5468",
          "4758",
          "13057",
          "4876",
          "1.1 acre",
          "9946",
          "1635",
          "7373",
          "9225",
          "9322",
          "3992",
          "19149",
          "6372",
          "12949",
          "29800",
          "12063",
          "7724",
          "8838",
          "8022",
          "5879",
          "7664",
          "9085",
          "5563",
          "10333",
          "9503",
          "9020",
          "7513",
          "4055",
          "9841",
          "7804",
          "5980",
          "8682",
          "6082",
          "7147",
          "10936",
          "10995",
          "10226",
          "10269",
          "6706",
          "7180",
          "7352",
          "8442",
          "7535",
          "12874",
          "9012",
          "22739",
          "14155",
          "6824",
          "8102",
          "12497",
          "8642",
          "3203",
          "2004",
          "3949",
          "14454",
          "4693",
          "5511",
          "10193",
          "2699",
          "4294",
          "4628",
          "10748",
          "4690",
          "4721",
          "5200",
          "4090",
          "4069",
          "18245",
          "3452",
          "4176",
          "6178",
          "1520",
          "2570",
          "2418",
          "2541",
          "12863",
          "6018",
          "5640",
          "5554",
          "6211",
          "2669",
          "2686",
          "4147",
          "7169",
          "4028",
          "9397",
          "6555",
          "17621",
          "7503",
          "3599",
          "1715",
          "1925",
          "4187",
          "3873",
          "2796",
          "3200",
          "4820",
          "1183",
          "5340",
          "4585",
          "6426",
          "11474",
          "1632",
          "3976",
          "1671",
          "7254",
          "3091",
          "2578",
          "2986",
          "1453",
          "11543",
          "5273",
          "8203",
          "2810",
          "11959",
          "1634",
          "8084",
          "5226",
          "8267",
          "5318",
          "2948",
          "1667",
          "3475",
          "4600",
          "2483",
          "12088",
          "6717",
          "3964",
          "7050",
          "4225",
          "8913",
          "4855",
          "4198",
          "3259",
          "11765",
          "5038",
          "5131",
          "3812",
          "5307",
          "1033",
          "7305",
          "4717",
          "1801",
          "3680",
          "1630",
          "2888",
          "5645",
          "5943",
          "11431",
          "10157",
          "2461",
          "6240",
          "9644",
          "9314",
          "2166",
          "9026",
          "5564",
          "6916",
          "5486",
          "775",
          "614",
          "455",
          "1876",
          "2058",
          "2937",
          "1469",
          "3037",
          "4931",
          "2514",
          "7061",
          "4478",
          "2174",
          "9235",
          "7115",
          "540",
          "667",
          "646",
          "5608",
          "13810",
          "15877",
          "11797",
          "2105",
          "9043",
          "3926",
          "7248",
          "6547",
          "1912",
          "5425",
          "3995",
          "1680",
          "4048",
          "3045",
          "3516",
          "2370",
          "4369",
          "2828",
          "3928",
          "3076",
          "4394",
          "5920",
          "2829",
          "3923",
          "5771",
          "10126",
          "2040",
          "4902",
          "6092",
          "15457",
          "2526",
          "2500",
          "12831",
          "6450",
          "2039",
          "2181",
          "8277",
          "7000",
          "7040",
          "6308",
          "6491",
          "7072",
          "8794",
          "2186",
          "4692"
         ],
         "xaxis": "x",
         "y": [
          276,
          211,
          211,
          157,
          151,
          120,
          101,
          100,
          98,
          91,
          77,
          69,
          66,
          63,
          57,
          53,
          50,
          48,
          46,
          44,
          42,
          42,
          38,
          35,
          34,
          32,
          31,
          31,
          29,
          28,
          28,
          27,
          26,
          26,
          26,
          25,
          25,
          25,
          24,
          23,
          22,
          22,
          22,
          22,
          21,
          20,
          19,
          19,
          17,
          17,
          17,
          17,
          17,
          16,
          16,
          15,
          15,
          14,
          14,
          14,
          14,
          14,
          14,
          14,
          14,
          13,
          13,
          13,
          13,
          13,
          13,
          13,
          12,
          12,
          12,
          12,
          12,
          12,
          12,
          11,
          11,
          11,
          11,
          11,
          11,
          11,
          11,
          10,
          10,
          10,
          10,
          10,
          10,
          10,
          10,
          9,
          9,
          9,
          9,
          9,
          9,
          9,
          9,
          9,
          9,
          9,
          9,
          9,
          9,
          9,
          9,
          8,
          8,
          8,
          8,
          8,
          8,
          8,
          8,
          8,
          8,
          8,
          8,
          8,
          8,
          8,
          8,
          8,
          8,
          8,
          7,
          7,
          7,
          7,
          7,
          7,
          7,
          7,
          7,
          7,
          7,
          7,
          7,
          7,
          7,
          7,
          7,
          7,
          7,
          7,
          6,
          6,
          6,
          6,
          6,
          6,
          6,
          6,
          6,
          6,
          6,
          6,
          6,
          6,
          6,
          6,
          6,
          6,
          6,
          6,
          6,
          6,
          6,
          6,
          6,
          6,
          6,
          6,
          6,
          6,
          6,
          6,
          6,
          6,
          6,
          5,
          5,
          5,
          5,
          5,
          5,
          5,
          5,
          5,
          5,
          5,
          5,
          5,
          5,
          5,
          5,
          5,
          5,
          5,
          5,
          5,
          5,
          5,
          5,
          5,
          5,
          5,
          5,
          5,
          5,
          4,
          4,
          4,
          4,
          4,
          4,
          4,
          4,
          4,
          4,
          4,
          4,
          4,
          4,
          4,
          4,
          4,
          4,
          4,
          4,
          4,
          4,
          4,
          4,
          4,
          4,
          4,
          4,
          4,
          4,
          4,
          4,
          4,
          4,
          4,
          4,
          4,
          4,
          4,
          4,
          4,
          4,
          4,
          4,
          4,
          4,
          4,
          4,
          3,
          3,
          3,
          3,
          3,
          3,
          3,
          3,
          3,
          3,
          3,
          3,
          3,
          3,
          3,
          3,
          3,
          3,
          3,
          3,
          3,
          3,
          3,
          3,
          3,
          3,
          3,
          3,
          3,
          3,
          3,
          3,
          3,
          3,
          3,
          3,
          3,
          3,
          3,
          3,
          3,
          3,
          3,
          3,
          3,
          3,
          3,
          3,
          3,
          3,
          3,
          3,
          3,
          3,
          3,
          3,
          3,
          3,
          3,
          3,
          3,
          3,
          3,
          3,
          3,
          3,
          2,
          2,
          2,
          2,
          2,
          2,
          2,
          2,
          2,
          2,
          2,
          2,
          2,
          2,
          2,
          2,
          2,
          2,
          2,
          2,
          2,
          2,
          2,
          2,
          2,
          2,
          2,
          2,
          2,
          2,
          2,
          2,
          2,
          2,
          2,
          2,
          2,
          2,
          2,
          2,
          2,
          2,
          2,
          2,
          2,
          2,
          2,
          2,
          2,
          2,
          2,
          2,
          2,
          2,
          2,
          2,
          2,
          2,
          2,
          2,
          2,
          2,
          2,
          2,
          2,
          2,
          2,
          2,
          2,
          2,
          2,
          2,
          2,
          2,
          2,
          2,
          2,
          2,
          2,
          2,
          2,
          2,
          2,
          2,
          2,
          2,
          2,
          2,
          2,
          2,
          2,
          2,
          2,
          2,
          2,
          2,
          2,
          2,
          2,
          2,
          2,
          2,
          2,
          2,
          2,
          2,
          2,
          2,
          2,
          2,
          2,
          2,
          2,
          2,
          2,
          2,
          2,
          2,
          2,
          2,
          2,
          2,
          2,
          2,
          2,
          2,
          2,
          2,
          2,
          2,
          2,
          2,
          2,
          2,
          2,
          2,
          2,
          2,
          2,
          2,
          2,
          2,
          2,
          2,
          2,
          2,
          2,
          2,
          2,
          2,
          2,
          2,
          2,
          2,
          2,
          2,
          2,
          2,
          2,
          2,
          2,
          2,
          2,
          2,
          2,
          2,
          2,
          2,
          2,
          2,
          2,
          2,
          2,
          2,
          2,
          2,
          2,
          1,
          1,
          1,
          1,
          1,
          1,
          1,
          1,
          1,
          1,
          1,
          1,
          1,
          1,
          1,
          1,
          1,
          1,
          1,
          1,
          1,
          1,
          1,
          1,
          1,
          1,
          1,
          1,
          1,
          1,
          1,
          1,
          1,
          1,
          1,
          1,
          1,
          1,
          1,
          1,
          1,
          1,
          1,
          1,
          1,
          1,
          1,
          1,
          1,
          1,
          1,
          1,
          1,
          1,
          1,
          1,
          1,
          1,
          1,
          1,
          1,
          1,
          1,
          1,
          1,
          1,
          1,
          1,
          1,
          1,
          1,
          1,
          1,
          1,
          1,
          1,
          1,
          1,
          1,
          1,
          1,
          1,
          1,
          1,
          1,
          1,
          1,
          1,
          1,
          1,
          1,
          1,
          1,
          1,
          1,
          1,
          1,
          1,
          1,
          1,
          1,
          1,
          1,
          1,
          1,
          1,
          1,
          1,
          1,
          1,
          1,
          1,
          1,
          1,
          1,
          1,
          1,
          1,
          1,
          1,
          1,
          1,
          1,
          1,
          1,
          1,
          1,
          1,
          1,
          1,
          1,
          1,
          1,
          1,
          1,
          1,
          1,
          1,
          1,
          1,
          1,
          1,
          1,
          1,
          1,
          1,
          1,
          1,
          1,
          1,
          1,
          1,
          1,
          1,
          1,
          1,
          1,
          1,
          1,
          1,
          1,
          1,
          1,
          1,
          1,
          1,
          1,
          1,
          1,
          1,
          1,
          1,
          1,
          1,
          1,
          1,
          1,
          1,
          1,
          1,
          1,
          1,
          1,
          1,
          1,
          1,
          1,
          1,
          1,
          1,
          1,
          1,
          1,
          1,
          1,
          1,
          1,
          1,
          1,
          1,
          1,
          1,
          1,
          1,
          1,
          1,
          1,
          1,
          1,
          1,
          1,
          1,
          1,
          1,
          1,
          1,
          1,
          1,
          1,
          1,
          1,
          1,
          1,
          1,
          1,
          1,
          1,
          1,
          1,
          1,
          1,
          1,
          1,
          1,
          1,
          1,
          1,
          1,
          1,
          1,
          1,
          1,
          1,
          1,
          1,
          1,
          1,
          1,
          1,
          1,
          1,
          1,
          1,
          1,
          1,
          1,
          1,
          1,
          1,
          1,
          1,
          1,
          1,
          1,
          1,
          1,
          1,
          1,
          1,
          1,
          1,
          1,
          1,
          1,
          1,
          1,
          1,
          1,
          1,
          1,
          1,
          1,
          1,
          1,
          1,
          1,
          1,
          1,
          1,
          1,
          1,
          1,
          1,
          1,
          1,
          1,
          1,
          1,
          1,
          1,
          1,
          1,
          1,
          1,
          1,
          1,
          1,
          1,
          1,
          1,
          1,
          1,
          1,
          1,
          1,
          1,
          1,
          1,
          1,
          1,
          1,
          1,
          1,
          1,
          1,
          1,
          1,
          1,
          1,
          1,
          1,
          1,
          1,
          1,
          1,
          1,
          1,
          1,
          1,
          1,
          1,
          1,
          1,
          1,
          1,
          1,
          1,
          1,
          1,
          1,
          1,
          1,
          1,
          1,
          1,
          1,
          1,
          1,
          1,
          1,
          1,
          1,
          1,
          1,
          1,
          1,
          1,
          1,
          1,
          1,
          1,
          1,
          1,
          1,
          1,
          1,
          1,
          1,
          1,
          1,
          1,
          1,
          1,
          1,
          1,
          1,
          1,
          1,
          1,
          1,
          1,
          1,
          1,
          1,
          1,
          1,
          1,
          1,
          1,
          1,
          1,
          1,
          1,
          1,
          1,
          1,
          1,
          1,
          1,
          1,
          1,
          1,
          1,
          1,
          1,
          1,
          1,
          1,
          1,
          1,
          1,
          1,
          1,
          1,
          1,
          1,
          1,
          1,
          1,
          1,
          1,
          1,
          1,
          1,
          1,
          1,
          1,
          1,
          1,
          1,
          1,
          1,
          1,
          1,
          1,
          1,
          1,
          1,
          1,
          1,
          1,
          1,
          1,
          1,
          1,
          1,
          1,
          1,
          1,
          1,
          1,
          1,
          1,
          1,
          1,
          1,
          1,
          1,
          1,
          1,
          1,
          1,
          1,
          1,
          1,
          1,
          1,
          1,
          1,
          1,
          1,
          1,
          1,
          1,
          1,
          1,
          1,
          1,
          1,
          1,
          1,
          1,
          1,
          1,
          1,
          1,
          1,
          1,
          1,
          1,
          1,
          1,
          1,
          1,
          1,
          1,
          1,
          1,
          1,
          1,
          1,
          1,
          1,
          1,
          1,
          1,
          1,
          1,
          1,
          1,
          1,
          1,
          1,
          1,
          1,
          1,
          1,
          1,
          1,
          1,
          1,
          1,
          1,
          1,
          1,
          1,
          1,
          1,
          1,
          1,
          1,
          1,
          1,
          1,
          1,
          1,
          1,
          1,
          1,
          1,
          1,
          1,
          1,
          1,
          1,
          1,
          1,
          1,
          1,
          1,
          1,
          1,
          1,
          1,
          1,
          1,
          1,
          1,
          1,
          1,
          1,
          1,
          1,
          1,
          1,
          1,
          1,
          1,
          1,
          1,
          1,
          1,
          1,
          1,
          1,
          1,
          1,
          1,
          1,
          1,
          1,
          1,
          1,
          1,
          1,
          1,
          1,
          1,
          1,
          1,
          1,
          1,
          1,
          1,
          1,
          1,
          1,
          1,
          1,
          1,
          1,
          1,
          1,
          1,
          1,
          1,
          1,
          1
         ],
         "yaxis": "y"
        }
       ],
       "layout": {
        "barmode": "relative",
        "legend": {
         "title": {
          "text": "variable"
         },
         "tracegroupgap": 0
        },
        "margin": {
         "t": 60
        },
        "template": {
         "data": {
          "bar": [
           {
            "error_x": {
             "color": "#2a3f5f"
            },
            "error_y": {
             "color": "#2a3f5f"
            },
            "marker": {
             "line": {
              "color": "#E5ECF6",
              "width": 0.5
             },
             "pattern": {
              "fillmode": "overlay",
              "size": 10,
              "solidity": 0.2
             }
            },
            "type": "bar"
           }
          ],
          "barpolar": [
           {
            "marker": {
             "line": {
              "color": "#E5ECF6",
              "width": 0.5
             },
             "pattern": {
              "fillmode": "overlay",
              "size": 10,
              "solidity": 0.2
             }
            },
            "type": "barpolar"
           }
          ],
          "carpet": [
           {
            "aaxis": {
             "endlinecolor": "#2a3f5f",
             "gridcolor": "white",
             "linecolor": "white",
             "minorgridcolor": "white",
             "startlinecolor": "#2a3f5f"
            },
            "baxis": {
             "endlinecolor": "#2a3f5f",
             "gridcolor": "white",
             "linecolor": "white",
             "minorgridcolor": "white",
             "startlinecolor": "#2a3f5f"
            },
            "type": "carpet"
           }
          ],
          "choropleth": [
           {
            "colorbar": {
             "outlinewidth": 0,
             "ticks": ""
            },
            "type": "choropleth"
           }
          ],
          "contour": [
           {
            "colorbar": {
             "outlinewidth": 0,
             "ticks": ""
            },
            "colorscale": [
             [
              0,
              "#0d0887"
             ],
             [
              0.1111111111111111,
              "#46039f"
             ],
             [
              0.2222222222222222,
              "#7201a8"
             ],
             [
              0.3333333333333333,
              "#9c179e"
             ],
             [
              0.4444444444444444,
              "#bd3786"
             ],
             [
              0.5555555555555556,
              "#d8576b"
             ],
             [
              0.6666666666666666,
              "#ed7953"
             ],
             [
              0.7777777777777778,
              "#fb9f3a"
             ],
             [
              0.8888888888888888,
              "#fdca26"
             ],
             [
              1,
              "#f0f921"
             ]
            ],
            "type": "contour"
           }
          ],
          "contourcarpet": [
           {
            "colorbar": {
             "outlinewidth": 0,
             "ticks": ""
            },
            "type": "contourcarpet"
           }
          ],
          "heatmap": [
           {
            "colorbar": {
             "outlinewidth": 0,
             "ticks": ""
            },
            "colorscale": [
             [
              0,
              "#0d0887"
             ],
             [
              0.1111111111111111,
              "#46039f"
             ],
             [
              0.2222222222222222,
              "#7201a8"
             ],
             [
              0.3333333333333333,
              "#9c179e"
             ],
             [
              0.4444444444444444,
              "#bd3786"
             ],
             [
              0.5555555555555556,
              "#d8576b"
             ],
             [
              0.6666666666666666,
              "#ed7953"
             ],
             [
              0.7777777777777778,
              "#fb9f3a"
             ],
             [
              0.8888888888888888,
              "#fdca26"
             ],
             [
              1,
              "#f0f921"
             ]
            ],
            "type": "heatmap"
           }
          ],
          "heatmapgl": [
           {
            "colorbar": {
             "outlinewidth": 0,
             "ticks": ""
            },
            "colorscale": [
             [
              0,
              "#0d0887"
             ],
             [
              0.1111111111111111,
              "#46039f"
             ],
             [
              0.2222222222222222,
              "#7201a8"
             ],
             [
              0.3333333333333333,
              "#9c179e"
             ],
             [
              0.4444444444444444,
              "#bd3786"
             ],
             [
              0.5555555555555556,
              "#d8576b"
             ],
             [
              0.6666666666666666,
              "#ed7953"
             ],
             [
              0.7777777777777778,
              "#fb9f3a"
             ],
             [
              0.8888888888888888,
              "#fdca26"
             ],
             [
              1,
              "#f0f921"
             ]
            ],
            "type": "heatmapgl"
           }
          ],
          "histogram": [
           {
            "marker": {
             "pattern": {
              "fillmode": "overlay",
              "size": 10,
              "solidity": 0.2
             }
            },
            "type": "histogram"
           }
          ],
          "histogram2d": [
           {
            "colorbar": {
             "outlinewidth": 0,
             "ticks": ""
            },
            "colorscale": [
             [
              0,
              "#0d0887"
             ],
             [
              0.1111111111111111,
              "#46039f"
             ],
             [
              0.2222222222222222,
              "#7201a8"
             ],
             [
              0.3333333333333333,
              "#9c179e"
             ],
             [
              0.4444444444444444,
              "#bd3786"
             ],
             [
              0.5555555555555556,
              "#d8576b"
             ],
             [
              0.6666666666666666,
              "#ed7953"
             ],
             [
              0.7777777777777778,
              "#fb9f3a"
             ],
             [
              0.8888888888888888,
              "#fdca26"
             ],
             [
              1,
              "#f0f921"
             ]
            ],
            "type": "histogram2d"
           }
          ],
          "histogram2dcontour": [
           {
            "colorbar": {
             "outlinewidth": 0,
             "ticks": ""
            },
            "colorscale": [
             [
              0,
              "#0d0887"
             ],
             [
              0.1111111111111111,
              "#46039f"
             ],
             [
              0.2222222222222222,
              "#7201a8"
             ],
             [
              0.3333333333333333,
              "#9c179e"
             ],
             [
              0.4444444444444444,
              "#bd3786"
             ],
             [
              0.5555555555555556,
              "#d8576b"
             ],
             [
              0.6666666666666666,
              "#ed7953"
             ],
             [
              0.7777777777777778,
              "#fb9f3a"
             ],
             [
              0.8888888888888888,
              "#fdca26"
             ],
             [
              1,
              "#f0f921"
             ]
            ],
            "type": "histogram2dcontour"
           }
          ],
          "mesh3d": [
           {
            "colorbar": {
             "outlinewidth": 0,
             "ticks": ""
            },
            "type": "mesh3d"
           }
          ],
          "parcoords": [
           {
            "line": {
             "colorbar": {
              "outlinewidth": 0,
              "ticks": ""
             }
            },
            "type": "parcoords"
           }
          ],
          "pie": [
           {
            "automargin": true,
            "type": "pie"
           }
          ],
          "scatter": [
           {
            "fillpattern": {
             "fillmode": "overlay",
             "size": 10,
             "solidity": 0.2
            },
            "type": "scatter"
           }
          ],
          "scatter3d": [
           {
            "line": {
             "colorbar": {
              "outlinewidth": 0,
              "ticks": ""
             }
            },
            "marker": {
             "colorbar": {
              "outlinewidth": 0,
              "ticks": ""
             }
            },
            "type": "scatter3d"
           }
          ],
          "scattercarpet": [
           {
            "marker": {
             "colorbar": {
              "outlinewidth": 0,
              "ticks": ""
             }
            },
            "type": "scattercarpet"
           }
          ],
          "scattergeo": [
           {
            "marker": {
             "colorbar": {
              "outlinewidth": 0,
              "ticks": ""
             }
            },
            "type": "scattergeo"
           }
          ],
          "scattergl": [
           {
            "marker": {
             "colorbar": {
              "outlinewidth": 0,
              "ticks": ""
             }
            },
            "type": "scattergl"
           }
          ],
          "scattermapbox": [
           {
            "marker": {
             "colorbar": {
              "outlinewidth": 0,
              "ticks": ""
             }
            },
            "type": "scattermapbox"
           }
          ],
          "scatterpolar": [
           {
            "marker": {
             "colorbar": {
              "outlinewidth": 0,
              "ticks": ""
             }
            },
            "type": "scatterpolar"
           }
          ],
          "scatterpolargl": [
           {
            "marker": {
             "colorbar": {
              "outlinewidth": 0,
              "ticks": ""
             }
            },
            "type": "scatterpolargl"
           }
          ],
          "scatterternary": [
           {
            "marker": {
             "colorbar": {
              "outlinewidth": 0,
              "ticks": ""
             }
            },
            "type": "scatterternary"
           }
          ],
          "surface": [
           {
            "colorbar": {
             "outlinewidth": 0,
             "ticks": ""
            },
            "colorscale": [
             [
              0,
              "#0d0887"
             ],
             [
              0.1111111111111111,
              "#46039f"
             ],
             [
              0.2222222222222222,
              "#7201a8"
             ],
             [
              0.3333333333333333,
              "#9c179e"
             ],
             [
              0.4444444444444444,
              "#bd3786"
             ],
             [
              0.5555555555555556,
              "#d8576b"
             ],
             [
              0.6666666666666666,
              "#ed7953"
             ],
             [
              0.7777777777777778,
              "#fb9f3a"
             ],
             [
              0.8888888888888888,
              "#fdca26"
             ],
             [
              1,
              "#f0f921"
             ]
            ],
            "type": "surface"
           }
          ],
          "table": [
           {
            "cells": {
             "fill": {
              "color": "#EBF0F8"
             },
             "line": {
              "color": "white"
             }
            },
            "header": {
             "fill": {
              "color": "#C8D4E3"
             },
             "line": {
              "color": "white"
             }
            },
            "type": "table"
           }
          ]
         },
         "layout": {
          "annotationdefaults": {
           "arrowcolor": "#2a3f5f",
           "arrowhead": 0,
           "arrowwidth": 1
          },
          "autotypenumbers": "strict",
          "coloraxis": {
           "colorbar": {
            "outlinewidth": 0,
            "ticks": ""
           }
          },
          "colorscale": {
           "diverging": [
            [
             0,
             "#8e0152"
            ],
            [
             0.1,
             "#c51b7d"
            ],
            [
             0.2,
             "#de77ae"
            ],
            [
             0.3,
             "#f1b6da"
            ],
            [
             0.4,
             "#fde0ef"
            ],
            [
             0.5,
             "#f7f7f7"
            ],
            [
             0.6,
             "#e6f5d0"
            ],
            [
             0.7,
             "#b8e186"
            ],
            [
             0.8,
             "#7fbc41"
            ],
            [
             0.9,
             "#4d9221"
            ],
            [
             1,
             "#276419"
            ]
           ],
           "sequential": [
            [
             0,
             "#0d0887"
            ],
            [
             0.1111111111111111,
             "#46039f"
            ],
            [
             0.2222222222222222,
             "#7201a8"
            ],
            [
             0.3333333333333333,
             "#9c179e"
            ],
            [
             0.4444444444444444,
             "#bd3786"
            ],
            [
             0.5555555555555556,
             "#d8576b"
            ],
            [
             0.6666666666666666,
             "#ed7953"
            ],
            [
             0.7777777777777778,
             "#fb9f3a"
            ],
            [
             0.8888888888888888,
             "#fdca26"
            ],
            [
             1,
             "#f0f921"
            ]
           ],
           "sequentialminus": [
            [
             0,
             "#0d0887"
            ],
            [
             0.1111111111111111,
             "#46039f"
            ],
            [
             0.2222222222222222,
             "#7201a8"
            ],
            [
             0.3333333333333333,
             "#9c179e"
            ],
            [
             0.4444444444444444,
             "#bd3786"
            ],
            [
             0.5555555555555556,
             "#d8576b"
            ],
            [
             0.6666666666666666,
             "#ed7953"
            ],
            [
             0.7777777777777778,
             "#fb9f3a"
            ],
            [
             0.8888888888888888,
             "#fdca26"
            ],
            [
             1,
             "#f0f921"
            ]
           ]
          },
          "colorway": [
           "#636efa",
           "#EF553B",
           "#00cc96",
           "#ab63fa",
           "#FFA15A",
           "#19d3f3",
           "#FF6692",
           "#B6E880",
           "#FF97FF",
           "#FECB52"
          ],
          "font": {
           "color": "#2a3f5f"
          },
          "geo": {
           "bgcolor": "white",
           "lakecolor": "white",
           "landcolor": "#E5ECF6",
           "showlakes": true,
           "showland": true,
           "subunitcolor": "white"
          },
          "hoverlabel": {
           "align": "left"
          },
          "hovermode": "closest",
          "mapbox": {
           "style": "light"
          },
          "paper_bgcolor": "white",
          "plot_bgcolor": "#E5ECF6",
          "polar": {
           "angularaxis": {
            "gridcolor": "white",
            "linecolor": "white",
            "ticks": ""
           },
           "bgcolor": "#E5ECF6",
           "radialaxis": {
            "gridcolor": "white",
            "linecolor": "white",
            "ticks": ""
           }
          },
          "scene": {
           "xaxis": {
            "backgroundcolor": "#E5ECF6",
            "gridcolor": "white",
            "gridwidth": 2,
            "linecolor": "white",
            "showbackground": true,
            "ticks": "",
            "zerolinecolor": "white"
           },
           "yaxis": {
            "backgroundcolor": "#E5ECF6",
            "gridcolor": "white",
            "gridwidth": 2,
            "linecolor": "white",
            "showbackground": true,
            "ticks": "",
            "zerolinecolor": "white"
           },
           "zaxis": {
            "backgroundcolor": "#E5ECF6",
            "gridcolor": "white",
            "gridwidth": 2,
            "linecolor": "white",
            "showbackground": true,
            "ticks": "",
            "zerolinecolor": "white"
           }
          },
          "shapedefaults": {
           "line": {
            "color": "#2a3f5f"
           }
          },
          "ternary": {
           "aaxis": {
            "gridcolor": "white",
            "linecolor": "white",
            "ticks": ""
           },
           "baxis": {
            "gridcolor": "white",
            "linecolor": "white",
            "ticks": ""
           },
           "bgcolor": "#E5ECF6",
           "caxis": {
            "gridcolor": "white",
            "linecolor": "white",
            "ticks": ""
           }
          },
          "title": {
           "x": 0.05
          },
          "xaxis": {
           "automargin": true,
           "gridcolor": "white",
           "linecolor": "white",
           "ticks": "",
           "title": {
            "standoff": 15
           },
           "zerolinecolor": "white",
           "zerolinewidth": 2
          },
          "yaxis": {
           "automargin": true,
           "gridcolor": "white",
           "linecolor": "white",
           "ticks": "",
           "title": {
            "standoff": 15
           },
           "zerolinecolor": "white",
           "zerolinewidth": 2
          }
         }
        },
        "xaxis": {
         "anchor": "y",
         "domain": [
          0,
          1
         ],
         "title": {
          "text": "land_area"
         }
        },
        "yaxis": {
         "anchor": "x",
         "domain": [
          0,
          1
         ],
         "title": {
          "text": "value"
         }
        }
       }
      }
     },
     "metadata": {},
     "output_type": "display_data"
    }
   ],
   "source": [
    "px.bar(df_transactions[df_transactions['built_up'].isna()]['land_area'].value_counts())"
   ]
  },
  {
   "cell_type": "code",
   "execution_count": 65,
   "metadata": {},
   "outputs": [
    {
     "data": {
      "application/vnd.plotly.v1+json": {
       "config": {
        "plotlyServerURL": "https://plot.ly"
       },
       "data": [
        {
         "alignmentgroup": "True",
         "hovertemplate": "variable=count<br>tenure=%{x}<br>value=%{y}<extra></extra>",
         "legendgroup": "count",
         "marker": {
          "color": "#636efa",
          "pattern": {
           "shape": ""
          }
         },
         "name": "count",
         "offsetgroup": "count",
         "orientation": "v",
         "showlegend": true,
         "textposition": "auto",
         "type": "bar",
         "x": [
          "FREEHOLD",
          "LEASEHOLD"
         ],
         "xaxis": "x",
         "y": [
          3442,
          2171
         ],
         "yaxis": "y"
        }
       ],
       "layout": {
        "barmode": "relative",
        "legend": {
         "title": {
          "text": "variable"
         },
         "tracegroupgap": 0
        },
        "margin": {
         "t": 60
        },
        "template": {
         "data": {
          "bar": [
           {
            "error_x": {
             "color": "#2a3f5f"
            },
            "error_y": {
             "color": "#2a3f5f"
            },
            "marker": {
             "line": {
              "color": "#E5ECF6",
              "width": 0.5
             },
             "pattern": {
              "fillmode": "overlay",
              "size": 10,
              "solidity": 0.2
             }
            },
            "type": "bar"
           }
          ],
          "barpolar": [
           {
            "marker": {
             "line": {
              "color": "#E5ECF6",
              "width": 0.5
             },
             "pattern": {
              "fillmode": "overlay",
              "size": 10,
              "solidity": 0.2
             }
            },
            "type": "barpolar"
           }
          ],
          "carpet": [
           {
            "aaxis": {
             "endlinecolor": "#2a3f5f",
             "gridcolor": "white",
             "linecolor": "white",
             "minorgridcolor": "white",
             "startlinecolor": "#2a3f5f"
            },
            "baxis": {
             "endlinecolor": "#2a3f5f",
             "gridcolor": "white",
             "linecolor": "white",
             "minorgridcolor": "white",
             "startlinecolor": "#2a3f5f"
            },
            "type": "carpet"
           }
          ],
          "choropleth": [
           {
            "colorbar": {
             "outlinewidth": 0,
             "ticks": ""
            },
            "type": "choropleth"
           }
          ],
          "contour": [
           {
            "colorbar": {
             "outlinewidth": 0,
             "ticks": ""
            },
            "colorscale": [
             [
              0,
              "#0d0887"
             ],
             [
              0.1111111111111111,
              "#46039f"
             ],
             [
              0.2222222222222222,
              "#7201a8"
             ],
             [
              0.3333333333333333,
              "#9c179e"
             ],
             [
              0.4444444444444444,
              "#bd3786"
             ],
             [
              0.5555555555555556,
              "#d8576b"
             ],
             [
              0.6666666666666666,
              "#ed7953"
             ],
             [
              0.7777777777777778,
              "#fb9f3a"
             ],
             [
              0.8888888888888888,
              "#fdca26"
             ],
             [
              1,
              "#f0f921"
             ]
            ],
            "type": "contour"
           }
          ],
          "contourcarpet": [
           {
            "colorbar": {
             "outlinewidth": 0,
             "ticks": ""
            },
            "type": "contourcarpet"
           }
          ],
          "heatmap": [
           {
            "colorbar": {
             "outlinewidth": 0,
             "ticks": ""
            },
            "colorscale": [
             [
              0,
              "#0d0887"
             ],
             [
              0.1111111111111111,
              "#46039f"
             ],
             [
              0.2222222222222222,
              "#7201a8"
             ],
             [
              0.3333333333333333,
              "#9c179e"
             ],
             [
              0.4444444444444444,
              "#bd3786"
             ],
             [
              0.5555555555555556,
              "#d8576b"
             ],
             [
              0.6666666666666666,
              "#ed7953"
             ],
             [
              0.7777777777777778,
              "#fb9f3a"
             ],
             [
              0.8888888888888888,
              "#fdca26"
             ],
             [
              1,
              "#f0f921"
             ]
            ],
            "type": "heatmap"
           }
          ],
          "heatmapgl": [
           {
            "colorbar": {
             "outlinewidth": 0,
             "ticks": ""
            },
            "colorscale": [
             [
              0,
              "#0d0887"
             ],
             [
              0.1111111111111111,
              "#46039f"
             ],
             [
              0.2222222222222222,
              "#7201a8"
             ],
             [
              0.3333333333333333,
              "#9c179e"
             ],
             [
              0.4444444444444444,
              "#bd3786"
             ],
             [
              0.5555555555555556,
              "#d8576b"
             ],
             [
              0.6666666666666666,
              "#ed7953"
             ],
             [
              0.7777777777777778,
              "#fb9f3a"
             ],
             [
              0.8888888888888888,
              "#fdca26"
             ],
             [
              1,
              "#f0f921"
             ]
            ],
            "type": "heatmapgl"
           }
          ],
          "histogram": [
           {
            "marker": {
             "pattern": {
              "fillmode": "overlay",
              "size": 10,
              "solidity": 0.2
             }
            },
            "type": "histogram"
           }
          ],
          "histogram2d": [
           {
            "colorbar": {
             "outlinewidth": 0,
             "ticks": ""
            },
            "colorscale": [
             [
              0,
              "#0d0887"
             ],
             [
              0.1111111111111111,
              "#46039f"
             ],
             [
              0.2222222222222222,
              "#7201a8"
             ],
             [
              0.3333333333333333,
              "#9c179e"
             ],
             [
              0.4444444444444444,
              "#bd3786"
             ],
             [
              0.5555555555555556,
              "#d8576b"
             ],
             [
              0.6666666666666666,
              "#ed7953"
             ],
             [
              0.7777777777777778,
              "#fb9f3a"
             ],
             [
              0.8888888888888888,
              "#fdca26"
             ],
             [
              1,
              "#f0f921"
             ]
            ],
            "type": "histogram2d"
           }
          ],
          "histogram2dcontour": [
           {
            "colorbar": {
             "outlinewidth": 0,
             "ticks": ""
            },
            "colorscale": [
             [
              0,
              "#0d0887"
             ],
             [
              0.1111111111111111,
              "#46039f"
             ],
             [
              0.2222222222222222,
              "#7201a8"
             ],
             [
              0.3333333333333333,
              "#9c179e"
             ],
             [
              0.4444444444444444,
              "#bd3786"
             ],
             [
              0.5555555555555556,
              "#d8576b"
             ],
             [
              0.6666666666666666,
              "#ed7953"
             ],
             [
              0.7777777777777778,
              "#fb9f3a"
             ],
             [
              0.8888888888888888,
              "#fdca26"
             ],
             [
              1,
              "#f0f921"
             ]
            ],
            "type": "histogram2dcontour"
           }
          ],
          "mesh3d": [
           {
            "colorbar": {
             "outlinewidth": 0,
             "ticks": ""
            },
            "type": "mesh3d"
           }
          ],
          "parcoords": [
           {
            "line": {
             "colorbar": {
              "outlinewidth": 0,
              "ticks": ""
             }
            },
            "type": "parcoords"
           }
          ],
          "pie": [
           {
            "automargin": true,
            "type": "pie"
           }
          ],
          "scatter": [
           {
            "fillpattern": {
             "fillmode": "overlay",
             "size": 10,
             "solidity": 0.2
            },
            "type": "scatter"
           }
          ],
          "scatter3d": [
           {
            "line": {
             "colorbar": {
              "outlinewidth": 0,
              "ticks": ""
             }
            },
            "marker": {
             "colorbar": {
              "outlinewidth": 0,
              "ticks": ""
             }
            },
            "type": "scatter3d"
           }
          ],
          "scattercarpet": [
           {
            "marker": {
             "colorbar": {
              "outlinewidth": 0,
              "ticks": ""
             }
            },
            "type": "scattercarpet"
           }
          ],
          "scattergeo": [
           {
            "marker": {
             "colorbar": {
              "outlinewidth": 0,
              "ticks": ""
             }
            },
            "type": "scattergeo"
           }
          ],
          "scattergl": [
           {
            "marker": {
             "colorbar": {
              "outlinewidth": 0,
              "ticks": ""
             }
            },
            "type": "scattergl"
           }
          ],
          "scattermapbox": [
           {
            "marker": {
             "colorbar": {
              "outlinewidth": 0,
              "ticks": ""
             }
            },
            "type": "scattermapbox"
           }
          ],
          "scatterpolar": [
           {
            "marker": {
             "colorbar": {
              "outlinewidth": 0,
              "ticks": ""
             }
            },
            "type": "scatterpolar"
           }
          ],
          "scatterpolargl": [
           {
            "marker": {
             "colorbar": {
              "outlinewidth": 0,
              "ticks": ""
             }
            },
            "type": "scatterpolargl"
           }
          ],
          "scatterternary": [
           {
            "marker": {
             "colorbar": {
              "outlinewidth": 0,
              "ticks": ""
             }
            },
            "type": "scatterternary"
           }
          ],
          "surface": [
           {
            "colorbar": {
             "outlinewidth": 0,
             "ticks": ""
            },
            "colorscale": [
             [
              0,
              "#0d0887"
             ],
             [
              0.1111111111111111,
              "#46039f"
             ],
             [
              0.2222222222222222,
              "#7201a8"
             ],
             [
              0.3333333333333333,
              "#9c179e"
             ],
             [
              0.4444444444444444,
              "#bd3786"
             ],
             [
              0.5555555555555556,
              "#d8576b"
             ],
             [
              0.6666666666666666,
              "#ed7953"
             ],
             [
              0.7777777777777778,
              "#fb9f3a"
             ],
             [
              0.8888888888888888,
              "#fdca26"
             ],
             [
              1,
              "#f0f921"
             ]
            ],
            "type": "surface"
           }
          ],
          "table": [
           {
            "cells": {
             "fill": {
              "color": "#EBF0F8"
             },
             "line": {
              "color": "white"
             }
            },
            "header": {
             "fill": {
              "color": "#C8D4E3"
             },
             "line": {
              "color": "white"
             }
            },
            "type": "table"
           }
          ]
         },
         "layout": {
          "annotationdefaults": {
           "arrowcolor": "#2a3f5f",
           "arrowhead": 0,
           "arrowwidth": 1
          },
          "autotypenumbers": "strict",
          "coloraxis": {
           "colorbar": {
            "outlinewidth": 0,
            "ticks": ""
           }
          },
          "colorscale": {
           "diverging": [
            [
             0,
             "#8e0152"
            ],
            [
             0.1,
             "#c51b7d"
            ],
            [
             0.2,
             "#de77ae"
            ],
            [
             0.3,
             "#f1b6da"
            ],
            [
             0.4,
             "#fde0ef"
            ],
            [
             0.5,
             "#f7f7f7"
            ],
            [
             0.6,
             "#e6f5d0"
            ],
            [
             0.7,
             "#b8e186"
            ],
            [
             0.8,
             "#7fbc41"
            ],
            [
             0.9,
             "#4d9221"
            ],
            [
             1,
             "#276419"
            ]
           ],
           "sequential": [
            [
             0,
             "#0d0887"
            ],
            [
             0.1111111111111111,
             "#46039f"
            ],
            [
             0.2222222222222222,
             "#7201a8"
            ],
            [
             0.3333333333333333,
             "#9c179e"
            ],
            [
             0.4444444444444444,
             "#bd3786"
            ],
            [
             0.5555555555555556,
             "#d8576b"
            ],
            [
             0.6666666666666666,
             "#ed7953"
            ],
            [
             0.7777777777777778,
             "#fb9f3a"
            ],
            [
             0.8888888888888888,
             "#fdca26"
            ],
            [
             1,
             "#f0f921"
            ]
           ],
           "sequentialminus": [
            [
             0,
             "#0d0887"
            ],
            [
             0.1111111111111111,
             "#46039f"
            ],
            [
             0.2222222222222222,
             "#7201a8"
            ],
            [
             0.3333333333333333,
             "#9c179e"
            ],
            [
             0.4444444444444444,
             "#bd3786"
            ],
            [
             0.5555555555555556,
             "#d8576b"
            ],
            [
             0.6666666666666666,
             "#ed7953"
            ],
            [
             0.7777777777777778,
             "#fb9f3a"
            ],
            [
             0.8888888888888888,
             "#fdca26"
            ],
            [
             1,
             "#f0f921"
            ]
           ]
          },
          "colorway": [
           "#636efa",
           "#EF553B",
           "#00cc96",
           "#ab63fa",
           "#FFA15A",
           "#19d3f3",
           "#FF6692",
           "#B6E880",
           "#FF97FF",
           "#FECB52"
          ],
          "font": {
           "color": "#2a3f5f"
          },
          "geo": {
           "bgcolor": "white",
           "lakecolor": "white",
           "landcolor": "#E5ECF6",
           "showlakes": true,
           "showland": true,
           "subunitcolor": "white"
          },
          "hoverlabel": {
           "align": "left"
          },
          "hovermode": "closest",
          "mapbox": {
           "style": "light"
          },
          "paper_bgcolor": "white",
          "plot_bgcolor": "#E5ECF6",
          "polar": {
           "angularaxis": {
            "gridcolor": "white",
            "linecolor": "white",
            "ticks": ""
           },
           "bgcolor": "#E5ECF6",
           "radialaxis": {
            "gridcolor": "white",
            "linecolor": "white",
            "ticks": ""
           }
          },
          "scene": {
           "xaxis": {
            "backgroundcolor": "#E5ECF6",
            "gridcolor": "white",
            "gridwidth": 2,
            "linecolor": "white",
            "showbackground": true,
            "ticks": "",
            "zerolinecolor": "white"
           },
           "yaxis": {
            "backgroundcolor": "#E5ECF6",
            "gridcolor": "white",
            "gridwidth": 2,
            "linecolor": "white",
            "showbackground": true,
            "ticks": "",
            "zerolinecolor": "white"
           },
           "zaxis": {
            "backgroundcolor": "#E5ECF6",
            "gridcolor": "white",
            "gridwidth": 2,
            "linecolor": "white",
            "showbackground": true,
            "ticks": "",
            "zerolinecolor": "white"
           }
          },
          "shapedefaults": {
           "line": {
            "color": "#2a3f5f"
           }
          },
          "ternary": {
           "aaxis": {
            "gridcolor": "white",
            "linecolor": "white",
            "ticks": ""
           },
           "baxis": {
            "gridcolor": "white",
            "linecolor": "white",
            "ticks": ""
           },
           "bgcolor": "#E5ECF6",
           "caxis": {
            "gridcolor": "white",
            "linecolor": "white",
            "ticks": ""
           }
          },
          "title": {
           "x": 0.05
          },
          "xaxis": {
           "automargin": true,
           "gridcolor": "white",
           "linecolor": "white",
           "ticks": "",
           "title": {
            "standoff": 15
           },
           "zerolinecolor": "white",
           "zerolinewidth": 2
          },
          "yaxis": {
           "automargin": true,
           "gridcolor": "white",
           "linecolor": "white",
           "ticks": "",
           "title": {
            "standoff": 15
           },
           "zerolinecolor": "white",
           "zerolinewidth": 2
          }
         }
        },
        "xaxis": {
         "anchor": "y",
         "domain": [
          0,
          1
         ],
         "title": {
          "text": "tenure"
         }
        },
        "yaxis": {
         "anchor": "x",
         "domain": [
          0,
          1
         ],
         "title": {
          "text": "value"
         }
        }
       }
      }
     },
     "metadata": {},
     "output_type": "display_data"
    }
   ],
   "source": [
    "px.bar(df_transactions[df_transactions['built_up'].isna()]['tenure'].value_counts())"
   ]
  },
  {
   "cell_type": "code",
   "execution_count": 66,
   "metadata": {},
   "outputs": [
    {
     "data": {
      "application/vnd.plotly.v1+json": {
       "config": {
        "plotlyServerURL": "https://plot.ly"
       },
       "data": [
        {
         "alignmentgroup": "True",
         "hovertemplate": "variable=count<br>floors=%{x}<br>value=%{y}<extra></extra>",
         "legendgroup": "count",
         "marker": {
          "color": "#636efa",
          "pattern": {
           "shape": ""
          }
         },
         "name": "count",
         "offsetgroup": "count",
         "orientation": "v",
         "showlegend": true,
         "textposition": "auto",
         "type": "bar",
         "x": [
          "2",
          "1",
          "3",
          2.5,
          "4",
          3.5,
          1.5,
          "5",
          "6",
          "8",
          "0"
         ],
         "xaxis": "x",
         "y": [
          3024,
          1117,
          1041,
          271,
          79,
          39,
          31,
          6,
          2,
          2,
          1
         ],
         "yaxis": "y"
        }
       ],
       "layout": {
        "barmode": "relative",
        "legend": {
         "title": {
          "text": "variable"
         },
         "tracegroupgap": 0
        },
        "margin": {
         "t": 60
        },
        "template": {
         "data": {
          "bar": [
           {
            "error_x": {
             "color": "#2a3f5f"
            },
            "error_y": {
             "color": "#2a3f5f"
            },
            "marker": {
             "line": {
              "color": "#E5ECF6",
              "width": 0.5
             },
             "pattern": {
              "fillmode": "overlay",
              "size": 10,
              "solidity": 0.2
             }
            },
            "type": "bar"
           }
          ],
          "barpolar": [
           {
            "marker": {
             "line": {
              "color": "#E5ECF6",
              "width": 0.5
             },
             "pattern": {
              "fillmode": "overlay",
              "size": 10,
              "solidity": 0.2
             }
            },
            "type": "barpolar"
           }
          ],
          "carpet": [
           {
            "aaxis": {
             "endlinecolor": "#2a3f5f",
             "gridcolor": "white",
             "linecolor": "white",
             "minorgridcolor": "white",
             "startlinecolor": "#2a3f5f"
            },
            "baxis": {
             "endlinecolor": "#2a3f5f",
             "gridcolor": "white",
             "linecolor": "white",
             "minorgridcolor": "white",
             "startlinecolor": "#2a3f5f"
            },
            "type": "carpet"
           }
          ],
          "choropleth": [
           {
            "colorbar": {
             "outlinewidth": 0,
             "ticks": ""
            },
            "type": "choropleth"
           }
          ],
          "contour": [
           {
            "colorbar": {
             "outlinewidth": 0,
             "ticks": ""
            },
            "colorscale": [
             [
              0,
              "#0d0887"
             ],
             [
              0.1111111111111111,
              "#46039f"
             ],
             [
              0.2222222222222222,
              "#7201a8"
             ],
             [
              0.3333333333333333,
              "#9c179e"
             ],
             [
              0.4444444444444444,
              "#bd3786"
             ],
             [
              0.5555555555555556,
              "#d8576b"
             ],
             [
              0.6666666666666666,
              "#ed7953"
             ],
             [
              0.7777777777777778,
              "#fb9f3a"
             ],
             [
              0.8888888888888888,
              "#fdca26"
             ],
             [
              1,
              "#f0f921"
             ]
            ],
            "type": "contour"
           }
          ],
          "contourcarpet": [
           {
            "colorbar": {
             "outlinewidth": 0,
             "ticks": ""
            },
            "type": "contourcarpet"
           }
          ],
          "heatmap": [
           {
            "colorbar": {
             "outlinewidth": 0,
             "ticks": ""
            },
            "colorscale": [
             [
              0,
              "#0d0887"
             ],
             [
              0.1111111111111111,
              "#46039f"
             ],
             [
              0.2222222222222222,
              "#7201a8"
             ],
             [
              0.3333333333333333,
              "#9c179e"
             ],
             [
              0.4444444444444444,
              "#bd3786"
             ],
             [
              0.5555555555555556,
              "#d8576b"
             ],
             [
              0.6666666666666666,
              "#ed7953"
             ],
             [
              0.7777777777777778,
              "#fb9f3a"
             ],
             [
              0.8888888888888888,
              "#fdca26"
             ],
             [
              1,
              "#f0f921"
             ]
            ],
            "type": "heatmap"
           }
          ],
          "heatmapgl": [
           {
            "colorbar": {
             "outlinewidth": 0,
             "ticks": ""
            },
            "colorscale": [
             [
              0,
              "#0d0887"
             ],
             [
              0.1111111111111111,
              "#46039f"
             ],
             [
              0.2222222222222222,
              "#7201a8"
             ],
             [
              0.3333333333333333,
              "#9c179e"
             ],
             [
              0.4444444444444444,
              "#bd3786"
             ],
             [
              0.5555555555555556,
              "#d8576b"
             ],
             [
              0.6666666666666666,
              "#ed7953"
             ],
             [
              0.7777777777777778,
              "#fb9f3a"
             ],
             [
              0.8888888888888888,
              "#fdca26"
             ],
             [
              1,
              "#f0f921"
             ]
            ],
            "type": "heatmapgl"
           }
          ],
          "histogram": [
           {
            "marker": {
             "pattern": {
              "fillmode": "overlay",
              "size": 10,
              "solidity": 0.2
             }
            },
            "type": "histogram"
           }
          ],
          "histogram2d": [
           {
            "colorbar": {
             "outlinewidth": 0,
             "ticks": ""
            },
            "colorscale": [
             [
              0,
              "#0d0887"
             ],
             [
              0.1111111111111111,
              "#46039f"
             ],
             [
              0.2222222222222222,
              "#7201a8"
             ],
             [
              0.3333333333333333,
              "#9c179e"
             ],
             [
              0.4444444444444444,
              "#bd3786"
             ],
             [
              0.5555555555555556,
              "#d8576b"
             ],
             [
              0.6666666666666666,
              "#ed7953"
             ],
             [
              0.7777777777777778,
              "#fb9f3a"
             ],
             [
              0.8888888888888888,
              "#fdca26"
             ],
             [
              1,
              "#f0f921"
             ]
            ],
            "type": "histogram2d"
           }
          ],
          "histogram2dcontour": [
           {
            "colorbar": {
             "outlinewidth": 0,
             "ticks": ""
            },
            "colorscale": [
             [
              0,
              "#0d0887"
             ],
             [
              0.1111111111111111,
              "#46039f"
             ],
             [
              0.2222222222222222,
              "#7201a8"
             ],
             [
              0.3333333333333333,
              "#9c179e"
             ],
             [
              0.4444444444444444,
              "#bd3786"
             ],
             [
              0.5555555555555556,
              "#d8576b"
             ],
             [
              0.6666666666666666,
              "#ed7953"
             ],
             [
              0.7777777777777778,
              "#fb9f3a"
             ],
             [
              0.8888888888888888,
              "#fdca26"
             ],
             [
              1,
              "#f0f921"
             ]
            ],
            "type": "histogram2dcontour"
           }
          ],
          "mesh3d": [
           {
            "colorbar": {
             "outlinewidth": 0,
             "ticks": ""
            },
            "type": "mesh3d"
           }
          ],
          "parcoords": [
           {
            "line": {
             "colorbar": {
              "outlinewidth": 0,
              "ticks": ""
             }
            },
            "type": "parcoords"
           }
          ],
          "pie": [
           {
            "automargin": true,
            "type": "pie"
           }
          ],
          "scatter": [
           {
            "fillpattern": {
             "fillmode": "overlay",
             "size": 10,
             "solidity": 0.2
            },
            "type": "scatter"
           }
          ],
          "scatter3d": [
           {
            "line": {
             "colorbar": {
              "outlinewidth": 0,
              "ticks": ""
             }
            },
            "marker": {
             "colorbar": {
              "outlinewidth": 0,
              "ticks": ""
             }
            },
            "type": "scatter3d"
           }
          ],
          "scattercarpet": [
           {
            "marker": {
             "colorbar": {
              "outlinewidth": 0,
              "ticks": ""
             }
            },
            "type": "scattercarpet"
           }
          ],
          "scattergeo": [
           {
            "marker": {
             "colorbar": {
              "outlinewidth": 0,
              "ticks": ""
             }
            },
            "type": "scattergeo"
           }
          ],
          "scattergl": [
           {
            "marker": {
             "colorbar": {
              "outlinewidth": 0,
              "ticks": ""
             }
            },
            "type": "scattergl"
           }
          ],
          "scattermapbox": [
           {
            "marker": {
             "colorbar": {
              "outlinewidth": 0,
              "ticks": ""
             }
            },
            "type": "scattermapbox"
           }
          ],
          "scatterpolar": [
           {
            "marker": {
             "colorbar": {
              "outlinewidth": 0,
              "ticks": ""
             }
            },
            "type": "scatterpolar"
           }
          ],
          "scatterpolargl": [
           {
            "marker": {
             "colorbar": {
              "outlinewidth": 0,
              "ticks": ""
             }
            },
            "type": "scatterpolargl"
           }
          ],
          "scatterternary": [
           {
            "marker": {
             "colorbar": {
              "outlinewidth": 0,
              "ticks": ""
             }
            },
            "type": "scatterternary"
           }
          ],
          "surface": [
           {
            "colorbar": {
             "outlinewidth": 0,
             "ticks": ""
            },
            "colorscale": [
             [
              0,
              "#0d0887"
             ],
             [
              0.1111111111111111,
              "#46039f"
             ],
             [
              0.2222222222222222,
              "#7201a8"
             ],
             [
              0.3333333333333333,
              "#9c179e"
             ],
             [
              0.4444444444444444,
              "#bd3786"
             ],
             [
              0.5555555555555556,
              "#d8576b"
             ],
             [
              0.6666666666666666,
              "#ed7953"
             ],
             [
              0.7777777777777778,
              "#fb9f3a"
             ],
             [
              0.8888888888888888,
              "#fdca26"
             ],
             [
              1,
              "#f0f921"
             ]
            ],
            "type": "surface"
           }
          ],
          "table": [
           {
            "cells": {
             "fill": {
              "color": "#EBF0F8"
             },
             "line": {
              "color": "white"
             }
            },
            "header": {
             "fill": {
              "color": "#C8D4E3"
             },
             "line": {
              "color": "white"
             }
            },
            "type": "table"
           }
          ]
         },
         "layout": {
          "annotationdefaults": {
           "arrowcolor": "#2a3f5f",
           "arrowhead": 0,
           "arrowwidth": 1
          },
          "autotypenumbers": "strict",
          "coloraxis": {
           "colorbar": {
            "outlinewidth": 0,
            "ticks": ""
           }
          },
          "colorscale": {
           "diverging": [
            [
             0,
             "#8e0152"
            ],
            [
             0.1,
             "#c51b7d"
            ],
            [
             0.2,
             "#de77ae"
            ],
            [
             0.3,
             "#f1b6da"
            ],
            [
             0.4,
             "#fde0ef"
            ],
            [
             0.5,
             "#f7f7f7"
            ],
            [
             0.6,
             "#e6f5d0"
            ],
            [
             0.7,
             "#b8e186"
            ],
            [
             0.8,
             "#7fbc41"
            ],
            [
             0.9,
             "#4d9221"
            ],
            [
             1,
             "#276419"
            ]
           ],
           "sequential": [
            [
             0,
             "#0d0887"
            ],
            [
             0.1111111111111111,
             "#46039f"
            ],
            [
             0.2222222222222222,
             "#7201a8"
            ],
            [
             0.3333333333333333,
             "#9c179e"
            ],
            [
             0.4444444444444444,
             "#bd3786"
            ],
            [
             0.5555555555555556,
             "#d8576b"
            ],
            [
             0.6666666666666666,
             "#ed7953"
            ],
            [
             0.7777777777777778,
             "#fb9f3a"
            ],
            [
             0.8888888888888888,
             "#fdca26"
            ],
            [
             1,
             "#f0f921"
            ]
           ],
           "sequentialminus": [
            [
             0,
             "#0d0887"
            ],
            [
             0.1111111111111111,
             "#46039f"
            ],
            [
             0.2222222222222222,
             "#7201a8"
            ],
            [
             0.3333333333333333,
             "#9c179e"
            ],
            [
             0.4444444444444444,
             "#bd3786"
            ],
            [
             0.5555555555555556,
             "#d8576b"
            ],
            [
             0.6666666666666666,
             "#ed7953"
            ],
            [
             0.7777777777777778,
             "#fb9f3a"
            ],
            [
             0.8888888888888888,
             "#fdca26"
            ],
            [
             1,
             "#f0f921"
            ]
           ]
          },
          "colorway": [
           "#636efa",
           "#EF553B",
           "#00cc96",
           "#ab63fa",
           "#FFA15A",
           "#19d3f3",
           "#FF6692",
           "#B6E880",
           "#FF97FF",
           "#FECB52"
          ],
          "font": {
           "color": "#2a3f5f"
          },
          "geo": {
           "bgcolor": "white",
           "lakecolor": "white",
           "landcolor": "#E5ECF6",
           "showlakes": true,
           "showland": true,
           "subunitcolor": "white"
          },
          "hoverlabel": {
           "align": "left"
          },
          "hovermode": "closest",
          "mapbox": {
           "style": "light"
          },
          "paper_bgcolor": "white",
          "plot_bgcolor": "#E5ECF6",
          "polar": {
           "angularaxis": {
            "gridcolor": "white",
            "linecolor": "white",
            "ticks": ""
           },
           "bgcolor": "#E5ECF6",
           "radialaxis": {
            "gridcolor": "white",
            "linecolor": "white",
            "ticks": ""
           }
          },
          "scene": {
           "xaxis": {
            "backgroundcolor": "#E5ECF6",
            "gridcolor": "white",
            "gridwidth": 2,
            "linecolor": "white",
            "showbackground": true,
            "ticks": "",
            "zerolinecolor": "white"
           },
           "yaxis": {
            "backgroundcolor": "#E5ECF6",
            "gridcolor": "white",
            "gridwidth": 2,
            "linecolor": "white",
            "showbackground": true,
            "ticks": "",
            "zerolinecolor": "white"
           },
           "zaxis": {
            "backgroundcolor": "#E5ECF6",
            "gridcolor": "white",
            "gridwidth": 2,
            "linecolor": "white",
            "showbackground": true,
            "ticks": "",
            "zerolinecolor": "white"
           }
          },
          "shapedefaults": {
           "line": {
            "color": "#2a3f5f"
           }
          },
          "ternary": {
           "aaxis": {
            "gridcolor": "white",
            "linecolor": "white",
            "ticks": ""
           },
           "baxis": {
            "gridcolor": "white",
            "linecolor": "white",
            "ticks": ""
           },
           "bgcolor": "#E5ECF6",
           "caxis": {
            "gridcolor": "white",
            "linecolor": "white",
            "ticks": ""
           }
          },
          "title": {
           "x": 0.05
          },
          "xaxis": {
           "automargin": true,
           "gridcolor": "white",
           "linecolor": "white",
           "ticks": "",
           "title": {
            "standoff": 15
           },
           "zerolinecolor": "white",
           "zerolinewidth": 2
          },
          "yaxis": {
           "automargin": true,
           "gridcolor": "white",
           "linecolor": "white",
           "ticks": "",
           "title": {
            "standoff": 15
           },
           "zerolinecolor": "white",
           "zerolinewidth": 2
          }
         }
        },
        "xaxis": {
         "anchor": "y",
         "domain": [
          0,
          1
         ],
         "title": {
          "text": "floors"
         }
        },
        "yaxis": {
         "anchor": "x",
         "domain": [
          0,
          1
         ],
         "title": {
          "text": "value"
         }
        }
       }
      }
     },
     "metadata": {},
     "output_type": "display_data"
    }
   ],
   "source": [
    "px.bar(df_transactions[df_transactions['built_up'].isna()]['floors'].value_counts())"
   ]
  },
  {
   "cell_type": "code",
   "execution_count": 67,
   "metadata": {},
   "outputs": [
    {
     "data": {
      "application/vnd.plotly.v1+json": {
       "config": {
        "plotlyServerURL": "https://plot.ly"
       },
       "data": [
        {
         "alignmentgroup": "True",
         "hovertemplate": "variable=count<br>price=%{x}<br>value=%{y}<extra></extra>",
         "legendgroup": "count",
         "marker": {
          "color": "#636efa",
          "pattern": {
           "shape": ""
          }
         },
         "name": "count",
         "offsetgroup": "count",
         "orientation": "v",
         "showlegend": true,
         "textposition": "auto",
         "type": "bar",
         "x": [
          "500000",
          "700000",
          "800000",
          "600000",
          "1000000",
          "650000",
          "400000",
          "450000",
          "550000",
          "750000",
          "1100000",
          "1200000",
          "300000",
          "850000",
          "1500000",
          "950000",
          "900000",
          "1400000",
          "680000",
          "1300000",
          "1600000",
          "1800000",
          "580000",
          "350000",
          "380000",
          "1700000",
          "620000",
          "1250000",
          "1150000",
          "720000",
          "1350000",
          "2000000",
          "1050000",
          "560000",
          "2800000",
          "430000",
          "420000",
          "630000",
          "460000",
          "780000",
          "660000",
          "690000",
          "480000",
          "1650000",
          "2500000",
          "470000",
          "880000",
          "530000",
          "730000",
          "490000",
          "3000000",
          "320000",
          "4000000",
          "360000",
          "250000",
          "2300000",
          "330000",
          "2200000",
          "200000",
          "2100000",
          "760000",
          "640000",
          "1550000",
          "1900000",
          "830000",
          "340000",
          "3500000",
          "820000",
          "370000",
          "3200000",
          "770000",
          "4500000",
          "980000",
          "280000",
          "510000",
          "570000",
          "540000",
          "1180000",
          "3100000",
          "520000",
          "390000",
          "1230000",
          "2400000",
          "1750000",
          "270000",
          "670000",
          "1850000",
          "790000",
          "1450000",
          "610000",
          "1080000",
          "590000",
          "870000",
          "3600000",
          "6000000",
          "930000",
          "740000",
          "675000",
          "3300000",
          "410000",
          "860000",
          "1280000",
          "710000",
          "2350000",
          "4300000",
          "625000",
          "5000000",
          "2250000",
          "2700000",
          "1880000",
          "1480000",
          "310000",
          "3800000",
          "810000",
          "1680000",
          "2550000",
          "960000",
          "1380000",
          "440000",
          "2950000",
          "2900000",
          "2600000",
          "260000",
          "1030000",
          "738000",
          "2150000",
          "4200000",
          "180000",
          "910000",
          "5500000",
          "2850000",
          "970000",
          "840000",
          "290000",
          "1130000",
          "2450000",
          "3150000",
          "1060000",
          "1780000",
          "575000",
          "638000",
          "1950000",
          "890000",
          "415000",
          "7000000",
          "2050000",
          "535000",
          "1530000",
          "745000",
          "499000",
          "475000",
          "498000",
          "1020000",
          "585000",
          "4800000",
          "1980000",
          "920000",
          "1660000",
          "355000",
          "365000",
          "230000",
          "755000",
          "615000",
          "1580000",
          "1330000",
          "1830000",
          "4100000",
          "4850000",
          "1160000",
          "6500000",
          "425000",
          "220000",
          "838000",
          "4400000",
          "4700000",
          "1270000",
          "3400000",
          "1860000",
          "1590000",
          "1520000",
          "545000",
          "2380000",
          "170000",
          "855000",
          "725000",
          "455000",
          "990000",
          "565000",
          "375000",
          "765000",
          "1120000",
          "2330000",
          "6300000",
          "688000",
          "7700000",
          "335000",
          "495000",
          "240000",
          "7500000",
          "3700000",
          "998000",
          "1010000",
          "2280000",
          "395000",
          "940000",
          "785000",
          "150000",
          "645000",
          "3650000",
          "445000",
          "555000",
          "1260000",
          "385000",
          "888000",
          "485000",
          "4900000",
          "648000",
          "3980000",
          "938000",
          "1220000",
          "965000",
          "845000",
          "635000",
          "1620000",
          "748000",
          "2650000",
          "538000",
          "1170000",
          "633000",
          "10500000",
          "435000",
          "5800000",
          "3900000",
          "628000",
          "3180000",
          "1820000",
          "2750000",
          "488000",
          "7800000",
          "1340000",
          "8800000",
          "685000",
          "1470000",
          "865000",
          "1630000",
          "100000",
          "925000",
          "2180000",
          "5600000",
          "235000",
          "935000",
          "665000",
          "165000",
          "2780000",
          "1320000",
          "275000",
          "3250000",
          "548000",
          "2360000",
          "668000",
          "848000",
          "4600000",
          "775000",
          "915000",
          "505000",
          "835000",
          "875000",
          "1190000",
          "405000",
          "1870000",
          "3550000",
          "1290000",
          "1690000",
          "2480000",
          "1510000",
          "6400000",
          "3850000",
          "4250000",
          "2080000",
          "2160000",
          "6200000",
          "5400000",
          "4950000",
          "388000",
          "2880000",
          "995000",
          "8000000",
          "655000",
          "2220000",
          "588000",
          "1720000",
          "465000",
          "1420000",
          "4050000",
          "715000",
          "3350000",
          "265000",
          "818000",
          "1238000",
          "728000",
          "2030000",
          "918000",
          "525000",
          "795000",
          "1628000",
          "805000",
          "1460000",
          "1570000",
          "1760000",
          "30000000",
          "1065000",
          "1730000",
          "4550000",
          "708000",
          "2580000",
          "1275000",
          "1390000",
          "4320000",
          "695000",
          "758000",
          "1668000",
          "616000",
          "6450000",
          "1175000",
          "768000",
          "1610000",
          "1070000",
          "1775000",
          "1140000",
          "3280000",
          "1840000",
          "2930000",
          "1940000",
          "3050000",
          "978000",
          "2630000",
          "80000",
          "556000",
          "10000000",
          "3680000",
          "1370000",
          "325000",
          "2760000",
          "5100000",
          "825000",
          "6800000",
          "268000",
          "50000",
          "8300000",
          "5180000",
          "975000",
          "518000",
          "563000",
          "3580000",
          "3950000",
          "210000",
          "735000",
          "9500000",
          "6700000",
          "4450000",
          "6900000",
          "378000",
          "5200000",
          "14000000",
          "349000",
          "2680000",
          "5350000",
          "3450000",
          "905000",
          "5300000",
          "60000",
          "608000",
          "12500000",
          "160000",
          "338000",
          "285000",
          "678000",
          "8700000",
          "2490000",
          "4130000",
          "1338888",
          "2820000",
          "13500000",
          "1838000",
          "448000",
          "1138000",
          "1430000",
          "205000",
          "595000",
          "1440000",
          "2320000",
          "1670000",
          "593000",
          "878000",
          "345000",
          "2388000",
          "2260000",
          "718000",
          "9200000",
          "1375000",
          "2790000",
          "1920000",
          "190000",
          "130000",
          "1665000",
          "1055000",
          "245000",
          "8200000",
          "778000",
          "315000",
          "2460000",
          "3138000",
          "1325000",
          "2980000",
          "6880000",
          "2020000",
          "1490000",
          "305000",
          "1835000",
          "2860000",
          "499900",
          "1725000",
          "8500000",
          "663000",
          "968000",
          "1575000",
          "2670000",
          "698000",
          "7750000",
          "8100000",
          "2275000",
          "622000",
          "1825000",
          "515000",
          "1115000",
          "1560000",
          "6280000",
          "895000",
          "1040000",
          "3398000",
          "11100000",
          "5450000",
          "5900000",
          "458000",
          "605000",
          "613000",
          "723000",
          "652000",
          "824000",
          "815000",
          "6350000",
          "955000",
          "3080000",
          "6750000",
          "408000",
          "705000",
          "1215000",
          "1048000",
          "1465000",
          "3875000",
          "6100000",
          "1038000",
          "4680000",
          "486000",
          "3880000",
          "828000",
          "1410000",
          "7200000",
          "576000",
          "1640000",
          "5574150",
          "2130000",
          "5118000",
          "402452",
          "344999",
          "2385000",
          "1935000",
          "1378000",
          "2390000",
          "1395000",
          "6033720",
          "3590000",
          "14350000",
          "1418000",
          "2190000",
          "946000",
          "3220000",
          "398000",
          "2235000",
          "503000",
          "553000",
          "41718750",
          "7927929",
          "16750000",
          "942000",
          "9600000",
          "13000000",
          "17000000",
          "418000",
          "4750000",
          "2175817",
          "839000",
          "888888",
          "2570000",
          "3170000",
          "3030000",
          "3575000",
          "2335000",
          "3490000",
          "2245000",
          "1498000",
          "1938000",
          "1338000",
          "1415000",
          "329000",
          "1000500",
          "2538900",
          "945000",
          "1715000",
          "382000",
          "333000",
          "4630000",
          "438000",
          "906759",
          "3965000",
          "1003000",
          "1945000",
          "2090000",
          "1968000",
          "1588000",
          "656000",
          "9000000",
          "422000",
          "323790",
          "769014",
          "558627",
          "612000",
          "756000",
          "1202128",
          "2728000",
          "2230000",
          "2125000",
          "1251819",
          "353000",
          "885000",
          "1085000",
          "4480000",
          "4870000",
          "4150000",
          "4350000",
          "35000",
          "1755000",
          "2683619",
          "510300",
          "3253075",
          "258000",
          "733000",
          "2579000",
          "3535000",
          "1068000",
          "2830000",
          "447000",
          "6425623",
          "10800000",
          "18000000",
          "572500",
          "5630000",
          "5700000",
          "5980000",
          "5880000",
          "3520000",
          "412000",
          "2608000",
          "1485000",
          "4160000",
          "5680000",
          "12915519",
          "13584481",
          "1310000",
          "11200000",
          "10200000",
          "5380000",
          "5780000",
          "8950000",
          "1738110",
          "7059514",
          "3396630",
          "3331000",
          "8400000",
          "858000",
          "3162328",
          "4388000",
          "11000000",
          "7130400",
          "1918000",
          "1608888",
          "5610000",
          "601000",
          "318000",
          "3457500",
          "70000",
          "631000",
          "1268000",
          "2288000",
          "1075000",
          "1017000",
          "2238888",
          "217789",
          "6980000",
          "1210000",
          "3380000",
          "7150000",
          "288000",
          "948000",
          "358000",
          "3688000",
          "272000",
          "3820000",
          "5280000",
          "3825000",
          "400125",
          "3480000",
          "4180000",
          "2420000",
          "551000",
          "1090000",
          "3360000",
          "6180000",
          "8880000",
          "3120000",
          "4880000",
          "5550000",
          "5327741",
          "5650000",
          "5425000",
          "4430000",
          "295000",
          "6050000",
          "4580000",
          "6150000",
          "5850000",
          "3242000",
          "3260000",
          "3690000",
          "3750000",
          "3665000",
          "1312000",
          "533000",
          "1810000",
          "1248000",
          "1072000",
          "198000",
          "783000",
          "220800",
          "348500",
          "808000",
          "1035000",
          "699000",
          "1463000",
          "1288000",
          "2525000",
          "1528000",
          "2219310",
          "428000",
          "417000",
          "4330000",
          "2530000",
          "1188000",
          "1289592",
          "654000",
          "215000",
          "3230000",
          "10027150",
          "822000",
          "7450000",
          "13400000",
          "4650000",
          "562000",
          "4530000",
          "412500",
          "402000",
          "5050000",
          "383000",
          "145000",
          "4188000",
          "2418000",
          "1638000",
          "2430000",
          "2138000",
          "1839000",
          "2727000",
          "687500",
          "7380000",
          "2110000",
          "1595000",
          "3830000",
          "986000",
          "393120",
          "526880",
          "528000",
          "898000",
          "798000",
          "623231",
          "456000",
          "653000",
          "1970000",
          "373000",
          "632000",
          "732800",
          "325182",
          "644448",
          "366000",
          "820640",
          "1782000",
          "436888",
          "536000",
          "618000",
          "834000",
          "225000",
          "255000",
          "362000",
          "739000",
          "1398000",
          "1171000",
          "1256000",
          "1025000",
          "1533000",
          "988000",
          "1240000",
          "666500",
          "461538",
          "637500",
          "683000",
          "266000",
          "738462",
          "175000",
          "673000",
          "168000",
          "120000",
          "356644",
          "1495000",
          "6250000",
          "3290000",
          "462000",
          "1438000",
          "2270000",
          "1790000",
          "1738000",
          "799000",
          "686000",
          "1688000",
          "1108000",
          "788000",
          "2925000",
          "462500",
          "1708000",
          "1405000",
          "1225000",
          "1930000",
          "95000",
          "1110000",
          "278000",
          "185000",
          "1576000",
          "1176000",
          "2520000",
          "543000",
          "759050",
          "2960000",
          "4280000",
          "693000",
          "453000",
          "508000",
          "40000",
          "483000",
          "1168000",
          "779000",
          "2699998",
          "1988888",
          "383300",
          "316000",
          "1885000",
          "1910000",
          "1423000",
          "1425000",
          "1165000",
          "1539000",
          "83000",
          "1078000",
          "7600000",
          "559000",
          "3930000",
          "1815000",
          "2488000",
          "7065000",
          "589000",
          "734100",
          "8150000",
          "578000",
          "7300000",
          "26800000",
          "467000",
          "2615000",
          "3020000",
          "2758800",
          "9900000",
          "5250000",
          "13700000",
          "5810000",
          "9180000",
          "4990000",
          "1741066",
          "2185000",
          "2885500",
          "2470000",
          "623000",
          "493000",
          "300657",
          "598000",
          "397000",
          "444000",
          "603000",
          "1505000",
          "1525000",
          "8380000",
          "898547",
          "1028000",
          "813000",
          "816000",
          "9800000",
          "3410000",
          "188000",
          "75000",
          "936000",
          "11500000"
         ],
         "xaxis": "x",
         "y": [
          121,
          109,
          106,
          103,
          89,
          88,
          86,
          83,
          80,
          71,
          68,
          68,
          62,
          59,
          59,
          54,
          53,
          51,
          49,
          48,
          45,
          44,
          44,
          41,
          41,
          40,
          39,
          38,
          37,
          37,
          36,
          35,
          35,
          33,
          33,
          33,
          33,
          31,
          30,
          30,
          30,
          30,
          29,
          28,
          28,
          27,
          27,
          26,
          26,
          26,
          26,
          26,
          25,
          24,
          24,
          23,
          23,
          23,
          23,
          23,
          23,
          23,
          23,
          22,
          22,
          21,
          21,
          20,
          20,
          20,
          20,
          20,
          20,
          19,
          19,
          19,
          19,
          18,
          18,
          18,
          17,
          17,
          17,
          16,
          16,
          16,
          16,
          16,
          16,
          15,
          15,
          15,
          15,
          15,
          15,
          15,
          15,
          14,
          14,
          14,
          14,
          14,
          13,
          13,
          13,
          13,
          13,
          13,
          13,
          13,
          13,
          12,
          12,
          12,
          12,
          12,
          12,
          12,
          12,
          12,
          12,
          11,
          11,
          11,
          11,
          11,
          11,
          11,
          10,
          10,
          10,
          10,
          10,
          10,
          10,
          9,
          9,
          9,
          9,
          9,
          9,
          9,
          9,
          9,
          9,
          9,
          9,
          9,
          9,
          9,
          9,
          9,
          8,
          8,
          8,
          8,
          8,
          8,
          8,
          8,
          8,
          8,
          8,
          8,
          8,
          8,
          8,
          7,
          7,
          7,
          7,
          7,
          7,
          7,
          7,
          7,
          7,
          7,
          7,
          7,
          7,
          7,
          7,
          7,
          7,
          7,
          7,
          7,
          7,
          7,
          6,
          6,
          6,
          6,
          6,
          6,
          6,
          6,
          6,
          6,
          6,
          6,
          6,
          6,
          6,
          6,
          6,
          6,
          6,
          6,
          6,
          6,
          6,
          6,
          6,
          6,
          6,
          6,
          6,
          6,
          6,
          6,
          6,
          6,
          6,
          6,
          5,
          5,
          5,
          5,
          5,
          5,
          5,
          5,
          5,
          5,
          5,
          5,
          5,
          5,
          5,
          5,
          5,
          5,
          5,
          5,
          5,
          4,
          4,
          4,
          4,
          4,
          4,
          4,
          4,
          4,
          4,
          4,
          4,
          4,
          4,
          4,
          4,
          4,
          4,
          4,
          4,
          4,
          4,
          4,
          4,
          4,
          4,
          4,
          4,
          4,
          4,
          4,
          4,
          4,
          4,
          4,
          4,
          4,
          4,
          4,
          4,
          4,
          4,
          4,
          4,
          4,
          4,
          4,
          3,
          3,
          3,
          3,
          3,
          3,
          3,
          3,
          3,
          3,
          3,
          3,
          3,
          3,
          3,
          3,
          3,
          3,
          3,
          3,
          3,
          3,
          3,
          3,
          3,
          3,
          3,
          3,
          3,
          3,
          3,
          3,
          3,
          3,
          3,
          3,
          3,
          3,
          3,
          3,
          3,
          3,
          3,
          3,
          3,
          3,
          3,
          3,
          3,
          3,
          3,
          3,
          3,
          3,
          3,
          3,
          3,
          3,
          3,
          3,
          3,
          3,
          3,
          3,
          3,
          3,
          3,
          3,
          2,
          2,
          2,
          2,
          2,
          2,
          2,
          2,
          2,
          2,
          2,
          2,
          2,
          2,
          2,
          2,
          2,
          2,
          2,
          2,
          2,
          2,
          2,
          2,
          2,
          2,
          2,
          2,
          2,
          2,
          2,
          2,
          2,
          2,
          2,
          2,
          2,
          2,
          2,
          2,
          2,
          2,
          2,
          2,
          2,
          2,
          2,
          2,
          2,
          2,
          2,
          2,
          2,
          2,
          2,
          2,
          2,
          2,
          2,
          2,
          2,
          2,
          2,
          2,
          2,
          2,
          2,
          2,
          2,
          2,
          2,
          2,
          2,
          2,
          2,
          2,
          2,
          2,
          2,
          2,
          2,
          2,
          2,
          2,
          2,
          2,
          2,
          2,
          2,
          2,
          2,
          2,
          2,
          2,
          2,
          2,
          2,
          2,
          2,
          2,
          2,
          2,
          2,
          2,
          2,
          2,
          2,
          2,
          1,
          1,
          1,
          1,
          1,
          1,
          1,
          1,
          1,
          1,
          1,
          1,
          1,
          1,
          1,
          1,
          1,
          1,
          1,
          1,
          1,
          1,
          1,
          1,
          1,
          1,
          1,
          1,
          1,
          1,
          1,
          1,
          1,
          1,
          1,
          1,
          1,
          1,
          1,
          1,
          1,
          1,
          1,
          1,
          1,
          1,
          1,
          1,
          1,
          1,
          1,
          1,
          1,
          1,
          1,
          1,
          1,
          1,
          1,
          1,
          1,
          1,
          1,
          1,
          1,
          1,
          1,
          1,
          1,
          1,
          1,
          1,
          1,
          1,
          1,
          1,
          1,
          1,
          1,
          1,
          1,
          1,
          1,
          1,
          1,
          1,
          1,
          1,
          1,
          1,
          1,
          1,
          1,
          1,
          1,
          1,
          1,
          1,
          1,
          1,
          1,
          1,
          1,
          1,
          1,
          1,
          1,
          1,
          1,
          1,
          1,
          1,
          1,
          1,
          1,
          1,
          1,
          1,
          1,
          1,
          1,
          1,
          1,
          1,
          1,
          1,
          1,
          1,
          1,
          1,
          1,
          1,
          1,
          1,
          1,
          1,
          1,
          1,
          1,
          1,
          1,
          1,
          1,
          1,
          1,
          1,
          1,
          1,
          1,
          1,
          1,
          1,
          1,
          1,
          1,
          1,
          1,
          1,
          1,
          1,
          1,
          1,
          1,
          1,
          1,
          1,
          1,
          1,
          1,
          1,
          1,
          1,
          1,
          1,
          1,
          1,
          1,
          1,
          1,
          1,
          1,
          1,
          1,
          1,
          1,
          1,
          1,
          1,
          1,
          1,
          1,
          1,
          1,
          1,
          1,
          1,
          1,
          1,
          1,
          1,
          1,
          1,
          1,
          1,
          1,
          1,
          1,
          1,
          1,
          1,
          1,
          1,
          1,
          1,
          1,
          1,
          1,
          1,
          1,
          1,
          1,
          1,
          1,
          1,
          1,
          1,
          1,
          1,
          1,
          1,
          1,
          1,
          1,
          1,
          1,
          1,
          1,
          1,
          1,
          1,
          1,
          1,
          1,
          1,
          1,
          1,
          1,
          1,
          1,
          1,
          1,
          1,
          1,
          1,
          1,
          1,
          1,
          1,
          1,
          1,
          1,
          1,
          1,
          1,
          1,
          1,
          1,
          1,
          1,
          1,
          1,
          1,
          1,
          1,
          1,
          1,
          1,
          1,
          1,
          1,
          1,
          1,
          1,
          1,
          1,
          1,
          1,
          1,
          1,
          1,
          1,
          1,
          1,
          1,
          1,
          1,
          1,
          1,
          1,
          1,
          1,
          1,
          1,
          1,
          1,
          1,
          1,
          1,
          1,
          1,
          1,
          1,
          1,
          1,
          1,
          1,
          1,
          1,
          1,
          1,
          1,
          1,
          1,
          1,
          1,
          1,
          1,
          1,
          1,
          1,
          1,
          1,
          1,
          1,
          1,
          1,
          1,
          1,
          1,
          1,
          1,
          1,
          1,
          1,
          1,
          1,
          1,
          1,
          1,
          1,
          1,
          1,
          1,
          1,
          1,
          1,
          1,
          1,
          1,
          1,
          1,
          1,
          1,
          1,
          1
         ],
         "yaxis": "y"
        }
       ],
       "layout": {
        "barmode": "relative",
        "legend": {
         "title": {
          "text": "variable"
         },
         "tracegroupgap": 0
        },
        "margin": {
         "t": 60
        },
        "template": {
         "data": {
          "bar": [
           {
            "error_x": {
             "color": "#2a3f5f"
            },
            "error_y": {
             "color": "#2a3f5f"
            },
            "marker": {
             "line": {
              "color": "#E5ECF6",
              "width": 0.5
             },
             "pattern": {
              "fillmode": "overlay",
              "size": 10,
              "solidity": 0.2
             }
            },
            "type": "bar"
           }
          ],
          "barpolar": [
           {
            "marker": {
             "line": {
              "color": "#E5ECF6",
              "width": 0.5
             },
             "pattern": {
              "fillmode": "overlay",
              "size": 10,
              "solidity": 0.2
             }
            },
            "type": "barpolar"
           }
          ],
          "carpet": [
           {
            "aaxis": {
             "endlinecolor": "#2a3f5f",
             "gridcolor": "white",
             "linecolor": "white",
             "minorgridcolor": "white",
             "startlinecolor": "#2a3f5f"
            },
            "baxis": {
             "endlinecolor": "#2a3f5f",
             "gridcolor": "white",
             "linecolor": "white",
             "minorgridcolor": "white",
             "startlinecolor": "#2a3f5f"
            },
            "type": "carpet"
           }
          ],
          "choropleth": [
           {
            "colorbar": {
             "outlinewidth": 0,
             "ticks": ""
            },
            "type": "choropleth"
           }
          ],
          "contour": [
           {
            "colorbar": {
             "outlinewidth": 0,
             "ticks": ""
            },
            "colorscale": [
             [
              0,
              "#0d0887"
             ],
             [
              0.1111111111111111,
              "#46039f"
             ],
             [
              0.2222222222222222,
              "#7201a8"
             ],
             [
              0.3333333333333333,
              "#9c179e"
             ],
             [
              0.4444444444444444,
              "#bd3786"
             ],
             [
              0.5555555555555556,
              "#d8576b"
             ],
             [
              0.6666666666666666,
              "#ed7953"
             ],
             [
              0.7777777777777778,
              "#fb9f3a"
             ],
             [
              0.8888888888888888,
              "#fdca26"
             ],
             [
              1,
              "#f0f921"
             ]
            ],
            "type": "contour"
           }
          ],
          "contourcarpet": [
           {
            "colorbar": {
             "outlinewidth": 0,
             "ticks": ""
            },
            "type": "contourcarpet"
           }
          ],
          "heatmap": [
           {
            "colorbar": {
             "outlinewidth": 0,
             "ticks": ""
            },
            "colorscale": [
             [
              0,
              "#0d0887"
             ],
             [
              0.1111111111111111,
              "#46039f"
             ],
             [
              0.2222222222222222,
              "#7201a8"
             ],
             [
              0.3333333333333333,
              "#9c179e"
             ],
             [
              0.4444444444444444,
              "#bd3786"
             ],
             [
              0.5555555555555556,
              "#d8576b"
             ],
             [
              0.6666666666666666,
              "#ed7953"
             ],
             [
              0.7777777777777778,
              "#fb9f3a"
             ],
             [
              0.8888888888888888,
              "#fdca26"
             ],
             [
              1,
              "#f0f921"
             ]
            ],
            "type": "heatmap"
           }
          ],
          "heatmapgl": [
           {
            "colorbar": {
             "outlinewidth": 0,
             "ticks": ""
            },
            "colorscale": [
             [
              0,
              "#0d0887"
             ],
             [
              0.1111111111111111,
              "#46039f"
             ],
             [
              0.2222222222222222,
              "#7201a8"
             ],
             [
              0.3333333333333333,
              "#9c179e"
             ],
             [
              0.4444444444444444,
              "#bd3786"
             ],
             [
              0.5555555555555556,
              "#d8576b"
             ],
             [
              0.6666666666666666,
              "#ed7953"
             ],
             [
              0.7777777777777778,
              "#fb9f3a"
             ],
             [
              0.8888888888888888,
              "#fdca26"
             ],
             [
              1,
              "#f0f921"
             ]
            ],
            "type": "heatmapgl"
           }
          ],
          "histogram": [
           {
            "marker": {
             "pattern": {
              "fillmode": "overlay",
              "size": 10,
              "solidity": 0.2
             }
            },
            "type": "histogram"
           }
          ],
          "histogram2d": [
           {
            "colorbar": {
             "outlinewidth": 0,
             "ticks": ""
            },
            "colorscale": [
             [
              0,
              "#0d0887"
             ],
             [
              0.1111111111111111,
              "#46039f"
             ],
             [
              0.2222222222222222,
              "#7201a8"
             ],
             [
              0.3333333333333333,
              "#9c179e"
             ],
             [
              0.4444444444444444,
              "#bd3786"
             ],
             [
              0.5555555555555556,
              "#d8576b"
             ],
             [
              0.6666666666666666,
              "#ed7953"
             ],
             [
              0.7777777777777778,
              "#fb9f3a"
             ],
             [
              0.8888888888888888,
              "#fdca26"
             ],
             [
              1,
              "#f0f921"
             ]
            ],
            "type": "histogram2d"
           }
          ],
          "histogram2dcontour": [
           {
            "colorbar": {
             "outlinewidth": 0,
             "ticks": ""
            },
            "colorscale": [
             [
              0,
              "#0d0887"
             ],
             [
              0.1111111111111111,
              "#46039f"
             ],
             [
              0.2222222222222222,
              "#7201a8"
             ],
             [
              0.3333333333333333,
              "#9c179e"
             ],
             [
              0.4444444444444444,
              "#bd3786"
             ],
             [
              0.5555555555555556,
              "#d8576b"
             ],
             [
              0.6666666666666666,
              "#ed7953"
             ],
             [
              0.7777777777777778,
              "#fb9f3a"
             ],
             [
              0.8888888888888888,
              "#fdca26"
             ],
             [
              1,
              "#f0f921"
             ]
            ],
            "type": "histogram2dcontour"
           }
          ],
          "mesh3d": [
           {
            "colorbar": {
             "outlinewidth": 0,
             "ticks": ""
            },
            "type": "mesh3d"
           }
          ],
          "parcoords": [
           {
            "line": {
             "colorbar": {
              "outlinewidth": 0,
              "ticks": ""
             }
            },
            "type": "parcoords"
           }
          ],
          "pie": [
           {
            "automargin": true,
            "type": "pie"
           }
          ],
          "scatter": [
           {
            "fillpattern": {
             "fillmode": "overlay",
             "size": 10,
             "solidity": 0.2
            },
            "type": "scatter"
           }
          ],
          "scatter3d": [
           {
            "line": {
             "colorbar": {
              "outlinewidth": 0,
              "ticks": ""
             }
            },
            "marker": {
             "colorbar": {
              "outlinewidth": 0,
              "ticks": ""
             }
            },
            "type": "scatter3d"
           }
          ],
          "scattercarpet": [
           {
            "marker": {
             "colorbar": {
              "outlinewidth": 0,
              "ticks": ""
             }
            },
            "type": "scattercarpet"
           }
          ],
          "scattergeo": [
           {
            "marker": {
             "colorbar": {
              "outlinewidth": 0,
              "ticks": ""
             }
            },
            "type": "scattergeo"
           }
          ],
          "scattergl": [
           {
            "marker": {
             "colorbar": {
              "outlinewidth": 0,
              "ticks": ""
             }
            },
            "type": "scattergl"
           }
          ],
          "scattermapbox": [
           {
            "marker": {
             "colorbar": {
              "outlinewidth": 0,
              "ticks": ""
             }
            },
            "type": "scattermapbox"
           }
          ],
          "scatterpolar": [
           {
            "marker": {
             "colorbar": {
              "outlinewidth": 0,
              "ticks": ""
             }
            },
            "type": "scatterpolar"
           }
          ],
          "scatterpolargl": [
           {
            "marker": {
             "colorbar": {
              "outlinewidth": 0,
              "ticks": ""
             }
            },
            "type": "scatterpolargl"
           }
          ],
          "scatterternary": [
           {
            "marker": {
             "colorbar": {
              "outlinewidth": 0,
              "ticks": ""
             }
            },
            "type": "scatterternary"
           }
          ],
          "surface": [
           {
            "colorbar": {
             "outlinewidth": 0,
             "ticks": ""
            },
            "colorscale": [
             [
              0,
              "#0d0887"
             ],
             [
              0.1111111111111111,
              "#46039f"
             ],
             [
              0.2222222222222222,
              "#7201a8"
             ],
             [
              0.3333333333333333,
              "#9c179e"
             ],
             [
              0.4444444444444444,
              "#bd3786"
             ],
             [
              0.5555555555555556,
              "#d8576b"
             ],
             [
              0.6666666666666666,
              "#ed7953"
             ],
             [
              0.7777777777777778,
              "#fb9f3a"
             ],
             [
              0.8888888888888888,
              "#fdca26"
             ],
             [
              1,
              "#f0f921"
             ]
            ],
            "type": "surface"
           }
          ],
          "table": [
           {
            "cells": {
             "fill": {
              "color": "#EBF0F8"
             },
             "line": {
              "color": "white"
             }
            },
            "header": {
             "fill": {
              "color": "#C8D4E3"
             },
             "line": {
              "color": "white"
             }
            },
            "type": "table"
           }
          ]
         },
         "layout": {
          "annotationdefaults": {
           "arrowcolor": "#2a3f5f",
           "arrowhead": 0,
           "arrowwidth": 1
          },
          "autotypenumbers": "strict",
          "coloraxis": {
           "colorbar": {
            "outlinewidth": 0,
            "ticks": ""
           }
          },
          "colorscale": {
           "diverging": [
            [
             0,
             "#8e0152"
            ],
            [
             0.1,
             "#c51b7d"
            ],
            [
             0.2,
             "#de77ae"
            ],
            [
             0.3,
             "#f1b6da"
            ],
            [
             0.4,
             "#fde0ef"
            ],
            [
             0.5,
             "#f7f7f7"
            ],
            [
             0.6,
             "#e6f5d0"
            ],
            [
             0.7,
             "#b8e186"
            ],
            [
             0.8,
             "#7fbc41"
            ],
            [
             0.9,
             "#4d9221"
            ],
            [
             1,
             "#276419"
            ]
           ],
           "sequential": [
            [
             0,
             "#0d0887"
            ],
            [
             0.1111111111111111,
             "#46039f"
            ],
            [
             0.2222222222222222,
             "#7201a8"
            ],
            [
             0.3333333333333333,
             "#9c179e"
            ],
            [
             0.4444444444444444,
             "#bd3786"
            ],
            [
             0.5555555555555556,
             "#d8576b"
            ],
            [
             0.6666666666666666,
             "#ed7953"
            ],
            [
             0.7777777777777778,
             "#fb9f3a"
            ],
            [
             0.8888888888888888,
             "#fdca26"
            ],
            [
             1,
             "#f0f921"
            ]
           ],
           "sequentialminus": [
            [
             0,
             "#0d0887"
            ],
            [
             0.1111111111111111,
             "#46039f"
            ],
            [
             0.2222222222222222,
             "#7201a8"
            ],
            [
             0.3333333333333333,
             "#9c179e"
            ],
            [
             0.4444444444444444,
             "#bd3786"
            ],
            [
             0.5555555555555556,
             "#d8576b"
            ],
            [
             0.6666666666666666,
             "#ed7953"
            ],
            [
             0.7777777777777778,
             "#fb9f3a"
            ],
            [
             0.8888888888888888,
             "#fdca26"
            ],
            [
             1,
             "#f0f921"
            ]
           ]
          },
          "colorway": [
           "#636efa",
           "#EF553B",
           "#00cc96",
           "#ab63fa",
           "#FFA15A",
           "#19d3f3",
           "#FF6692",
           "#B6E880",
           "#FF97FF",
           "#FECB52"
          ],
          "font": {
           "color": "#2a3f5f"
          },
          "geo": {
           "bgcolor": "white",
           "lakecolor": "white",
           "landcolor": "#E5ECF6",
           "showlakes": true,
           "showland": true,
           "subunitcolor": "white"
          },
          "hoverlabel": {
           "align": "left"
          },
          "hovermode": "closest",
          "mapbox": {
           "style": "light"
          },
          "paper_bgcolor": "white",
          "plot_bgcolor": "#E5ECF6",
          "polar": {
           "angularaxis": {
            "gridcolor": "white",
            "linecolor": "white",
            "ticks": ""
           },
           "bgcolor": "#E5ECF6",
           "radialaxis": {
            "gridcolor": "white",
            "linecolor": "white",
            "ticks": ""
           }
          },
          "scene": {
           "xaxis": {
            "backgroundcolor": "#E5ECF6",
            "gridcolor": "white",
            "gridwidth": 2,
            "linecolor": "white",
            "showbackground": true,
            "ticks": "",
            "zerolinecolor": "white"
           },
           "yaxis": {
            "backgroundcolor": "#E5ECF6",
            "gridcolor": "white",
            "gridwidth": 2,
            "linecolor": "white",
            "showbackground": true,
            "ticks": "",
            "zerolinecolor": "white"
           },
           "zaxis": {
            "backgroundcolor": "#E5ECF6",
            "gridcolor": "white",
            "gridwidth": 2,
            "linecolor": "white",
            "showbackground": true,
            "ticks": "",
            "zerolinecolor": "white"
           }
          },
          "shapedefaults": {
           "line": {
            "color": "#2a3f5f"
           }
          },
          "ternary": {
           "aaxis": {
            "gridcolor": "white",
            "linecolor": "white",
            "ticks": ""
           },
           "baxis": {
            "gridcolor": "white",
            "linecolor": "white",
            "ticks": ""
           },
           "bgcolor": "#E5ECF6",
           "caxis": {
            "gridcolor": "white",
            "linecolor": "white",
            "ticks": ""
           }
          },
          "title": {
           "x": 0.05
          },
          "xaxis": {
           "automargin": true,
           "gridcolor": "white",
           "linecolor": "white",
           "ticks": "",
           "title": {
            "standoff": 15
           },
           "zerolinecolor": "white",
           "zerolinewidth": 2
          },
          "yaxis": {
           "automargin": true,
           "gridcolor": "white",
           "linecolor": "white",
           "ticks": "",
           "title": {
            "standoff": 15
           },
           "zerolinecolor": "white",
           "zerolinewidth": 2
          }
         }
        },
        "xaxis": {
         "anchor": "y",
         "domain": [
          0,
          1
         ],
         "title": {
          "text": "price"
         }
        },
        "yaxis": {
         "anchor": "x",
         "domain": [
          0,
          1
         ],
         "title": {
          "text": "value"
         }
        }
       }
      }
     },
     "metadata": {},
     "output_type": "display_data"
    }
   ],
   "source": [
    "px.bar(df_transactions[df_transactions['built_up'].isna()]['price'].value_counts())"
   ]
  },
  {
   "cell_type": "code",
   "execution_count": 68,
   "metadata": {},
   "outputs": [
    {
     "data": {
      "application/vnd.plotly.v1+json": {
       "config": {
        "plotlyServerURL": "https://plot.ly"
       },
       "data": [
        {
         "alignmentgroup": "True",
         "hovertemplate": "variable=count<br>price_psf=%{x}<br>value=%{y}<extra></extra>",
         "legendgroup": "count",
         "marker": {
          "color": "#636efa",
          "pattern": {
           "shape": ""
          }
         },
         "name": "count",
         "offsetgroup": "count",
         "orientation": "v",
         "showlegend": true,
         "textposition": "auto",
         "type": "bar",
         "x": [
          "455",
          "422",
          "364",
          "442",
          "374",
          "623",
          "516",
          "390",
          "453",
          "419",
          "510",
          "368",
          "325",
          "465",
          "566",
          "500",
          "585",
          "385",
          "461",
          "425",
          "595",
          "567",
          "591",
          "760",
          "433",
          "486",
          "429",
          "357",
          "544",
          "383",
          "454",
          "513",
          "680",
          "386",
          "436",
          "574",
          "607",
          "468",
          "552",
          "489",
          "557",
          "458",
          "532",
          "300",
          "538",
          "659",
          "398",
          "555",
          "487",
          "321",
          "351",
          "507",
          "470",
          "520",
          "406",
          "330",
          "642",
          "416",
          "572",
          "387",
          "577",
          "521",
          "301",
          "396",
          "434",
          "400",
          "420",
          "600",
          "440",
          "418",
          "452",
          "334",
          "524",
          "630",
          "651",
          "340",
          "505",
          "450",
          "308",
          "473",
          "377",
          "589",
          "379",
          "428",
          "546",
          "490",
          "482",
          "407",
          "376",
          "540",
          "533",
          "447",
          "401",
          "667",
          "424",
          "430",
          "539",
          "780",
          "545",
          "332",
          "296",
          "467",
          "291",
          "441",
          "378",
          "588",
          "702",
          "556",
          "414",
          "531",
          "646",
          "586",
          "408",
          "361",
          "432",
          "779",
          "493",
          "515",
          "536",
          "338",
          "333",
          "373",
          "488",
          "448",
          "281",
          "327",
          "635",
          "735",
          "312",
          "310",
          "475",
          "439",
          "319",
          "604",
          "350",
          "535",
          "499",
          "405",
          "641",
          "676",
          "476",
          "638",
          "380",
          "541",
          "633",
          "273",
          "713",
          "548",
          "534",
          "687",
          "674",
          "664",
          "355",
          "464",
          "684",
          "483",
          "412",
          "299",
          "331",
          "449",
          "494",
          "402",
          "392",
          "313",
          "394",
          "549",
          "260",
          "519",
          "569",
          "626",
          "347",
          "565",
          "261",
          "726",
          "561",
          "413",
          "352",
          "715",
          "484",
          "427",
          "640",
          "474",
          "599",
          "324",
          "611",
          "657",
          "725",
          "320",
          "393",
          "389",
          "625",
          "365",
          "343",
          "410",
          "485",
          "497",
          "601",
          "709",
          "409",
          "592",
          "498",
          "326",
          "559",
          "571",
          "384",
          "359",
          "250",
          "354",
          "370",
          "636",
          "444",
          "598",
          "693",
          "375",
          "612",
          "774",
          "767",
          "650",
          "456",
          "695",
          "850",
          "720",
          "477",
          "654",
          "590",
          "381",
          "451",
          "580",
          "679",
          "929",
          "583",
          "504",
          "349",
          "329",
          "335",
          "581",
          "437",
          "617",
          "344",
          "653",
          "278",
          "749",
          "435",
          "315",
          "501",
          "649",
          "285",
          "845",
          "643",
          "528",
          "302",
          "162",
          "522",
          "306",
          "537",
          "606",
          "668",
          "503",
          "813",
          "736",
          "576",
          "570",
          "688",
          "587",
          "348",
          "316",
          "523",
          "579",
          "342",
          "593",
          "558",
          "511",
          "463",
          "647",
          "298",
          "560",
          "346",
          "634",
          "563",
          "279",
          "356",
          "471",
          "182",
          "417",
          "382",
          "372",
          "443",
          "328",
          "270",
          "269",
          "492",
          "481",
          "262",
          "292",
          "367",
          "909",
          "358",
          "323",
          "1032",
          "608",
          "283",
          "597",
          "527",
          "856",
          "652",
          "243",
          "553",
          "614",
          "202",
          "263",
          "219",
          "253",
          "304",
          "867",
          "689",
          "254",
          "336",
          "542",
          "784",
          "670",
          "666",
          "457",
          "466",
          "421",
          "264",
          "621",
          "639",
          "399",
          "307",
          "615",
          "472",
          "403",
          "509",
          "415",
          "718",
          "605",
          "303",
          "699",
          "811",
          "716",
          "838",
          "508",
          "479",
          "218",
          "705",
          "737",
          "318",
          "573",
          "228",
          "268",
          "339",
          "802",
          "411",
          "697",
          "337",
          "274",
          "655",
          "397",
          "491",
          "391",
          "284",
          "941",
          "426",
          "686",
          "220",
          "314",
          "748",
          "829",
          "747",
          "506",
          "694",
          "578",
          "550",
          "317",
          "366",
          "731",
          "514",
          "529",
          "462",
          "266",
          "277",
          "969",
          "404",
          "502",
          "180",
          "637",
          "677",
          "197",
          "226",
          "293",
          "200",
          "849",
          "187",
          "917",
          "618",
          "704",
          "717",
          "252",
          "188",
          "648",
          "765",
          "758",
          "230",
          "1898",
          "857",
          "698",
          "478",
          "525",
          "289",
          "669",
          "808",
          "122",
          "258",
          "371",
          "543",
          "663",
          "175",
          "799",
          "459",
          "431",
          "530",
          "770",
          "395",
          "733",
          "681",
          "249",
          "203",
          "862",
          "818",
          "800",
          "594",
          "707",
          "691",
          "622",
          "692",
          "369",
          "460",
          "150",
          "353",
          "833",
          "832",
          "814",
          "807",
          "701",
          "678",
          "280",
          "294",
          "624",
          "665",
          "786",
          "495",
          "769",
          "778",
          "703",
          "446",
          "810",
          "286",
          "729",
          "995",
          "423",
          "860",
          "96",
          "609",
          "265",
          "596",
          "362",
          "754",
          "809",
          "783",
          "963",
          "708",
          "287",
          "237",
          "827",
          "759",
          "213",
          "83",
          "288",
          "241",
          "363",
          "1121",
          "210",
          "1257",
          "236",
          "231",
          "212",
          "271",
          "147",
          "207",
          "777",
          "214",
          "168",
          "272",
          "781",
          "341",
          "741",
          "496",
          "627",
          "656",
          "794",
          "751",
          "205",
          "762",
          "564",
          "682",
          "798",
          "785",
          "864",
          "245",
          "876",
          "311",
          "834",
          "824",
          "900",
          "722",
          "918",
          "753",
          "616",
          "255",
          "685",
          "921",
          "690",
          "345",
          "730",
          "776",
          "739",
          "322",
          "194",
          "773",
          "819",
          "276",
          "801",
          "683",
          "582",
          "787",
          "610",
          "547",
          "160",
          "890",
          "908",
          "835",
          "152",
          "155",
          "711",
          "980",
          "240",
          "102",
          "710",
          "146",
          "854",
          "170",
          "632",
          "140",
          "388",
          "724",
          "246",
          "208",
          "803",
          "828",
          "1001",
          "746",
          "837",
          "836",
          "901",
          "469",
          "961",
          "826",
          "165",
          "971",
          "820",
          "247",
          "568",
          "706",
          "620",
          "775",
          "872",
          "861",
          "438",
          "1168",
          "233",
          "232",
          "893",
          "882",
          "991",
          "206",
          "149",
          "551",
          "171",
          "1161",
          "177",
          "613",
          "771",
          "242",
          "1021",
          "619",
          "199",
          "672",
          "1020",
          "137",
          "993",
          "628",
          "157",
          "257",
          "121",
          "221",
          "190",
          "235",
          "192",
          "193",
          "86",
          "1520",
          "858",
          "145",
          "894",
          "772",
          "267",
          "1154",
          "1072",
          "629",
          "727",
          "940",
          "1098",
          "738",
          "866",
          "1669",
          "518",
          "195",
          "1014",
          "130",
          "700",
          "645",
          "297",
          "183",
          "1646",
          "1013",
          "902",
          "1676",
          "134",
          "517",
          "163",
          "920",
          "1006",
          "512",
          "227",
          "782",
          "109",
          "859",
          "1090",
          "480",
          "554",
          "360",
          "256",
          "120",
          "944",
          "282",
          "822",
          "789",
          "740",
          "184",
          "989",
          "1410",
          "225",
          "112",
          "1492",
          "222",
          "1253",
          "732",
          "1858",
          "161",
          "913",
          "136",
          "1143",
          "1748",
          "1070",
          "1295",
          "1223",
          "2172",
          "158",
          "1123",
          "62",
          "952",
          "1337",
          "847",
          "846",
          "999",
          "1375",
          "982",
          "186",
          "960",
          "1566",
          "2125",
          "2313",
          "924",
          "42",
          "1457",
          "955",
          "239",
          "744",
          "164",
          "1233",
          "954",
          "1120",
          "105",
          "185",
          "201",
          "584",
          "1537",
          "1350",
          "172",
          "923",
          "138",
          "116",
          "131",
          "215",
          "128",
          "148",
          "244",
          "295",
          "1012",
          "1065",
          "1140",
          "143",
          "658",
          "129",
          "204",
          "238",
          "1443",
          "110",
          "1275",
          "305",
          "259",
          "1332",
          "1361",
          "728",
          "712",
          "942",
          "1475",
          "910",
          "97",
          "887",
          "1088",
          "1007",
          "1079",
          "93",
          "1087",
          "1011",
          "842",
          "742",
          "603",
          "714",
          "176",
          "1040",
          "234",
          "815",
          "878",
          "275",
          "1169",
          "644",
          "1305",
          "912",
          "1022",
          "897",
          "1026",
          "916",
          "755",
          "1218",
          "1263",
          "1081",
          "1135",
          "1000",
          "903",
          "871",
          "756",
          "865",
          "928",
          "927",
          "673",
          "816",
          "61",
          "889",
          "156",
          "290",
          "793",
          "92",
          "1042",
          "198",
          "216",
          "118",
          "721",
          "661",
          "224",
          "892",
          "750",
          "251",
          "874",
          "68",
          "976",
          "904",
          "763",
          "745",
          "719",
          "1071",
          "843",
          "997",
          "851",
          "790",
          "899",
          "757",
          "671",
          "1033",
          "1016",
          "911",
          "1018",
          "1129",
          "52",
          "734",
          "743",
          "1208",
          "970",
          "526",
          "875",
          "1105",
          "883",
          "947",
          "994",
          "101",
          "881",
          "1061",
          "575",
          "1093",
          "1044",
          "795",
          "117",
          "1455",
          "1555",
          "1379",
          "2007",
          "1500",
          "1621",
          "1949",
          "1333",
          "2218",
          "2331",
          "43",
          "870",
          "1874",
          "2260",
          "1366",
          "1722",
          "2224",
          "1773",
          "919",
          "2091",
          "766",
          "885",
          "80",
          "113",
          "812",
          "2347",
          "1175",
          "1063",
          "1389",
          "1745",
          "1458",
          "1981",
          "1764",
          "1602",
          "1870",
          "1447",
          "1437",
          "1308",
          "1548",
          "1740",
          "1708",
          "1687",
          "806",
          "1916",
          "1667",
          "1711",
          "1325",
          "1276",
          "886",
          "1367",
          "974",
          "1881",
          "958",
          "1868",
          "1663",
          "1768",
          "1729",
          "1588",
          "2034",
          "2271",
          "1774",
          "2294",
          "797",
          "915",
          "966",
          "2317",
          "1975",
          "1279",
          "825",
          "1113",
          "988",
          "1084",
          "2086",
          "2135",
          "1355",
          "1231",
          "1638",
          "1688",
          "1752",
          "1318",
          "223",
          "1875",
          "1564",
          "1435",
          "1969",
          "1476",
          "2107",
          "934",
          "6",
          "47",
          "1972",
          "2072",
          "2227",
          "1709",
          "2112",
          "1125",
          "1800",
          "1587",
          "1589",
          "1696",
          "1030",
          "1112",
          "1137",
          "1217",
          "978",
          "1174",
          "1064",
          "1239",
          "896",
          "309",
          "1046",
          "154",
          "94",
          "67",
          "805",
          "951",
          "1191",
          "804",
          "1155",
          "1905",
          "2141",
          "1519",
          "2193",
          "933",
          "1197",
          "830",
          "935",
          "1196",
          "925",
          "1252",
          "1501",
          "1066",
          "1446",
          "3619",
          "1521",
          "1685",
          "2012",
          "1831",
          "1319",
          "2053",
          "2082",
          "1592",
          "2014",
          "1919",
          "1067",
          "914",
          "1122",
          "602",
          "2273",
          "1912",
          "2097",
          "1565",
          "817",
          "2343",
          "2136",
          "48",
          "445",
          "1650",
          "49",
          "82",
          "1056",
          "945",
          "939",
          "956",
          "95",
          "1452",
          "1187",
          "1296",
          "1247",
          "1416",
          "1339",
          "948",
          "1288",
          "937",
          "1043",
          "675",
          "848",
          "1499",
          "1436",
          "1053",
          "855",
          "873",
          "943",
          "1008",
          "1336",
          "1083",
          "1034",
          "1141",
          "1153",
          "844",
          "217",
          "950",
          "796",
          "1002",
          "1160",
          "1322",
          "169",
          "1535",
          "1886",
          "1451",
          "1538",
          "2000",
          "1494",
          "1479",
          "1402",
          "167",
          "173",
          "75",
          "132",
          "1348",
          "1311",
          "1303",
          "1124",
          "1210",
          "959",
          "1388",
          "1490",
          "1118",
          "57",
          "191",
          "1111",
          "36",
          "1321",
          "1059",
          "761",
          "153",
          "1444",
          "248",
          "125",
          "1172",
          "1259",
          "984",
          "1732",
          "936",
          "65",
          "752",
          "133",
          "1078",
          "1108",
          "58",
          "181",
          "1201",
          "869",
          "106",
          "64",
          "764",
          "91",
          "40",
          "1282",
          "975",
          "166",
          "1117",
          "868",
          "891",
          "144",
          "983",
          "29",
          "1085",
          "1245",
          "229",
          "1574",
          "1370",
          "1576",
          "85",
          "1281",
          "2145",
          "1386",
          "1390",
          "100",
          "1364",
          "1979",
          "1534",
          "1939",
          "1926",
          "1804",
          "1558",
          "1082",
          "1150",
          "1126",
          "1095",
          "1445",
          "1292",
          "1189",
          "1180",
          "119",
          "1489",
          "98",
          "1211",
          "1157",
          "1058",
          "1284",
          "1182",
          "1068",
          "1130",
          "1480",
          "1760",
          "1235",
          "1579",
          "1633",
          "1779",
          "1151",
          "1285",
          "631",
          "1473",
          "1094",
          "104",
          "1240",
          "179",
          "922",
          "964",
          "1192",
          "1103",
          "1254",
          "1202",
          "723",
          "159",
          "1003",
          "142",
          "139",
          "135",
          "107",
          "1102",
          "562",
          "1737",
          "1577",
          "1751",
          "1731",
          "1234",
          "1409",
          "1110",
          "1115",
          "1270",
          "879",
          "880",
          "840",
          "863",
          "895",
          "821",
          "124",
          "985",
          "81",
          "768",
          "1041",
          "1527",
          "973",
          "1345",
          "74",
          "1335",
          "127",
          "89",
          "791",
          "2262"
         ],
         "xaxis": "x",
         "y": [
          35,
          27,
          26,
          24,
          24,
          23,
          22,
          22,
          22,
          22,
          21,
          21,
          21,
          20,
          19,
          19,
          19,
          19,
          19,
          19,
          18,
          18,
          18,
          18,
          17,
          17,
          17,
          17,
          17,
          17,
          17,
          16,
          16,
          16,
          16,
          16,
          16,
          16,
          16,
          16,
          15,
          15,
          15,
          15,
          15,
          15,
          15,
          15,
          15,
          15,
          15,
          14,
          14,
          14,
          14,
          14,
          14,
          14,
          14,
          14,
          14,
          14,
          13,
          13,
          13,
          13,
          13,
          13,
          13,
          13,
          13,
          13,
          13,
          13,
          13,
          13,
          13,
          13,
          13,
          13,
          13,
          13,
          13,
          13,
          13,
          13,
          13,
          12,
          12,
          12,
          12,
          12,
          12,
          12,
          12,
          12,
          12,
          12,
          12,
          12,
          12,
          12,
          12,
          12,
          12,
          12,
          12,
          12,
          12,
          12,
          11,
          11,
          11,
          11,
          11,
          11,
          11,
          11,
          11,
          11,
          11,
          11,
          11,
          11,
          11,
          11,
          11,
          11,
          11,
          11,
          11,
          11,
          11,
          11,
          11,
          11,
          11,
          11,
          11,
          10,
          10,
          10,
          10,
          10,
          10,
          10,
          10,
          10,
          10,
          10,
          10,
          10,
          10,
          10,
          10,
          10,
          10,
          10,
          10,
          10,
          10,
          10,
          10,
          10,
          10,
          10,
          10,
          9,
          9,
          9,
          9,
          9,
          9,
          9,
          9,
          9,
          9,
          9,
          9,
          9,
          9,
          9,
          9,
          9,
          9,
          9,
          9,
          9,
          9,
          9,
          9,
          9,
          9,
          9,
          9,
          9,
          9,
          9,
          9,
          9,
          9,
          9,
          9,
          9,
          9,
          9,
          9,
          9,
          9,
          8,
          8,
          8,
          8,
          8,
          8,
          8,
          8,
          8,
          8,
          8,
          8,
          8,
          8,
          8,
          8,
          8,
          8,
          8,
          8,
          8,
          8,
          8,
          8,
          8,
          8,
          8,
          8,
          8,
          8,
          8,
          8,
          8,
          8,
          8,
          8,
          8,
          8,
          8,
          8,
          8,
          8,
          8,
          8,
          8,
          8,
          7,
          7,
          7,
          7,
          7,
          7,
          7,
          7,
          7,
          7,
          7,
          7,
          7,
          7,
          7,
          7,
          7,
          7,
          7,
          7,
          7,
          7,
          7,
          7,
          7,
          7,
          7,
          7,
          7,
          7,
          7,
          7,
          7,
          7,
          7,
          7,
          7,
          7,
          7,
          7,
          7,
          7,
          7,
          7,
          7,
          7,
          7,
          7,
          7,
          7,
          7,
          7,
          7,
          7,
          7,
          7,
          7,
          6,
          6,
          6,
          6,
          6,
          6,
          6,
          6,
          6,
          6,
          6,
          6,
          6,
          6,
          6,
          6,
          6,
          6,
          6,
          6,
          6,
          6,
          6,
          6,
          6,
          6,
          6,
          6,
          6,
          6,
          6,
          6,
          6,
          6,
          6,
          6,
          6,
          6,
          6,
          6,
          6,
          6,
          6,
          6,
          6,
          6,
          6,
          6,
          6,
          6,
          6,
          6,
          6,
          6,
          6,
          6,
          6,
          6,
          6,
          6,
          6,
          6,
          6,
          6,
          6,
          5,
          5,
          5,
          5,
          5,
          5,
          5,
          5,
          5,
          5,
          5,
          5,
          5,
          5,
          5,
          5,
          5,
          5,
          5,
          5,
          5,
          5,
          5,
          5,
          5,
          5,
          5,
          5,
          5,
          5,
          5,
          5,
          5,
          5,
          5,
          5,
          5,
          5,
          5,
          5,
          5,
          5,
          5,
          5,
          5,
          5,
          5,
          5,
          5,
          5,
          5,
          5,
          5,
          5,
          5,
          5,
          5,
          5,
          5,
          5,
          5,
          5,
          5,
          5,
          5,
          5,
          5,
          5,
          5,
          4,
          4,
          4,
          4,
          4,
          4,
          4,
          4,
          4,
          4,
          4,
          4,
          4,
          4,
          4,
          4,
          4,
          4,
          4,
          4,
          4,
          4,
          4,
          4,
          4,
          4,
          4,
          4,
          4,
          4,
          4,
          4,
          4,
          4,
          4,
          4,
          4,
          4,
          4,
          4,
          4,
          4,
          4,
          4,
          4,
          4,
          4,
          4,
          4,
          4,
          4,
          4,
          4,
          4,
          4,
          4,
          4,
          4,
          4,
          4,
          4,
          4,
          4,
          4,
          4,
          4,
          4,
          4,
          4,
          4,
          4,
          4,
          4,
          4,
          4,
          4,
          4,
          4,
          4,
          4,
          4,
          4,
          4,
          4,
          4,
          4,
          4,
          4,
          4,
          4,
          4,
          4,
          4,
          4,
          4,
          3,
          3,
          3,
          3,
          3,
          3,
          3,
          3,
          3,
          3,
          3,
          3,
          3,
          3,
          3,
          3,
          3,
          3,
          3,
          3,
          3,
          3,
          3,
          3,
          3,
          3,
          3,
          3,
          3,
          3,
          3,
          3,
          3,
          3,
          3,
          3,
          3,
          3,
          3,
          3,
          3,
          3,
          3,
          3,
          3,
          3,
          3,
          3,
          3,
          3,
          3,
          3,
          3,
          3,
          3,
          3,
          3,
          3,
          3,
          3,
          3,
          3,
          3,
          3,
          3,
          3,
          3,
          3,
          3,
          3,
          3,
          3,
          3,
          3,
          3,
          3,
          3,
          3,
          3,
          3,
          3,
          3,
          3,
          3,
          3,
          3,
          3,
          3,
          3,
          3,
          3,
          3,
          3,
          3,
          3,
          3,
          3,
          3,
          3,
          3,
          3,
          3,
          3,
          3,
          3,
          3,
          3,
          3,
          3,
          3,
          3,
          3,
          3,
          3,
          3,
          3,
          3,
          3,
          3,
          2,
          2,
          2,
          2,
          2,
          2,
          2,
          2,
          2,
          2,
          2,
          2,
          2,
          2,
          2,
          2,
          2,
          2,
          2,
          2,
          2,
          2,
          2,
          2,
          2,
          2,
          2,
          2,
          2,
          2,
          2,
          2,
          2,
          2,
          2,
          2,
          2,
          2,
          2,
          2,
          2,
          2,
          2,
          2,
          2,
          2,
          2,
          2,
          2,
          2,
          2,
          2,
          2,
          2,
          2,
          2,
          2,
          2,
          2,
          2,
          2,
          2,
          2,
          2,
          2,
          2,
          2,
          2,
          2,
          2,
          2,
          2,
          2,
          2,
          2,
          2,
          2,
          2,
          2,
          2,
          2,
          2,
          2,
          2,
          2,
          2,
          2,
          2,
          2,
          2,
          2,
          2,
          2,
          2,
          2,
          2,
          2,
          2,
          2,
          2,
          2,
          2,
          2,
          2,
          2,
          2,
          2,
          2,
          2,
          2,
          2,
          2,
          2,
          2,
          2,
          2,
          2,
          2,
          2,
          2,
          2,
          2,
          2,
          2,
          2,
          2,
          2,
          2,
          2,
          2,
          2,
          2,
          2,
          2,
          2,
          2,
          2,
          2,
          2,
          2,
          2,
          2,
          2,
          2,
          2,
          2,
          2,
          2,
          2,
          2,
          2,
          2,
          2,
          2,
          2,
          2,
          2,
          2,
          2,
          2,
          2,
          2,
          2,
          2,
          2,
          2,
          2,
          2,
          2,
          2,
          2,
          2,
          2,
          1,
          1,
          1,
          1,
          1,
          1,
          1,
          1,
          1,
          1,
          1,
          1,
          1,
          1,
          1,
          1,
          1,
          1,
          1,
          1,
          1,
          1,
          1,
          1,
          1,
          1,
          1,
          1,
          1,
          1,
          1,
          1,
          1,
          1,
          1,
          1,
          1,
          1,
          1,
          1,
          1,
          1,
          1,
          1,
          1,
          1,
          1,
          1,
          1,
          1,
          1,
          1,
          1,
          1,
          1,
          1,
          1,
          1,
          1,
          1,
          1,
          1,
          1,
          1,
          1,
          1,
          1,
          1,
          1,
          1,
          1,
          1,
          1,
          1,
          1,
          1,
          1,
          1,
          1,
          1,
          1,
          1,
          1,
          1,
          1,
          1,
          1,
          1,
          1,
          1,
          1,
          1,
          1,
          1,
          1,
          1,
          1,
          1,
          1,
          1,
          1,
          1,
          1,
          1,
          1,
          1,
          1,
          1,
          1,
          1,
          1,
          1,
          1,
          1,
          1,
          1,
          1,
          1,
          1,
          1,
          1,
          1,
          1,
          1,
          1,
          1,
          1,
          1,
          1,
          1,
          1,
          1,
          1,
          1,
          1,
          1,
          1,
          1,
          1,
          1,
          1,
          1,
          1,
          1,
          1,
          1,
          1,
          1,
          1,
          1,
          1,
          1,
          1,
          1,
          1,
          1,
          1,
          1,
          1,
          1,
          1,
          1,
          1,
          1,
          1,
          1,
          1,
          1,
          1,
          1,
          1,
          1,
          1,
          1,
          1,
          1,
          1,
          1,
          1,
          1,
          1,
          1,
          1,
          1,
          1,
          1,
          1,
          1,
          1,
          1,
          1,
          1,
          1,
          1,
          1,
          1,
          1,
          1,
          1,
          1,
          1,
          1,
          1,
          1,
          1,
          1,
          1,
          1,
          1,
          1,
          1,
          1,
          1,
          1,
          1,
          1,
          1,
          1,
          1,
          1,
          1,
          1,
          1,
          1,
          1,
          1,
          1,
          1,
          1,
          1,
          1,
          1,
          1,
          1,
          1,
          1,
          1,
          1,
          1,
          1,
          1,
          1,
          1,
          1,
          1,
          1,
          1,
          1,
          1,
          1,
          1,
          1,
          1,
          1,
          1,
          1,
          1,
          1,
          1,
          1,
          1,
          1,
          1,
          1,
          1,
          1,
          1,
          1,
          1,
          1,
          1,
          1,
          1,
          1,
          1,
          1,
          1,
          1,
          1,
          1,
          1,
          1,
          1,
          1,
          1,
          1,
          1,
          1,
          1,
          1,
          1,
          1,
          1,
          1,
          1,
          1,
          1,
          1,
          1,
          1,
          1,
          1,
          1,
          1,
          1,
          1,
          1,
          1,
          1,
          1,
          1,
          1,
          1,
          1,
          1,
          1,
          1,
          1,
          1,
          1,
          1,
          1,
          1,
          1,
          1,
          1,
          1,
          1,
          1,
          1,
          1,
          1,
          1,
          1,
          1,
          1,
          1,
          1,
          1,
          1,
          1,
          1,
          1,
          1,
          1,
          1,
          1,
          1,
          1,
          1,
          1,
          1
         ],
         "yaxis": "y"
        }
       ],
       "layout": {
        "barmode": "relative",
        "legend": {
         "title": {
          "text": "variable"
         },
         "tracegroupgap": 0
        },
        "margin": {
         "t": 60
        },
        "template": {
         "data": {
          "bar": [
           {
            "error_x": {
             "color": "#2a3f5f"
            },
            "error_y": {
             "color": "#2a3f5f"
            },
            "marker": {
             "line": {
              "color": "#E5ECF6",
              "width": 0.5
             },
             "pattern": {
              "fillmode": "overlay",
              "size": 10,
              "solidity": 0.2
             }
            },
            "type": "bar"
           }
          ],
          "barpolar": [
           {
            "marker": {
             "line": {
              "color": "#E5ECF6",
              "width": 0.5
             },
             "pattern": {
              "fillmode": "overlay",
              "size": 10,
              "solidity": 0.2
             }
            },
            "type": "barpolar"
           }
          ],
          "carpet": [
           {
            "aaxis": {
             "endlinecolor": "#2a3f5f",
             "gridcolor": "white",
             "linecolor": "white",
             "minorgridcolor": "white",
             "startlinecolor": "#2a3f5f"
            },
            "baxis": {
             "endlinecolor": "#2a3f5f",
             "gridcolor": "white",
             "linecolor": "white",
             "minorgridcolor": "white",
             "startlinecolor": "#2a3f5f"
            },
            "type": "carpet"
           }
          ],
          "choropleth": [
           {
            "colorbar": {
             "outlinewidth": 0,
             "ticks": ""
            },
            "type": "choropleth"
           }
          ],
          "contour": [
           {
            "colorbar": {
             "outlinewidth": 0,
             "ticks": ""
            },
            "colorscale": [
             [
              0,
              "#0d0887"
             ],
             [
              0.1111111111111111,
              "#46039f"
             ],
             [
              0.2222222222222222,
              "#7201a8"
             ],
             [
              0.3333333333333333,
              "#9c179e"
             ],
             [
              0.4444444444444444,
              "#bd3786"
             ],
             [
              0.5555555555555556,
              "#d8576b"
             ],
             [
              0.6666666666666666,
              "#ed7953"
             ],
             [
              0.7777777777777778,
              "#fb9f3a"
             ],
             [
              0.8888888888888888,
              "#fdca26"
             ],
             [
              1,
              "#f0f921"
             ]
            ],
            "type": "contour"
           }
          ],
          "contourcarpet": [
           {
            "colorbar": {
             "outlinewidth": 0,
             "ticks": ""
            },
            "type": "contourcarpet"
           }
          ],
          "heatmap": [
           {
            "colorbar": {
             "outlinewidth": 0,
             "ticks": ""
            },
            "colorscale": [
             [
              0,
              "#0d0887"
             ],
             [
              0.1111111111111111,
              "#46039f"
             ],
             [
              0.2222222222222222,
              "#7201a8"
             ],
             [
              0.3333333333333333,
              "#9c179e"
             ],
             [
              0.4444444444444444,
              "#bd3786"
             ],
             [
              0.5555555555555556,
              "#d8576b"
             ],
             [
              0.6666666666666666,
              "#ed7953"
             ],
             [
              0.7777777777777778,
              "#fb9f3a"
             ],
             [
              0.8888888888888888,
              "#fdca26"
             ],
             [
              1,
              "#f0f921"
             ]
            ],
            "type": "heatmap"
           }
          ],
          "heatmapgl": [
           {
            "colorbar": {
             "outlinewidth": 0,
             "ticks": ""
            },
            "colorscale": [
             [
              0,
              "#0d0887"
             ],
             [
              0.1111111111111111,
              "#46039f"
             ],
             [
              0.2222222222222222,
              "#7201a8"
             ],
             [
              0.3333333333333333,
              "#9c179e"
             ],
             [
              0.4444444444444444,
              "#bd3786"
             ],
             [
              0.5555555555555556,
              "#d8576b"
             ],
             [
              0.6666666666666666,
              "#ed7953"
             ],
             [
              0.7777777777777778,
              "#fb9f3a"
             ],
             [
              0.8888888888888888,
              "#fdca26"
             ],
             [
              1,
              "#f0f921"
             ]
            ],
            "type": "heatmapgl"
           }
          ],
          "histogram": [
           {
            "marker": {
             "pattern": {
              "fillmode": "overlay",
              "size": 10,
              "solidity": 0.2
             }
            },
            "type": "histogram"
           }
          ],
          "histogram2d": [
           {
            "colorbar": {
             "outlinewidth": 0,
             "ticks": ""
            },
            "colorscale": [
             [
              0,
              "#0d0887"
             ],
             [
              0.1111111111111111,
              "#46039f"
             ],
             [
              0.2222222222222222,
              "#7201a8"
             ],
             [
              0.3333333333333333,
              "#9c179e"
             ],
             [
              0.4444444444444444,
              "#bd3786"
             ],
             [
              0.5555555555555556,
              "#d8576b"
             ],
             [
              0.6666666666666666,
              "#ed7953"
             ],
             [
              0.7777777777777778,
              "#fb9f3a"
             ],
             [
              0.8888888888888888,
              "#fdca26"
             ],
             [
              1,
              "#f0f921"
             ]
            ],
            "type": "histogram2d"
           }
          ],
          "histogram2dcontour": [
           {
            "colorbar": {
             "outlinewidth": 0,
             "ticks": ""
            },
            "colorscale": [
             [
              0,
              "#0d0887"
             ],
             [
              0.1111111111111111,
              "#46039f"
             ],
             [
              0.2222222222222222,
              "#7201a8"
             ],
             [
              0.3333333333333333,
              "#9c179e"
             ],
             [
              0.4444444444444444,
              "#bd3786"
             ],
             [
              0.5555555555555556,
              "#d8576b"
             ],
             [
              0.6666666666666666,
              "#ed7953"
             ],
             [
              0.7777777777777778,
              "#fb9f3a"
             ],
             [
              0.8888888888888888,
              "#fdca26"
             ],
             [
              1,
              "#f0f921"
             ]
            ],
            "type": "histogram2dcontour"
           }
          ],
          "mesh3d": [
           {
            "colorbar": {
             "outlinewidth": 0,
             "ticks": ""
            },
            "type": "mesh3d"
           }
          ],
          "parcoords": [
           {
            "line": {
             "colorbar": {
              "outlinewidth": 0,
              "ticks": ""
             }
            },
            "type": "parcoords"
           }
          ],
          "pie": [
           {
            "automargin": true,
            "type": "pie"
           }
          ],
          "scatter": [
           {
            "fillpattern": {
             "fillmode": "overlay",
             "size": 10,
             "solidity": 0.2
            },
            "type": "scatter"
           }
          ],
          "scatter3d": [
           {
            "line": {
             "colorbar": {
              "outlinewidth": 0,
              "ticks": ""
             }
            },
            "marker": {
             "colorbar": {
              "outlinewidth": 0,
              "ticks": ""
             }
            },
            "type": "scatter3d"
           }
          ],
          "scattercarpet": [
           {
            "marker": {
             "colorbar": {
              "outlinewidth": 0,
              "ticks": ""
             }
            },
            "type": "scattercarpet"
           }
          ],
          "scattergeo": [
           {
            "marker": {
             "colorbar": {
              "outlinewidth": 0,
              "ticks": ""
             }
            },
            "type": "scattergeo"
           }
          ],
          "scattergl": [
           {
            "marker": {
             "colorbar": {
              "outlinewidth": 0,
              "ticks": ""
             }
            },
            "type": "scattergl"
           }
          ],
          "scattermapbox": [
           {
            "marker": {
             "colorbar": {
              "outlinewidth": 0,
              "ticks": ""
             }
            },
            "type": "scattermapbox"
           }
          ],
          "scatterpolar": [
           {
            "marker": {
             "colorbar": {
              "outlinewidth": 0,
              "ticks": ""
             }
            },
            "type": "scatterpolar"
           }
          ],
          "scatterpolargl": [
           {
            "marker": {
             "colorbar": {
              "outlinewidth": 0,
              "ticks": ""
             }
            },
            "type": "scatterpolargl"
           }
          ],
          "scatterternary": [
           {
            "marker": {
             "colorbar": {
              "outlinewidth": 0,
              "ticks": ""
             }
            },
            "type": "scatterternary"
           }
          ],
          "surface": [
           {
            "colorbar": {
             "outlinewidth": 0,
             "ticks": ""
            },
            "colorscale": [
             [
              0,
              "#0d0887"
             ],
             [
              0.1111111111111111,
              "#46039f"
             ],
             [
              0.2222222222222222,
              "#7201a8"
             ],
             [
              0.3333333333333333,
              "#9c179e"
             ],
             [
              0.4444444444444444,
              "#bd3786"
             ],
             [
              0.5555555555555556,
              "#d8576b"
             ],
             [
              0.6666666666666666,
              "#ed7953"
             ],
             [
              0.7777777777777778,
              "#fb9f3a"
             ],
             [
              0.8888888888888888,
              "#fdca26"
             ],
             [
              1,
              "#f0f921"
             ]
            ],
            "type": "surface"
           }
          ],
          "table": [
           {
            "cells": {
             "fill": {
              "color": "#EBF0F8"
             },
             "line": {
              "color": "white"
             }
            },
            "header": {
             "fill": {
              "color": "#C8D4E3"
             },
             "line": {
              "color": "white"
             }
            },
            "type": "table"
           }
          ]
         },
         "layout": {
          "annotationdefaults": {
           "arrowcolor": "#2a3f5f",
           "arrowhead": 0,
           "arrowwidth": 1
          },
          "autotypenumbers": "strict",
          "coloraxis": {
           "colorbar": {
            "outlinewidth": 0,
            "ticks": ""
           }
          },
          "colorscale": {
           "diverging": [
            [
             0,
             "#8e0152"
            ],
            [
             0.1,
             "#c51b7d"
            ],
            [
             0.2,
             "#de77ae"
            ],
            [
             0.3,
             "#f1b6da"
            ],
            [
             0.4,
             "#fde0ef"
            ],
            [
             0.5,
             "#f7f7f7"
            ],
            [
             0.6,
             "#e6f5d0"
            ],
            [
             0.7,
             "#b8e186"
            ],
            [
             0.8,
             "#7fbc41"
            ],
            [
             0.9,
             "#4d9221"
            ],
            [
             1,
             "#276419"
            ]
           ],
           "sequential": [
            [
             0,
             "#0d0887"
            ],
            [
             0.1111111111111111,
             "#46039f"
            ],
            [
             0.2222222222222222,
             "#7201a8"
            ],
            [
             0.3333333333333333,
             "#9c179e"
            ],
            [
             0.4444444444444444,
             "#bd3786"
            ],
            [
             0.5555555555555556,
             "#d8576b"
            ],
            [
             0.6666666666666666,
             "#ed7953"
            ],
            [
             0.7777777777777778,
             "#fb9f3a"
            ],
            [
             0.8888888888888888,
             "#fdca26"
            ],
            [
             1,
             "#f0f921"
            ]
           ],
           "sequentialminus": [
            [
             0,
             "#0d0887"
            ],
            [
             0.1111111111111111,
             "#46039f"
            ],
            [
             0.2222222222222222,
             "#7201a8"
            ],
            [
             0.3333333333333333,
             "#9c179e"
            ],
            [
             0.4444444444444444,
             "#bd3786"
            ],
            [
             0.5555555555555556,
             "#d8576b"
            ],
            [
             0.6666666666666666,
             "#ed7953"
            ],
            [
             0.7777777777777778,
             "#fb9f3a"
            ],
            [
             0.8888888888888888,
             "#fdca26"
            ],
            [
             1,
             "#f0f921"
            ]
           ]
          },
          "colorway": [
           "#636efa",
           "#EF553B",
           "#00cc96",
           "#ab63fa",
           "#FFA15A",
           "#19d3f3",
           "#FF6692",
           "#B6E880",
           "#FF97FF",
           "#FECB52"
          ],
          "font": {
           "color": "#2a3f5f"
          },
          "geo": {
           "bgcolor": "white",
           "lakecolor": "white",
           "landcolor": "#E5ECF6",
           "showlakes": true,
           "showland": true,
           "subunitcolor": "white"
          },
          "hoverlabel": {
           "align": "left"
          },
          "hovermode": "closest",
          "mapbox": {
           "style": "light"
          },
          "paper_bgcolor": "white",
          "plot_bgcolor": "#E5ECF6",
          "polar": {
           "angularaxis": {
            "gridcolor": "white",
            "linecolor": "white",
            "ticks": ""
           },
           "bgcolor": "#E5ECF6",
           "radialaxis": {
            "gridcolor": "white",
            "linecolor": "white",
            "ticks": ""
           }
          },
          "scene": {
           "xaxis": {
            "backgroundcolor": "#E5ECF6",
            "gridcolor": "white",
            "gridwidth": 2,
            "linecolor": "white",
            "showbackground": true,
            "ticks": "",
            "zerolinecolor": "white"
           },
           "yaxis": {
            "backgroundcolor": "#E5ECF6",
            "gridcolor": "white",
            "gridwidth": 2,
            "linecolor": "white",
            "showbackground": true,
            "ticks": "",
            "zerolinecolor": "white"
           },
           "zaxis": {
            "backgroundcolor": "#E5ECF6",
            "gridcolor": "white",
            "gridwidth": 2,
            "linecolor": "white",
            "showbackground": true,
            "ticks": "",
            "zerolinecolor": "white"
           }
          },
          "shapedefaults": {
           "line": {
            "color": "#2a3f5f"
           }
          },
          "ternary": {
           "aaxis": {
            "gridcolor": "white",
            "linecolor": "white",
            "ticks": ""
           },
           "baxis": {
            "gridcolor": "white",
            "linecolor": "white",
            "ticks": ""
           },
           "bgcolor": "#E5ECF6",
           "caxis": {
            "gridcolor": "white",
            "linecolor": "white",
            "ticks": ""
           }
          },
          "title": {
           "x": 0.05
          },
          "xaxis": {
           "automargin": true,
           "gridcolor": "white",
           "linecolor": "white",
           "ticks": "",
           "title": {
            "standoff": 15
           },
           "zerolinecolor": "white",
           "zerolinewidth": 2
          },
          "yaxis": {
           "automargin": true,
           "gridcolor": "white",
           "linecolor": "white",
           "ticks": "",
           "title": {
            "standoff": 15
           },
           "zerolinecolor": "white",
           "zerolinewidth": 2
          }
         }
        },
        "xaxis": {
         "anchor": "y",
         "domain": [
          0,
          1
         ],
         "title": {
          "text": "price_psf"
         }
        },
        "yaxis": {
         "anchor": "x",
         "domain": [
          0,
          1
         ],
         "title": {
          "text": "value"
         }
        }
       }
      }
     },
     "metadata": {},
     "output_type": "display_data"
    }
   ],
   "source": [
    "px.bar(df_transactions[df_transactions['built_up'].isna()]['price_psf'].value_counts())"
   ]
  },
  {
   "cell_type": "markdown",
   "metadata": {},
   "source": [
    "Subsequent investigation on the transactions with missing `built_up` values versus other features revealed that the missing values are missing completely at random (MCAR), where the values are missing independently of other features."
   ]
  },
  {
   "cell_type": "markdown",
   "metadata": {},
   "source": [
    "Imputation strategy:\n",
    "1. Random forest imputation as suggested by Jager et al. (2021)\n",
    "2. Multiple imputation by chained regression (Donlen, 2022; Mukherjee & Singal, 2013)\n",
    "\n",
    "\n",
    "- Jager et al. (2021): https://www.frontiersin.org/articles/10.3389/fdata.2021.693674/full\n",
    "- Donlen (2022): https://egrove.olemiss.edu/cgi/viewcontent.cgi?article=3744&context=hon_thesis\n",
    "- Mukherjee & SIngal (2013): https://bmjopen.bmj.com/content/3/8/e002847.citation-tools\n"
   ]
  },
  {
   "cell_type": "code",
   "execution_count": null,
   "metadata": {},
   "outputs": [],
   "source": []
  },
  {
   "cell_type": "code",
   "execution_count": 43,
   "metadata": {},
   "outputs": [
    {
     "name": "stdout",
     "output_type": "stream",
     "text": [
      "Number of rows with missing values: 30670 \n",
      "Percentage of missing values: 10.411892710317177\n"
     ]
    }
   ],
   "source": [
    "print(\n",
    "    f\"Number of rows with missing values: {df_transactions['rooms'].isna().sum()}\",\n",
    "    f\"\\nPercentage of missing values: {df_transactions['rooms'].isna().sum() / len(df_transactions) * 100}\",\n",
    ")"
   ]
  },
  {
   "cell_type": "code",
   "execution_count": 44,
   "metadata": {},
   "outputs": [
    {
     "data": {
      "text/html": [
       "<div>\n",
       "<style scoped>\n",
       "    .dataframe tbody tr th:only-of-type {\n",
       "        vertical-align: middle;\n",
       "    }\n",
       "\n",
       "    .dataframe tbody tr th {\n",
       "        vertical-align: top;\n",
       "    }\n",
       "\n",
       "    .dataframe thead th {\n",
       "        text-align: right;\n",
       "    }\n",
       "</style>\n",
       "<table border=\"1\" class=\"dataframe\">\n",
       "  <thead>\n",
       "    <tr style=\"text-align: right;\">\n",
       "      <th></th>\n",
       "      <th>project_name</th>\n",
       "      <th>spa_date</th>\n",
       "      <th>building_type</th>\n",
       "      <th>tenure</th>\n",
       "      <th>floors</th>\n",
       "      <th>rooms</th>\n",
       "      <th>land_area</th>\n",
       "      <th>built_up</th>\n",
       "      <th>price_psf</th>\n",
       "      <th>price</th>\n",
       "    </tr>\n",
       "  </thead>\n",
       "  <tbody>\n",
       "    <tr>\n",
       "      <th>0</th>\n",
       "      <td>BANDAR BARU SRI PETALING</td>\n",
       "      <td>2023-06-09</td>\n",
       "      <td>TERRACE HOUSE - INTERMEDIATE</td>\n",
       "      <td>LEASEHOLD</td>\n",
       "      <td>1</td>\n",
       "      <td>NaN</td>\n",
       "      <td>2196</td>\n",
       "      <td>NaN</td>\n",
       "      <td>342</td>\n",
       "      <td>750000</td>\n",
       "    </tr>\n",
       "    <tr>\n",
       "      <th>1</th>\n",
       "      <td>BANDAR BARU SRI PETALING</td>\n",
       "      <td>2023-06-01</td>\n",
       "      <td>TERRACE HOUSE - INTERMEDIATE</td>\n",
       "      <td>LEASEHOLD</td>\n",
       "      <td>2</td>\n",
       "      <td>NaN</td>\n",
       "      <td>753</td>\n",
       "      <td>NaN</td>\n",
       "      <td>398</td>\n",
       "      <td>300000</td>\n",
       "    </tr>\n",
       "    <tr>\n",
       "      <th>2</th>\n",
       "      <td>BANDAR BARU SRI PETALING</td>\n",
       "      <td>2023-05-29</td>\n",
       "      <td>TERRACE HOUSE - INTERMEDIATE</td>\n",
       "      <td>LEASEHOLD</td>\n",
       "      <td>2.5</td>\n",
       "      <td>NaN</td>\n",
       "      <td>3197</td>\n",
       "      <td>NaN</td>\n",
       "      <td>188</td>\n",
       "      <td>600000</td>\n",
       "    </tr>\n",
       "    <tr>\n",
       "      <th>3</th>\n",
       "      <td>BANDAR BARU SRI PETALING</td>\n",
       "      <td>2023-05-25</td>\n",
       "      <td>TERRACE HOUSE - INTERMEDIATE</td>\n",
       "      <td>LEASEHOLD</td>\n",
       "      <td>2</td>\n",
       "      <td>NaN</td>\n",
       "      <td>753</td>\n",
       "      <td>NaN</td>\n",
       "      <td>531</td>\n",
       "      <td>400000</td>\n",
       "    </tr>\n",
       "    <tr>\n",
       "      <th>4</th>\n",
       "      <td>BANDAR BARU SRI PETALING</td>\n",
       "      <td>2023-05-22</td>\n",
       "      <td>SEMI-D</td>\n",
       "      <td>LEASEHOLD</td>\n",
       "      <td>2.5</td>\n",
       "      <td>NaN</td>\n",
       "      <td>4801</td>\n",
       "      <td>NaN</td>\n",
       "      <td>250</td>\n",
       "      <td>1200000</td>\n",
       "    </tr>\n",
       "    <tr>\n",
       "      <th>...</th>\n",
       "      <td>...</td>\n",
       "      <td>...</td>\n",
       "      <td>...</td>\n",
       "      <td>...</td>\n",
       "      <td>...</td>\n",
       "      <td>...</td>\n",
       "      <td>...</td>\n",
       "      <td>...</td>\n",
       "      <td>...</td>\n",
       "      <td>...</td>\n",
       "    </tr>\n",
       "    <tr>\n",
       "      <th>294507</th>\n",
       "      <td>PANTAI PANORAMA KONDO</td>\n",
       "      <td>2022-12-06</td>\n",
       "      <td>FLAT</td>\n",
       "      <td>LEASEHOLD</td>\n",
       "      <td>1</td>\n",
       "      <td>NaN</td>\n",
       "      <td>657</td>\n",
       "      <td>657</td>\n",
       "      <td>297</td>\n",
       "      <td>195000</td>\n",
       "    </tr>\n",
       "    <tr>\n",
       "      <th>294521</th>\n",
       "      <td>WINSOR TOWER</td>\n",
       "      <td>2010-04-16</td>\n",
       "      <td>SERVICE RESIDENCE</td>\n",
       "      <td>FREEHOLD</td>\n",
       "      <td>1</td>\n",
       "      <td>NaN</td>\n",
       "      <td>640</td>\n",
       "      <td>640</td>\n",
       "      <td>609</td>\n",
       "      <td>390000</td>\n",
       "    </tr>\n",
       "    <tr>\n",
       "      <th>294530</th>\n",
       "      <td>KAWASAN PERINDUSTRIAN TRISEGI</td>\n",
       "      <td>1999-09-27</td>\n",
       "      <td>FLAT</td>\n",
       "      <td>FREEHOLD</td>\n",
       "      <td>1</td>\n",
       "      <td>NaN</td>\n",
       "      <td>511</td>\n",
       "      <td>511</td>\n",
       "      <td>88</td>\n",
       "      <td>45000</td>\n",
       "    </tr>\n",
       "    <tr>\n",
       "      <th>294532</th>\n",
       "      <td>TAMAN SUNGAI BESI (MEDIUM COST FLAT)</td>\n",
       "      <td>1999-01-11</td>\n",
       "      <td>FLAT</td>\n",
       "      <td>FREEHOLD</td>\n",
       "      <td>1</td>\n",
       "      <td>NaN</td>\n",
       "      <td>500</td>\n",
       "      <td>500</td>\n",
       "      <td>156</td>\n",
       "      <td>78000</td>\n",
       "    </tr>\n",
       "    <tr>\n",
       "      <th>294544</th>\n",
       "      <td>TAMAN GOLDEN</td>\n",
       "      <td>2020-08-24</td>\n",
       "      <td>CONDOMINIUM</td>\n",
       "      <td>LEASEHOLD</td>\n",
       "      <td>1</td>\n",
       "      <td>NaN</td>\n",
       "      <td>721</td>\n",
       "      <td>721</td>\n",
       "      <td>416</td>\n",
       "      <td>300000</td>\n",
       "    </tr>\n",
       "  </tbody>\n",
       "</table>\n",
       "<p>30670 rows × 10 columns</p>\n",
       "</div>"
      ],
      "text/plain": [
       "                                project_name   spa_date  \\\n",
       "0                   BANDAR BARU SRI PETALING 2023-06-09   \n",
       "1                   BANDAR BARU SRI PETALING 2023-06-01   \n",
       "2                   BANDAR BARU SRI PETALING 2023-05-29   \n",
       "3                   BANDAR BARU SRI PETALING 2023-05-25   \n",
       "4                   BANDAR BARU SRI PETALING 2023-05-22   \n",
       "...                                      ...        ...   \n",
       "294507                 PANTAI PANORAMA KONDO 2022-12-06   \n",
       "294521                          WINSOR TOWER 2010-04-16   \n",
       "294530         KAWASAN PERINDUSTRIAN TRISEGI 1999-09-27   \n",
       "294532  TAMAN SUNGAI BESI (MEDIUM COST FLAT) 1999-01-11   \n",
       "294544                          TAMAN GOLDEN 2020-08-24   \n",
       "\n",
       "                       building_type     tenure floors rooms land_area  \\\n",
       "0       TERRACE HOUSE - INTERMEDIATE  LEASEHOLD      1   NaN      2196   \n",
       "1       TERRACE HOUSE - INTERMEDIATE  LEASEHOLD      2   NaN       753   \n",
       "2       TERRACE HOUSE - INTERMEDIATE  LEASEHOLD    2.5   NaN      3197   \n",
       "3       TERRACE HOUSE - INTERMEDIATE  LEASEHOLD      2   NaN       753   \n",
       "4                             SEMI-D  LEASEHOLD    2.5   NaN      4801   \n",
       "...                              ...        ...    ...   ...       ...   \n",
       "294507                          FLAT  LEASEHOLD      1   NaN       657   \n",
       "294521             SERVICE RESIDENCE   FREEHOLD      1   NaN       640   \n",
       "294530                          FLAT   FREEHOLD      1   NaN       511   \n",
       "294532                          FLAT   FREEHOLD      1   NaN       500   \n",
       "294544                   CONDOMINIUM  LEASEHOLD      1   NaN       721   \n",
       "\n",
       "       built_up price_psf    price  \n",
       "0           NaN       342   750000  \n",
       "1           NaN       398   300000  \n",
       "2           NaN       188   600000  \n",
       "3           NaN       531   400000  \n",
       "4           NaN       250  1200000  \n",
       "...         ...       ...      ...  \n",
       "294507      657       297   195000  \n",
       "294521      640       609   390000  \n",
       "294530      511        88    45000  \n",
       "294532      500       156    78000  \n",
       "294544      721       416   300000  \n",
       "\n",
       "[30670 rows x 10 columns]"
      ]
     },
     "execution_count": 44,
     "metadata": {},
     "output_type": "execute_result"
    }
   ],
   "source": [
    "df_transactions[df_transactions['rooms'].isna()]"
   ]
  },
  {
   "cell_type": "markdown",
   "metadata": {},
   "source": [
    "Find literature on what is the best method to impute missing values"
   ]
  },
  {
   "cell_type": "code",
   "execution_count": null,
   "metadata": {},
   "outputs": [],
   "source": []
  },
  {
   "cell_type": "code",
   "execution_count": null,
   "metadata": {},
   "outputs": [],
   "source": []
  }
 ],
 "metadata": {
  "kernelspec": {
   "display_name": "venv",
   "language": "python",
   "name": "python3"
  },
  "language_info": {
   "codemirror_mode": {
    "name": "ipython",
    "version": 3
   },
   "file_extension": ".py",
   "mimetype": "text/x-python",
   "name": "python",
   "nbconvert_exporter": "python",
   "pygments_lexer": "ipython3",
   "version": "3.11.5"
  },
  "orig_nbformat": 4
 },
 "nbformat": 4,
 "nbformat_minor": 2
}
