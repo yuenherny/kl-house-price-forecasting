{
 "cells": [
  {
   "cell_type": "markdown",
   "metadata": {},
   "source": [
    "# Scraping historical interest rates from BNM\n",
    "\n",
    "- Region: Malaysia\n",
    "- Data period: 2004 to 2023"
   ]
  },
  {
   "cell_type": "code",
   "execution_count": null,
   "metadata": {},
   "outputs": [],
   "source": [
    "from tqdm import tqdm\n",
    "import pandas as pd\n",
    "\n",
    "from helpers import DATA_DIR"
   ]
  },
  {
   "cell_type": "code",
   "execution_count": 3,
   "metadata": {},
   "outputs": [],
   "source": [
    "from selenium import webdriver\n",
    "from selenium.webdriver.common.by import By"
   ]
  },
  {
   "cell_type": "code",
   "execution_count": 4,
   "metadata": {},
   "outputs": [],
   "source": [
    "driver = webdriver.Chrome()\n",
    "driver.get(\"https://www.bnm.gov.my/monetary-stability/opr-decisions\")"
   ]
  },
  {
   "cell_type": "code",
   "execution_count": 5,
   "metadata": {},
   "outputs": [
    {
     "name": "stderr",
     "output_type": "stream",
     "text": [
      "100%|██████████| 1000/1000 [00:25<00:00, 39.06it/s]\n"
     ]
    },
    {
     "data": {
      "text/plain": [
       "[['06 Jul 2023', '0', '3.00'], ['03 May 2023', '+0.25', '3.00']]"
      ]
     },
     "execution_count": 5,
     "metadata": {},
     "output_type": "execute_result"
    }
   ],
   "source": [
    "interest_rates = []\n",
    "\n",
    "for i in tqdm(range(1000), total=1000):\n",
    "    try:\n",
    "        date = driver.find_element(By.XPATH, f'//*[@id=\"portlet_com_liferay_asset_publisher_web_portlet_AssetPublisherPortlet_INSTANCE_ApX2WU8vPGJI\"]/div/div[2]/div/div[2]/div/table/tbody/tr[{i+3}]/td[1]').text\n",
    "        opr_change = driver.find_element(By.XPATH, f'//*[@id=\"portlet_com_liferay_asset_publisher_web_portlet_AssetPublisherPortlet_INSTANCE_ApX2WU8vPGJI\"]/div/div[2]/div/div[2]/div/table/tbody/tr[{i+3}]/td[2]').text\n",
    "        new_opr = driver.find_element(By.XPATH, f'//*[@id=\"portlet_com_liferay_asset_publisher_web_portlet_AssetPublisherPortlet_INSTANCE_ApX2WU8vPGJI\"]/div/div[2]/div/div[2]/div/table/tbody/tr[{i+3}]/td[3]').text\n",
    "\n",
    "        interest_rates.append([date, opr_change, new_opr])\n",
    "    except:\n",
    "        pass\n",
    "\n",
    "driver.close()\n",
    "interest_rates[:2]"
   ]
  },
  {
   "cell_type": "code",
   "execution_count": 9,
   "metadata": {},
   "outputs": [
    {
     "data": {
      "text/html": [
       "<div>\n",
       "<style scoped>\n",
       "    .dataframe tbody tr th:only-of-type {\n",
       "        vertical-align: middle;\n",
       "    }\n",
       "\n",
       "    .dataframe tbody tr th {\n",
       "        vertical-align: top;\n",
       "    }\n",
       "\n",
       "    .dataframe thead th {\n",
       "        text-align: right;\n",
       "    }\n",
       "</style>\n",
       "<table border=\"1\" class=\"dataframe\">\n",
       "  <thead>\n",
       "    <tr style=\"text-align: right;\">\n",
       "      <th></th>\n",
       "      <th>date</th>\n",
       "      <th>opr_change_percentage</th>\n",
       "      <th>new_opr_percentage</th>\n",
       "    </tr>\n",
       "  </thead>\n",
       "  <tbody>\n",
       "    <tr>\n",
       "      <th>0</th>\n",
       "      <td>06 Jul 2023</td>\n",
       "      <td>0</td>\n",
       "      <td>3.00</td>\n",
       "    </tr>\n",
       "    <tr>\n",
       "      <th>1</th>\n",
       "      <td>03 May 2023</td>\n",
       "      <td>+0.25</td>\n",
       "      <td>3.00</td>\n",
       "    </tr>\n",
       "    <tr>\n",
       "      <th>2</th>\n",
       "      <td>09 Mar 2023</td>\n",
       "      <td>0</td>\n",
       "      <td>2.75</td>\n",
       "    </tr>\n",
       "    <tr>\n",
       "      <th>3</th>\n",
       "      <td>19 Jan 2023</td>\n",
       "      <td>0</td>\n",
       "      <td>2.75</td>\n",
       "    </tr>\n",
       "    <tr>\n",
       "      <th>4</th>\n",
       "      <td>03 Nov 2022</td>\n",
       "      <td>+0.25</td>\n",
       "      <td>2.75</td>\n",
       "    </tr>\n",
       "    <tr>\n",
       "      <th>...</th>\n",
       "      <td>...</td>\n",
       "      <td>...</td>\n",
       "      <td>...</td>\n",
       "    </tr>\n",
       "    <tr>\n",
       "      <th>117</th>\n",
       "      <td>25 May 2005</td>\n",
       "      <td>0</td>\n",
       "      <td>2.70</td>\n",
       "    </tr>\n",
       "    <tr>\n",
       "      <th>118</th>\n",
       "      <td>28 Feb 2005</td>\n",
       "      <td>0</td>\n",
       "      <td>2.70</td>\n",
       "    </tr>\n",
       "    <tr>\n",
       "      <th>119</th>\n",
       "      <td>30 Nov 2004</td>\n",
       "      <td>0</td>\n",
       "      <td>2.70</td>\n",
       "    </tr>\n",
       "    <tr>\n",
       "      <th>120</th>\n",
       "      <td>25 Aug 2004</td>\n",
       "      <td>0</td>\n",
       "      <td>2.70</td>\n",
       "    </tr>\n",
       "    <tr>\n",
       "      <th>121</th>\n",
       "      <td>26 May 2004</td>\n",
       "      <td>0</td>\n",
       "      <td>2.70</td>\n",
       "    </tr>\n",
       "  </tbody>\n",
       "</table>\n",
       "<p>122 rows × 3 columns</p>\n",
       "</div>"
      ],
      "text/plain": [
       "            date opr_change_percentage new_opr_percentage\n",
       "0    06 Jul 2023                     0               3.00\n",
       "1    03 May 2023                 +0.25               3.00\n",
       "2    09 Mar 2023                     0               2.75\n",
       "3    19 Jan 2023                     0               2.75\n",
       "4    03 Nov 2022                 +0.25               2.75\n",
       "..           ...                   ...                ...\n",
       "117  25 May 2005                     0               2.70\n",
       "118  28 Feb 2005                     0               2.70\n",
       "119  30 Nov 2004                     0               2.70\n",
       "120  25 Aug 2004                     0               2.70\n",
       "121  26 May 2004                     0               2.70\n",
       "\n",
       "[122 rows x 3 columns]"
      ]
     },
     "execution_count": 9,
     "metadata": {},
     "output_type": "execute_result"
    }
   ],
   "source": [
    "column_names = ['date', 'opr_change_percentage', 'new_opr_percentage']\n",
    "\n",
    "df = pd.DataFrame(interest_rates, columns=column_names)\n",
    "df"
   ]
  },
  {
   "cell_type": "code",
   "execution_count": 10,
   "metadata": {},
   "outputs": [],
   "source": [
    "df.to_excel(DATA_DIR / 'opr_historical.xlsx', index=False)"
   ]
  }
 ],
 "metadata": {
  "kernelspec": {
   "display_name": "venv",
   "language": "python",
   "name": "python3"
  },
  "language_info": {
   "codemirror_mode": {
    "name": "ipython",
    "version": 3
   },
   "file_extension": ".py",
   "mimetype": "text/x-python",
   "name": "python",
   "nbconvert_exporter": "python",
   "pygments_lexer": "ipython3",
   "version": "3.11.5"
  },
  "orig_nbformat": 4
 },
 "nbformat": 4,
 "nbformat_minor": 2
}
